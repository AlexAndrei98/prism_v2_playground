{
 "cells": [
  {
   "cell_type": "markdown",
   "id": "c24b261b-b403-4136-95ff-77e40f7eba8f",
   "metadata": {},
   "source": [
    "# Issuer Agent"
   ]
  },
  {
   "cell_type": "code",
   "execution_count": null,
   "id": "0712d9ac-4b4e-40d6-8761-09ac0fe11f7a",
   "metadata": {},
   "outputs": [],
   "source": [
    "import requests\n",
    "import json\n",
    "import qrcode\n",
    "import uuid\n",
    "import base64\n",
    "import re\n",
    "import jwt\n",
    "import time\n",
    "# https://pypi.org/project/termcolor/\n",
    "from termcolor import colored,cprint"
   ]
  },
  {
   "cell_type": "code",
   "execution_count": null,
   "id": "d4120c44-c05e-48ff-84a9-828a5155a3ec",
   "metadata": {},
   "outputs": [],
   "source": [
    "# Set the URL for the API endpoint\n",
    "# Need to specify the host as host.docker.internal as the Prism Agents and the Prism Playground are running in two isolated docker environments\n",
    "base_url = \"http://host.docker.internal:8080\"\n",
    "\n",
    "headers = {'Content-Type': 'application/json', 'accept': 'application/json'}"
   ]
  },
  {
   "cell_type": "markdown",
   "id": "304beffd-ceb7-4a9e-8b41-eb0334e62a0f",
   "metadata": {},
   "source": [
    "## Check Agent Records\n",
    "1. Connections\n",
    "2. Credentials\n",
    "3. Proof Presentations"
   ]
  },
  {
   "cell_type": "code",
   "execution_count": null,
   "id": "114e7662-5f90-480a-aede-3bc8134906b6",
   "metadata": {
    "tags": []
   },
   "outputs": [],
   "source": [
    "print(colored('Agent State:\\n', attrs=['bold']))\n",
    "path = '/prism-agent/connections'\n",
    "\n",
    "# Make the request\n",
    "response = requests.get(base_url + path, headers=headers)\n",
    "\n",
    "print(colored('Connection Records:\\n', attrs=['bold']))\n",
    "# Check the response status code\n",
    "if response.status_code == 200:\n",
    "    # Print the response content\n",
    "    loaded_json = json.loads(response.content.decode())\n",
    "    print(json.dumps(loaded_json, indent=2))\n",
    "else:\n",
    "    # Print an error message\n",
    "    print(\"Error: The API returned a non-200 status code\")\n",
    "    \n",
    "path = '/prism-agent/issue-credentials/records'\n",
    "\n",
    "print(colored('Credential Records:\\n', attrs=['bold']))\n",
    "# Make the request\n",
    "response = requests.get(base_url + path, headers=headers)\n",
    "\n",
    "# Check the response status code\n",
    "if response.status_code == 200:\n",
    "    # Print the response content\n",
    "    loaded_json = json.loads(response.content.decode())\n",
    "    print(json.dumps(loaded_json, indent=2))\n",
    "    \n",
    "else:\n",
    "    # Print an error message\n",
    "    print(\"Error: The API returned a non-200 status code\")\n",
    "    print(response.content)\n",
    "    \n",
    "path = '/prism-agent/present-proof/presentations'\n",
    "\n",
    "print(colored('Proof Presentation Records:\\n', attrs=['bold']))\n",
    "# Make the request\n",
    "response = requests.get(base_url + path, headers=headers)\n",
    "\n",
    "# Check the response status code\n",
    "if response.status_code == 200:\n",
    "    # Print the response content\n",
    "    loaded_json = json.loads(response.content.decode())\n",
    "    print(json.dumps(loaded_json, indent=2))\n",
    "    \n",
    "else:\n",
    "    # Print an error message\n",
    "    print(\"Error: The API returned a non-200 status code\")\n",
    "    print(response.content)"
   ]
  },
  {
   "cell_type": "markdown",
   "id": "d727cbe0-f297-491d-8a70-3a55c0061e97",
   "metadata": {},
   "source": [
    "## Make a Connection with Holder Agent"
   ]
  },
  {
   "cell_type": "markdown",
   "id": "6289927e-218a-4f5c-814d-9688686e9404",
   "metadata": {
    "tags": []
   },
   "source": [
    "### Create a connection record containing the invitation\n",
    "```bash\n",
    "curl -X 'POST' \\\n",
    "\t'http://localhost:8080/prism-agent/connections' \\\n",
    "\t-H 'Content-Type: application/json' \\\n",
    "\t-d '{\n",
    "\t\t\"label\": \"Connect with Alice\"\n",
    "\t\t}' | jq\n",
    "```"
   ]
  },
  {
   "cell_type": "code",
   "execution_count": null,
   "id": "1032f06f-b164-4ac6-a98f-1b4c9a1382fe",
   "metadata": {},
   "outputs": [],
   "source": [
    "path = '/prism-agent/connections'\n",
    "data = {\"label\": \"Connect with Alice\"}\n",
    "# Make the request\n",
    "response = requests.post(base_url + path, headers=headers, json=data)\n",
    "\n",
    "# Check the response status code\n",
    "if response.status_code == 201:\n",
    "    # Print the response content\n",
    "    loaded_json = json.loads(response.content.decode())\n",
    "    print(json.dumps(loaded_json, indent=2))\n",
    "    \n",
    "else:\n",
    "    # Print an error message\n",
    "    print(\"Error: The API returned a non-201 status code\")"
   ]
  },
  {
   "cell_type": "markdown",
   "id": "e2dfa148-9cfc-469b-885b-22fd3d2c1d9c",
   "metadata": {},
   "source": [
    "### Send invitation to Holder"
   ]
  },
  {
   "cell_type": "code",
   "execution_count": null,
   "id": "264f547b-bb2e-4b74-89b2-06c1fe3d8401",
   "metadata": {},
   "outputs": [],
   "source": [
    "invitation = json.loads(response.content.decode())\n",
    "invitationUrl = invitation['invitation']['invitationUrl']\n",
    "print(invitationUrl)\n",
    "invitationUrlbase64 = re.sub(\"^.*_oob=\", \"\", invitationUrl)\n",
    "# print(invitationUrlbase64)\n",
    "connection_id = invitation['connectionId']\n",
    "%store invitationUrlbase64\n"
   ]
  },
  {
   "cell_type": "markdown",
   "id": "b06d85e7-8d60-443c-ab1f-38ef2bb27461",
   "metadata": {
    "tags": []
   },
   "source": [
    "### Retrieving the list of connections\n",
    "```bash\n",
    "curl -X 'GET' 'http://localhost:8080/prism-agent/connections' | jq\n",
    "```"
   ]
  },
  {
   "cell_type": "code",
   "execution_count": null,
   "id": "3f6bd5ae-3fda-49b5-9fd5-ba7a44ca7a88",
   "metadata": {},
   "outputs": [],
   "source": [
    "STATE = None\n",
    "\n",
    "path = '/prism-agent//connections/' + connection_id\n",
    "\n",
    "# print('Current state for ConnectionId {} is {}'.format(connection_id,STATE))\n",
    "print(colored(\"Current state for ConnectionId {} is {}\".format(connection_id,STATE), \"magenta\", attrs=[\"bold\"]))\n",
    "while STATE != 'ConnectionResponseSent':\n",
    "    # Make the request\n",
    "    response = requests.get(base_url + path, headers=headers)\n",
    "\n",
    "    # Check the response status code\n",
    "    if response.status_code == 200:\n",
    "        # Print the response content\n",
    "        loaded_json = json.loads(response.content.decode())\n",
    "        # print(json.dumps(loaded_json, indent=2))\n",
    "        STATE = loaded_json['state']\n",
    "        print(colored(\"ConnectionId {0} is not in active state yet\".format(connection_id), \"yellow\", attrs=[\"bold\"]))\n",
    "        print(colored(\"State: {0}\".format(STATE), \"blue\", attrs=[\"bold\"]))\n",
    "\n",
    "        try:\n",
    "            their_did = loaded_json['theirDid']\n",
    "        except (KeyError) as e:\n",
    "            print(colored(\"Holder didn't accept invitation yet. Head over to Holder notebook and accept connection invitation\".format(connection_id,STATE), \"red\", attrs=[\"bold\"]))\n",
    "\n",
    "    else:\n",
    "        # Print an error message\n",
    "        print(\"Error: The API returned a non-200 status code\")\n",
    "        \n",
    "\n",
    "    time.sleep(1)\n",
    "    \n",
    "# print('ConnectionId: {0} is now active. Continue with notebook'.format(connection_id))\n",
    "print(colored(\"ConnectionId: {0} is now active. Continue with notebook\".format(connection_id), \"green\", attrs=[\"bold\"]))\n"
   ]
  },
  {
   "cell_type": "markdown",
   "id": "6be89e35-8061-4be9-ace7-7adcc21f04e8",
   "metadata": {
    "tags": []
   },
   "source": [
    "### Generate QR code from invitation"
   ]
  },
  {
   "cell_type": "code",
   "execution_count": null,
   "id": "629b6d84-ef9f-452a-81dc-6bc37d48a75c",
   "metadata": {
    "jupyter": {
     "source_hidden": true
    },
    "tags": []
   },
   "outputs": [],
   "source": [
    "# Link for connection invitation\n",
    "input_data = invitationUrl\n",
    "# Creating an instance of qrcode\n",
    "qr = qrcode.QRCode(\n",
    "        version=1,\n",
    "        box_size=10,\n",
    "        border=5)\n",
    "qr.add_data(input_data)\n",
    "qr.make(fit=True)\n",
    "img = qr.make_image(fill='black', back_color='white')\n",
    "img.save('issuer_agent_invite_QRcode.png')\n",
    "\n",
    "from IPython.display import Image\n",
    "Image(width=400, filename='./issuer_agent_invite_QRcode.png')"
   ]
  },
  {
   "cell_type": "markdown",
   "id": "0e69fc0d-d9dc-40c4-8611-67d3635bc3a6",
   "metadata": {},
   "source": [
    "## Issue Credential to Holder"
   ]
  },
  {
   "cell_type": "markdown",
   "id": "ac4ebbf6-847d-4afe-a94d-20e7be646f6f",
   "metadata": {},
   "source": [
    "### Initiate a new issue credential flow\n",
    "\n",
    "Replace `{SUBJECT_ID}` with the DID of the holder displayed at startup in the his Prism Agent console logs\n",
    "```bash\n",
    "curl -X 'POST' \\\n",
    "  'http://localhost:8080/prism-agent/issue-credentials/credential-offers' \\\n",
    "  -H 'accept: application/json' \\\n",
    "  -H 'Content-Type: application/json' \\\n",
    "  -d '{\n",
    "      \"schemaId\": \"schema:1234\",\n",
    "      \"subjectId\": \"{SUBJECT_ID}\",\n",
    "      \"validityPeriod\": 3600,\n",
    "      \"automaticIssuance\": false,\n",
    "      \"awaitConfirmation\": false,\n",
    "      \"claims\": {\n",
    "        \"firstname\": \"Alice\",\n",
    "        \"lastname\": \"Wonderland\",\n",
    "        \"birthdate\": \"01/01/2000\"\n",
    "      }\n",
    "\t}' | jq\n",
    "```"
   ]
  },
  {
   "cell_type": "code",
   "execution_count": null,
   "id": "146cc95b-1691-4b45-b3cf-643ccf85c06b",
   "metadata": {},
   "outputs": [],
   "source": [
    "# subject_id = 'did:peer:2.Ez6LSsyLCEveJGeF9jWGkBCG6wvfzXcNgu5A8PAiKp3NzvPdb.Vz6MkuZxR1VDeXiJ9uL9Uuh7Rh58DGpYw3abdtacLv8KdL2sP.SeyJ0IjoiZG0iLCJzIjoiaHR0cDovL2hvc3QuZG9ja2VyLmludGVybmFsOjgwOTAvZGlkY29tbS8iLCJyIjpbXSwiYSI6WyJkaWRjb21tL3YyIl19'\n",
    "path = '/prism-agent/issue-credentials/credential-offers'\n",
    "data = {\n",
    "      \"schemaId\": \"schema:1234\",\n",
    "      \"subjectId\": their_did,\n",
    "      \"validityPeriod\": 3600,\n",
    "      \"automaticIssuance\": False,\n",
    "      \"awaitConfirmation\": False,\n",
    "      \"claims\": {\n",
    "        \"firstname\": \"Alice\",\n",
    "        \"lastname\": \"Wonderland\",\n",
    "        \"birthdate\": \"01/01/2000\"\n",
    "      }\n",
    "    }\n",
    "\n",
    "# Make the request\n",
    "response = requests.post(base_url + path, headers=headers, json=data)\n",
    "\n",
    "# Check the response status code\n",
    "if response.status_code == 201:\n",
    "    # Print the response content\n",
    "    loaded_json = json.loads(response.content.decode())\n",
    "    print(json.dumps(loaded_json, indent=2))\n",
    "    STATE = loaded_json['protocolState']\n",
    "else:\n",
    "    # Print an error message\n",
    "    print(\"Error: The API returned a non-201 status code\")\n",
    "    print(response.content)"
   ]
  },
  {
   "cell_type": "code",
   "execution_count": null,
   "id": "140179af-b290-4b94-88eb-c6a9df6f18d8",
   "metadata": {},
   "outputs": [],
   "source": [
    "credential_record_id = loaded_json['recordId']\n",
    "%store credential_record_id"
   ]
  },
  {
   "cell_type": "code",
   "execution_count": null,
   "id": "32ab046d-738c-4143-bc7e-325a1190bff0",
   "metadata": {},
   "outputs": [],
   "source": [
    "path = '/prism-agent/issue-credentials/records'\n",
    "\n",
    "print('Current state for Credential {} is {}'.format(connection_id,STATE))\n",
    "print(colored(\"Current state for Credential Issuance {} is {}\".format(connection_id,STATE), \"magenta\", attrs=[\"bold\"]))\n",
    "while STATE != 'RequestReceived':\n",
    "    # Make the request\n",
    "    response = requests.get(base_url + path, headers=headers)\n",
    "\n",
    "    # Check the response status code\n",
    "    if response.status_code == 200:\n",
    "        # Print the response content\n",
    "        loaded_json = json.loads(response.content.decode())\n",
    "        # print(json.dumps(loaded_json, indent=2))\n",
    "        STATE = loaded_json['items'][0]['protocolState']\n",
    "        print(colored(\"ConnectionId {0}\".format(connection_id), \"yellow\", attrs=[\"bold\"]))\n",
    "        print(colored(\"Credential Issuance State: {0}\".format(STATE), \"blue\", attrs=[\"bold\"]))\n",
    "\n",
    "        # try:\n",
    "        #     their_did = loaded_json['theirDid']\n",
    "        # except (KeyError) as e:\n",
    "        #     print(colored(\"Holder didn't accept invitation yet\".format(connection_id,STATE), \"red\", attrs=[\"bold\"]))\n",
    "\n",
    "    else:\n",
    "        # Print an error message\n",
    "        print(\"Error: The API returned a non-200 status code\")\n",
    "        \n",
    "\n",
    "    time.sleep(1)\n",
    "    \n",
    "# print('ConnectionId: {0} is now active. Continue with notebook'.format(connection_id))\n",
    "print(colored(\"CredentialId: {0} is now in correct state. Continue to Issue Credential\".format(connection_id), \"green\", attrs=[\"bold\"]))\n"
   ]
  },
  {
   "cell_type": "markdown",
   "id": "738a3ec8-e737-4a03-977e-49bf4673fc8d",
   "metadata": {},
   "source": [
    "### - Issuing the credential\n",
    "\n",
    "> Replace `{RECORD_ID}` with the UUID of the record from the previous list\n",
    "```bash\n",
    "curl -X 'POST' 'http://localhost:8080/prism-agent/issue-credentials/records/{RECORD_ID}/issue-credential' | jq\n",
    "```"
   ]
  },
  {
   "cell_type": "code",
   "execution_count": null,
   "id": "eccb934a-0edf-4660-81d6-0cd4786c1e90",
   "metadata": {},
   "outputs": [],
   "source": [
    "path = '/prism-agent/issue-credentials/records/' + credential_record_id + '/issue-credential'\n",
    "# Make the request\n",
    "response = requests.post(base_url + path, headers=headers)\n",
    "\n",
    "# Check the response status code\n",
    "if response.status_code == 200:\n",
    "    # Print the response content\n",
    "    loaded_json = json.loads(response.content.decode())\n",
    "    print(json.dumps(loaded_json, indent=2))\n",
    "    \n",
    "else:\n",
    "    # Print an error message\n",
    "    print(\"Error: The API returned a non-200 status code\")\n",
    "    print(response.content)"
   ]
  },
  {
   "cell_type": "code",
   "execution_count": null,
   "id": "6ab3a221-8a13-4452-bfd3-f4acee0aad56",
   "metadata": {},
   "outputs": [],
   "source": [
    "path = '/prism-agent/issue-credentials/records'\n",
    "\n",
    "print('Current state for Credential {} is {}'.format(connection_id,STATE))\n",
    "print(colored(\"Current state for Credential Issuance {} is {}\".format(connection_id,STATE), \"magenta\", attrs=[\"bold\"]))\n",
    "while STATE != 'CredentialSent':\n",
    "    # Make the request\n",
    "    response = requests.get(base_url + path, headers=headers)\n",
    "\n",
    "    # Check the response status code\n",
    "    if response.status_code == 200:\n",
    "        # Print the response content\n",
    "        loaded_json = json.loads(response.content.decode())\n",
    "        # print(json.dumps(loaded_json, indent=2))\n",
    "        STATE = loaded_json['items'][0]['protocolState']\n",
    "        print(colored(\"ConnectionId {0}\".format(connection_id), \"yellow\", attrs=[\"bold\"]))\n",
    "        print(colored(\"Credential Issuance State: {0}\".format(STATE), \"blue\", attrs=[\"bold\"]))\n",
    "\n",
    "        # try:\n",
    "        #     their_did = loaded_json['theirDid']\n",
    "        # except (KeyError) as e:\n",
    "        #     print(colored(\"Holder didn't accept invitation yet\".format(connection_id,STATE), \"red\", attrs=[\"bold\"]))\n",
    "\n",
    "    else:\n",
    "        # Print an error message\n",
    "        print(\"Error: The API returned a non-200 status code\")\n",
    "        \n",
    "\n",
    "    time.sleep(1)\n",
    "    \n",
    "# print('ConnectionId: {0} is now active. Continue with notebook'.format(connection_id))\n",
    "print(colored(\"CredentialId: {0} Issued!.\".format(connection_id), \"green\", attrs=[\"bold\"]))\n"
   ]
  },
  {
   "cell_type": "markdown",
   "id": "6505bcee-c214-4650-b100-19e512ead89a",
   "metadata": {
    "jp-MarkdownHeadingCollapsed": true,
    "tags": []
   },
   "source": [
    "## DIDs"
   ]
  },
  {
   "cell_type": "markdown",
   "id": "153333b1-85cf-43e9-98d1-e6099b5a0f5f",
   "metadata": {},
   "source": [
    "### Create a new unpublised DID stored in Prism Agent\n",
    "```bash\n",
    "curl --location --request POST 'http://localhost:8080/prism-agent/did-registrar/dids' \\\n",
    "  --header 'Content-Type: application/json' \\\n",
    "  --header 'Accept: application/json' \\\n",
    "  --data-raw '{\n",
    "    \"documentTemplate\": {\n",
    "      \"publicKeys\": [\n",
    "        {\n",
    "          \"id\": \"auth0\",\n",
    "          \"purpose\": \"authentication\"\n",
    "        }\n",
    "      ],\n",
    "      \"services\": []\n",
    "    }\n",
    "  }'\n",
    "```"
   ]
  },
  {
   "cell_type": "code",
   "execution_count": null,
   "id": "c1784b6b-1348-4566-9c22-026ffd003421",
   "metadata": {},
   "outputs": [],
   "source": [
    "path = '/prism-agent/did-registrar/dids'\n",
    "data = {\n",
    "    \"documentTemplate\": {\n",
    "      \"publicKeys\": [\n",
    "        {\n",
    "          \"id\": \"auth0\",\n",
    "          \"purpose\": \"authentication\"\n",
    "        }\n",
    "      ],\n",
    "      \"services\": []\n",
    "    }\n",
    "  }\n",
    "\n",
    "# Make the request\n",
    "response = requests.post(base_url + path, headers=headers, json=data)\n",
    "\n",
    "# Check the response status code\n",
    "if response.status_code == 200:\n",
    "    # Print the response content\n",
    "    loaded_json = json.loads(response.content.decode())\n",
    "    print(json.dumps(loaded_json, indent=2))\n",
    "    \n",
    "else:\n",
    "    # Print an error message\n",
    "    print(\"Error: The API returned a non-200 status code\")\n",
    "    print(response.content)"
   ]
  },
  {
   "cell_type": "markdown",
   "id": "95009dc6-000d-4056-8500-d519ee0c0aa6",
   "metadata": {},
   "source": [
    "### Lists all the DIDs in Prism Agent\n",
    "```bash\n",
    "curl --location --request GET 'http://localhost:8080/prism-agent/did-registrar/dids' \\\n",
    "  --header 'Accept: application/json'\n",
    "```\n",
    "\n"
   ]
  },
  {
   "cell_type": "code",
   "execution_count": null,
   "id": "131ac7e5-6ee1-4952-a134-2987c385e371",
   "metadata": {},
   "outputs": [],
   "source": [
    "path = '/prism-agent/did-registrar/dids'\n",
    "\n",
    "# Make the request\n",
    "response = requests.get(base_url + path, headers=headers)\n",
    "\n",
    "# Check the response status code\n",
    "if response.status_code == 200:\n",
    "    # Print the response content\n",
    "    loaded_json = json.loads(response.content.decode())\n",
    "    print(json.dumps(loaded_json, indent=2))\n",
    "    DID_REF = loaded_json[0]['longFormDid']\n",
    "    DID_REF_SHORT = loaded_json[0]['did']\n",
    "else:\n",
    "    # Print an error message\n",
    "    print(\"Error: The API returned a non-200 status code\")\n",
    "    print(response.content)"
   ]
  },
  {
   "cell_type": "markdown",
   "id": "603b1063-d542-4f44-afa3-97909bd12c3a",
   "metadata": {},
   "source": [
    "### Publishes the DID in Prism Agent to the blockchain\n",
    "Replace `DID_REF` by the DID on Prism Agent that should be published\n",
    "```bash\n",
    "curl --location --request POST 'http://localhost:8080/prism-agent/did-registrar/dids/{DID_REF}/publications' \\\n",
    "--header 'Accept: application/json'\n",
    "```"
   ]
  },
  {
   "cell_type": "code",
   "execution_count": null,
   "id": "7ffcbe4d-e8a3-49e6-b6f1-d808a44572c2",
   "metadata": {},
   "outputs": [],
   "source": [
    "path = '/prism-agent/did-registrar/dids/' + DID_REF + '/publications'\n",
    "\n",
    "# Make the request\n",
    "response = requests.post(base_url + path, headers=headers)\n",
    "\n",
    "# Check the response status code\n",
    "if response.status_code == 202:\n",
    "    # Print the response content\n",
    "    loaded_json = json.loads(response.content.decode())\n",
    "    print(json.dumps(loaded_json, indent=2))\n",
    "    \n",
    "else:\n",
    "    # Print an error message\n",
    "    print(\"Error: The API returned a non-202 status code\")\n",
    "    print(response.content)"
   ]
  },
  {
   "cell_type": "markdown",
   "id": "3bec083c-b2a5-42ab-a750-7d68f0a1891b",
   "metadata": {},
   "source": [
    "### Resolves the DID document of Prism DID\n",
    "Replace `DID_REF` by the DID on Prism Agent that should be resolved\n",
    "```bash\n",
    "curl --location --request GET 'http://localhost:8080/prism-agent/dids/{DID_REF}' \\\n",
    "--header 'Accept: application/json'\n",
    "```"
   ]
  },
  {
   "cell_type": "code",
   "execution_count": null,
   "id": "897ab771-933c-4979-8512-7750d63d1274",
   "metadata": {},
   "outputs": [],
   "source": [
    "path = '/prism-agent/dids/' + DID_REF\n",
    "\n",
    "# Make the request\n",
    "response = requests.get(base_url + path, headers=headers)\n",
    "\n",
    "# Check the response status code\n",
    "if response.status_code == 200:\n",
    "    # Print the response content\n",
    "    loaded_json = json.loads(response.content.decode())\n",
    "    print(json.dumps(loaded_json, indent=2))\n",
    "    \n",
    "else:\n",
    "    # Print an error message\n",
    "    print(\"Error: The API returned a non-200 status code\")\n",
    "    print(response.content)"
   ]
  },
  {
   "cell_type": "code",
   "execution_count": null,
   "id": "ef378b3b-2978-4054-bd1b-0bb4808e5af7",
   "metadata": {},
   "outputs": [],
   "source": []
  },
  {
   "cell_type": "code",
   "execution_count": null,
   "id": "525f196e-27a0-4ffe-991b-d0de3bb08540",
   "metadata": {},
   "outputs": [],
   "source": []
  },
  {
   "cell_type": "code",
   "execution_count": null,
   "id": "c317c139-45bd-41c9-9ffa-d78ffef76720",
   "metadata": {},
   "outputs": [],
   "source": []
  },
  {
   "cell_type": "code",
   "execution_count": null,
   "id": "aac1e3d6-441b-46ed-a4b2-f863c79eef50",
   "metadata": {},
   "outputs": [],
   "source": []
  },
  {
   "cell_type": "code",
   "execution_count": null,
   "id": "4b6ce4e7-04d4-4863-a857-bc8efa654fbb",
   "metadata": {},
   "outputs": [],
   "source": []
  },
  {
   "cell_type": "code",
   "execution_count": null,
   "id": "4b3f74f5-2cb7-44b7-a9ea-70d05c2f2d66",
   "metadata": {},
   "outputs": [],
   "source": []
  },
  {
   "cell_type": "code",
   "execution_count": null,
   "id": "66a365a2-e968-4da6-8459-af8b97ac3217",
   "metadata": {},
   "outputs": [],
   "source": []
  },
  {
   "cell_type": "code",
   "execution_count": null,
   "id": "e17a1b9e-668e-4dd4-97bc-0156db88d9b4",
   "metadata": {},
   "outputs": [],
   "source": []
  },
  {
   "cell_type": "code",
   "execution_count": null,
   "id": "28186a6a-712a-4c2e-97b1-d654ef1a7260",
   "metadata": {},
   "outputs": [],
   "source": []
  },
  {
   "cell_type": "code",
   "execution_count": null,
   "id": "f32d2eef-eb9e-46d0-86d9-e3db7cb695f2",
   "metadata": {},
   "outputs": [],
   "source": []
  },
  {
   "cell_type": "code",
   "execution_count": null,
   "id": "17f11595-1a1f-45dd-a492-dca5ea2cb3c8",
   "metadata": {},
   "outputs": [],
   "source": []
  }
 ],
 "metadata": {
  "kernelspec": {
   "display_name": "Python 3 (ipykernel)",
   "language": "python",
   "name": "python3"
  },
  "language_info": {
   "codemirror_mode": {
    "name": "ipython",
    "version": 3
   },
   "file_extension": ".py",
   "mimetype": "text/x-python",
   "name": "python",
   "nbconvert_exporter": "python",
   "pygments_lexer": "ipython3",
   "version": "3.10.8"
  }
 },
 "nbformat": 4,
 "nbformat_minor": 5
}