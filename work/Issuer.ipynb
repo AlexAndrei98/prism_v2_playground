{
 "cells": [
  {
   "cell_type": "markdown",
   "id": "c24b261b-b403-4136-95ff-77e40f7eba8f",
   "metadata": {},
   "source": [
    "# Issuer Agent"
   ]
  },
  {
   "cell_type": "code",
   "execution_count": 82,
   "id": "0712d9ac-4b4e-40d6-8761-09ac0fe11f7a",
   "metadata": {},
   "outputs": [],
   "source": [
    "import requests\n",
    "import json\n",
    "import qrcode\n",
    "import uuid"
   ]
  },
  {
   "cell_type": "code",
   "execution_count": 83,
   "id": "d4120c44-c05e-48ff-84a9-828a5155a3ec",
   "metadata": {},
   "outputs": [],
   "source": [
    "# Set the URL for the API endpoint\n",
    "# Need to specify the host as host.docker.internal as the Prism Agents and the Prism Playground are running in two isolated docker environments\n",
    "base_url = \"http://host.docker.internal:8080\"\n",
    "\n",
    "headers = {'Content-Type': 'application/json', 'accept': 'application/json'}"
   ]
  },
  {
   "cell_type": "markdown",
   "id": "d727cbe0-f297-491d-8a70-3a55c0061e97",
   "metadata": {},
   "source": [
    "## Connections"
   ]
  },
  {
   "cell_type": "markdown",
   "id": "6289927e-218a-4f5c-814d-9688686e9404",
   "metadata": {
    "tags": []
   },
   "source": [
    "### Create a connection record containing the invitation\n",
    "```bash\n",
    "curl -X 'POST' \\\n",
    "\t'http://localhost:8080/prism-agent/connections' \\\n",
    "\t-H 'Content-Type: application/json' \\\n",
    "\t-d '{\n",
    "\t\t\"label\": \"Connect with Alice\"\n",
    "\t\t}' | jq\n",
    "```"
   ]
  },
  {
   "cell_type": "code",
   "execution_count": 84,
   "id": "1032f06f-b164-4ac6-a98f-1b4c9a1382fe",
   "metadata": {},
   "outputs": [
    {
     "name": "stdout",
     "output_type": "stream",
     "text": [
      "{\n",
      "  \"connectionId\": \"c446d513-21c1-4a35-812e-fe904673460f\",\n",
      "  \"createdAt\": \"2022-12-12T18:32:07.973726Z\",\n",
      "  \"invitation\": {\n",
      "    \"from\": \"did:peer:2.Ez6LSktoLmM4LoMnwe8sZEvLzG7QQDdP7JYXYFt95Ewt4US6r.Vz6MkktfhpJDGiVC87v2iqxpvhjvHGq8tdhfd4CizkR1DwBTH.SeyJ0IjoiZG0iLCJzIjoiaHR0cDovL2hvc3QuZG9ja2VyLmludGVybmFsOjgwODAvZGlkY29tbSIsInIiOltdLCJhIjpbImRpZGNvbW0vdjIiXX0\",\n",
      "    \"id\": \"c446d513-21c1-4a35-812e-fe904673460f\",\n",
      "    \"invitationUrl\": \"https://domain.com/path?_oob=eyJpZCI6ImM0NDZkNTEzLTIxYzEtNGEzNS04MTJlLWZlOTA0NjczNDYwZiIsInR5cGUiOiJodHRwczovL2RpZGNvbW0ub3JnL291dC1vZi1iYW5kLzIuMC9pbnZpdGF0aW9uIiwiZnJvbSI6ImRpZDpwZWVyOjIuRXo2TFNrdG9MbU00TG9NbndlOHNaRXZMekc3UVFEZFA3SllYWUZ0OTVFd3Q0VVM2ci5WejZNa2t0ZmhwSkRHaVZDODd2MmlxeHB2aGp2SEdxOHRkaGZkNENpemtSMUR3QlRILlNleUowSWpvaVpHMGlMQ0p6SWpvaWFIUjBjRG92TDJodmMzUXVaRzlqYTJWeUxtbHVkR1Z5Ym1Gc09qZ3dPREF2Wkdsa1kyOXRiU0lzSW5JaU9sdGRMQ0poSWpwYkltUnBaR052YlcwdmRqSWlYWDAiLCJib2R5Ijp7ImdvYWxfY29kZSI6ImNvbm5lY3QiLCJnb2FsIjoiRXN0YWJsaXNoIGEgdHJ1c3QgY29ubmVjdGlvbiBiZXR3ZWVuIHR3byBwZWVycyIsImFjY2VwdCI6W119fQ==\",\n",
      "    \"type\": \"https://didcomm.org/out-of-band/2.0/invitation\"\n",
      "  },\n",
      "  \"kind\": \"/connections/c446d513-21c1-4a35-812e-fe904673460f\",\n",
      "  \"label\": \"Connect with Alice\",\n",
      "  \"self\": \"Connection\",\n",
      "  \"state\": \"InvitationGenerated\"\n",
      "}\n"
     ]
    }
   ],
   "source": [
    "path = '/prism-agent/connections'\n",
    "data = {\"label\": \"Connect with Alice\"}\n",
    "# Make the request\n",
    "response = requests.post(base_url + path, headers=headers, json=data)\n",
    "\n",
    "# Check the response status code\n",
    "if response.status_code == 201:\n",
    "    # Print the response content\n",
    "    loaded_json = json.loads(response.content.decode())\n",
    "    print(json.dumps(loaded_json, indent=2))\n",
    "    \n",
    "else:\n",
    "    # Print an error message\n",
    "    print(\"Error: The API returned a non-201 status code\")"
   ]
  },
  {
   "cell_type": "markdown",
   "id": "e2dfa148-9cfc-469b-885b-22fd3d2c1d9c",
   "metadata": {},
   "source": [
    "### Send invitation to Holder"
   ]
  },
  {
   "cell_type": "code",
   "execution_count": 85,
   "id": "264f547b-bb2e-4b74-89b2-06c1fe3d8401",
   "metadata": {},
   "outputs": [
    {
     "name": "stdout",
     "output_type": "stream",
     "text": [
      "Stored 'invitationUrlbase64' (str)\n"
     ]
    }
   ],
   "source": [
    "invitation = json.loads(response.content.decode())\n",
    "invitationUrl = invitation['invitation']['invitationUrl']\n",
    "invitationUrlbase64 = invitation['invitation']['invitationUrl'].split('=')[1]\n",
    "connection_id = invitation['connectionId']\n",
    "%store invitationUrlbase64"
   ]
  },
  {
   "cell_type": "markdown",
   "id": "6be89e35-8061-4be9-ace7-7adcc21f04e8",
   "metadata": {
    "jp-MarkdownHeadingCollapsed": true,
    "tags": []
   },
   "source": [
    "### Generate QR code from invitation"
   ]
  },
  {
   "cell_type": "code",
   "execution_count": 86,
   "id": "629b6d84-ef9f-452a-81dc-6bc37d48a75c",
   "metadata": {},
   "outputs": [
    {
     "data": {
      "image/png": "[encoded data removed]",
      "text/plain": [
       "<IPython.core.display.Image object>"
      ]
     },
     "execution_count": 86,
     "metadata": {
      "image/png": {
       "width": 400
      }
     },
     "output_type": "execute_result"
    }
   ],
   "source": [
    "# Link for connection invitation\n",
    "input_data = invitationUrl\n",
    "# Creating an instance of qrcode\n",
    "qr = qrcode.QRCode(\n",
    "        version=1,\n",
    "        box_size=10,\n",
    "        border=5)\n",
    "qr.add_data(input_data)\n",
    "qr.make(fit=True)\n",
    "img = qr.make_image(fill='black', back_color='white')\n",
    "img.save('issuer_agent_invite_QRcode.png')\n",
    "\n",
    "from IPython.display import Image\n",
    "Image(width=400, filename='./issuer_agent_invite_QRcode.png')"
   ]
  },
  {
   "cell_type": "markdown",
   "id": "b06d85e7-8d60-443c-ab1f-38ef2bb27461",
   "metadata": {
    "tags": []
   },
   "source": [
    "### Retrieving the list of connections\n",
    "```bash\n",
    "curl -X 'GET' 'http://localhost:8080/prism-agent/connections' | jq\n",
    "```"
   ]
  },
  {
   "cell_type": "code",
   "execution_count": 87,
   "id": "114e7662-5f90-480a-aede-3bc8134906b6",
   "metadata": {},
   "outputs": [
    {
     "name": "stdout",
     "output_type": "stream",
     "text": [
      "{\n",
      "  \"contents\": [\n",
      "    {\n",
      "      \"connectionId\": \"c446d513-21c1-4a35-812e-fe904673460f\",\n",
      "      \"createdAt\": \"2022-12-12T18:32:07Z\",\n",
      "      \"invitation\": {\n",
      "        \"from\": \"did:peer:2.Ez6LSktoLmM4LoMnwe8sZEvLzG7QQDdP7JYXYFt95Ewt4US6r.Vz6MkktfhpJDGiVC87v2iqxpvhjvHGq8tdhfd4CizkR1DwBTH.SeyJ0IjoiZG0iLCJzIjoiaHR0cDovL2hvc3QuZG9ja2VyLmludGVybmFsOjgwODAvZGlkY29tbSIsInIiOltdLCJhIjpbImRpZGNvbW0vdjIiXX0\",\n",
      "        \"id\": \"c446d513-21c1-4a35-812e-fe904673460f\",\n",
      "        \"invitationUrl\": \"https://domain.com/path?_oob=eyJpZCI6ImM0NDZkNTEzLTIxYzEtNGEzNS04MTJlLWZlOTA0NjczNDYwZiIsInR5cGUiOiJodHRwczovL2RpZGNvbW0ub3JnL291dC1vZi1iYW5kLzIuMC9pbnZpdGF0aW9uIiwiZnJvbSI6ImRpZDpwZWVyOjIuRXo2TFNrdG9MbU00TG9NbndlOHNaRXZMekc3UVFEZFA3SllYWUZ0OTVFd3Q0VVM2ci5WejZNa2t0ZmhwSkRHaVZDODd2MmlxeHB2aGp2SEdxOHRkaGZkNENpemtSMUR3QlRILlNleUowSWpvaVpHMGlMQ0p6SWpvaWFIUjBjRG92TDJodmMzUXVaRzlqYTJWeUxtbHVkR1Z5Ym1Gc09qZ3dPREF2Wkdsa1kyOXRiU0lzSW5JaU9sdGRMQ0poSWpwYkltUnBaR052YlcwdmRqSWlYWDAiLCJib2R5Ijp7ImdvYWxfY29kZSI6ImNvbm5lY3QiLCJnb2FsIjoiRXN0YWJsaXNoIGEgdHJ1c3QgY29ubmVjdGlvbiBiZXR3ZWVuIHR3byBwZWVycyIsImFjY2VwdCI6W119fQ==\",\n",
      "        \"type\": \"https://didcomm.org/out-of-band/2.0/invitation\"\n",
      "      },\n",
      "      \"kind\": \"/connections/c446d513-21c1-4a35-812e-fe904673460f\",\n",
      "      \"label\": \"Connect with Alice\",\n",
      "      \"self\": \"Connection\",\n",
      "      \"state\": \"InvitationGenerated\"\n",
      "    }\n",
      "  ],\n",
      "  \"kind\": \"Collection\",\n",
      "  \"self\": \"/collections\"\n",
      "}\n"
     ]
    }
   ],
   "source": [
    "path = '/prism-agent/connections'\n",
    "\n",
    "# Make the request\n",
    "response = requests.get(base_url + path, headers=headers)\n",
    "\n",
    "# Check the response status code\n",
    "if response.status_code == 200:\n",
    "    # Print the response content\n",
    "    loaded_json = json.loads(response.content.decode())\n",
    "    print(json.dumps(loaded_json, indent=2))\n",
    "else:\n",
    "    # Print an error message\n",
    "    print(\"Error: The API returned a non-200 status code\")"
   ]
  },
  {
   "cell_type": "code",
   "execution_count": 91,
   "id": "f52acf78-ee48-4ecd-b93d-92547aec59ea",
   "metadata": {},
   "outputs": [
    {
     "name": "stdout",
     "output_type": "stream",
     "text": [
      "{\n",
      "  \"connectionId\": \"c446d513-21c1-4a35-812e-fe904673460f\",\n",
      "  \"createdAt\": \"2022-12-12T18:32:07Z\",\n",
      "  \"invitation\": {\n",
      "    \"from\": \"did:peer:2.Ez6LSktoLmM4LoMnwe8sZEvLzG7QQDdP7JYXYFt95Ewt4US6r.Vz6MkktfhpJDGiVC87v2iqxpvhjvHGq8tdhfd4CizkR1DwBTH.SeyJ0IjoiZG0iLCJzIjoiaHR0cDovL2hvc3QuZG9ja2VyLmludGVybmFsOjgwODAvZGlkY29tbSIsInIiOltdLCJhIjpbImRpZGNvbW0vdjIiXX0\",\n",
      "    \"id\": \"c446d513-21c1-4a35-812e-fe904673460f\",\n",
      "    \"invitationUrl\": \"https://domain.com/path?_oob=eyJpZCI6ImM0NDZkNTEzLTIxYzEtNGEzNS04MTJlLWZlOTA0NjczNDYwZiIsInR5cGUiOiJodHRwczovL2RpZGNvbW0ub3JnL291dC1vZi1iYW5kLzIuMC9pbnZpdGF0aW9uIiwiZnJvbSI6ImRpZDpwZWVyOjIuRXo2TFNrdG9MbU00TG9NbndlOHNaRXZMekc3UVFEZFA3SllYWUZ0OTVFd3Q0VVM2ci5WejZNa2t0ZmhwSkRHaVZDODd2MmlxeHB2aGp2SEdxOHRkaGZkNENpemtSMUR3QlRILlNleUowSWpvaVpHMGlMQ0p6SWpvaWFIUjBjRG92TDJodmMzUXVaRzlqYTJWeUxtbHVkR1Z5Ym1Gc09qZ3dPREF2Wkdsa1kyOXRiU0lzSW5JaU9sdGRMQ0poSWpwYkltUnBaR052YlcwdmRqSWlYWDAiLCJib2R5Ijp7ImdvYWxfY29kZSI6ImNvbm5lY3QiLCJnb2FsIjoiRXN0YWJsaXNoIGEgdHJ1c3QgY29ubmVjdGlvbiBiZXR3ZWVuIHR3byBwZWVycyIsImFjY2VwdCI6W119fQ==\",\n",
      "    \"type\": \"https://didcomm.org/out-of-band/2.0/invitation\"\n",
      "  },\n",
      "  \"kind\": \"/connections/c446d513-21c1-4a35-812e-fe904673460f\",\n",
      "  \"label\": \"Connect with Alice\",\n",
      "  \"myDid\": \"did:peer:2.Ez6LSktoLmM4LoMnwe8sZEvLzG7QQDdP7JYXYFt95Ewt4US6r.Vz6MkktfhpJDGiVC87v2iqxpvhjvHGq8tdhfd4CizkR1DwBTH.SeyJ0IjoiZG0iLCJzIjoiaHR0cDovL2hvc3QuZG9ja2VyLmludGVybmFsOjgwODAvZGlkY29tbSIsInIiOltdLCJhIjpbImRpZGNvbW0vdjIiXX0\",\n",
      "  \"self\": \"Connection\",\n",
      "  \"state\": \"ConnectionResponseSent\",\n",
      "  \"theirDid\": \"did:peer:2.Ez6LSsTrRs11jqVkPPebHqdnncQZvmmyvuKrZvjBsAdPXHjt8.Vz6Mkog7ZoErip29PcRf9K5TzCsGMGqrfLeYXBP6y918dAR1L.SeyJ0IjoiZG0iLCJzIjoiaHR0cDovL2hvc3QuZG9ja2VyLmludGVybmFsOjgwOTAvZGlkY29tbSIsInIiOltdLCJhIjpbImRpZGNvbW0vdjIiXX0\",\n",
      "  \"updatedAt\": \"2022-12-12T18:32:46Z\"\n",
      "}\n"
     ]
    }
   ],
   "source": [
    "\n",
    "path = '/prism-agent//connections/' + connection_id\n",
    "\n",
    "# Make the request\n",
    "response = requests.get(base_url + path, headers=headers)\n",
    "\n",
    "# Check the response status code\n",
    "if response.status_code == 200:\n",
    "    # Print the response content\n",
    "    loaded_json = json.loads(response.content.decode())\n",
    "    print(json.dumps(loaded_json, indent=2))\n",
    "    their_did = loaded_json['theirDid']\n",
    "else:\n",
    "    # Print an error message\n",
    "    print(\"Error: The API returned a non-200 status code\")"
   ]
  },
  {
   "cell_type": "markdown",
   "id": "0e69fc0d-d9dc-40c4-8611-67d3635bc3a6",
   "metadata": {},
   "source": [
    "## Issue Credential to Holder"
   ]
  },
  {
   "cell_type": "markdown",
   "id": "ac4ebbf6-847d-4afe-a94d-20e7be646f6f",
   "metadata": {},
   "source": [
    "### Initiate a new issue credential flow\n",
    "\n",
    "Replace `{SUBJECT_ID}` with the DID of the holder displayed at startup in the his Prism Agent console logs\n",
    "```bash\n",
    "curl -X 'POST' \\\n",
    "  'http://localhost:8080/prism-agent/issue-credentials/credential-offers' \\\n",
    "  -H 'accept: application/json' \\\n",
    "  -H 'Content-Type: application/json' \\\n",
    "  -d '{\n",
    "      \"schemaId\": \"schema:1234\",\n",
    "      \"subjectId\": \"{SUBJECT_ID}\",\n",
    "      \"validityPeriod\": 3600,\n",
    "      \"automaticIssuance\": false,\n",
    "      \"awaitConfirmation\": false,\n",
    "      \"claims\": {\n",
    "        \"firstname\": \"Alice\",\n",
    "        \"lastname\": \"Wonderland\",\n",
    "        \"birthdate\": \"01/01/2000\"\n",
    "      }\n",
    "\t}' | jq\n",
    "```"
   ]
  },
  {
   "cell_type": "code",
   "execution_count": 92,
   "id": "146cc95b-1691-4b45-b3cf-643ccf85c06b",
   "metadata": {},
   "outputs": [
    {
     "name": "stdout",
     "output_type": "stream",
     "text": [
      "{\n",
      "  \"automaticIssuance\": false,\n",
      "  \"awaitConfirmation\": false,\n",
      "  \"claims\": {\n",
      "    \"birthdate\": \"01/01/2000\",\n",
      "    \"firstname\": \"Alice\",\n",
      "    \"lastname\": \"Wonderland\"\n",
      "  },\n",
      "  \"createdAt\": \"2022-12-12T18:33:32.439513Z\",\n",
      "  \"protocolState\": \"OfferPending\",\n",
      "  \"recordId\": \"c4357341-e47e-4aa0-b411-ebac0a6820c9\",\n",
      "  \"role\": \"Issuer\",\n",
      "  \"schemaId\": \"schema:1234\",\n",
      "  \"subjectId\": \"did:peer:2.Ez6LSsTrRs11jqVkPPebHqdnncQZvmmyvuKrZvjBsAdPXHjt8.Vz6Mkog7ZoErip29PcRf9K5TzCsGMGqrfLeYXBP6y918dAR1L.SeyJ0IjoiZG0iLCJzIjoiaHR0cDovL2hvc3QuZG9ja2VyLmludGVybmFsOjgwOTAvZGlkY29tbSIsInIiOltdLCJhIjpbImRpZGNvbW0vdjIiXX0\",\n",
      "  \"validityPeriod\": 3600.0\n",
      "}\n"
     ]
    }
   ],
   "source": [
    "# subject_id = 'did:peer:2.Ez6LSsyLCEveJGeF9jWGkBCG6wvfzXcNgu5A8PAiKp3NzvPdb.Vz6MkuZxR1VDeXiJ9uL9Uuh7Rh58DGpYw3abdtacLv8KdL2sP.SeyJ0IjoiZG0iLCJzIjoiaHR0cDovL2hvc3QuZG9ja2VyLmludGVybmFsOjgwOTAvZGlkY29tbS8iLCJyIjpbXSwiYSI6WyJkaWRjb21tL3YyIl19'\n",
    "path = '/prism-agent/issue-credentials/credential-offers'\n",
    "data = {\n",
    "      \"schemaId\": \"schema:1234\",\n",
    "      \"subjectId\": their_did,\n",
    "      \"validityPeriod\": 3600,\n",
    "      \"automaticIssuance\": False,\n",
    "      \"awaitConfirmation\": False,\n",
    "      \"claims\": {\n",
    "        \"firstname\": \"Alice\",\n",
    "        \"lastname\": \"Wonderland\",\n",
    "        \"birthdate\": \"01/01/2000\"\n",
    "      }\n",
    "    }\n",
    "\n",
    "# Make the request\n",
    "response = requests.post(base_url + path, headers=headers, json=data)\n",
    "\n",
    "# Check the response status code\n",
    "if response.status_code == 201:\n",
    "    # Print the response content\n",
    "    loaded_json = json.loads(response.content.decode())\n",
    "    print(json.dumps(loaded_json, indent=2))\n",
    "    \n",
    "else:\n",
    "    # Print an error message\n",
    "    print(\"Error: The API returned a non-201 status code\")\n",
    "    print(response.content)"
   ]
  },
  {
   "cell_type": "code",
   "execution_count": 93,
   "id": "140179af-b290-4b94-88eb-c6a9df6f18d8",
   "metadata": {},
   "outputs": [
    {
     "name": "stdout",
     "output_type": "stream",
     "text": [
      "Stored 'credential_record_id' (str)\n"
     ]
    }
   ],
   "source": [
    "credential_record_id = loaded_json['recordId']\n",
    "%store credential_record_id"
   ]
  },
  {
   "cell_type": "code",
   "execution_count": 95,
   "id": "85d4ad74-a861-4bcf-8cfa-15b0ae2bb378",
   "metadata": {},
   "outputs": [
    {
     "name": "stdout",
     "output_type": "stream",
     "text": [
      "{\n",
      "  \"count\": 1,\n",
      "  \"items\": [\n",
      "    {\n",
      "      \"automaticIssuance\": false,\n",
      "      \"awaitConfirmation\": false,\n",
      "      \"claims\": {\n",
      "        \"birthdate\": \"01/01/2000\",\n",
      "        \"firstname\": \"Alice\",\n",
      "        \"lastname\": \"Wonderland\"\n",
      "      },\n",
      "      \"createdAt\": \"2022-12-12T18:33:32Z\",\n",
      "      \"protocolState\": \"RequestReceived\",\n",
      "      \"recordId\": \"c4357341-e47e-4aa0-b411-ebac0a6820c9\",\n",
      "      \"role\": \"Issuer\",\n",
      "      \"schemaId\": \"schema:1234\",\n",
      "      \"subjectId\": \"did:peer:2.Ez6LSsTrRs11jqVkPPebHqdnncQZvmmyvuKrZvjBsAdPXHjt8.Vz6Mkog7ZoErip29PcRf9K5TzCsGMGqrfLeYXBP6y918dAR1L.SeyJ0IjoiZG0iLCJzIjoiaHR0cDovL2hvc3QuZG9ja2VyLmludGVybmFsOjgwOTAvZGlkY29tbSIsInIiOltdLCJhIjpbImRpZGNvbW0vdjIiXX0\",\n",
      "      \"updatedAt\": \"2022-12-12T18:34:05Z\",\n",
      "      \"validityPeriod\": 3600.0\n",
      "    }\n",
      "  ],\n",
      "  \"limit\": 0,\n",
      "  \"offset\": 0\n",
      "}\n"
     ]
    }
   ],
   "source": [
    "path = '/prism-agent/issue-credentials/records'\n",
    "\n",
    "# Make the request\n",
    "response = requests.get(base_url + path, headers=headers)\n",
    "\n",
    "# Check the response status code\n",
    "if response.status_code == 200:\n",
    "    # Print the response content\n",
    "    loaded_json = json.loads(response.content.decode())\n",
    "    print(json.dumps(loaded_json, indent=2))\n",
    "    \n",
    "else:\n",
    "    # Print an error message\n",
    "    print(\"Error: The API returned a non-200 status code\")\n",
    "    print(response.content)"
   ]
  },
  {
   "cell_type": "markdown",
   "id": "738a3ec8-e737-4a03-977e-49bf4673fc8d",
   "metadata": {},
   "source": [
    "### - Issuing the credential\n",
    "\n",
    "> Replace `{RECORD_ID}` with the UUID of the record from the previous list\n",
    "```bash\n",
    "curl -X 'POST' 'http://localhost:8080/prism-agent/issue-credentials/records/{RECORD_ID}/issue-credential' | jq\n",
    "```"
   ]
  },
  {
   "cell_type": "code",
   "execution_count": 96,
   "id": "eccb934a-0edf-4660-81d6-0cd4786c1e90",
   "metadata": {},
   "outputs": [
    {
     "name": "stdout",
     "output_type": "stream",
     "text": [
      "{\n",
      "  \"automaticIssuance\": false,\n",
      "  \"awaitConfirmation\": false,\n",
      "  \"claims\": {\n",
      "    \"birthdate\": \"01/01/2000\",\n",
      "    \"firstname\": \"Alice\",\n",
      "    \"lastname\": \"Wonderland\"\n",
      "  },\n",
      "  \"createdAt\": \"2022-12-12T18:33:32Z\",\n",
      "  \"protocolState\": \"CredentialPending\",\n",
      "  \"recordId\": \"c4357341-e47e-4aa0-b411-ebac0a6820c9\",\n",
      "  \"role\": \"Issuer\",\n",
      "  \"schemaId\": \"schema:1234\",\n",
      "  \"subjectId\": \"did:peer:2.Ez6LSsTrRs11jqVkPPebHqdnncQZvmmyvuKrZvjBsAdPXHjt8.Vz6Mkog7ZoErip29PcRf9K5TzCsGMGqrfLeYXBP6y918dAR1L.SeyJ0IjoiZG0iLCJzIjoiaHR0cDovL2hvc3QuZG9ja2VyLmludGVybmFsOjgwOTAvZGlkY29tbSIsInIiOltdLCJhIjpbImRpZGNvbW0vdjIiXX0\",\n",
      "  \"updatedAt\": \"2022-12-12T18:34:37Z\",\n",
      "  \"validityPeriod\": 3600.0\n",
      "}\n"
     ]
    }
   ],
   "source": [
    "path = '/prism-agent/issue-credentials/records/' + credential_record_id + '/issue-credential'\n",
    "# Make the request\n",
    "response = requests.post(base_url + path, headers=headers)\n",
    "\n",
    "# Check the response status code\n",
    "if response.status_code == 200:\n",
    "    # Print the response content\n",
    "    loaded_json = json.loads(response.content.decode())\n",
    "    print(json.dumps(loaded_json, indent=2))\n",
    "    \n",
    "else:\n",
    "    # Print an error message\n",
    "    print(\"Error: The API returned a non-200 status code\")\n",
    "    print(response.content)"
   ]
  },
  {
   "cell_type": "code",
   "execution_count": 98,
   "id": "ab054b54-f288-4e97-bea4-a892ed29a5fb",
   "metadata": {},
   "outputs": [
    {
     "name": "stdout",
     "output_type": "stream",
     "text": [
      "{\n",
      "  \"count\": 1,\n",
      "  \"items\": [\n",
      "    {\n",
      "      \"automaticIssuance\": false,\n",
      "      \"awaitConfirmation\": false,\n",
      "      \"claims\": {\n",
      "        \"birthdate\": \"01/01/2000\",\n",
      "        \"firstname\": \"Alice\",\n",
      "        \"lastname\": \"Wonderland\"\n",
      "      },\n",
      "      \"createdAt\": \"2022-12-12T18:33:32Z\",\n",
      "      \"jwtCredential\": \"ImV5SjBlWEFpT2lKS1YxUWlMQ0poYkdjaU9pSkZVekkxTmlKOS5leUpwYzNNaU9pSmthV1E2Y0hKcGMyMDZaR05tWWpBMFl6Z3RaREF4WWkwME16QXdMVGxrTVRRdE56UTBORFV3WW1Fek9HUTFJaXdpYzNWaUlqb2laR2xrT25CbFpYSTZNaTVGZWpaTVUzTlVjbEp6TVRGcWNWWnJVRkJsWWtoeFpHNXVZMUZhZG0xdGVYWjFTM0phZG1wQ2MwRmtVRmhJYW5RNExsWjZOazFyYjJjM1dtOUZjbWx3TWpsUVkxSm1PVXMxVkhwRGMwZE5SM0Z5Wmt4bFdWaENVRFo1T1RFNFpFRlNNVXd1VTJWNVNqQkphbTlwV2tjd2FVeERTbnBKYW05cFlVaFNNR05FYjNaTU1taDJZek5SZFZwSE9XcGhNbFo1VEcxc2RXUkhWbmxpYlVaelQycG5kMDlVUVhaYVIyeHJXVEk1ZEdKVFNYTkpia2xwVDJ4MFpFeERTbWhKYW5CaVNXMVNjRnBIVG5aaVZ6QjJaR3BKYVZoWU1DSXNJblpqSWpwN0ltTnlaV1JsYm5ScFlXeFRkV0pxWldOMElqcDdJbUpwY25Sb1pHRjBaU0k2SWpBeEx6QXhMekl3TURBaUxDSm1hWEp6ZEc1aGJXVWlPaUpCYkdsalpTSXNJbXhoYzNSdVlXMWxJam9pVjI5dVpHVnliR0Z1WkNJc0ltbGtJam9pWkdsa09uQmxaWEk2TWk1RmVqWk1VM05VY2xKek1URnFjVlpyVUZCbFlraHhaRzV1WTFGYWRtMXRlWFoxUzNKYWRtcENjMEZrVUZoSWFuUTRMbFo2TmsxcmIyYzNXbTlGY21sd01qbFFZMUptT1VzMVZIcERjMGROUjNGeVpreGxXVmhDVURaNU9URTRaRUZTTVV3dVUyVjVTakJKYW05cFdrY3dhVXhEU25wSmFtOXBZVWhTTUdORWIzWk1NbWgyWXpOUmRWcEhPV3BoTWxaNVRHMXNkV1JIVm5saWJVWnpUMnBuZDA5VVFYWmFSMnhyV1RJNWRHSlRTWE5KYmtscFQyeDBaRXhEU21oSmFuQmlTVzFTY0ZwSFRuWmlWekIyWkdwSmFWaFlNQ0o5ZlN3aWJtSm1Jam9pTWpBeU1pMHhNaTB4TWxReE9Eb3pORG8wTmk0d056RXhOalZhSWl3aVpYaHdJam9pTWpBeU1pMHhNaTB4TWxReE9Ub3pORG8wTmk0d056RXhOalZhSW4wLndoSlE2RFFTOGxTU00tajJxeGFvb0Q1cGlUYUdYaTloNEkzcHNla3k1MWxkNERDQmxGZlRPb0FCQ19MYmhkaDlGSktiTHpRMGp3cUpDWVpuMHVUeGtRIg==\",\n",
      "      \"protocolState\": \"CredentialGenerated\",\n",
      "      \"recordId\": \"c4357341-e47e-4aa0-b411-ebac0a6820c9\",\n",
      "      \"role\": \"Issuer\",\n",
      "      \"schemaId\": \"schema:1234\",\n",
      "      \"subjectId\": \"did:peer:2.Ez6LSsTrRs11jqVkPPebHqdnncQZvmmyvuKrZvjBsAdPXHjt8.Vz6Mkog7ZoErip29PcRf9K5TzCsGMGqrfLeYXBP6y918dAR1L.SeyJ0IjoiZG0iLCJzIjoiaHR0cDovL2hvc3QuZG9ja2VyLmludGVybmFsOjgwOTAvZGlkY29tbSIsInIiOltdLCJhIjpbImRpZGNvbW0vdjIiXX0\",\n",
      "      \"updatedAt\": \"2022-12-12T18:34:46Z\",\n",
      "      \"validityPeriod\": 3600.0\n",
      "    }\n",
      "  ],\n",
      "  \"limit\": 0,\n",
      "  \"offset\": 0\n",
      "}\n"
     ]
    }
   ],
   "source": [
    "path = '/prism-agent/issue-credentials/records'\n",
    "\n",
    "# Make the request\n",
    "response = requests.get(base_url + path, headers=headers)\n",
    "\n",
    "# Check the response status code\n",
    "if response.status_code == 200:\n",
    "    # Print the response content\n",
    "    loaded_json = json.loads(response.content.decode())\n",
    "    print(json.dumps(loaded_json, indent=2))\n",
    "    \n",
    "else:\n",
    "    # Print an error message\n",
    "    print(\"Error: The API returned a non-200 status code\")\n",
    "    print(response.content)"
   ]
  },
  {
   "cell_type": "markdown",
   "id": "6505bcee-c214-4650-b100-19e512ead89a",
   "metadata": {
    "jp-MarkdownHeadingCollapsed": true,
    "tags": []
   },
   "source": [
    "## DIDs"
   ]
  },
  {
   "cell_type": "markdown",
   "id": "153333b1-85cf-43e9-98d1-e6099b5a0f5f",
   "metadata": {},
   "source": [
    "### Create a new unpublised DID stored in Prism Agent\n",
    "```bash\n",
    "curl --location --request POST 'http://localhost:8080/prism-agent/did-registrar/dids' \\\n",
    "  --header 'Content-Type: application/json' \\\n",
    "  --header 'Accept: application/json' \\\n",
    "  --data-raw '{\n",
    "    \"documentTemplate\": {\n",
    "      \"publicKeys\": [\n",
    "        {\n",
    "          \"id\": \"auth0\",\n",
    "          \"purpose\": \"authentication\"\n",
    "        }\n",
    "      ],\n",
    "      \"services\": []\n",
    "    }\n",
    "  }'\n",
    "```"
   ]
  },
  {
   "cell_type": "code",
   "execution_count": null,
   "id": "c1784b6b-1348-4566-9c22-026ffd003421",
   "metadata": {},
   "outputs": [],
   "source": [
    "path = '/prism-agent/did-registrar/dids'\n",
    "data = {\n",
    "    \"documentTemplate\": {\n",
    "      \"publicKeys\": [\n",
    "        {\n",
    "          \"id\": \"auth0\",\n",
    "          \"purpose\": \"authentication\"\n",
    "        }\n",
    "      ],\n",
    "      \"services\": []\n",
    "    }\n",
    "  }\n",
    "\n",
    "# Make the request\n",
    "response = requests.post(base_url + path, headers=headers, json=data)\n",
    "\n",
    "# Check the response status code\n",
    "if response.status_code == 200:\n",
    "    # Print the response content\n",
    "    loaded_json = json.loads(response.content.decode())\n",
    "    print(json.dumps(loaded_json, indent=2))\n",
    "    \n",
    "else:\n",
    "    # Print an error message\n",
    "    print(\"Error: The API returned a non-200 status code\")\n",
    "    print(response.content)"
   ]
  },
  {
   "cell_type": "markdown",
   "id": "95009dc6-000d-4056-8500-d519ee0c0aa6",
   "metadata": {},
   "source": [
    "### Lists all the DIDs in Prism Agent\n",
    "```bash\n",
    "curl --location --request GET 'http://localhost:8080/prism-agent/did-registrar/dids' \\\n",
    "  --header 'Accept: application/json'\n",
    "```\n",
    "\n"
   ]
  },
  {
   "cell_type": "code",
   "execution_count": null,
   "id": "131ac7e5-6ee1-4952-a134-2987c385e371",
   "metadata": {},
   "outputs": [],
   "source": [
    "path = '/prism-agent/did-registrar/dids'\n",
    "\n",
    "# Make the request\n",
    "response = requests.get(base_url + path, headers=headers)\n",
    "\n",
    "# Check the response status code\n",
    "if response.status_code == 200:\n",
    "    # Print the response content\n",
    "    loaded_json = json.loads(response.content.decode())\n",
    "    print(json.dumps(loaded_json, indent=2))\n",
    "    DID_REF = loaded_json[0]['longFormDid']\n",
    "    DID_REF_SHORT = loaded_json[0]['did']\n",
    "else:\n",
    "    # Print an error message\n",
    "    print(\"Error: The API returned a non-200 status code\")\n",
    "    print(response.content)"
   ]
  },
  {
   "cell_type": "markdown",
   "id": "603b1063-d542-4f44-afa3-97909bd12c3a",
   "metadata": {},
   "source": [
    "### Publishes the DID in Prism Agent to the blockchain\n",
    "Replace `DID_REF` by the DID on Prism Agent that should be published\n",
    "```bash\n",
    "curl --location --request POST 'http://localhost:8080/prism-agent/did-registrar/dids/{DID_REF}/publications' \\\n",
    "--header 'Accept: application/json'\n",
    "```"
   ]
  },
  {
   "cell_type": "code",
   "execution_count": null,
   "id": "7ffcbe4d-e8a3-49e6-b6f1-d808a44572c2",
   "metadata": {},
   "outputs": [],
   "source": [
    "path = '/prism-agent/did-registrar/dids/' + DID_REF + '/publications'\n",
    "\n",
    "# Make the request\n",
    "response = requests.post(base_url + path, headers=headers)\n",
    "\n",
    "# Check the response status code\n",
    "if response.status_code == 202:\n",
    "    # Print the response content\n",
    "    loaded_json = json.loads(response.content.decode())\n",
    "    print(json.dumps(loaded_json, indent=2))\n",
    "    \n",
    "else:\n",
    "    # Print an error message\n",
    "    print(\"Error: The API returned a non-202 status code\")\n",
    "    print(response.content)"
   ]
  },
  {
   "cell_type": "markdown",
   "id": "3bec083c-b2a5-42ab-a750-7d68f0a1891b",
   "metadata": {},
   "source": [
    "### Resolves the DID document of Prism DID\n",
    "Replace `DID_REF` by the DID on Prism Agent that should be resolved\n",
    "```bash\n",
    "curl --location --request GET 'http://localhost:8080/prism-agent/dids/{DID_REF}' \\\n",
    "--header 'Accept: application/json'\n",
    "```"
   ]
  },
  {
   "cell_type": "code",
   "execution_count": null,
   "id": "897ab771-933c-4979-8512-7750d63d1274",
   "metadata": {},
   "outputs": [],
   "source": [
    "path = '/prism-agent/dids/' + DID_REF\n",
    "\n",
    "# Make the request\n",
    "response = requests.get(base_url + path, headers=headers)\n",
    "\n",
    "# Check the response status code\n",
    "if response.status_code == 200:\n",
    "    # Print the response content\n",
    "    loaded_json = json.loads(response.content.decode())\n",
    "    print(json.dumps(loaded_json, indent=2))\n",
    "    \n",
    "else:\n",
    "    # Print an error message\n",
    "    print(\"Error: The API returned a non-200 status code\")\n",
    "    print(response.content)"
   ]
  },
  {
   "cell_type": "code",
   "execution_count": null,
   "id": "24c50b32-a69f-41a8-b988-b0f7b125cfab",
   "metadata": {},
   "outputs": [],
   "source": []
  }
 ],
 "metadata": {
  "kernelspec": {
   "display_name": "Python 3 (ipykernel)",
   "language": "python",
   "name": "python3"
  },
  "language_info": {
   "codemirror_mode": {
    "name": "ipython",
    "version": 3
   },
   "file_extension": ".py",
   "mimetype": "text/x-python",
   "name": "python",
   "nbconvert_exporter": "python",
   "pygments_lexer": "ipython3",
   "version": "3.10.8"
  }
 },
 "nbformat": 4,
 "nbformat_minor": 5
}