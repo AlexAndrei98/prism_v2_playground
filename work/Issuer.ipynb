{
 "cells": [
  {
   "cell_type": "markdown",
   "id": "c24b261b-b403-4136-95ff-77e40f7eba8f",
   "metadata": {},
   "source": [
    "# Issuer Agent"
   ]
  },
  {
   "cell_type": "code",
   "execution_count": 37,
   "id": "0712d9ac-4b4e-40d6-8761-09ac0fe11f7a",
   "metadata": {},
   "outputs": [],
   "source": [
    "import requests\n",
    "import json\n",
    "import qrcode\n",
    "import uuid\n",
    "import re"
   ]
  },
  {
   "cell_type": "code",
   "execution_count": 38,
   "id": "d4120c44-c05e-48ff-84a9-828a5155a3ec",
   "metadata": {},
   "outputs": [],
   "source": [
    "# Set the URL for the API endpoint\n",
    "# Need to specify the host as host.docker.internal as the Prism Agents and the Prism Playground are running in two isolated docker environments\n",
    "base_url = \"http://host.docker.internal:8080\"\n",
    "\n",
    "headers = {'Content-Type': 'application/json', 'accept': 'application/json'}"
   ]
  },
  {
   "cell_type": "markdown",
   "id": "d727cbe0-f297-491d-8a70-3a55c0061e97",
   "metadata": {},
   "source": [
    "## Connections"
   ]
  },
  {
   "cell_type": "code",
   "execution_count": 39,
   "id": "114e7662-5f90-480a-aede-3bc8134906b6",
   "metadata": {
    "tags": []
   },
   "outputs": [
    {
     "name": "stdout",
     "output_type": "stream",
     "text": [
      "{\n",
      "  \"contents\": [],\n",
      "  \"kind\": \"Collection\",\n",
      "  \"self\": \"/collections\"\n",
      "}\n"
     ]
    }
   ],
   "source": [
    "path = '/prism-agent/connections'\n",
    "\n",
    "# Make the request\n",
    "response = requests.get(base_url + path, headers=headers)\n",
    "\n",
    "# Check the response status code\n",
    "if response.status_code == 200:\n",
    "    # Print the response content\n",
    "    loaded_json = json.loads(response.content.decode())\n",
    "    print(json.dumps(loaded_json, indent=2))\n",
    "else:\n",
    "    # Print an error message\n",
    "    print(\"Error: The API returned a non-200 status code\")"
   ]
  },
  {
   "cell_type": "markdown",
   "id": "6289927e-218a-4f5c-814d-9688686e9404",
   "metadata": {
    "tags": []
   },
   "source": [
    "### Create a connection record containing the invitation\n",
    "```bash\n",
    "curl -X 'POST' \\\n",
    "\t'http://localhost:8080/prism-agent/connections' \\\n",
    "\t-H 'Content-Type: application/json' \\\n",
    "\t-d '{\n",
    "\t\t\"label\": \"Connect with Alice\"\n",
    "\t\t}' | jq\n",
    "```"
   ]
  },
  {
   "cell_type": "code",
   "execution_count": 40,
   "id": "1032f06f-b164-4ac6-a98f-1b4c9a1382fe",
   "metadata": {},
   "outputs": [
    {
     "name": "stdout",
     "output_type": "stream",
     "text": [
      "{\n",
      "  \"connectionId\": \"8f339aae-5e59-4f36-a77e-0f31ab58e6f4\",\n",
      "  \"createdAt\": \"2022-12-14T18:40:37.592636Z\",\n",
      "  \"invitation\": {\n",
      "    \"from\": \"did:peer:2.Ez6LSkDER4ZHScADDoWsdCEpnxTwNsaUPhYk295idMLByvzFC.Vz6MkfyzkcimreZ5E5YAs3Z6Y4vC2MWYGX9EPWd99iQFG3C3Q.SeyJ0IjoiZG0iLCJzIjoiaHR0cDovL2hvc3QuZG9ja2VyLmludGVybmFsOjgwODAvZGlkY29tbSIsInIiOltdLCJhIjpbImRpZGNvbW0vdjIiXX0\",\n",
      "    \"id\": \"8f339aae-5e59-4f36-a77e-0f31ab58e6f4\",\n",
      "    \"invitationUrl\": \"https://domain.com/path?_oob=eyJpZCI6IjhmMzM5YWFlLTVlNTktNGYzNi1hNzdlLTBmMzFhYjU4ZTZmNCIsInR5cGUiOiJodHRwczovL2RpZGNvbW0ub3JnL291dC1vZi1iYW5kLzIuMC9pbnZpdGF0aW9uIiwiZnJvbSI6ImRpZDpwZWVyOjIuRXo2TFNrREVSNFpIU2NBRERvV3NkQ0VwbnhUd05zYVVQaFlrMjk1aWRNTEJ5dnpGQy5WejZNa2Z5emtjaW1yZVo1RTVZQXMzWjZZNHZDMk1XWUdYOUVQV2Q5OWlRRkczQzNRLlNleUowSWpvaVpHMGlMQ0p6SWpvaWFIUjBjRG92TDJodmMzUXVaRzlqYTJWeUxtbHVkR1Z5Ym1Gc09qZ3dPREF2Wkdsa1kyOXRiU0lzSW5JaU9sdGRMQ0poSWpwYkltUnBaR052YlcwdmRqSWlYWDAiLCJib2R5Ijp7ImdvYWxfY29kZSI6ImNvbm5lY3QiLCJnb2FsIjoiRXN0YWJsaXNoIGEgdHJ1c3QgY29ubmVjdGlvbiBiZXR3ZWVuIHR3byBwZWVycyIsImFjY2VwdCI6W119fQ==\",\n",
      "    \"type\": \"https://didcomm.org/out-of-band/2.0/invitation\"\n",
      "  },\n",
      "  \"kind\": \"/connections/8f339aae-5e59-4f36-a77e-0f31ab58e6f4\",\n",
      "  \"label\": \"Connect with Alice\",\n",
      "  \"self\": \"Connection\",\n",
      "  \"state\": \"InvitationGenerated\"\n",
      "}\n"
     ]
    }
   ],
   "source": [
    "path = '/prism-agent/connections'\n",
    "data = {\"label\": \"Connect with Alice\"}\n",
    "# Make the request\n",
    "response = requests.post(base_url + path, headers=headers, json=data)\n",
    "\n",
    "# Check the response status code\n",
    "if response.status_code == 201:\n",
    "    # Print the response content\n",
    "    loaded_json = json.loads(response.content.decode())\n",
    "    print(json.dumps(loaded_json, indent=2))\n",
    "    \n",
    "else:\n",
    "    # Print an error message\n",
    "    print(\"Error: The API returned a non-201 status code\")"
   ]
  },
  {
   "cell_type": "markdown",
   "id": "e2dfa148-9cfc-469b-885b-22fd3d2c1d9c",
   "metadata": {},
   "source": [
    "### Send invitation to Holder"
   ]
  },
  {
   "cell_type": "code",
   "execution_count": 41,
   "id": "264f547b-bb2e-4b74-89b2-06c1fe3d8401",
   "metadata": {},
   "outputs": [
    {
     "name": "stdout",
     "output_type": "stream",
     "text": [
      "https://domain.com/path?_oob=eyJpZCI6IjhmMzM5YWFlLTVlNTktNGYzNi1hNzdlLTBmMzFhYjU4ZTZmNCIsInR5cGUiOiJodHRwczovL2RpZGNvbW0ub3JnL291dC1vZi1iYW5kLzIuMC9pbnZpdGF0aW9uIiwiZnJvbSI6ImRpZDpwZWVyOjIuRXo2TFNrREVSNFpIU2NBRERvV3NkQ0VwbnhUd05zYVVQaFlrMjk1aWRNTEJ5dnpGQy5WejZNa2Z5emtjaW1yZVo1RTVZQXMzWjZZNHZDMk1XWUdYOUVQV2Q5OWlRRkczQzNRLlNleUowSWpvaVpHMGlMQ0p6SWpvaWFIUjBjRG92TDJodmMzUXVaRzlqYTJWeUxtbHVkR1Z5Ym1Gc09qZ3dPREF2Wkdsa1kyOXRiU0lzSW5JaU9sdGRMQ0poSWpwYkltUnBaR052YlcwdmRqSWlYWDAiLCJib2R5Ijp7ImdvYWxfY29kZSI6ImNvbm5lY3QiLCJnb2FsIjoiRXN0YWJsaXNoIGEgdHJ1c3QgY29ubmVjdGlvbiBiZXR3ZWVuIHR3byBwZWVycyIsImFjY2VwdCI6W119fQ==\n",
      "eyJpZCI6IjhmMzM5YWFlLTVlNTktNGYzNi1hNzdlLTBmMzFhYjU4ZTZmNCIsInR5cGUiOiJodHRwczovL2RpZGNvbW0ub3JnL291dC1vZi1iYW5kLzIuMC9pbnZpdGF0aW9uIiwiZnJvbSI6ImRpZDpwZWVyOjIuRXo2TFNrREVSNFpIU2NBRERvV3NkQ0VwbnhUd05zYVVQaFlrMjk1aWRNTEJ5dnpGQy5WejZNa2Z5emtjaW1yZVo1RTVZQXMzWjZZNHZDMk1XWUdYOUVQV2Q5OWlRRkczQzNRLlNleUowSWpvaVpHMGlMQ0p6SWpvaWFIUjBjRG92TDJodmMzUXVaRzlqYTJWeUxtbHVkR1Z5Ym1Gc09qZ3dPREF2Wkdsa1kyOXRiU0lzSW5JaU9sdGRMQ0poSWpwYkltUnBaR052YlcwdmRqSWlYWDAiLCJib2R5Ijp7ImdvYWxfY29kZSI6ImNvbm5lY3QiLCJnb2FsIjoiRXN0YWJsaXNoIGEgdHJ1c3QgY29ubmVjdGlvbiBiZXR3ZWVuIHR3byBwZWVycyIsImFjY2VwdCI6W119fQ==\n",
      "Stored 'invitationUrlbase64' (str)\n"
     ]
    }
   ],
   "source": [
    "invitation = json.loads(response.content.decode())\n",
    "invitationUrl = invitation['invitation']['invitationUrl']\n",
    "print(invitationUrl)\n",
    "invitationUrlbase64 = re.sub(\"^.*_oob=\", \"\", invitationUrl)\n",
    "print(invitationUrlbase64)\n",
    "# invitationUrlbase64 = invitation['invitation']['invitationUrl'].split('=')[1:5]\n",
    "connection_id = invitation['connectionId']\n",
    "%store invitationUrlbase64\n"
   ]
  },
  {
   "cell_type": "markdown",
   "id": "6be89e35-8061-4be9-ace7-7adcc21f04e8",
   "metadata": {
    "tags": []
   },
   "source": [
    "### Generate QR code from invitation"
   ]
  },
  {
   "cell_type": "code",
   "execution_count": null,
   "id": "629b6d84-ef9f-452a-81dc-6bc37d48a75c",
   "metadata": {},
   "outputs": [],
   "source": [
    "# Link for connection invitation\n",
    "input_data = invitationUrl\n",
    "# Creating an instance of qrcode\n",
    "qr = qrcode.QRCode(\n",
    "        version=1,\n",
    "        box_size=10,\n",
    "        border=5)\n",
    "qr.add_data(input_data)\n",
    "qr.make(fit=True)\n",
    "img = qr.make_image(fill='black', back_color='white')\n",
    "img.save('issuer_agent_invite_QRcode.png')\n",
    "\n",
    "from IPython.display import Image\n",
    "Image(width=400, filename='./issuer_agent_invite_QRcode.png')"
   ]
  },
  {
   "cell_type": "markdown",
   "id": "b06d85e7-8d60-443c-ab1f-38ef2bb27461",
   "metadata": {
    "tags": []
   },
   "source": [
    "### Retrieving the list of connections\n",
    "```bash\n",
    "curl -X 'GET' 'http://localhost:8080/prism-agent/connections' | jq\n",
    "```"
   ]
  },
  {
   "cell_type": "code",
   "execution_count": 45,
   "id": "f52acf78-ee48-4ecd-b93d-92547aec59ea",
   "metadata": {},
   "outputs": [
    {
     "name": "stdout",
     "output_type": "stream",
     "text": [
      "{\n",
      "  \"connectionId\": \"8f339aae-5e59-4f36-a77e-0f31ab58e6f4\",\n",
      "  \"createdAt\": \"2022-12-14T18:40:37Z\",\n",
      "  \"invitation\": {\n",
      "    \"from\": \"did:peer:2.Ez6LSkDER4ZHScADDoWsdCEpnxTwNsaUPhYk295idMLByvzFC.Vz6MkfyzkcimreZ5E5YAs3Z6Y4vC2MWYGX9EPWd99iQFG3C3Q.SeyJ0IjoiZG0iLCJzIjoiaHR0cDovL2hvc3QuZG9ja2VyLmludGVybmFsOjgwODAvZGlkY29tbSIsInIiOltdLCJhIjpbImRpZGNvbW0vdjIiXX0\",\n",
      "    \"id\": \"8f339aae-5e59-4f36-a77e-0f31ab58e6f4\",\n",
      "    \"invitationUrl\": \"https://domain.com/path?_oob=eyJpZCI6IjhmMzM5YWFlLTVlNTktNGYzNi1hNzdlLTBmMzFhYjU4ZTZmNCIsInR5cGUiOiJodHRwczovL2RpZGNvbW0ub3JnL291dC1vZi1iYW5kLzIuMC9pbnZpdGF0aW9uIiwiZnJvbSI6ImRpZDpwZWVyOjIuRXo2TFNrREVSNFpIU2NBRERvV3NkQ0VwbnhUd05zYVVQaFlrMjk1aWRNTEJ5dnpGQy5WejZNa2Z5emtjaW1yZVo1RTVZQXMzWjZZNHZDMk1XWUdYOUVQV2Q5OWlRRkczQzNRLlNleUowSWpvaVpHMGlMQ0p6SWpvaWFIUjBjRG92TDJodmMzUXVaRzlqYTJWeUxtbHVkR1Z5Ym1Gc09qZ3dPREF2Wkdsa1kyOXRiU0lzSW5JaU9sdGRMQ0poSWpwYkltUnBaR052YlcwdmRqSWlYWDAiLCJib2R5Ijp7ImdvYWxfY29kZSI6ImNvbm5lY3QiLCJnb2FsIjoiRXN0YWJsaXNoIGEgdHJ1c3QgY29ubmVjdGlvbiBiZXR3ZWVuIHR3byBwZWVycyIsImFjY2VwdCI6W119fQ==\",\n",
      "    \"type\": \"https://didcomm.org/out-of-band/2.0/invitation\"\n",
      "  },\n",
      "  \"kind\": \"/connections/8f339aae-5e59-4f36-a77e-0f31ab58e6f4\",\n",
      "  \"label\": \"Connect with Alice\",\n",
      "  \"myDid\": \"did:peer:2.Ez6LSkDER4ZHScADDoWsdCEpnxTwNsaUPhYk295idMLByvzFC.Vz6MkfyzkcimreZ5E5YAs3Z6Y4vC2MWYGX9EPWd99iQFG3C3Q.SeyJ0IjoiZG0iLCJzIjoiaHR0cDovL2hvc3QuZG9ja2VyLmludGVybmFsOjgwODAvZGlkY29tbSIsInIiOltdLCJhIjpbImRpZGNvbW0vdjIiXX0\",\n",
      "  \"self\": \"Connection\",\n",
      "  \"state\": \"ConnectionResponsePending\",\n",
      "  \"theirDid\": \"did:peer:2.Ez6LSdEYSAtkCArFgUXXY5g4RhXP23ej1Ynu8UejzjU9YrX3E.Vz6Mksj7wesBWcbKV7so6ipvaKYY9wse6aXc7rEYxWLXdJ8zw.SeyJ0IjoiZG0iLCJzIjoiaHR0cDovL2hvc3QuZG9ja2VyLmludGVybmFsOjgwOTAvZGlkY29tbSIsInIiOltdLCJhIjpbImRpZGNvbW0vdjIiXX0\",\n",
      "  \"updatedAt\": \"2022-12-14T18:41:15Z\"\n",
      "}\n"
     ]
    }
   ],
   "source": [
    "\n",
    "path = '/prism-agent//connections/' + connection_id\n",
    "\n",
    "# Make the request\n",
    "response = requests.get(base_url + path, headers=headers)\n",
    "\n",
    "# Check the response status code\n",
    "if response.status_code == 200:\n",
    "    # Print the response content\n",
    "    loaded_json = json.loads(response.content.decode())\n",
    "    print(json.dumps(loaded_json, indent=2))\n",
    "    their_did = loaded_json['theirDid']\n",
    "    STATE = loaded_json['state']\n",
    "else:\n",
    "    # Print an error message\n",
    "    print(\"Error: The API returned a non-200 status code\")"
   ]
  },
  {
   "cell_type": "code",
   "execution_count": 59,
   "id": "3f6bd5ae-3fda-49b5-9fd5-ba7a44ca7a88",
   "metadata": {},
   "outputs": [
    {
     "name": "stdout",
     "output_type": "stream",
     "text": [
      "\u001B[1m\u001B[35mCurrent state for ConnectionId 8f339aae-5e59-4f36-a77e-0f31ab58e6f4 is ConnectionResponseSent\u001B[0m\n",
      "\u001B[1m\u001B[32mConnectionId: 8f339aae-5e59-4f36-a77e-0f31ab58e6f4 is now active. Continue with notebook\u001B[0m\n"
     ]
    }
   ],
   "source": [
    "import time\n",
    "from termcolor import colored,cprint\n",
    "\n",
    "path = '/prism-agent//connections/' + connection_id\n",
    "\n",
    "# print('Current state for ConnectionId {} is {}'.format(connection_id,STATE))\n",
    "print(colored(\"Current state for ConnectionId {} is {}\".format(connection_id,STATE), \"magenta\", attrs=[\"bold\"]))\n",
    "while STATE != 'ConnectionResponseSent':\n",
    "    # Make the request\n",
    "    response = requests.get(base_url + path, headers=headers)\n",
    "\n",
    "    # Check the response status code\n",
    "    if response.status_code == 200:\n",
    "        # Print the response content\n",
    "        loaded_json = json.loads(response.content.decode())\n",
    "        # print(json.dumps(loaded_json, indent=2))\n",
    "        STATE = loaded_json['state']\n",
    "        their_did = loaded_json['theirDid']\n",
    "        print(colored(\"ConnectionId {0} is not in active state yet. State: {1}\".format(connection_id,STATE), \"yellow\", attrs=[\"bold\"]))\n",
    "\n",
    "    else:\n",
    "        # Print an error message\n",
    "        print(\"Error: The API returned a non-200 status code\")\n",
    "        \n",
    "\n",
    "    time.sleep(1)\n",
    "    \n",
    "# print('ConnectionId: {0} is now active. Continue with notebook'.format(connection_id))\n",
    "print(colored(\"ConnectionId: {0} is now active. Continue with notebook\".format(connection_id), \"green\", attrs=[\"bold\"]))\n"
   ]
  },
  {
   "cell_type": "markdown",
   "id": "d3629d5f-6ec7-4b71-bfde-225cf827c940",
   "metadata": {},
   "source": [
    "## Head over to the Issuer Notebook and accept connection"
   ]
  },
  {
   "cell_type": "markdown",
   "id": "0e69fc0d-d9dc-40c4-8611-67d3635bc3a6",
   "metadata": {},
   "source": [
    "## Issue Credential to Holder"
   ]
  },
  {
   "cell_type": "markdown",
   "id": "ac4ebbf6-847d-4afe-a94d-20e7be646f6f",
   "metadata": {},
   "source": [
    "### Initiate a new issue credential flow\n",
    "\n",
    "Replace `{SUBJECT_ID}` with the DID of the holder displayed at startup in the his Prism Agent console logs\n",
    "```bash\n",
    "curl -X 'POST' \\\n",
    "  'http://localhost:8080/prism-agent/issue-credentials/credential-offers' \\\n",
    "  -H 'accept: application/json' \\\n",
    "  -H 'Content-Type: application/json' \\\n",
    "  -d '{\n",
    "      \"schemaId\": \"schema:1234\",\n",
    "      \"subjectId\": \"{SUBJECT_ID}\",\n",
    "      \"validityPeriod\": 3600,\n",
    "      \"automaticIssuance\": false,\n",
    "      \"awaitConfirmation\": false,\n",
    "      \"claims\": {\n",
    "        \"firstname\": \"Alice\",\n",
    "        \"lastname\": \"Wonderland\",\n",
    "        \"birthdate\": \"01/01/2000\"\n",
    "      }\n",
    "\t}' | jq\n",
    "```"
   ]
  },
  {
   "cell_type": "code",
   "execution_count": 48,
   "id": "146cc95b-1691-4b45-b3cf-643ccf85c06b",
   "metadata": {},
   "outputs": [
    {
     "name": "stdout",
     "output_type": "stream",
     "text": [
      "{\n",
      "  \"automaticIssuance\": false,\n",
      "  \"awaitConfirmation\": false,\n",
      "  \"claims\": {\n",
      "    \"birthdate\": \"01/01/2000\",\n",
      "    \"firstname\": \"Alice\",\n",
      "    \"lastname\": \"Wonderland\"\n",
      "  },\n",
      "  \"createdAt\": \"2022-12-14T18:42:11.188892Z\",\n",
      "  \"protocolState\": \"OfferPending\",\n",
      "  \"recordId\": \"51dc271c-4abf-472a-89b9-253d2256c61a\",\n",
      "  \"role\": \"Issuer\",\n",
      "  \"schemaId\": \"schema:1234\",\n",
      "  \"subjectId\": \"did:peer:2.Ez6LSdEYSAtkCArFgUXXY5g4RhXP23ej1Ynu8UejzjU9YrX3E.Vz6Mksj7wesBWcbKV7so6ipvaKYY9wse6aXc7rEYxWLXdJ8zw.SeyJ0IjoiZG0iLCJzIjoiaHR0cDovL2hvc3QuZG9ja2VyLmludGVybmFsOjgwOTAvZGlkY29tbSIsInIiOltdLCJhIjpbImRpZGNvbW0vdjIiXX0\",\n",
      "  \"validityPeriod\": 3600.0\n",
      "}\n"
     ]
    }
   ],
   "source": [
    "# subject_id = 'did:peer:2.Ez6LSsyLCEveJGeF9jWGkBCG6wvfzXcNgu5A8PAiKp3NzvPdb.Vz6MkuZxR1VDeXiJ9uL9Uuh7Rh58DGpYw3abdtacLv8KdL2sP.SeyJ0IjoiZG0iLCJzIjoiaHR0cDovL2hvc3QuZG9ja2VyLmludGVybmFsOjgwOTAvZGlkY29tbS8iLCJyIjpbXSwiYSI6WyJkaWRjb21tL3YyIl19'\n",
    "path = '/prism-agent/issue-credentials/credential-offers'\n",
    "data = {\n",
    "      \"schemaId\": \"schema:1234\",\n",
    "      \"subjectId\": their_did,\n",
    "      \"validityPeriod\": 3600,\n",
    "      \"automaticIssuance\": False,\n",
    "      \"awaitConfirmation\": False,\n",
    "      \"claims\": {\n",
    "        \"firstname\": \"Alice\",\n",
    "        \"lastname\": \"Wonderland\",\n",
    "        \"birthdate\": \"01/01/2000\"\n",
    "      }\n",
    "    }\n",
    "\n",
    "# Make the request\n",
    "response = requests.post(base_url + path, headers=headers, json=data)\n",
    "\n",
    "# Check the response status code\n",
    "if response.status_code == 201:\n",
    "    # Print the response content\n",
    "    loaded_json = json.loads(response.content.decode())\n",
    "    print(json.dumps(loaded_json, indent=2))\n",
    "    \n",
    "else:\n",
    "    # Print an error message\n",
    "    print(\"Error: The API returned a non-201 status code\")\n",
    "    print(response.content)"
   ]
  },
  {
   "cell_type": "code",
   "execution_count": 49,
   "id": "140179af-b290-4b94-88eb-c6a9df6f18d8",
   "metadata": {},
   "outputs": [
    {
     "name": "stdout",
     "output_type": "stream",
     "text": [
      "Stored 'credential_record_id' (str)\n"
     ]
    }
   ],
   "source": [
    "credential_record_id = loaded_json['recordId']\n",
    "%store credential_record_id"
   ]
  },
  {
   "cell_type": "code",
   "execution_count": 50,
   "id": "85d4ad74-a861-4bcf-8cfa-15b0ae2bb378",
   "metadata": {},
   "outputs": [
    {
     "name": "stdout",
     "output_type": "stream",
     "text": [
      "{\n",
      "  \"count\": 1,\n",
      "  \"items\": [\n",
      "    {\n",
      "      \"automaticIssuance\": false,\n",
      "      \"awaitConfirmation\": false,\n",
      "      \"claims\": {\n",
      "        \"birthdate\": \"01/01/2000\",\n",
      "        \"firstname\": \"Alice\",\n",
      "        \"lastname\": \"Wonderland\"\n",
      "      },\n",
      "      \"createdAt\": \"2022-12-14T18:42:11Z\",\n",
      "      \"protocolState\": \"OfferPending\",\n",
      "      \"recordId\": \"51dc271c-4abf-472a-89b9-253d2256c61a\",\n",
      "      \"role\": \"Issuer\",\n",
      "      \"schemaId\": \"schema:1234\",\n",
      "      \"subjectId\": \"did:peer:2.Ez6LSdEYSAtkCArFgUXXY5g4RhXP23ej1Ynu8UejzjU9YrX3E.Vz6Mksj7wesBWcbKV7so6ipvaKYY9wse6aXc7rEYxWLXdJ8zw.SeyJ0IjoiZG0iLCJzIjoiaHR0cDovL2hvc3QuZG9ja2VyLmludGVybmFsOjgwOTAvZGlkY29tbSIsInIiOltdLCJhIjpbImRpZGNvbW0vdjIiXX0\",\n",
      "      \"validityPeriod\": 3600.0\n",
      "    }\n",
      "  ],\n",
      "  \"limit\": 0,\n",
      "  \"offset\": 0\n",
      "}\n"
     ]
    }
   ],
   "source": [
    "path = '/prism-agent/issue-credentials/records'\n",
    "\n",
    "# Make the request\n",
    "response = requests.get(base_url + path, headers=headers)\n",
    "\n",
    "# Check the response status code\n",
    "if response.status_code == 200:\n",
    "    # Print the response content\n",
    "    loaded_json = json.loads(response.content.decode())\n",
    "    print(json.dumps(loaded_json, indent=2))\n",
    "    \n",
    "else:\n",
    "    # Print an error message\n",
    "    print(\"Error: The API returned a non-200 status code\")\n",
    "    print(response.content)"
   ]
  },
  {
   "cell_type": "markdown",
   "id": "738a3ec8-e737-4a03-977e-49bf4673fc8d",
   "metadata": {},
   "source": [
    "### - Issuing the credential\n",
    "\n",
    "> Replace `{RECORD_ID}` with the UUID of the record from the previous list\n",
    "```bash\n",
    "curl -X 'POST' 'http://localhost:8080/prism-agent/issue-credentials/records/{RECORD_ID}/issue-credential' | jq\n",
    "```"
   ]
  },
  {
   "cell_type": "code",
   "execution_count": 51,
   "id": "eccb934a-0edf-4660-81d6-0cd4786c1e90",
   "metadata": {},
   "outputs": [
    {
     "name": "stdout",
     "output_type": "stream",
     "text": [
      "{\n",
      "  \"automaticIssuance\": false,\n",
      "  \"awaitConfirmation\": false,\n",
      "  \"claims\": {\n",
      "    \"birthdate\": \"01/01/2000\",\n",
      "    \"firstname\": \"Alice\",\n",
      "    \"lastname\": \"Wonderland\"\n",
      "  },\n",
      "  \"createdAt\": \"2022-12-14T18:42:11Z\",\n",
      "  \"protocolState\": \"CredentialPending\",\n",
      "  \"recordId\": \"51dc271c-4abf-472a-89b9-253d2256c61a\",\n",
      "  \"role\": \"Issuer\",\n",
      "  \"schemaId\": \"schema:1234\",\n",
      "  \"subjectId\": \"did:peer:2.Ez6LSdEYSAtkCArFgUXXY5g4RhXP23ej1Ynu8UejzjU9YrX3E.Vz6Mksj7wesBWcbKV7so6ipvaKYY9wse6aXc7rEYxWLXdJ8zw.SeyJ0IjoiZG0iLCJzIjoiaHR0cDovL2hvc3QuZG9ja2VyLmludGVybmFsOjgwOTAvZGlkY29tbSIsInIiOltdLCJhIjpbImRpZGNvbW0vdjIiXX0\",\n",
      "  \"updatedAt\": \"2022-12-14T18:42:26Z\",\n",
      "  \"validityPeriod\": 3600.0\n",
      "}\n"
     ]
    }
   ],
   "source": [
    "path = '/prism-agent/issue-credentials/records/' + credential_record_id + '/issue-credential'\n",
    "# Make the request\n",
    "response = requests.post(base_url + path, headers=headers)\n",
    "\n",
    "# Check the response status code\n",
    "if response.status_code == 200:\n",
    "    # Print the response content\n",
    "    loaded_json = json.loads(response.content.decode())\n",
    "    print(json.dumps(loaded_json, indent=2))\n",
    "    \n",
    "else:\n",
    "    # Print an error message\n",
    "    print(\"Error: The API returned a non-200 status code\")\n",
    "    print(response.content)"
   ]
  },
  {
   "cell_type": "code",
   "execution_count": 58,
   "id": "ab054b54-f288-4e97-bea4-a892ed29a5fb",
   "metadata": {},
   "outputs": [
    {
     "name": "stdout",
     "output_type": "stream",
     "text": [
      "{\n",
      "  \"count\": 1,\n",
      "  \"items\": [\n",
      "    {\n",
      "      \"automaticIssuance\": false,\n",
      "      \"awaitConfirmation\": false,\n",
      "      \"claims\": {\n",
      "        \"birthdate\": \"01/01/2000\",\n",
      "        \"firstname\": \"Alice\",\n",
      "        \"lastname\": \"Wonderland\"\n",
      "      },\n",
      "      \"createdAt\": \"2022-12-14T18:42:11Z\",\n",
      "      \"jwtCredential\": \"ImV5SjBlWEFpT2lKS1YxUWlMQ0poYkdjaU9pSkZVekkxTmlKOS5leUpwYzNNaU9pSmthV1E2Y0hKcGMyMDZZekF4T0dJMU1HUXRZalpsWXkwMFlUSXlMV0l4TXpVdE5qVmtNbVZsTWpCaU16RTFJaXdpYzNWaUlqb2laR2xrT25CbFpYSTZNaTVGZWpaTVUyUkZXVk5CZEd0RFFYSkdaMVZZV0ZrMVp6UlNhRmhRTWpObGFqRlpiblU0VldWcWVtcFZPVmx5V0RORkxsWjZOazFyYzJvM2QyVnpRbGRqWWt0V04zTnZObWx3ZG1GTFdWazVkM05sTm1GWVl6ZHlSVmw0VjB4WVpFbzRlbmN1VTJWNVNqQkphbTlwV2tjd2FVeERTbnBKYW05cFlVaFNNR05FYjNaTU1taDJZek5SZFZwSE9XcGhNbFo1VEcxc2RXUkhWbmxpYlVaelQycG5kMDlVUVhaYVIyeHJXVEk1ZEdKVFNYTkpia2xwVDJ4MFpFeERTbWhKYW5CaVNXMVNjRnBIVG5aaVZ6QjJaR3BKYVZoWU1DSXNJblpqSWpwN0ltTnlaV1JsYm5ScFlXeFRkV0pxWldOMElqcDdJbUpwY25Sb1pHRjBaU0k2SWpBeEx6QXhMekl3TURBaUxDSm1hWEp6ZEc1aGJXVWlPaUpCYkdsalpTSXNJbXhoYzNSdVlXMWxJam9pVjI5dVpHVnliR0Z1WkNJc0ltbGtJam9pWkdsa09uQmxaWEk2TWk1RmVqWk1VMlJGV1ZOQmRHdERRWEpHWjFWWVdGazFaelJTYUZoUU1qTmxhakZaYm5VNFZXVnFlbXBWT1ZseVdETkZMbFo2TmsxcmMybzNkMlZ6UWxkallrdFdOM052Tm1sd2RtRkxXVms1ZDNObE5tRllZemR5UlZsNFYweFlaRW80ZW5jdVUyVjVTakJKYW05cFdrY3dhVXhEU25wSmFtOXBZVWhTTUdORWIzWk1NbWgyWXpOUmRWcEhPV3BoTWxaNVRHMXNkV1JIVm5saWJVWnpUMnBuZDA5VVFYWmFSMnhyV1RJNWRHSlRTWE5KYmtscFQyeDBaRXhEU21oSmFuQmlTVzFTY0ZwSFRuWmlWekIyWkdwSmFWaFlNQ0o5ZlN3aWJtSm1Jam9pTWpBeU1pMHhNaTB4TkZReE9EbzBNam96TlM0M01qQXpNVGRhSWl3aVpYaHdJam9pTWpBeU1pMHhNaTB4TkZReE9UbzBNam96TlM0M01qQXpNVGRhSW4wLloxZHBCUjcwX18wLVFUeEFlZ21vc1FhMGlhcUNHdk5TMW0zWXZsaXJWUmc0YzlVOEFDdGdfQ1lxVXk1MmZWZjBsbkFoUEltMHd6RTBHTUF6NW1WQ3dnIg==\",\n",
      "      \"protocolState\": \"CredentialGenerated\",\n",
      "      \"recordId\": \"51dc271c-4abf-472a-89b9-253d2256c61a\",\n",
      "      \"role\": \"Issuer\",\n",
      "      \"schemaId\": \"schema:1234\",\n",
      "      \"subjectId\": \"did:peer:2.Ez6LSdEYSAtkCArFgUXXY5g4RhXP23ej1Ynu8UejzjU9YrX3E.Vz6Mksj7wesBWcbKV7so6ipvaKYY9wse6aXc7rEYxWLXdJ8zw.SeyJ0IjoiZG0iLCJzIjoiaHR0cDovL2hvc3QuZG9ja2VyLmludGVybmFsOjgwOTAvZGlkY29tbSIsInIiOltdLCJhIjpbImRpZGNvbW0vdjIiXX0\",\n",
      "      \"updatedAt\": \"2022-12-14T18:42:35Z\",\n",
      "      \"validityPeriod\": 3600.0\n",
      "    }\n",
      "  ],\n",
      "  \"limit\": 0,\n",
      "  \"offset\": 0\n",
      "}\n"
     ]
    }
   ],
   "source": [
    "path = '/prism-agent/issue-credentials/records'\n",
    "\n",
    "# Make the request\n",
    "response = requests.get(base_url + path, headers=headers)\n",
    "\n",
    "# Check the response status code\n",
    "if response.status_code == 200:\n",
    "    # Print the response content\n",
    "    loaded_json = json.loads(response.content.decode())\n",
    "    print(json.dumps(loaded_json, indent=2))\n",
    "    \n",
    "else:\n",
    "    # Print an error message\n",
    "    print(\"Error: The API returned a non-200 status code\")\n",
    "    print(response.content)"
   ]
  },
  {
   "cell_type": "markdown",
   "id": "6505bcee-c214-4650-b100-19e512ead89a",
   "metadata": {
    "tags": []
   },
   "source": [
    "## DIDs"
   ]
  },
  {
   "cell_type": "markdown",
   "id": "153333b1-85cf-43e9-98d1-e6099b5a0f5f",
   "metadata": {},
   "source": [
    "### Create a new unpublised DID stored in Prism Agent\n",
    "```bash\n",
    "curl --location --request POST 'http://localhost:8080/prism-agent/did-registrar/dids' \\\n",
    "  --header 'Content-Type: application/json' \\\n",
    "  --header 'Accept: application/json' \\\n",
    "  --data-raw '{\n",
    "    \"documentTemplate\": {\n",
    "      \"publicKeys\": [\n",
    "        {\n",
    "          \"id\": \"auth0\",\n",
    "          \"purpose\": \"authentication\"\n",
    "        }\n",
    "      ],\n",
    "      \"services\": []\n",
    "    }\n",
    "  }'\n",
    "```"
   ]
  },
  {
   "cell_type": "code",
   "execution_count": 53,
   "id": "c1784b6b-1348-4566-9c22-026ffd003421",
   "metadata": {},
   "outputs": [
    {
     "name": "stdout",
     "output_type": "stream",
     "text": [
      "{\n",
      "  \"longFormDid\": \"did:prism:b1430d510aa6e8b56a508dfeef13821166c376a98286998003834dc07062be3e:Cr0BCroBEloKBWF1dGgwEARCTwoJc2VjcDI1NmsxEiCCtQdcUQbxTDrkpmFi1Dk7NUZ7zPeNZNUtGFoLrvDJsxogcjFna4jsdgKRiFhoF0w3fgxoUkpC4eoWimqJPHZSRx4SXAoHbWFzdGVyMBABQk8KCXNlY3AyNTZrMRIgWfoZ3b_t5E51C1zVCI3Wasa-rUY47PDmSYQDWZh9t-8aICn0-0PYz2-aTQKh8ShrUta2UACq4Mr883zIDZqRMHvq\"\n",
      "}\n"
     ]
    }
   ],
   "source": [
    "path = '/prism-agent/did-registrar/dids'\n",
    "data = {\n",
    "    \"documentTemplate\": {\n",
    "      \"publicKeys\": [\n",
    "        {\n",
    "          \"id\": \"auth0\",\n",
    "          \"purpose\": \"authentication\"\n",
    "        }\n",
    "      ],\n",
    "      \"services\": []\n",
    "    }\n",
    "  }\n",
    "\n",
    "# Make the request\n",
    "response = requests.post(base_url + path, headers=headers, json=data)\n",
    "\n",
    "# Check the response status code\n",
    "if response.status_code == 200:\n",
    "    # Print the response content\n",
    "    loaded_json = json.loads(response.content.decode())\n",
    "    print(json.dumps(loaded_json, indent=2))\n",
    "    \n",
    "else:\n",
    "    # Print an error message\n",
    "    print(\"Error: The API returned a non-200 status code\")\n",
    "    print(response.content)"
   ]
  },
  {
   "cell_type": "markdown",
   "id": "95009dc6-000d-4056-8500-d519ee0c0aa6",
   "metadata": {},
   "source": [
    "### Lists all the DIDs in Prism Agent\n",
    "```bash\n",
    "curl --location --request GET 'http://localhost:8080/prism-agent/did-registrar/dids' \\\n",
    "  --header 'Accept: application/json'\n",
    "```\n",
    "\n"
   ]
  },
  {
   "cell_type": "code",
   "execution_count": 54,
   "id": "131ac7e5-6ee1-4952-a134-2987c385e371",
   "metadata": {},
   "outputs": [
    {
     "name": "stdout",
     "output_type": "stream",
     "text": [
      "[\n",
      "  {\n",
      "    \"did\": \"did:prism:b1430d510aa6e8b56a508dfeef13821166c376a98286998003834dc07062be3e\",\n",
      "    \"longFormDid\": \"did:prism:b1430d510aa6e8b56a508dfeef13821166c376a98286998003834dc07062be3e:Cr0BCroBEloKBWF1dGgwEARCTwoJc2VjcDI1NmsxEiCCtQdcUQbxTDrkpmFi1Dk7NUZ7zPeNZNUtGFoLrvDJsxogcjFna4jsdgKRiFhoF0w3fgxoUkpC4eoWimqJPHZSRx4SXAoHbWFzdGVyMBABQk8KCXNlY3AyNTZrMRIgWfoZ3b_t5E51C1zVCI3Wasa-rUY47PDmSYQDWZh9t-8aICn0-0PYz2-aTQKh8ShrUta2UACq4Mr883zIDZqRMHvq\",\n",
      "    \"status\": \"CREATED\"\n",
      "  }\n",
      "]\n"
     ]
    }
   ],
   "source": [
    "path = '/prism-agent/did-registrar/dids'\n",
    "\n",
    "# Make the request\n",
    "response = requests.get(base_url + path, headers=headers)\n",
    "\n",
    "# Check the response status code\n",
    "if response.status_code == 200:\n",
    "    # Print the response content\n",
    "    loaded_json = json.loads(response.content.decode())\n",
    "    print(json.dumps(loaded_json, indent=2))\n",
    "    DID_REF = loaded_json[0]['longFormDid']\n",
    "    DID_REF_SHORT = loaded_json[0]['did']\n",
    "else:\n",
    "    # Print an error message\n",
    "    print(\"Error: The API returned a non-200 status code\")\n",
    "    print(response.content)"
   ]
  },
  {
   "cell_type": "markdown",
   "id": "603b1063-d542-4f44-afa3-97909bd12c3a",
   "metadata": {},
   "source": [
    "### Publishes the DID in Prism Agent to the blockchain\n",
    "Replace `DID_REF` by the DID on Prism Agent that should be published\n",
    "```bash\n",
    "curl --location --request POST 'http://localhost:8080/prism-agent/did-registrar/dids/{DID_REF}/publications' \\\n",
    "--header 'Accept: application/json'\n",
    "```"
   ]
  },
  {
   "cell_type": "code",
   "execution_count": 55,
   "id": "7ffcbe4d-e8a3-49e6-b6f1-d808a44572c2",
   "metadata": {},
   "outputs": [
    {
     "name": "stdout",
     "output_type": "stream",
     "text": [
      "Error: The API returned a non-202 status code\n",
      "b'{\"detail\":\"OperationError(DLTProxyError(io.grpc.StatusRuntimeException: UNAVAILABLE))\",\"instance\":\"error-instance\",\"status\":500,\"title\":\"error-title\",\"type\":\"error-type\"}'\n"
     ]
    }
   ],
   "source": [
    "path = '/prism-agent/did-registrar/dids/' + DID_REF + '/publications'\n",
    "\n",
    "# Make the request\n",
    "response = requests.post(base_url + path, headers=headers)\n",
    "\n",
    "# Check the response status code\n",
    "if response.status_code == 202:\n",
    "    # Print the response content\n",
    "    loaded_json = json.loads(response.content.decode())\n",
    "    print(json.dumps(loaded_json, indent=2))\n",
    "    \n",
    "else:\n",
    "    # Print an error message\n",
    "    print(\"Error: The API returned a non-202 status code\")\n",
    "    print(response.content)"
   ]
  },
  {
   "cell_type": "markdown",
   "id": "3bec083c-b2a5-42ab-a750-7d68f0a1891b",
   "metadata": {},
   "source": [
    "### Resolves the DID document of Prism DID\n",
    "Replace `DID_REF` by the DID on Prism Agent that should be resolved\n",
    "```bash\n",
    "curl --location --request GET 'http://localhost:8080/prism-agent/dids/{DID_REF}' \\\n",
    "--header 'Accept: application/json'\n",
    "```"
   ]
  },
  {
   "cell_type": "code",
   "execution_count": 56,
   "id": "897ab771-933c-4979-8512-7750d63d1274",
   "metadata": {},
   "outputs": [
    {
     "name": "stdout",
     "output_type": "stream",
     "text": [
      "Error: The API returned a non-200 status code\n",
      "b'{\"detail\":\"InternalError\",\"instance\":\"error-instance\",\"status\":500,\"title\":\"internalError\",\"type\":\"error-type\"}'\n"
     ]
    }
   ],
   "source": [
    "path = '/prism-agent/dids/' + DID_REF\n",
    "\n",
    "# Make the request\n",
    "response = requests.get(base_url + path, headers=headers)\n",
    "\n",
    "# Check the response status code\n",
    "if response.status_code == 200:\n",
    "    # Print the response content\n",
    "    loaded_json = json.loads(response.content.decode())\n",
    "    print(json.dumps(loaded_json, indent=2))\n",
    "    \n",
    "else:\n",
    "    # Print an error message\n",
    "    print(\"Error: The API returned a non-200 status code\")\n",
    "    print(response.content)"
   ]
  },
  {
   "cell_type": "code",
   "execution_count": null,
   "id": "ef378b3b-2978-4054-bd1b-0bb4808e5af7",
   "metadata": {},
   "outputs": [],
   "source": []
  },
  {
   "cell_type": "code",
   "execution_count": null,
   "id": "525f196e-27a0-4ffe-991b-d0de3bb08540",
   "metadata": {},
   "outputs": [],
   "source": []
  },
  {
   "cell_type": "code",
   "execution_count": null,
   "id": "c317c139-45bd-41c9-9ffa-d78ffef76720",
   "metadata": {},
   "outputs": [],
   "source": []
  },
  {
   "cell_type": "code",
   "execution_count": null,
   "id": "aac1e3d6-441b-46ed-a4b2-f863c79eef50",
   "metadata": {},
   "outputs": [],
   "source": []
  },
  {
   "cell_type": "code",
   "execution_count": null,
   "id": "4b6ce4e7-04d4-4863-a857-bc8efa654fbb",
   "metadata": {},
   "outputs": [],
   "source": []
  },
  {
   "cell_type": "code",
   "execution_count": null,
   "id": "4b3f74f5-2cb7-44b7-a9ea-70d05c2f2d66",
   "metadata": {},
   "outputs": [],
   "source": []
  },
  {
   "cell_type": "code",
   "execution_count": null,
   "id": "66a365a2-e968-4da6-8459-af8b97ac3217",
   "metadata": {},
   "outputs": [],
   "source": []
  },
  {
   "cell_type": "code",
   "execution_count": null,
   "id": "e17a1b9e-668e-4dd4-97bc-0156db88d9b4",
   "metadata": {},
   "outputs": [],
   "source": []
  },
  {
   "cell_type": "code",
   "execution_count": null,
   "id": "28186a6a-712a-4c2e-97b1-d654ef1a7260",
   "metadata": {},
   "outputs": [],
   "source": []
  },
  {
   "cell_type": "code",
   "execution_count": null,
   "id": "f32d2eef-eb9e-46d0-86d9-e3db7cb695f2",
   "metadata": {},
   "outputs": [],
   "source": []
  },
  {
   "cell_type": "code",
   "execution_count": null,
   "id": "17f11595-1a1f-45dd-a492-dca5ea2cb3c8",
   "metadata": {},
   "outputs": [],
   "source": []
  }
 ],
 "metadata": {
  "kernelspec": {
   "display_name": "Python 3 (ipykernel)",
   "language": "python",
   "name": "python3"
  },
  "language_info": {
   "codemirror_mode": {
    "name": "ipython",
    "version": 3
   },
   "file_extension": ".py",
   "mimetype": "text/x-python",
   "name": "python",
   "nbconvert_exporter": "python",
   "pygments_lexer": "ipython3",
   "version": "3.10.8"
  }
 },
 "nbformat": 4,
 "nbformat_minor": 5
}