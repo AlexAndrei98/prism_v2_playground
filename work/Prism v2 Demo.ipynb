{
 "cells": [
  {
   "cell_type": "markdown",
   "id": "c582acfa-c2cf-4f7d-9284-5d92e13a3152",
   "metadata": {},
   "source": [
    "# Prism V2 Demo - Local Agents"
   ]
  },
  {
   "cell_type": "markdown",
   "id": "47123c92-ea73-4f08-83f8-7e55299610f7",
   "metadata": {
    "tags": []
   },
   "source": [
    "# Imports"
   ]
  },
  {
   "cell_type": "code",
   "execution_count": null,
   "id": "3a330e4e-4b76-4848-9515-8cc23253eae4",
   "metadata": {
    "tags": []
   },
   "outputs": [],
   "source": [
    "%autoawait\n",
    "import time\n",
    "import datetime\n",
    "import re\n",
    "import qrcode\n",
    "import uuid\n",
    "import base64\n",
    "import jwt\n",
    "# https://pypi.org/project/termcolor/\n",
    "from termcolor import colored,cprint\n",
    "import json\n",
    "import os\n",
    "# from jwcrypto import jwk, jws,jwt\n",
    "from jwcrypto.common import json_encode\n",
    "\n",
    "from dotenv import load_dotenv\n",
    "load_dotenv()\n",
    "APIKEY = os.getenv('APIKEY')\n",
    "\n",
    "from peerdid.peer_did import (\n",
    "    resolve_peer_did,\n",
    ")\n",
    "\n",
    "from IPython import display\n",
    "from base64 import b64decode\n",
    "\n",
    "# display.Image(b64decode(base64_data)"
   ]
  },
  {
   "cell_type": "markdown",
   "id": "0b525595-2109-40f7-ba69-c512612bba74",
   "metadata": {
    "tags": []
   },
   "source": [
    "## Instantiate Localhost Agent Controllers"
   ]
  },
  {
   "cell_type": "code",
   "execution_count": null,
   "id": "7b80e670-75e6-428c-9cb5-a385cc887662",
   "metadata": {
    "tags": []
   },
   "outputs": [],
   "source": [
    "from prism_agent_open_api_specification_client import Client\n",
    "\n",
    "government_client_controller = Client(base_url=\"http://host.docker.internal:8080/prism-agent\")\n",
    "citizen_client_controller = Client(base_url=\"http://host.docker.internal:8090/prism-agent\")\n",
    "university_client_controller = Client(base_url=\"http://host.docker.internal:9000/prism-agent\")\n",
    "employer_client_controller = Client(base_url=\"http://host.docker.internal:9010/prism-agent\")\n",
    "dapp_store_client_controller = Client(base_url=\"http://host.docker.internal:9030/prism-agent\")"
   ]
  },
  {
   "cell_type": "markdown",
   "id": "6f675669-3d63-421a-a9e6-418cd5f61427",
   "metadata": {
    "tags": []
   },
   "source": [
    "# Connections"
   ]
  },
  {
   "cell_type": "markdown",
   "id": "8be17400-46a2-44ba-8d5a-7f77f577621c",
   "metadata": {
    "tags": []
   },
   "source": [
    "## Import Connection Management Models and API Client"
   ]
  },
  {
   "cell_type": "code",
   "execution_count": null,
   "id": "f2702446-0e53-40c0-ba35-de6f923cafe1",
   "metadata": {
    "tags": []
   },
   "outputs": [],
   "source": [
    "from prism_agent_open_api_specification_client.models import ConnectionCollection,Connection,ConnectionInvitation,CreateConnectionRequest,AcceptConnectionInvitationRequest\n",
    "from prism_agent_open_api_specification_client.api.connections_management import get_connections,get_connection,create_connection,accept_connection_invitation\n",
    "from prism_agent_open_api_specification_client.types import Response"
   ]
  },
  {
   "cell_type": "markdown",
   "id": "fc0c6fd0-62a7-4ed9-88b2-ce420a65182a",
   "metadata": {
    "tags": []
   },
   "source": [
    "## Connections Helper Functions"
   ]
  },
  {
   "cell_type": "code",
   "execution_count": null,
   "id": "8d903369-4395-4536-9c95-170e893bf26b",
   "metadata": {
    "tags": []
   },
   "outputs": [],
   "source": [
    "def create_invitation(inviter_client, label):\n",
    "    # Create Invitation from Requestor\n",
    "    conn_request = CreateConnectionRequest()\n",
    "    conn_request.label = label\n",
    "    invitation: Response[Connection] =  create_connection.sync(client=inviter_client,json_body=conn_request)\n",
    "    # print(\"Connection ID\\n\",invitation.connection_id)\n",
    "    # print(\"Invitation URL\\n\",issuer_invitation.invitation.invitation_url)\n",
    "    invitationUrlbase64 = re.sub(\"^.*_oob=\", \"\", invitation.invitation.invitation_url)\n",
    "    # print(\"Invitation Base64\\n\",issuer_invitationUrlbase64)\n",
    "    return invitation, invitationUrlbase64\n",
    "\n",
    "\n",
    "def accept_connection(invitee_client, invitationUrlbase64):\n",
    "    # Accept Invitation\n",
    "    accept_conn_request = AcceptConnectionInvitationRequest(invitationUrlbase64)\n",
    "    invitation: Response[ConnectionInvitation] =  accept_connection_invitation.sync(client=invitee_client,json_body=accept_conn_request)\n",
    "    return invitation\n",
    "\n",
    "async def check_connection_state(inviter_client, inviter_invitation, invitee_client, invitee_invitation):\n",
    "    # Check Connection State\n",
    "    inviter_conn: Response[Connection] =  get_connection.sync(client=inviter_client,connection_id=inviter_invitation.connection_id)\n",
    "    invitee_conn: Response[Connection] =  get_connection.sync(client=invitee_client,connection_id=invitee_invitation.connection_id)\n",
    "    # print(inviter_invitation.connection_id,invitee_invitation.connection_id)\n",
    "    # print(inviter_conn.connection_id,invitee_conn.connection_id)\n",
    "\n",
    "    while (inviter_conn.state != 'ConnectionResponseSent' and invitee_conn.state != 'ConnectionResponseReceived'):\n",
    "        inviter_conn: Response[Connection] =  get_connection.sync(client=inviter_client,connection_id=inviter_invitation.connection_id)\n",
    "        invitee_conn: Response[Connection] =  get_connection.sync(client=invitee_client,connection_id=invitee_invitation.connection_id)\n",
    "        print(\"Inviter State: {} Invitee State: {} \\n\".format(inviter_conn.state,invitee_conn.state))\n",
    "        time.sleep(3)\n",
    "\n",
    "    print(\"Connection established between Inviter and Invitee!\")\n",
    "    \n",
    "    return inviter_conn.state,invitee_conn.state\n",
    "\n",
    "async def auto_connection(inviter_client, invitee_client, label):\n",
    "    invitation,invitationUrlbase64 = create_invitation(inviter_client, label)\n",
    "    # print(\"\\n\\n\\n\",invitation.connection_id)\n",
    "    accept_invitation = accept_connection(invitee_client, invitationUrlbase64)\n",
    "    await check_connection_state(inviter_client, invitation, invitee_client, accept_invitation)\n",
    "    # print(\"\\n\\n\\n\", accept_invitation.connection_id)\n",
    "    inviter_conn: Response[Connection] =  get_connection.sync(client=inviter_client,connection_id=invitation.connection_id)\n",
    "    invitee_conn: Response[Connection] =  get_connection.sync(client=invitee_client,connection_id=accept_invitation.connection_id)\n",
    "    return inviter_conn, invitee_conn\n"
   ]
  },
  {
   "cell_type": "markdown",
   "id": "5424b89a-701f-46e0-b501-e0e20a3068ec",
   "metadata": {
    "tags": []
   },
   "source": [
    "# Credentials"
   ]
  },
  {
   "cell_type": "markdown",
   "id": "13e111bb-89bd-4644-84a0-e8ef556aeb3a",
   "metadata": {
    "tags": []
   },
   "source": [
    "## Import Credential Management Models and API Client"
   ]
  },
  {
   "cell_type": "code",
   "execution_count": null,
   "id": "12e52104-5c2b-4404-a3b1-be00d73003d3",
   "metadata": {
    "tags": []
   },
   "outputs": [],
   "source": [
    "from prism_agent_open_api_specification_client.models import IssueCredentialRecord, CreateIssueCredentialRecordRequest, CreateIssueCredentialRecordRequestClaims, IssueCredentialRecordCollection\n",
    "from prism_agent_open_api_specification_client.api.issue_credentials_protocol import get_credential_record, get_credential_records, create_credential_offer,accept_credential_offer,issue_credential\n",
    "from prism_agent_open_api_specification_client.types import Response, Unset"
   ]
  },
  {
   "cell_type": "markdown",
   "id": "003349d5-ca1e-4b6a-b27b-8c6808bc244d",
   "metadata": {
    "tags": []
   },
   "source": [
    "## Import DID Management Models and API Client"
   ]
  },
  {
   "cell_type": "code",
   "execution_count": null,
   "id": "29726272-d677-4719-a450-017dfb53e657",
   "metadata": {
    "tags": []
   },
   "outputs": [],
   "source": [
    "from prism_agent_open_api_specification_client.models import DID, DIDDocumentMetadata, DIDOperationResponse, DIDResponse, CreateManagedDidRequest, ListManagedDIDResponseInner, CreateManagedDIDResponse\n",
    "from prism_agent_open_api_specification_client.api.did import get_did\n",
    "from prism_agent_open_api_specification_client.api.did_registrar import create_managed_did,list_managed_did,publish_managed_did\n",
    "from prism_agent_open_api_specification_client.types import Response"
   ]
  },
  {
   "cell_type": "markdown",
   "id": "169e1f21-9601-4d33-a0fb-4cb0ce89314f",
   "metadata": {
    "tags": []
   },
   "source": [
    "## Credential Helper Functions"
   ]
  },
  {
   "cell_type": "code",
   "execution_count": null,
   "id": "69cc0713-b8db-4203-b80b-42c1833395c5",
   "metadata": {
    "tags": []
   },
   "outputs": [],
   "source": [
    "def create_prism_did(did_client):\n",
    "    data = {\n",
    "    \"documentTemplate\": {\n",
    "      \"publicKeys\": [\n",
    "        {\n",
    "          \"id\": \"auth0\",\n",
    "          \"purpose\": \"authentication\"\n",
    "        }\n",
    "      ],\n",
    "      \"services\": []\n",
    "    }\n",
    "  }\n",
    "    new_did = CreateManagedDidRequest.from_dict(data)\n",
    "\n",
    "    did: Response[CreateManagedDIDResponse] = create_managed_did.sync(client=did_client, json_body=new_did)\n",
    "    return did\n",
    "\n",
    "def get_credential_requests():\n",
    "    # TODO - fix return \n",
    "    government_creds: Response[Credential] = get_credential_records.sync(client=government_client_controller)\n",
    "    citizen_creds: Response[Credential] = get_credential_records.sync(client=citizen_client_controller)\n",
    "    university_creds: Response[Credential] = get_credential_records.sync(client=university_client_controller)\n",
    "    employer_creds: Response[Credential] = get_credential_records.sync(client=employer_client_controller)\n",
    "    dapp_store_creds: Response[Credential] = get_credential_records.sync(client=dapp_store_client_controller)\n",
    "    # print(\"Issuer Proofs:\\n{}\\n\\nHolder Proofs:\\n{}\\n\\nVerifier Proofs:\\n{}\".format(issuer_proofs, holder_proofs,verifier_proofs))\n",
    "    return government_creds,citizen_creds,university_creds, employer_creds, dapp_store_creds\n",
    "\n",
    "def create_credential(schema, schemaId, subjectDid):\n",
    "    cred_claims = CreateIssueCredentialRecordRequestClaims()\n",
    "    cred_claims = cred_claims.from_dict(schema)\n",
    "    # print(cred_claims)\n",
    "    credential = CreateIssueCredentialRecordRequest(subject_id=subjectDid, claims=cred_claims, schema_id=schemaId, validity_period=3600, automatic_issuance=False, await_confirmation=False)\n",
    "    # print(credential_offer.to_dict())\n",
    "    return credential\n",
    "\n",
    "def send_credential_offer(issuer_client,credential):\n",
    "    # Create Credential Offer\n",
    "    cred_offer: Response[IssueCredentialRecord] = create_credential_offer.sync(client=issuer_client,json_body=credential)\n",
    "    # print(cred_offer)\n",
    "    return cred_offer\n",
    "\n",
    "async def accept_credential(citizen_client, cred_record_id):\n",
    "    # citizen_creds: Response[IssueCredentialRecord] = get_credential_record.sync(client=citizen_client,record_id=cred_record_id)\n",
    "    # # print(citizen_creds)\n",
    "    # # Check Credential State\n",
    "    # while (citizen_creds.protocol_state != 'OfferReceived'):\n",
    "    #     try:\n",
    "    #             citizen_creds: Response[IssueCredentialRecord] = get_credential_record.sync(client=citizen_client,record_id=cred_record_id)\n",
    "    #             time.sleep(1)\n",
    "    #             # print(citizen_creds.protocol_state)\n",
    "    #     except IndexError as e:\n",
    "    #         pass\n",
    "\n",
    "    # print(colored(\"Current state for Issuer Credential Record {} is {} and Holder Credential Record {} is {}\".format(issuer_creds.items[0].record_id,issuer_creds.items[0].protocol_state,holder_creds.items[0].record_id,holder_creds.items[0].protocol_state), \"magenta\", attrs=[\"bold\"]))\n",
    "    # print(holder_creds.items[0].record_id)\n",
    "    citizen_cred_record: Response[IssueCredentialRecord] = accept_credential_offer.sync(client=citizen_client, record_id=cred_record_id)\n",
    "    # print(citizen_cred_record)\n",
    "    return citizen_cred_record\n",
    "\n",
    "def issue_credential_record(issuer_client, record_id):\n",
    "    metro_cred_record: Response[IssueCredentialRecord] = issue_credential.sync(client=issuer_client, record_id=record_id)\n",
    "    # print(metro_cred_record)\n",
    "    return metro_cred_record\n",
    "\n",
    "def check_credential_state(issuer_client, issuer_record_id, holder_client, holder_record_id):\n",
    "    issuer_creds: Response[IssueCredentialRecord] = get_credential_record.sync(client=issuer_client, record_id=issuer_record_id)\n",
    "    holder_creds: Response[IssueCredentialRecord] = get_credential_record.sync(client=holder_client, record_id=holder_record_id)\n",
    "\n",
    "    print(colored(\"Current state for Issuer Credential Record {} is {} and Holder Credential Record {} is {}\".format(issuer_creds.record_id,issuer_creds.protocol_state,holder_creds.record_id,holder_creds.protocol_state), \"magenta\", attrs=[\"bold\"]))\n",
    "\n",
    "    while (issuer_creds.protocol_state != 'CredentialSent' and holder_creds.protocol_state != 'CredentialReceived'):\n",
    "        issuer_creds: Response[IssueCredentialRecord] = get_credential_record.sync(client=issuer_client, record_id=issuer_record_id)\n",
    "        holder_creds: Response[IssueCredentialRecord] = get_credential_record.sync(client=holder_client, record_id=holder_record_id)\n",
    "        print(\"Issuer State: {} Holder State: {} \\n\".format(issuer_creds.protocol_state,holder_creds.protocol_state))\n",
    "        time.sleep(2)\n",
    "\n",
    "    print(colored(\"Credential Record {} Issued to Holder! Continue with notebook\".format(issuer_creds.record_id), \"green\", attrs=[\"bold\"]))\n",
    "    return issuer_creds, holder_creds\n",
    "\n"
   ]
  },
  {
   "cell_type": "markdown",
   "id": "1a17b909-d189-444e-99c0-28f3f61877bf",
   "metadata": {
    "tags": []
   },
   "source": [
    "# Presentations"
   ]
  },
  {
   "cell_type": "markdown",
   "id": "51bcc6a6-5f58-49d1-8076-dd6532670b4d",
   "metadata": {},
   "source": [
    "## Import Presentation Management Models and API Client"
   ]
  },
  {
   "cell_type": "code",
   "execution_count": null,
   "id": "d1b9c721-a5fb-4d22-acc0-aaff8070b99e",
   "metadata": {},
   "outputs": [],
   "source": [
    "from prism_agent_open_api_specification_client.models import PresentationStatus, ErrorResponse, Proof, ProofRequestAux, PublicKeyJwk, RequestPresentationInput, RequestPresentationOutput, RequestPresentationAction\n",
    "from prism_agent_open_api_specification_client.api.present_proof import get_all_presentation, request_presentation, update_presentation, get_presentation\n",
    "from prism_agent_open_api_specification_client.types import Response"
   ]
  },
  {
   "cell_type": "markdown",
   "id": "19a604be-cd80-4fd3-a86e-063fdbfc4db8",
   "metadata": {
    "tags": []
   },
   "source": [
    "## Presentation Helper Functions"
   ]
  },
  {
   "cell_type": "code",
   "execution_count": null,
   "id": "6c820366-9749-4520-9c47-0acf768f5150",
   "metadata": {},
   "outputs": [],
   "source": [
    "def get_all_presentation_requests():\n",
    "    government_proofs: Response[PresentationStatus] = get_all_presentation.sync(client=government_client_controller)\n",
    "    citizen_proofs: Response[PresentationStatus] = get_all_presentation.sync(client=citizen_client_controller)\n",
    "    university_proofs: Response[PresentationStatus] = get_all_presentation.sync(client=university_client_controller)\n",
    "    employer_proofs: Response[PresentationStatus] = get_all_presentation.sync(client=employer_client_controller)\n",
    "    dapp_store_proofs: Response[PresentationStatus] = get_all_presentation.sync(client=dapp_store_client_controller)\n",
    "    # print(\"Issuer Proofs:\\n{}\\n\\nHolder Proofs:\\n{}\\n\\nVerifier Proofs:\\n{}\".format(issuer_proofs, holder_proofs,verifier_proofs))\n",
    "    return government_proofs,citizen_proofs,university_proofs, employer_proofs, dapp_store_proofs\n",
    "\n",
    "def get_client_presentation_requests(client):\n",
    "    client_proofs: Response[PresentationStatus] = get_all_presentation.sync(client=client)\n",
    "    return client_proofs\n",
    "\n",
    "def initiate_proof_request(verifier_client, verifier_connection_id):\n",
    "    data = {\n",
    "        \"connectionId\": verifier_connection_id, \n",
    "        \"proofs\": []\n",
    "    }\n",
    "    # print(data)\n",
    "\n",
    "    # data = {\n",
    "    #   \"connectionId\": verifier_invitation.connection_id, \n",
    "    #     \"proofs\": []\n",
    "    # }\n",
    "    proof_request = RequestPresentationInput.from_dict(data)\n",
    "    # print(proof_request)\n",
    "\n",
    "    verifier_proof_request: Response[RequestPresentationInput] = request_presentation.sync(client=verifier_client, json_body=proof_request)\n",
    "\n",
    "    print(verifier_proof_request)\n",
    "    return verifier_proof_request\n",
    "\n",
    "def accept_proof(holder_client, holder_cred_id, holder_proof_id):\n",
    "    from typing import Any, Dict, Optional, Union, cast\n",
    "\n",
    "    data = {\n",
    "      \"action\": \"request-accept\",\n",
    "      # \"proofId\": [holder_creds.items[0].record_id]\n",
    "        \"proofId\": [holder_cred_id]\n",
    "    }\n",
    "\n",
    "    proof_accept = RequestPresentationAction.from_dict(data)\n",
    "\n",
    "    holder_proof_request: Response[Union[Any, ErrorResponse]] = update_presentation.sync(client=holder_client, json_body=proof_accept, id=holder_proof_id) #holder_proofs[0].presentation_id)\n",
    "\n",
    "    print(holder_proof_request)\n",
    "    return holder_proof_request\n",
    "\n",
    "def check_presentation_status(holder_client,  verifier_client):\n",
    "    # TODO - fix presentation record check to specific ID instead of all records\n",
    "    holder_proofs: Response[PresentationStatus] = get_all_presentation.sync(client=holder_client)\n",
    "    verifier_proofs: Response[PresentationStatus] = get_all_presentation.sync(client=verifier_client)\n",
    "    # Check Proof Presentation State\n",
    "    while (holder_proofs[0].status != 'PresentationSent' and verifier_proofs[0].status != 'PresentationVerified'):\n",
    "        holder_proofs: Response[PresentationStatus] = get_all_presentation.sync(client=holder_client)\n",
    "        verifier_proofs: Response[PresentationStatus] = get_all_presentation.sync(client=verifier_client)\n",
    "        print(\"Verifier State: {} Holder State: {} \\n\".format(verifier_proofs[0].status,holder_proofs[0].status))\n",
    "        time.sleep(1)\n",
    "\n",
    "    print(\"Proof Presentation completed between Verifier and Holder!\")\n",
    "    \n",
    "def check_presentation_record_status(holder_client, holder_record_id,  verifier_client, verifier_record_id):\n",
    "    # TODO - fix presentation record check to specific ID instead of all records\n",
    "    holder_proof: Response[PresentationStatus] = get_presentation.sync(client=holder_client, id=holder_record_id)\n",
    "    verifier_proof: Response[PresentationStatus] = get_presentation.sync(client=verifier_client, id=verifier_record_id)\n",
    "    # Check Proof Presentation State\n",
    "    while (holder_proof.status != 'PresentationVerified' and verifier_proof.status != 'PresentationSent'):\n",
    "        holder_proof: Response[PresentationStatus] = get_presentation.sync(client=holder_client, id=holder_record_id)\n",
    "        verifier_proof: Response[PresentationStatus] = get_presentation.sync(client=verifier_client, id=verifier_record_id)\n",
    "        print(\"Verifier State: {} Holder State: {} \\n\".format(verifier_proof.status, holder_proof.status))\n",
    "        time.sleep(1)\n",
    "\n",
    "    print(\"Proof Presentation completed between Verifier and Holder!\")\n",
    "                                                                                         "
   ]
  },
  {
   "cell_type": "markdown",
   "id": "78824b43-7864-45d2-8601-e71116824cff",
   "metadata": {
    "tags": []
   },
   "source": [
    "# DIDs"
   ]
  },
  {
   "cell_type": "markdown",
   "id": "07255cec-8e2d-4653-afcc-4b14f18d25a7",
   "metadata": {
    "tags": []
   },
   "source": [
    "## Import DID Management Models and API Client"
   ]
  },
  {
   "cell_type": "code",
   "execution_count": null,
   "id": "f27d01ab-0121-438f-ae20-5527ba1e88a7",
   "metadata": {},
   "outputs": [],
   "source": [
    "from prism_agent_open_api_specification_client.models import DID, DIDDocumentMetadata, DIDOperationResponse, DIDResponse, CreateManagedDidRequest, ListManagedDIDResponseInner, CreateManagedDIDResponse\n",
    "from prism_agent_open_api_specification_client.api.did import get_did\n",
    "from prism_agent_open_api_specification_client.api.did_registrar import create_managed_did,list_managed_did,publish_managed_did\n",
    "from prism_agent_open_api_specification_client.types import Response"
   ]
  },
  {
   "cell_type": "markdown",
   "id": "d6a836d2-636a-4b1c-b055-b4028371cbdf",
   "metadata": {},
   "source": [
    "# Demo Use Case Flow"
   ]
  },
  {
   "cell_type": "markdown",
   "id": "1189e447-a708-4a53-8fe1-befbaaaa6488",
   "metadata": {
    "tags": []
   },
   "source": [
    "# Government Flow"
   ]
  },
  {
   "cell_type": "markdown",
   "id": "8b7122dd-6ec3-4209-9582-84485798c13f",
   "metadata": {
    "tags": []
   },
   "source": [
    "## Make a Connection between Metropolgov.io and Citizen"
   ]
  },
  {
   "cell_type": "code",
   "execution_count": null,
   "id": "178f1b64-8b1c-4d39-a645-fc2d7843fbc9",
   "metadata": {},
   "outputs": [],
   "source": [
    "metropolgov_conn, citizen_conn = await auto_connection(government_client_controller, citizen_client_controller, \"Connection with Metropolgov.io\")"
   ]
  },
  {
   "cell_type": "markdown",
   "id": "11b67347-5c62-468f-92fb-85d48b227766",
   "metadata": {
    "tags": []
   },
   "source": [
    "## Metropolgov.io Issue Natural Person Credential to Citizen"
   ]
  },
  {
   "cell_type": "code",
   "execution_count": null,
   "id": "90245627-0f0f-4591-b513-e42bacdcc2cf",
   "metadata": {
    "tags": []
   },
   "outputs": [],
   "source": [
    "# citizen_prism_did = create_prism_did(citizen_client_controller)\n",
    "# print(citizen_prism_did)\n",
    "citizen_id_schema = {\n",
    "    \"firstname\": 'Wilmien',\n",
    "    \"lastname\": 'Du Preez',\n",
    "    \"birthdate\": '11/11/1999',\n",
    "    \"placeofbirth\": \"Pretoria\",\n",
    "    \"gender\": \"Female\",\n",
    "    \"idnumber\": \"19991111538708\",\n",
    "    \"issuedate\": \"21/12/2022\",\n",
    "    \"expiry_date\": \"23/12/2022\",\n",
    "    \"photo\": \"data:image/png;base64,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\",\n",
    "  }\n",
    "\n",
    "metropolgov_cred = create_credential(citizen_id_schema, \"schema:12345:gov\", metropolgov_conn.their_did)\n",
    "metropolgov_cred_offer = send_credential_offer(government_client_controller, metropolgov_cred)\n",
    "metropolgov_record_id = metropolgov_cred_offer.record_id\n",
    "print(metropolgov_record_id)\n",
    "time.sleep(2)"
   ]
  },
  {
   "cell_type": "code",
   "execution_count": null,
   "id": "2a82d379-6754-4c33-907c-043196ab84b2",
   "metadata": {
    "tags": []
   },
   "outputs": [],
   "source": [
    "citizen_gov_creds: Response[IssueCredentialRecordCollection] = get_credential_records.sync(client=citizen_client_controller)\n",
    "for item in citizen_gov_creds.items:\n",
    "    if item.protocol_state == 'OfferReceived':\n",
    "        citizen_gov_record_id = item.record_id\n",
    "        citizen_gov_state = item.protocol_state\n",
    "\n",
    "print(citizen_gov_record_id)\n",
    "print(citizen_gov_state)"
   ]
  },
  {
   "cell_type": "code",
   "execution_count": null,
   "id": "0f12b84f-1f37-4269-bd3a-9622e501c231",
   "metadata": {
    "tags": []
   },
   "outputs": [],
   "source": [
    "citizen_cred = await accept_credential(citizen_client_controller, citizen_gov_record_id)\n",
    "print(citizen_cred)\n",
    "time.sleep(2)"
   ]
  },
  {
   "cell_type": "code",
   "execution_count": null,
   "id": "1c5b4b04-5005-47f3-ba93-821decfca96f",
   "metadata": {},
   "outputs": [],
   "source": [
    "time.sleep(3)\n",
    "metro_cred_record = issue_credential_record(government_client_controller, metropolgov_cred_offer.record_id)\n",
    "\n",
    "metropolgov_credentials, citizen_credential = check_credential_state(government_client_controller, metropolgov_record_id, citizen_client_controller, citizen_gov_record_id)\n"
   ]
  },
  {
   "cell_type": "markdown",
   "id": "c65bf70c-3e9e-4fc4-93a2-63f2f175dbcf",
   "metadata": {
    "tags": []
   },
   "source": [
    "## JWT Verify"
   ]
  },
  {
   "cell_type": "markdown",
   "id": "30ad3fa5-fefe-4e96-aadd-169360d31a8c",
   "metadata": {
    "tags": []
   },
   "source": [
    "### List DIDs in Wallet"
   ]
  },
  {
   "cell_type": "code",
   "execution_count": null,
   "id": "287bab46-d23f-4752-a671-bcdef8a37657",
   "metadata": {
    "tags": []
   },
   "outputs": [],
   "source": [
    "governance_dids: Response[ListManagedDIDResponseInner] = list_managed_did.sync(client=government_client_controller)\n",
    "print(governance_dids)"
   ]
  },
  {
   "cell_type": "markdown",
   "id": "ddcd0f61-fce3-40ea-abed-01d853b16418",
   "metadata": {
    "tags": []
   },
   "source": [
    "### Resolve DID"
   ]
  },
  {
   "cell_type": "code",
   "execution_count": null,
   "id": "a787a8b3-d75e-4d15-804f-0e292d389761",
   "metadata": {
    "tags": []
   },
   "outputs": [],
   "source": [
    "governance_resolved_did: Response[DIDResponse] = get_did.sync(client=government_client_controller, did_ref=governance_dids[0].long_form_did)\n",
    "print(governance_resolved_did.to_dict())"
   ]
  },
  {
   "cell_type": "markdown",
   "id": "8e3f1525-dab6-4ba4-9ff8-e662335386e2",
   "metadata": {
    "tags": []
   },
   "source": [
    "### Decode JWT in Credential"
   ]
  },
  {
   "cell_type": "code",
   "execution_count": null,
   "id": "24d37327-1b4c-4f63-ba49-c1147321b6f6",
   "metadata": {},
   "outputs": [],
   "source": [
    "token = citizen_credential.jwt_credential\n",
    "# print(token)\n",
    "jsondata = base64.urlsafe_b64decode(token)\n",
    "# print(jsondata)\n",
    "b64decoded_token = json.loads(jsondata.decode())\n",
    "jwk = governance_resolved_did.did.authentication[0].public_key_jwk\n",
    "# print(jwk)\n",
    "# print(json.dumps(jwk.to_dict()))\n",
    "pubKey = jwt.algorithms.ECAlgorithm.from_jwk(json.dumps(jwk.to_dict()))\n",
    "jwt.decode(b64decoded_token , key = pubKey, algorithms=[\"ES256K\"])"
   ]
  },
  {
   "cell_type": "code",
   "execution_count": null,
   "id": "ad280f0d-7a9e-4eb3-9dc0-a8f65eb6940b",
   "metadata": {},
   "outputs": [],
   "source": [
    "# b64decoded_token = b64decoded_token + 'a'\n",
    "# jwt.decode(b64decoded_token , key = pubKey, algorithms=[\"ES256K\"])"
   ]
  },
  {
   "cell_type": "markdown",
   "id": "5ef18763-ea35-4c12-952c-08db337fec15",
   "metadata": {
    "tags": []
   },
   "source": [
    "# University Flow"
   ]
  },
  {
   "cell_type": "markdown",
   "id": "139773b2-2672-4cf5-b5ca-89d8bd56300c",
   "metadata": {
    "tags": []
   },
   "source": [
    "## Make a Connection between University and Citizen"
   ]
  },
  {
   "cell_type": "code",
   "execution_count": null,
   "id": "5c090022-5edb-41b5-b02f-fab77d734600",
   "metadata": {},
   "outputs": [],
   "source": [
    "uni_conn, citizen_uni_conn = await auto_connection(university_client_controller, citizen_client_controller, \"Connection with University of I&T\")"
   ]
  },
  {
   "cell_type": "markdown",
   "id": "cf62b34a-9b0b-43a3-b989-ce1c158926d8",
   "metadata": {
    "tags": []
   },
   "source": [
    "## Citizen Present Natural Person Proof to University of Innovation and Technology"
   ]
  },
  {
   "cell_type": "code",
   "execution_count": null,
   "id": "9f5b7ef6-8579-4566-a83d-3973ac2a37ce",
   "metadata": {},
   "outputs": [],
   "source": [
    "uni_proof_request = initiate_proof_request(university_client_controller, uni_conn.connection_id)\n",
    "print(uni_proof_request.presentation_id)"
   ]
  },
  {
   "cell_type": "code",
   "execution_count": null,
   "id": "468fdef3-897d-4cfc-bf74-ab3d3dae0049",
   "metadata": {},
   "outputs": [],
   "source": [
    "government_proofs,citizen_proofs,university_proofs, employer_proofs, dapp_store_proofs = get_all_presentation_requests()\n",
    "print(university_proofs,'\\n\\n\\n',citizen_proofs,'\\n\\n\\n')\n",
    "# for uni_item in university_proofs:\n",
    "#     print(item)\n",
    "#     if item.protocol_state == 'OfferReceived':\n",
    "#         uni_proof = item\n",
    "#         uni_proof_id = item.presentation_id\n",
    "        \n",
    "# for citizen_item in citizen_proofs:\n",
    "#     print(item)\n",
    "#     if item.status == 'RequestReceived':\n",
    "#         citizen_proof = item\n",
    "#         citizen_proof_id = item.presentation_id"
   ]
  },
  {
   "cell_type": "code",
   "execution_count": null,
   "id": "7f5c05d6-ee27-43ee-a43a-dd4ccce75643",
   "metadata": {},
   "outputs": [],
   "source": [
    "print(citizen_proofs[0].presentation_id)\n",
    "print(university_proofs[0].presentation_id)\n",
    "\n",
    "# print(uni_proof_id)\n",
    "# print(citizen_proof_id)"
   ]
  },
  {
   "cell_type": "code",
   "execution_count": null,
   "id": "ed2931dd-5c9c-4ec3-9e55-920454529f5a",
   "metadata": {},
   "outputs": [],
   "source": [
    "citizen_uni_proof_request = accept_proof(citizen_client_controller, citizen_gov_record_id, citizen_proofs[0].presentation_id)"
   ]
  },
  {
   "cell_type": "code",
   "execution_count": null,
   "id": "4a956655-0b58-4819-808d-24d82dfa4959",
   "metadata": {},
   "outputs": [],
   "source": [
    "check_presentation_record_status(university_client_controller, university_proofs[0].presentation_id, citizen_client_controller, citizen_proofs[0].presentation_id)"
   ]
  },
  {
   "cell_type": "markdown",
   "id": "0f366af4-ed9b-4935-b95a-5db855f08574",
   "metadata": {
    "tags": []
   },
   "source": [
    "## JWT Verify"
   ]
  },
  {
   "cell_type": "markdown",
   "id": "1db965e7-c10d-4db1-9972-2d521c42b558",
   "metadata": {
    "tags": []
   },
   "source": [
    "### Decode JWT in Credential"
   ]
  },
  {
   "cell_type": "code",
   "execution_count": null,
   "id": "78b938ff-2a60-4db1-9c17-5266c55a80ce",
   "metadata": {
    "tags": []
   },
   "outputs": [],
   "source": [
    "citizen_proofs = get_client_presentation_requests(citizen_client_controller)"
   ]
  },
  {
   "cell_type": "code",
   "execution_count": null,
   "id": "eedced04-71c3-4ef1-b02b-d81c2ced16a8",
   "metadata": {
    "tags": []
   },
   "outputs": [],
   "source": [
    "print(citizen_proofs)"
   ]
  },
  {
   "cell_type": "code",
   "execution_count": null,
   "id": "8c32b824-e0de-4bcd-9cfe-03d7883418ca",
   "metadata": {
    "tags": []
   },
   "outputs": [],
   "source": [
    "print(citizen_proofs[0].data[0])"
   ]
  },
  {
   "cell_type": "code",
   "execution_count": null,
   "id": "6792d7b9-76a0-468a-b0b8-6b54749cdfd2",
   "metadata": {
    "tags": []
   },
   "outputs": [],
   "source": [
    "token = citizen_proofs[0].data[0]\n",
    "\n",
    "try:\n",
    "    jwt_gov_decoded_presentation = jwt.decode(token, options={\"verify_signature\": False})\n",
    "    print(json.dumps(jwt_gov_decoded_presentation, indent=2))\n",
    "except (jwt.ExpiredSignatureError, jwt.InvalidAudienceError) as e:\n",
    "    print(\"[ERROR]\", e)    "
   ]
  },
  {
   "cell_type": "code",
   "execution_count": null,
   "id": "e88f9eeb-777f-467f-b2db-4b1d4b18c29a",
   "metadata": {
    "tags": []
   },
   "outputs": [],
   "source": [
    "token = jwt_gov_decoded_presentation['vp']['verifiableCredential'][0]\n",
    "\n",
    "try:\n",
    "    jwt_gov_decoded_vc = jwt.decode(token, options={\"verify_signature\": False})\n",
    "    print(json.dumps(jwt_gov_decoded_vc, indent=2))\n",
    "except (jwt.ExpiredSignatureError, jwt.InvalidAudienceError) as e:\n",
    "    print(\"[ERROR]\", e)\n",
    "    \n"
   ]
  },
  {
   "cell_type": "markdown",
   "id": "4f88b4f9-f180-4eba-be58-75f951529846",
   "metadata": {
    "tags": []
   },
   "source": [
    "### Resolve DID"
   ]
  },
  {
   "cell_type": "code",
   "execution_count": null,
   "id": "b6627b3f-4675-4e6e-a87e-d2ee1c70fd01",
   "metadata": {
    "tags": []
   },
   "outputs": [],
   "source": [
    "resolved_did: Response[DIDResponse] = get_did.sync(client=government_client_controller, did_ref=jwt_gov_decoded_vc['iss'])\n",
    "print(resolved_did.to_dict())"
   ]
  },
  {
   "cell_type": "code",
   "execution_count": null,
   "id": "6f3625c4-0dbc-47b2-81d4-8d6d09066ded",
   "metadata": {},
   "outputs": [],
   "source": [
    "token = jwt_gov_decoded_presentation['vp']['verifiableCredential'][0]\n",
    "\n",
    "jwk = resolved_did.did.authentication[0].public_key_jwk\n",
    "pubKey = jwt.algorithms.ECAlgorithm.from_jwk(json.dumps(jwk.to_dict()))\n",
    "jwt.decode(token , key = pubKey, algorithms=[\"ES256K\"])"
   ]
  },
  {
   "cell_type": "code",
   "execution_count": null,
   "id": "8d343787-4e84-4f70-bf44-7f29abf73629",
   "metadata": {},
   "outputs": [],
   "source": [
    "token = token + 'x'\n",
    "jwt.decode(token , key = pubKey, algorithms=[\"ES256K\"])"
   ]
  },
  {
   "cell_type": "markdown",
   "id": "567683da-e889-4958-a174-4683d98abd33",
   "metadata": {
    "tags": []
   },
   "source": [
    "## University of T&I Issue Education Credential to Citizen"
   ]
  },
  {
   "cell_type": "code",
   "execution_count": null,
   "id": "210aa0ae-7492-4512-b778-82e8571ce474",
   "metadata": {
    "tags": []
   },
   "outputs": [],
   "source": [
    "# citizen_prism_did = create_prism_did(citizen_client_controller)\n",
    "# print(citizen_prism_did)\n",
    "citizen_univ_schema = {\n",
    "    \"firstname\": 'Wilmien',\n",
    "    \"lastname\": 'Du Preez',\n",
    "    \"course\": 'Web3 Developer',\n",
    "    \"grade\": \"First Class Honours\",\n",
    "    \"completion_date\": \"01/12/2022\",\n",
    "    \"issuedate\": \"21/12/2022\",\n",
    "    \"expiry_date\": \"23/12/2022\"\n",
    "  }\n",
    "\n",
    "univ_cred = create_credential(citizen_univ_schema, \"schema:12345:univ\", uni_conn.their_did)\n",
    "uni_cred_offer = send_credential_offer(university_client_controller, univ_cred)\n",
    "time.sleep(2)"
   ]
  },
  {
   "cell_type": "code",
   "execution_count": null,
   "id": "bff1d151-621e-4bb8-9e15-74c3c31145ab",
   "metadata": {
    "tags": []
   },
   "outputs": [],
   "source": [
    "citizen_uni_creds: Response[IssueCredentialRecordCollection] = get_credential_records.sync(client=citizen_client_controller)\n",
    "for item in citizen_uni_creds.items:\n",
    "    if item.protocol_state == 'OfferReceived':\n",
    "        citizen_uni_record_id = item.record_id\n",
    "        citizen_uni_state = item.protocol_state\n",
    "\n",
    "print(citizen_uni_record_id)\n",
    "print(citizen_uni_state)"
   ]
  },
  {
   "cell_type": "code",
   "execution_count": null,
   "id": "dfffa958-6427-4c75-8fe7-9653f0ab9f68",
   "metadata": {},
   "outputs": [],
   "source": [
    "print(citizen_uni_record_id)"
   ]
  },
  {
   "cell_type": "code",
   "execution_count": null,
   "id": "2bd30449-8893-4cb9-b840-4090b9733afc",
   "metadata": {
    "tags": []
   },
   "outputs": [],
   "source": [
    "citizen_uni_cred = await accept_credential(citizen_client_controller, citizen_uni_record_id)\n",
    "print(citizen_uni_cred)\n",
    "time.sleep(2)"
   ]
  },
  {
   "cell_type": "code",
   "execution_count": null,
   "id": "bbe1143d-af01-4db7-a540-e8ed2b41d5d4",
   "metadata": {},
   "outputs": [],
   "source": [
    "time.sleep(3)\n",
    "uni_cred_record = issue_credential_record(university_client_controller, uni_cred_offer.record_id)\n",
    "\n",
    "uni_credentials, citizen__uni_credential = check_credential_state(university_client_controller, uni_cred_offer.record_id, citizen_client_controller, citizen_uni_record_id)\n"
   ]
  },
  {
   "cell_type": "markdown",
   "id": "7e2f726e-cf27-476d-8983-56c11f6e97bd",
   "metadata": {
    "tags": []
   },
   "source": [
    "# Employer Flow"
   ]
  },
  {
   "cell_type": "markdown",
   "id": "c191b31d-0741-4ac7-812b-9a7342da2269",
   "metadata": {
    "tags": []
   },
   "source": [
    "## Make a Connection between Employer and Citizen"
   ]
  },
  {
   "cell_type": "code",
   "execution_count": null,
   "id": "3f574420-4a61-44c2-8900-36c779eaaa8b",
   "metadata": {},
   "outputs": [],
   "source": [
    "emp_conn, citizen_emp_conn = await auto_connection(employer_client_controller, citizen_client_controller, \"Connection with Decentralized\")"
   ]
  },
  {
   "cell_type": "markdown",
   "id": "b84aaeb9-bf8f-40cf-b119-dc82bb27dc32",
   "metadata": {
    "tags": []
   },
   "source": [
    "## Citizen Present Education Proof to Employe"
   ]
  },
  {
   "cell_type": "code",
   "execution_count": null,
   "id": "3450f062-6b74-4562-93cb-b7816f53879d",
   "metadata": {},
   "outputs": [],
   "source": [
    "emp_proof_request = initiate_proof_request(employer_client_controller, emp_conn.connection_id)\n",
    "print(emp_proof_request.presentation_id)"
   ]
  },
  {
   "cell_type": "code",
   "execution_count": null,
   "id": "2cc43c58-441b-45af-a929-21f55c720a80",
   "metadata": {},
   "outputs": [],
   "source": [
    "government_proofs,citizen_proofs,university_proofs, employer_proofs, dapp_store_proofs = get_all_presentation_requests()\n",
    "print('Employer proofs', employer_proofs)\n",
    "print('\\nCitizen proofs', citizen_proofs[0])\n",
    "print('\\nCitizen proofs', citizen_proofs[1])"
   ]
  },
  {
   "cell_type": "code",
   "execution_count": null,
   "id": "076f638a-1028-42c0-896e-030c6b6e613d",
   "metadata": {},
   "outputs": [],
   "source": [
    "print(citizen_proofs[1].presentation_id)\n",
    "print(employer_proofs[0].presentation_id)"
   ]
  },
  {
   "cell_type": "code",
   "execution_count": null,
   "id": "da733248-0689-466c-9446-528b81877b8f",
   "metadata": {},
   "outputs": [],
   "source": [
    "print(citizen_uni_record_id)"
   ]
  },
  {
   "cell_type": "code",
   "execution_count": null,
   "id": "d3ec60d4-ae63-4bb2-b715-2dad065f96dc",
   "metadata": {},
   "outputs": [],
   "source": [
    "citizen_emp_proof_request = accept_proof(citizen_client_controller, citizen_uni_record_id, citizen_proofs[1].presentation_id)"
   ]
  },
  {
   "cell_type": "code",
   "execution_count": null,
   "id": "d02f76b8-2a63-488f-8b93-7f3ee4f80cc8",
   "metadata": {},
   "outputs": [],
   "source": [
    "check_presentation_record_status(employer_client_controller, employer_proofs[0].presentation_id, citizen_client_controller, citizen_proofs[1].presentation_id)\n"
   ]
  },
  {
   "cell_type": "markdown",
   "id": "fac2e7b7-a548-4f42-b901-04650bc2c129",
   "metadata": {},
   "source": [
    "## JWT Verify"
   ]
  },
  {
   "cell_type": "markdown",
   "id": "9cafb899-6e9d-475d-9e6b-aac31849a702",
   "metadata": {},
   "source": [
    "### Decode JWT in Credential"
   ]
  },
  {
   "cell_type": "code",
   "execution_count": null,
   "id": "fa4005cf-9c89-4d63-8837-6b6d44fc8040",
   "metadata": {},
   "outputs": [],
   "source": [
    "citizen_proofs = get_client_presentation_requests(citizen_client_controller)"
   ]
  },
  {
   "cell_type": "code",
   "execution_count": null,
   "id": "da53cf4d-223b-488c-8f6d-8ba59e3c0337",
   "metadata": {},
   "outputs": [],
   "source": [
    "# print(citizen_proofs)"
   ]
  },
  {
   "cell_type": "code",
   "execution_count": null,
   "id": "12a467a8-750b-4d98-addd-4d8d67512e09",
   "metadata": {},
   "outputs": [],
   "source": [
    "# print(citizen_proofs[1].data[0])"
   ]
  },
  {
   "cell_type": "code",
   "execution_count": null,
   "id": "31fb3344-8d4d-4304-b1ce-655eb505ecb3",
   "metadata": {},
   "outputs": [],
   "source": [
    "token = citizen_proofs[1].data[0]\n",
    "\n",
    "try:\n",
    "    jwt_edu_decoded_presentation = jwt.decode(token, options={\"verify_signature\": False})\n",
    "    print(json.dumps(jwt_edu_decoded_presentation, indent=2))\n",
    "except (jwt.ExpiredSignatureError, jwt.InvalidAudienceError) as e:\n",
    "    print(\"[ERROR]\", e)"
   ]
  },
  {
   "cell_type": "code",
   "execution_count": null,
   "id": "f85ce71a-011e-4f5a-aa2c-1a81708002df",
   "metadata": {},
   "outputs": [],
   "source": [
    "token = jwt_edu_decoded_presentation['vp']['verifiableCredential'][0]\n",
    "\n",
    "try:\n",
    "    jwt_edu_decoded_vc = jwt.decode(token, options={\"verify_signature\": False})\n",
    "    print(json.dumps(jwt_edu_decoded_vc, indent=2))\n",
    "except (jwt.ExpiredSignatureError, jwt.InvalidAudienceError) as e:\n",
    "    print(\"[ERROR]\", e)"
   ]
  },
  {
   "cell_type": "markdown",
   "id": "3b8653e2-474d-4bf3-9b7e-ef993c490eb3",
   "metadata": {
    "tags": []
   },
   "source": [
    "### Resolve DID"
   ]
  },
  {
   "cell_type": "code",
   "execution_count": null,
   "id": "8c79897f-3453-477e-bf92-7832a555c51b",
   "metadata": {
    "tags": []
   },
   "outputs": [],
   "source": [
    "resolved_did: Response[DIDResponse] = get_did.sync(client=government_client_controller, did_ref=jwt_edu_decoded_vc['iss'])\n",
    "print(resolved_did.to_dict())"
   ]
  },
  {
   "cell_type": "code",
   "execution_count": null,
   "id": "3b983571-c09c-449c-a18c-a90b42db22e6",
   "metadata": {},
   "outputs": [],
   "source": [
    "token = jwt_edu_decoded_presentation['vp']['verifiableCredential'][0]\n",
    "\n",
    "jwk = resolved_did.did.authentication[0].public_key_jwk\n",
    "pubKey = jwt.algorithms.ECAlgorithm.from_jwk(json.dumps(jwk.to_dict()))\n",
    "jwt.decode(token , key = pubKey, algorithms=[\"ES256K\"])"
   ]
  },
  {
   "cell_type": "code",
   "execution_count": null,
   "id": "30608346-d17e-4eba-a741-e089b2a0d337",
   "metadata": {},
   "outputs": [],
   "source": [
    "token = token + 'x'\n",
    "jwt.decode(token , key = pubKey, algorithms=[\"ES256K\"])"
   ]
  },
  {
   "cell_type": "markdown",
   "id": "731d7944-7ee3-4259-a528-5a9a9645f3a7",
   "metadata": {
    "tags": []
   },
   "source": [
    "## Employer Issue Employment Credential to Citizen"
   ]
  },
  {
   "cell_type": "code",
   "execution_count": null,
   "id": "22b569ee-2764-4388-891c-08a1f3d22666",
   "metadata": {
    "tags": []
   },
   "outputs": [],
   "source": [
    "# citizen_prism_did = create_prism_did(citizen_client_controller)\n",
    "# print(citizen_prism_did)\n",
    "citizen_employment_schema = {\n",
    "    \"firstname\": 'Wilmien',\n",
    "    \"lastname\": 'Du Preez',\n",
    "    \"email\": 'wilmien@decentralized.io',\n",
    "    \"role\": \"Web3 Developer\",\n",
    "    \"photo\": \"data:image/png;base64,iVBORw0KGgoAAAANSUhEUgAAAQ4AAAC6CAMAAABoQ1NAAAAAjVBMVEX+/v4AAADt7e3////s7Oz9/f36+vr39/fv7+/y8vLp6ena2trl5eXV1dV4eHi3t7fKysrg4OCqqqpERERlZWXGxsaWlpaenp5UVFS/v7+AgIBsbGxOTk7Ozs6kpKSJiYkbGxs0NDQmJiYRERGxsbEiIiJoaGhTU1NeXl4vLy9JSUkYGBg8PDyNjY10dHQyCsxLAAAPMElEQVR4nO1da1/qPAzf1m1tuQoqIhxUvB31qN//4z29DNjWy9Jule08J28kPyGE/9o0SdM0QhEjhBNORDJUMFQyRDBYMumJQZlg0lwwuWQydBKWDlAyiSIpOrWKTsuiUyw+cxAtmINowUhhB6WHJDnxggNZRaMWSp9Z8j84/sFhgwMJoiknUmaoZEiZEa+ZaE6ZZHLB5JLJBIMlM0DJSYQpJyyJOjC4iXER1hfJUVKAF4l1qAAvEutQAZ4cS/KxyIFZPJYSI0bp6bEIJh2c5AhFSS8mbU8kR//g+AeHIxwVH1YVTSuiOZNWRFOz0jXJ3L4TQQh1K9lT50hqgzNOhWq5ymDJZCWGSoaqjBSW2SVTvg6yDyymY0YLLFb8TiS30flsfgfe3XxfvsRHery8ul9O8zN7NHLG/OykxShZvsVaelrfjFHxnf8PJ53S+ZUei8M42VxgSv4fcBA631vBEPR+l9LkfwAHnV42gyHofiQWm786hMP3QDA43Z3DlIoAhuBcEFEZ+RpXGBkbSYaqjPx8pgjDkw8HNOJ4f42BkrvSOfd2w1KtS1NmqqM0Tei1ExicZiPSLLlLnX/OScdzZzSYTd3l53fSQ8BBnz3QYPT8V8JBb/3QiOMVX2HOAYdtG6Kl7UA7XzTieMPwMEruWOeoYljLTMUWNzGaz1cY+uAPB8PDIrlbnX/E70jougUabIGhf1UIR1et0IjjG/oXOelk2hKNOJ4jreQhwkEoNE6x0EK1jgOFgy7boxG/89WiNyEc9jelSdoBGmK5dTSlPjpHRS2EwCsTrw+JBskU+/2SKR5LYn0sh8KKpGDa2tGCbmldcvc6d+CVVlwadZTmuBs04nhEOvNKTTqHd9LRV1dwfOPhxyyEdIVGHO/I4OGgNw6/d76x/vuD/gAcfn430DtOyDscjRlCC8OGQwFX3ipWAOgc4aCUX8DReGBPCKHbP+Z37POw2mIcNIRjwmdwOC6KYf1tGR7Ub5DCq38i98UCPmkRfgKjMStmLxsgxvdcUt8FrhdOuuWX1ekhL+DgX/Npehf3xQYMh9UyVmh3RIMPENO25RqfAQ7VabNk9C1wIApGY1NCg+Nh2p+aErCj6aEzg0OUNRS1EJIpyh8kU9RSSCY5MSxY4K9ZsMCZXDJZSVgSZfC58oIqcDA8DJHOFxaSA+lMonBrOHuxhcIxraLBAdHj8RiF9TsSR3PgMGlJ+qL9SSrdK2iwz+tdVLYcD9RJJ9DdBJHbUeDQ2+HZYOEAZ4zVqSK/51Hz3ic2LQYKB3A74UuLBpOgTTlfBIUjpCmFobFHBjj05nQT1JQ6lT84bX9lwP2EsQkNZj726tsfsW5jrSOdo7IX47LtCtgche3Zr4xoMFG6kpAdCaZzUCcdFM1+GqeKGB6aeqEVHWbMohnpKi0saDBZmnzJepBwJKAUum2qiOHxS/1MEhAO33moL8oqzUMytqBw2Ka0ThXxlZoSql0wnZNwKwu2WNJfh/9NGtBgSqufvkPhVpZwa7glLb4onvlNExoMD9Ugz+gQQzjNrC/ou4j8L5umChejBj6POJTOIZ108+CgxYLROFW4GI2cCRkcHPVM2Ot8MRpdbOQUkY/8DoAGE6RGPtcDhKOysGxHqAhk1vE7+8P/+RswVbggdR/vjgaDI5gpLScGN8dfjqKPaxShBXCqRNq4dkODmdKGo2KVs3IVJtMcQisJw+VotDQtEF/0EQt2lzA02ONT4HhDYXQmpOyGdXpEkZY308oZjcKwrGFThdtSZevqQRQiBzhWGc5Jx2ULuKn9dOZcjYBosDerlXZcg2HFLLS8df9dhwM/g9HQOWLjocFRLXO5Un48HI1IswX1HAwOJ8MLX4bIoqz+L4dfr8Khpgi/gugs+ncEosry2Bi4WuFQ61LXKJDWwap/KnmbR91GChgOdWvzkSbDCuGqj/QP7hYOHrUMykmvTXjSMRzjocFRLWkCOuRgOK6HBkc1BW7eSwHAockPPtPAcEizJEUXZkmKLsySFF1ijmYpEQ6xNEsnYdX91Ys2cGiyjCsaQmdR3Heywk7V/5HGpEcHYcmkqv68DRyaSt37ADoLJnIYS3APr37ACRq+auHQFEYxr39ITjqtzfeG7RQ7HJrdvPXA4Kg51vWQ1gkOTdnLflhw4FqCc9sGDk2V6UvJOnYKh5MPCw2HqgEcow9/ODTpH1kDFK5/B7SdYa4wxxPLgjl8RFkM3v1jOH1x6gR3rbNgumzBGB0fS6aUDFJ/OLR7vWPStc6CCeCVJlhz4AueC1Tg0NbqTklYr7RDOHSHWHb+cGjPS+0GAwfV1YT5u6VIW7r8k3AU89Ak2lJYwaeKtsUPbANSC4e2dPmiDoe/zmUmOnQgzPP81MFQYQ7tDPMTQyVDqwzF+tpabz9MV+DB4aDd6XwEIO+4BSNCpjZpr95w6IuIdn3v38HgJhfGOmPv5LEmccxpGsgrbQ2HzBFQTG43lUOONV/SN1tqKMcc9xEOKpuwkvHzrKlHh2960FCOueghHOn9+u3tEtbl6NYPDmQoxwwFRxtTmpAluOOTZ8bD1GFrFCqEc1pos8qilWUoW+pOlT+qQeibJxyGMzEL+EJb0TlrWGjbumGYzOvLycul5uD4g99GHPqtReNpFMgN08EhFAE7vJSOV6VthM+tvoLSK4gzOGHxS+iNhRaiCaWYXtxttm9Xm7ubreGcue74XzMchkruzx7DkU4nwlJlo/n9Xq8+J0CJsYLGSHccjtFVMDgKwxt5p1ISwsfDn+bmA867C/rDcJw2Bzi6Tv90kBzMoV0p3PBAluNSd3nnCU2ZHOwihAN37XWoCLOcw2d03V3Y2XkI59ClA44Hym3dHUZ93mexndWoETQrZjSigv5EvYZjYlG9RpbxUcoBMN98bcGYl971Fw6X4WG2p4gc6vgRuon3S/N5GFHFfM4QrqmdIbxvidn/QHQW739vt9urX03dtXZd6KwtaEgK8OS7JXjFuyV4xbulS1NiKqUj2KVD670hM8aWKKBNHpEOdNaWuxzggIwlm4fn0vj7zZQpRIZUYI0ucTc6KzOru30WNAb3j9uzkMOIBwW0QFmFO97TFRxs6VvuYXD8pg989mvRuGCGYbR8ta2ysh9S3+HgJmn6vHldX/5q6NvxC+Wvsjl+HQw8i7diSkd0sTPeyfAZ8qSkiw/btAwVZ3OThtGBuI34WFQBYdySp1SlkrbV6i7gOdqmonUPyhrsIc8TosVlPJug0xk5hJ9f4vvS9oMp8xPHabhOjJ1X/zCB2d4Oh9igRGj+J/59W7TcRNNvfhtLebygzPDxLe1aZ3Q6wBE5TK0mD08qEFlaSgpaHebD9W82VG7mt8+bp/h9SeuTx7DGHNqZ9NdJl6LT1d3y+aY5+XEI4/hzXIrugperMVJMq65EjtEbHUgLRuiNNKUOJnLUykFVJ83xajk4graN14iu5N2TEqMTLQyBFI3vQHDUthiMLqq2LeWWdtCCsaRzDY6mGyiNR3R1d1vaElinHwRNeehs0NOEFl0Xu9K5eqzYxfA2r+EUgAd0t1ZzfpbbHcfF4ryHvwzFP+XnCyxtQPVSXU5X4ny1izk4c6kcvra0suYE3bvWVQy+y82EAcGR0JF9qYUWeui6w4zdF4tzw5GQbGzJ68XXwLmiKey4zYLDEcAsMWFT864AcG9ScwLu4zZ197t70YIRZztTM2vgOqv3Oj5WO4plLUa/WjDaXJqE0nS3MhQGfYLgMAZw8dPV3ah4xl3q3L2TLkWzETeZf1tSfKCF1n7N4Of9BeVXxnelcyg42EMbPTf0igedqW32b9erixQzZ7SvcPCr7cc3zZeegfYlTdF9hR62yzEWIc/ZWzDWW6ESnN7O7BnfgiBlQFqXVEufXzzJ2Fn71m5Wljy7Bl+nAKkh1B9iMQkco361YKSLV7j2T4BON9rwzUwzkvUnhCOO9wI21xCihly8Qnspsw9OOiHgqxQkNfcn0DVlaCCRYusBHGRki1B01OymI4e5V8ajB3CMnO8TrXcRU9HwuWnwgSl0/hAOu44NgJsOr70r02XULuwUptT36pdMXv2CHep+jtRUnu5STFSiGYbprL2uRr6t+H7fdoZ+t9s3uOkIOdytV6ZnDNE5nJNOHGrkStTgpsNd0ho9kfPGLBh+s1eZGtx0J5e0QpuzwkG9TB6vaLDD4X/3tbzy+jyHvxLvO7utcKCRNxq81bhdZ/vS2aoFY+45OOI4teEBvMhET7ftaj9aVf/4WY64wU03XhkIoT1vznieEM5vWeFka1BgrvoBEe83dx4n3f+Wapub7ueSHumdkvPAoXa0AdPeBofDFbY6eqZngYO61BnXyeymowh8UllPlwA4VLf7AEfRrke8zsTrpIBDMkJ0hCVTiJYfaSoBs5Hlti/bLTcguiZGnW39ioqvL1lhp+p/nyD8SGY33XSsGk6vbicWujn85VSTr5DposDIVCDnQhNq0Dmgk67vUASltQmONi7pgb7wj8OBcvil3Rp6MNbHuWWhtfQ0Ij8OB/RyVQOZ3HRD9aQble9v+aEQDlIjaCFDW7WWLmlBnyTxC+GOLRiNm1SGHSvtXbEOZHDT2xnoI+0ywy5bmdHt0pXdMMCtmXIypQnR9NFzopkBjjbOzIm2CKk6QzahPb1SSP2olfTZdN01X16U1uEI66TTlnPFUPTS1kAfafWjcLSeK4abRlsEyVV6ilB3cFRshwoH7QIOrZsOu7MVQtfIz3YIu0oKw0oEk6sMlsyxZA+3XgF0bnqLhFKNrnCm6AwpYPH2O9rOcl3RC4IdAGmmL0p+uH+HuRENjB41RS+WWzmdaI7Jj++zdO+mOxe56Olh8vMhHBNNJ/oWZ0DaIYU6cUnf8Jl24Uj96gAnEncOY9GjiG+kp+lo5FHkotASoTPtwjFvbNwyz9sxva9wk84NprTpqFhePiqmHJyL0GjMaTESNG5gJuL1hL+cTieCFlNBBSPfJj+ycJecY9qsc+3gHC0B4N+C8VQbJkQX40qKLsaVhLPMyCdRHN2T/8jLDFaFOUmG6qxm0sN10feZtD2RHPIu639w/AVwFIY3irpuZ5gOUHJUJMokUQcGNzEuwvoiOdQFrKljYUU/JIe7rbgv5qAXV139g+PvhkNX/nAQHVlFRw1K91jysZ1JYkU6KYtOypsySdmjT4oVTrx2KqzoiWTyH0OmNgTTsTIxAAAAAElFTkSuQmCC\",\n",
    "  }\n",
    "\n",
    "employer_cred = create_credential(citizen_employment_schema, \"schema:12345:employment\", emp_conn.their_did)\n",
    "employer_cred_offer = send_credential_offer(employer_client_controller, employer_cred)\n",
    "time.sleep(2)"
   ]
  },
  {
   "cell_type": "code",
   "execution_count": null,
   "id": "e41ef4d3-8539-46b4-8954-69a12f58dc40",
   "metadata": {
    "tags": []
   },
   "outputs": [],
   "source": [
    "citizen_emp_creds: Response[IssueCredentialRecordCollection] = get_credential_records.sync(client=citizen_client_controller)\n",
    "for item in citizen_emp_creds.items:\n",
    "    if item.protocol_state == 'OfferReceived':\n",
    "        citizen_emp_record_id = item.record_id\n",
    "        citizen_emp_state = item.protocol_state\n",
    "\n",
    "print(citizen_emp_record_id)\n",
    "print(citizen_emp_state)"
   ]
  },
  {
   "cell_type": "code",
   "execution_count": null,
   "id": "c2ea6c79-0594-4605-8382-78cbfc4e2d77",
   "metadata": {
    "tags": []
   },
   "outputs": [],
   "source": [
    "citizen_emp_cred = await accept_credential(citizen_client_controller, citizen_emp_record_id)\n",
    "print(citizen_emp_cred)\n",
    "time.sleep(2)"
   ]
  },
  {
   "cell_type": "code",
   "execution_count": null,
   "id": "0bdcd3ae-d053-4553-b65b-23b6dd7e4f29",
   "metadata": {},
   "outputs": [],
   "source": [
    "time.sleep(2)\n",
    "emp_cred_record = issue_credential_record(employer_client_controller, employer_cred_offer.record_id)\n",
    "\n",
    "emp_credentials, citizen_emp_credential = check_credential_state(employer_client_controller, employer_cred_offer.record_id, citizen_client_controller, citizen_emp_record_id)\n"
   ]
  },
  {
   "cell_type": "markdown",
   "id": "b5abb64a-9460-4090-b1fb-d7a250c3024f",
   "metadata": {
    "tags": []
   },
   "source": [
    "# Dapp Store Flow"
   ]
  },
  {
   "cell_type": "markdown",
   "id": "2ee189ab-0ebb-4e77-bd1b-e064947f0089",
   "metadata": {},
   "source": [
    "## Make connection between Holder and Dapp Store"
   ]
  },
  {
   "cell_type": "code",
   "execution_count": null,
   "id": "51927a34-8ba3-4d62-90f4-e7561323d8da",
   "metadata": {},
   "outputs": [],
   "source": [
    "dapp_conn, citizen_dapp_conn = await auto_connection(dapp_store_client_controller, citizen_client_controller, \"Connection with Dapp Store\")"
   ]
  },
  {
   "cell_type": "markdown",
   "id": "f0263463-0b22-4678-821c-e62b6c482b31",
   "metadata": {
    "tags": []
   },
   "source": [
    "## Citizen Present Employment Proof to Dapp Store Code"
   ]
  },
  {
   "cell_type": "code",
   "execution_count": null,
   "id": "ad7c0233-fc27-4d81-885f-4e7de8627c7f",
   "metadata": {},
   "outputs": [],
   "source": [
    "dapp_proof_request = initiate_proof_request(dapp_store_client_controller, dapp_conn.connection_id)\n",
    "print(dapp_proof_request.presentation_id)"
   ]
  },
  {
   "cell_type": "code",
   "execution_count": null,
   "id": "20db87a0-c3e7-4a24-8e10-f692555c4ffb",
   "metadata": {},
   "outputs": [],
   "source": [
    "government_proofs,citizen_proofs,university_proofs, employer_proofs, dapp_store_proofs = get_all_presentation_requests()\n",
    "print('Dapp proofs', dapp_store_proofs)\n",
    "print('\\nCitizen proofs', citizen_proofs[2])"
   ]
  },
  {
   "cell_type": "code",
   "execution_count": null,
   "id": "3c3cc591-08e7-4ea8-8a63-641e8bc2d43b",
   "metadata": {},
   "outputs": [],
   "source": [
    "print(citizen_proofs[2].presentation_id)\n",
    "print(dapp_store_proofs[0].presentation_id)"
   ]
  },
  {
   "cell_type": "code",
   "execution_count": null,
   "id": "731d8d9f-3b75-41fb-84bb-478262a1ef00",
   "metadata": {},
   "outputs": [],
   "source": [
    "citizen_emp_proof_request = accept_proof(citizen_client_controller, citizen_uni_record_id, citizen_proofs[2].presentation_id)"
   ]
  },
  {
   "cell_type": "code",
   "execution_count": null,
   "id": "5fa471fc-ae62-49c0-a0ce-10ff009e7892",
   "metadata": {},
   "outputs": [],
   "source": [
    "check_presentation_record_status(dapp_store_client_controller, dapp_store_proofs[0].presentation_id, citizen_client_controller, citizen_proofs[2].presentation_id)\n"
   ]
  },
  {
   "cell_type": "markdown",
   "id": "e451edc2-c3da-4c2b-a024-ac77c797cf46",
   "metadata": {},
   "source": [
    "## JWT Verify"
   ]
  },
  {
   "cell_type": "markdown",
   "id": "1fda059b-06a4-4b58-a46e-402690c7f6f9",
   "metadata": {},
   "source": [
    "### Decode JWT in Credential"
   ]
  },
  {
   "cell_type": "code",
   "execution_count": null,
   "id": "e2bc0112-ca29-4b7c-8a95-2cb4e2e4b5b9",
   "metadata": {},
   "outputs": [],
   "source": [
    "citizen_proofs = get_client_presentation_requests(citizen_client_controller)"
   ]
  },
  {
   "cell_type": "code",
   "execution_count": null,
   "id": "efb085a3-21c5-4257-b5c5-9d69c04999cc",
   "metadata": {},
   "outputs": [],
   "source": [
    "# print(citizen_proofs)"
   ]
  },
  {
   "cell_type": "code",
   "execution_count": null,
   "id": "cdce150c-0953-4e4f-be03-06f63c98c19b",
   "metadata": {},
   "outputs": [],
   "source": [
    "# print(citizen_proofs[2].data[0])"
   ]
  },
  {
   "cell_type": "code",
   "execution_count": null,
   "id": "099440d1-aa63-44f8-bd63-3dc6b099db89",
   "metadata": {},
   "outputs": [],
   "source": [
    "token = citizen_proofs[2].data[0]\n",
    "\n",
    "try:\n",
    "    jwt_dapp_decoded_presentation = jwt.decode(token, options={\"verify_signature\": False})\n",
    "    print(json.dumps(jwt_dapp_decoded_presentation, indent=2))\n",
    "except (jwt.ExpiredSignatureError, jwt.InvalidAudienceError) as e:\n",
    "    print(\"[ERROR]\", e)"
   ]
  },
  {
   "cell_type": "code",
   "execution_count": null,
   "id": "5d1a5832-5189-4396-b6c0-6e59222b0310",
   "metadata": {},
   "outputs": [],
   "source": [
    "token = jwt_dapp_decoded_presentation['vp']['verifiableCredential'][0]\n",
    "\n",
    "try:\n",
    "    jwt_dapp_decoded_vc = jwt.decode(token, options={\"verify_signature\": False})\n",
    "    print(json.dumps(jwt_dapp_decoded_vc, indent=2))\n",
    "except (jwt.ExpiredSignatureError, jwt.InvalidAudienceError) as e:\n",
    "    print(\"[ERROR]\", e)"
   ]
  },
  {
   "cell_type": "code",
   "execution_count": null,
   "id": "c40778f0-fb72-4510-a172-0b21dd538950",
   "metadata": {},
   "outputs": [],
   "source": [
    "jwt_nbf = jwt_decoded_id_token['nbf']\n",
    "jwt_exp = jwt_decoded_id_token['exp']\n",
    "print('NBF epoch: {} EXP epoch: {}'.format(jwt_nbf,jwt_exp))\n",
    "\n",
    "human_jwt_nbf = datetime.datetime.fromtimestamp(jwt_nbf)\n",
    "human_jwt_exp = datetime.datetime.fromtimestamp(jwt_exp)\n",
    "print('NBF: {} EXP: {}'.format(human_jwt_nbf,human_jwt_exp))"
   ]
  },
  {
   "cell_type": "markdown",
   "id": "1dc35901-98ab-48a5-b728-76482fd3b8e1",
   "metadata": {
    "tags": []
   },
   "source": [
    "### Resolve DID"
   ]
  },
  {
   "cell_type": "code",
   "execution_count": null,
   "id": "965dc3da-8ded-448b-8407-31b88a1c2e50",
   "metadata": {
    "tags": []
   },
   "outputs": [],
   "source": [
    "resolved_did: Response[DIDResponse] = get_did.sync(client=government_client_controller, did_ref=jwt_edu_decoded_vc['iss'])\n",
    "print(resolved_did.to_dict())"
   ]
  },
  {
   "cell_type": "code",
   "execution_count": null,
   "id": "ba812b32-4279-474a-899e-6db7264ff897",
   "metadata": {},
   "outputs": [],
   "source": [
    "token = jwt_edu_decoded_presentation['vp']['verifiableCredential'][0]\n",
    "\n",
    "jwk = resolved_did.did.authentication[0].public_key_jwk\n",
    "pubKey = jwt.algorithms.ECAlgorithm.from_jwk(json.dumps(jwk.to_dict()))\n",
    "jwt.decode(token , key = pubKey, algorithms=[\"ES256K\"])"
   ]
  },
  {
   "cell_type": "code",
   "execution_count": null,
   "id": "8e4ae399-181a-4335-b166-0e3bacde826a",
   "metadata": {},
   "outputs": [],
   "source": [
    "token = token + 'x'\n",
    "jwt.decode(token , key = pubKey, algorithms=[\"ES256K\"])"
   ]
  },
  {
   "cell_type": "markdown",
   "id": "a557d799-0d4f-44d8-8f0c-ff536ab976ea",
   "metadata": {
    "tags": []
   },
   "source": [
    "## Dapp Store Issue Verified Dapp Credential to Citizen"
   ]
  },
  {
   "cell_type": "code",
   "execution_count": null,
   "id": "30b290b8-531a-4822-8454-304d6e8b8919",
   "metadata": {
    "tags": []
   },
   "outputs": [],
   "source": [
    "sha_input = 'This is awesome code!'\n",
    "sha_output = '605901dc3369ce9cbe2e35235208b9516237848bda05d666b27dee2dc141952e'\n",
    "\n",
    "citizen_dapp_schema = {\n",
    "    \"dapp_name\": 'Prism Dapp',\n",
    "    \"audited_date\": '15/12/2022',\n",
    "    \"audited_by\": 'Super Dev',\n",
    "    \"sha256_checksum\": sha_output,\n",
    "    \"issuedate\": \"21/12/2022\",\n",
    "    \"expiry_date\": \"23/12/2022\"\n",
    "  }\n",
    "\n",
    "dapp_cred = create_credential(citizen_dapp_schema, \"schema:12345:dapp\", dapp_conn.their_did)\n",
    "dapp_cred_offer = send_credential_offer(dapp_store_client_controller, dapp_cred)\n",
    "time.sleep(2)"
   ]
  },
  {
   "cell_type": "code",
   "execution_count": null,
   "id": "ba3c719a-4e9b-4a84-b593-7f011ac2de18",
   "metadata": {
    "tags": []
   },
   "outputs": [],
   "source": [
    "citizen_dapp_creds: Response[IssueCredentialRecordCollection] = get_credential_records.sync(client=citizen_client_controller)\n",
    "for item in citizen_dapp_creds.items:\n",
    "    if item.protocol_state == 'OfferReceived':\n",
    "        citizen_dapp_record_id = item.record_id\n",
    "        citizen_dapp_state = item.protocol_state\n",
    "\n",
    "print(citizen_dapp_record_id)\n",
    "print(citizen_dapp_state)"
   ]
  },
  {
   "cell_type": "code",
   "execution_count": null,
   "id": "7b6f071e-9dfe-4b9a-8536-24017378830b",
   "metadata": {
    "tags": []
   },
   "outputs": [],
   "source": [
    "citizen_dapp_cred = await accept_credential(citizen_client_controller, citizen_dapp_record_id)\n",
    "print(citizen_dapp_cred)\n",
    "time.sleep(2)"
   ]
  },
  {
   "cell_type": "code",
   "execution_count": null,
   "id": "68ec7e89-69c0-4f5a-9107-1dfddda95a87",
   "metadata": {},
   "outputs": [],
   "source": [
    "dapp_cred_record = issue_credential_record(dapp_store_client_controller, dapp_cred_offer.record_id)\n",
    "\n",
    "dapp_credentials, citizen__dapp_credential = check_credential_state(dapp_store_client_controller, dapp_cred_offer.record_id, citizen_client_controller, citizen_dapp_record_id)\n"
   ]
  },
  {
   "cell_type": "code",
   "execution_count": null,
   "id": "6401a447-ea44-4053-89b0-a9ec67431dae",
   "metadata": {},
   "outputs": [],
   "source": []
  }
 ],
 "metadata": {
  "kernelspec": {
   "display_name": "Python 3 (ipykernel)",
   "language": "python",
   "name": "python3"
  },
  "language_info": {
   "codemirror_mode": {
    "name": "ipython",
    "version": 3
   },
   "file_extension": ".py",
   "mimetype": "text/x-python",
   "name": "python",
   "nbconvert_exporter": "python",
   "pygments_lexer": "ipython3",
   "version": "3.10.8"
  }
 },
 "nbformat": 4,
 "nbformat_minor": 5
}
