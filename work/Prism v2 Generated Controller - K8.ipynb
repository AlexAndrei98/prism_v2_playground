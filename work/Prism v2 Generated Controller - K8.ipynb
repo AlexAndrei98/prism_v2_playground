{
 "cells": [
  {
   "cell_type": "markdown",
   "id": "c582acfa-c2cf-4f7d-9284-5d92e13a3152",
   "metadata": {},
   "source": [
    "# Prism V2 Demo - K8"
   ]
  },
  {
   "cell_type": "code",
   "execution_count": 42,
   "id": "3a330e4e-4b76-4848-9515-8cc23253eae4",
   "metadata": {},
   "outputs": [
    {
     "name": "stdout",
     "output_type": "stream",
     "text": [
      "IPython autoawait is `on`, and set to use `asyncio`\n"
     ]
    }
   ],
   "source": [
    "%autoawait\n",
    "import time\n",
    "import re\n",
    "import qrcode\n",
    "import uuid\n",
    "import base64\n",
    "import jwt\n",
    "# https://pypi.org/project/termcolor/\n",
    "from termcolor import colored,cprint\n",
    "import os\n",
    "\n",
    "from dotenv import load_dotenv\n",
    "load_dotenv()\n",
    "APIKEY = os.getenv('APIKEY')"
   ]
  },
  {
   "cell_type": "markdown",
   "id": "a9705d2d-edb1-45ac-badf-82555be341e5",
   "metadata": {},
   "source": [
    "## Import Prism V2 Controller Library"
   ]
  },
  {
   "cell_type": "code",
   "execution_count": 43,
   "id": "af46eabf-95b4-4be7-b17e-528a93786ab1",
   "metadata": {},
   "outputs": [],
   "source": [
    "from prism_agent_open_api_specification_client import AuthenticatedClient"
   ]
  },
  {
   "cell_type": "markdown",
   "id": "dd5724d4-2792-4aef-9318-133cce492616",
   "metadata": {},
   "source": [
    "## Instantiate K8 Authenticated Agent Controllers"
   ]
  },
  {
   "cell_type": "code",
   "execution_count": 44,
   "id": "1b1a8792-7156-4a7b-8685-2f8e50516e2d",
   "metadata": {},
   "outputs": [],
   "source": [
    "from prism_agent_open_api_specification_client import AuthenticatedClient\n",
    "\n",
    "# {\n",
    "#   id     = \"agent-sd67m\"\n",
    "#   domain = \"agent-sd67m.atalaprism.io\"\n",
    "# },\n",
    "# {\n",
    "#   id     = \"agent-gr27n\"\n",
    "#   domain = \"agent-gr27n.atalaprism.io\"\n",
    "# },\n",
    "# {\n",
    "#   id     = \"agent-er56m\"\n",
    "#   domain = \"agent-er56m.atalaprism.io\"\n",
    "# }\n",
    "\n",
    "issuer_client_controller = AuthenticatedClient(base_url=\"https://agent-sd67m.atalaprism.io/prism-agent\", token=APIKEY)\n",
    "holder_client_controller = AuthenticatedClient(base_url=\"https://agent-gr27n.atalaprism.io/prism-agent\", token=APIKEY)\n",
    "verifier_client_controller = AuthenticatedClient(base_url=\"https://agent-er56m.atalaprism.io/prism-agent\", token=APIKEY)"
   ]
  },
  {
   "cell_type": "markdown",
   "id": "8be17400-46a2-44ba-8d5a-7f77f577621c",
   "metadata": {},
   "source": [
    "## Import Connection Management Models and API Client"
   ]
  },
  {
   "cell_type": "code",
   "execution_count": 45,
   "id": "f2702446-0e53-40c0-ba35-de6f923cafe1",
   "metadata": {},
   "outputs": [],
   "source": [
    "from prism_agent_open_api_specification_client.models import ConnectionCollection,Connection,ConnectionInvitation,CreateConnectionRequest,AcceptConnectionInvitationRequest\n",
    "from prism_agent_open_api_specification_client.api.connections_management import get_connections,get_connection,create_connection,accept_connection_invitation\n",
    "from prism_agent_open_api_specification_client.types import Response"
   ]
  },
  {
   "cell_type": "markdown",
   "id": "72aaf72b-9d70-48d0-b109-5ba8eaef2f2d",
   "metadata": {},
   "source": [
    "## Check Agent Connections"
   ]
  },
  {
   "cell_type": "code",
   "execution_count": 46,
   "id": "4397d3aa-34d2-4d96-8996-1f908d32bb5c",
   "metadata": {},
   "outputs": [
    {
     "name": "stdout",
     "output_type": "stream",
     "text": [
      "Issuer Connections:\n",
      "ConnectionCollection(self_='/collections', kind='Collection', contents=[Connection(self_='Connection', kind='/connections/ffb61ca1-be69-4ba8-9639-a36fea06bd63', connection_id='ffb61ca1-be69-4ba8-9639-a36fea06bd63', state=<ConnectionAllOfState.ConnectionResponseSent: 'ConnectionResponseSent'>, created_at=datetime.datetime(2022, 12, 19, 23, 45, 23, tzinfo=tzutc()), invitation=ConnectionInvitation(id='ffb61ca1-be69-4ba8-9639-a36fea06bd63', type='https://didcomm.org/out-of-band/2.0/invitation', from_='did:peer:2.Ez6LSi1DoS8BjWLGRJvT2iwTv9UvHJASC6p7CdRtvPwBUUzQa.Vz6Mkty3d3dfgEVzWUQfZpnaXgC4YySrYpk1SHoJDqYtqChZV.SeyJ0IjoiZG0iLCJzIjoiaHR0cHM6Ly9hZ2VudC1zZDY3bS5hdGFsYXByaXNtLmlvL3ByaXNtLWFnZW50L2RpZGNvbW0iLCJyIjpbXSwiYSI6WyJkaWRjb21tL3YyIl19', invitation_url='https://domain.com/path?_oob=eyJpZCI6ImZmYjYxY2ExLWJlNjktNGJhOC05NjM5LWEzNmZlYTA2YmQ2MyIsInR5cGUiOiJodHRwczovL2RpZGNvbW0ub3JnL291dC1vZi1iYW5kLzIuMC9pbnZpdGF0aW9uIiwiZnJvbSI6ImRpZDpwZWVyOjIuRXo2TFNpMURvUzhCaldMR1JKdlQyaXdUdjlVdkhKQVNDNnA3Q2RSdHZQd0JVVXpRYS5WejZNa3R5M2QzZGZnRVZ6V1VRZlpwbmFYZ0M0WXlTcllwazFTSG9KRHFZdHFDaFpWLlNleUowSWpvaVpHMGlMQ0p6SWpvaWFIUjBjSE02THk5aFoyVnVkQzF6WkRZM2JTNWhkR0ZzWVhCeWFYTnRMbWx2TDNCeWFYTnRMV0ZuWlc1MEwyUnBaR052YlcwaUxDSnlJanBiWFN3aVlTSTZXeUprYVdSamIyMXRMM1l5SWwxOSIsImJvZHkiOnsiZ29hbF9jb2RlIjoiY29ubmVjdCIsImdvYWwiOiJFc3RhYmxpc2ggYSB0cnVzdCBjb25uZWN0aW9uIGJldHdlZW4gdHdvIHBlZXJzIiwiYWNjZXB0IjpbXX19', additional_properties={}), label='Connect with Holder', my_did='did:peer:2.Ez6LSi1DoS8BjWLGRJvT2iwTv9UvHJASC6p7CdRtvPwBUUzQa.Vz6Mkty3d3dfgEVzWUQfZpnaXgC4YySrYpk1SHoJDqYtqChZV.SeyJ0IjoiZG0iLCJzIjoiaHR0cHM6Ly9hZ2VudC1zZDY3bS5hdGFsYXByaXNtLmlvL3ByaXNtLWFnZW50L2RpZGNvbW0iLCJyIjpbXSwiYSI6WyJkaWRjb21tL3YyIl19', their_did='did:peer:2.Ez6LSsnhMrkzLMyr5o8RyWtRg44Ap62gieWz684tkcQMB7DLQ.Vz6Mkm4BRoKpCcPJTWRezAkM5fLtKmcUzaFqQ6fr5cGtbhgQZ.SeyJ0IjoiZG0iLCJzIjoiaHR0cHM6Ly9hZ2VudC1ncjI3bi5hdGFsYXByaXNtLmlvL3ByaXNtLWFnZW50L2RpZGNvbW0iLCJyIjpbXSwiYSI6WyJkaWRjb21tL3YyIl19', updated_at=datetime.datetime(2022, 12, 19, 23, 45, 39, tzinfo=tzutc()), additional_properties={}), Connection(self_='Connection', kind='/connections/bf328121-c4b7-4ba4-a799-998a637e4e80', connection_id='bf328121-c4b7-4ba4-a799-998a637e4e80', state=<ConnectionAllOfState.ConnectionResponseSent: 'ConnectionResponseSent'>, created_at=datetime.datetime(2022, 12, 19, 23, 2, 3, tzinfo=tzutc()), invitation=ConnectionInvitation(id='bf328121-c4b7-4ba4-a799-998a637e4e80', type='https://didcomm.org/out-of-band/2.0/invitation', from_='did:peer:2.Ez6LSsFgPwvvxsJy4Tzw8Aj1avWnZcPALUyZDwEWfn4QfJaAJ.Vz6MkoM4oGjqrTUke94MeHZhkXqKqo1E2wYAkFe3EH5muaNAg.SeyJ0IjoiZG0iLCJzIjoiaHR0cHM6Ly9hZ2VudC1zZDY3bS5hdGFsYXByaXNtLmlvL3ByaXNtLWFnZW50L2RpZGNvbW0iLCJyIjpbXSwiYSI6WyJkaWRjb21tL3YyIl19', invitation_url='https://domain.com/path?_oob=eyJpZCI6ImJmMzI4MTIxLWM0YjctNGJhNC1hNzk5LTk5OGE2MzdlNGU4MCIsInR5cGUiOiJodHRwczovL2RpZGNvbW0ub3JnL291dC1vZi1iYW5kLzIuMC9pbnZpdGF0aW9uIiwiZnJvbSI6ImRpZDpwZWVyOjIuRXo2TFNzRmdQd3Z2eHNKeTRUenc4QWoxYXZXblpjUEFMVXlaRHdFV2ZuNFFmSmFBSi5WejZNa29NNG9HanFyVFVrZTk0TWVIWmhrWHFLcW8xRTJ3WUFrRmUzRUg1bXVhTkFnLlNleUowSWpvaVpHMGlMQ0p6SWpvaWFIUjBjSE02THk5aFoyVnVkQzF6WkRZM2JTNWhkR0ZzWVhCeWFYTnRMbWx2TDNCeWFYTnRMV0ZuWlc1MEwyUnBaR052YlcwaUxDSnlJanBiWFN3aVlTSTZXeUprYVdSamIyMXRMM1l5SWwxOSIsImJvZHkiOnsiZ29hbF9jb2RlIjoiY29ubmVjdCIsImdvYWwiOiJFc3RhYmxpc2ggYSB0cnVzdCBjb25uZWN0aW9uIGJldHdlZW4gdHdvIHBlZXJzIiwiYWNjZXB0IjpbXX19', additional_properties={}), label='Connect with Holder', my_did='did:peer:2.Ez6LSsFgPwvvxsJy4Tzw8Aj1avWnZcPALUyZDwEWfn4QfJaAJ.Vz6MkoM4oGjqrTUke94MeHZhkXqKqo1E2wYAkFe3EH5muaNAg.SeyJ0IjoiZG0iLCJzIjoiaHR0cHM6Ly9hZ2VudC1zZDY3bS5hdGFsYXByaXNtLmlvL3ByaXNtLWFnZW50L2RpZGNvbW0iLCJyIjpbXSwiYSI6WyJkaWRjb21tL3YyIl19', their_did='did:peer:2.Ez6LSejUdL5Xv6iREpd5x82psUfBAvgypqHfJ3t9S2WDnkLRr.Vz6MkqCAankSAS4Qi4oGyRt7GLGVGx9ZgSxLWoep3HFstcscK.SeyJ0IjoiZG0iLCJzIjoiaHR0cHM6Ly9hZ2VudC1ncjI3bi5hdGFsYXByaXNtLmlvL3ByaXNtLWFnZW50L2RpZGNvbW0iLCJyIjpbXSwiYSI6WyJkaWRjb21tL3YyIl19', updated_at=datetime.datetime(2022, 12, 19, 23, 2, 34, tzinfo=tzutc()), additional_properties={})], additional_properties={})\n",
      "Holder Connections:\n",
      "ConnectionCollection(self_='/collections', kind='Collection', contents=[Connection(self_='Connection', kind='/connections/63ec2b5c-8923-4f05-99ef-a4571c9bc6e5', connection_id='63ec2b5c-8923-4f05-99ef-a4571c9bc6e5', state=<ConnectionAllOfState.ConnectionResponseReceived: 'ConnectionResponseReceived'>, created_at=datetime.datetime(2022, 12, 19, 23, 2, 8, tzinfo=tzutc()), invitation=ConnectionInvitation(id='bf328121-c4b7-4ba4-a799-998a637e4e80', type='https://didcomm.org/out-of-band/2.0/invitation', from_='did:peer:2.Ez6LSsFgPwvvxsJy4Tzw8Aj1avWnZcPALUyZDwEWfn4QfJaAJ.Vz6MkoM4oGjqrTUke94MeHZhkXqKqo1E2wYAkFe3EH5muaNAg.SeyJ0IjoiZG0iLCJzIjoiaHR0cHM6Ly9hZ2VudC1zZDY3bS5hdGFsYXByaXNtLmlvL3ByaXNtLWFnZW50L2RpZGNvbW0iLCJyIjpbXSwiYSI6WyJkaWRjb21tL3YyIl19', invitation_url='https://domain.com/path?_oob=eyJpZCI6ImJmMzI4MTIxLWM0YjctNGJhNC1hNzk5LTk5OGE2MzdlNGU4MCIsInR5cGUiOiJodHRwczovL2RpZGNvbW0ub3JnL291dC1vZi1iYW5kLzIuMC9pbnZpdGF0aW9uIiwiZnJvbSI6ImRpZDpwZWVyOjIuRXo2TFNzRmdQd3Z2eHNKeTRUenc4QWoxYXZXblpjUEFMVXlaRHdFV2ZuNFFmSmFBSi5WejZNa29NNG9HanFyVFVrZTk0TWVIWmhrWHFLcW8xRTJ3WUFrRmUzRUg1bXVhTkFnLlNleUowSWpvaVpHMGlMQ0p6SWpvaWFIUjBjSE02THk5aFoyVnVkQzF6WkRZM2JTNWhkR0ZzWVhCeWFYTnRMbWx2TDNCeWFYTnRMV0ZuWlc1MEwyUnBaR052YlcwaUxDSnlJanBiWFN3aVlTSTZXeUprYVdSamIyMXRMM1l5SWwxOSIsImJvZHkiOnsiZ29hbF9jb2RlIjoiY29ubmVjdCIsImdvYWwiOiJFc3RhYmxpc2ggYSB0cnVzdCBjb25uZWN0aW9uIGJldHdlZW4gdHdvIHBlZXJzIiwiYWNjZXB0IjpbXX19', additional_properties={}), label=<prism_agent_open_api_specification_client.types.Unset object at 0x7f127eccf940>, my_did='did:peer:2.Ez6LSejUdL5Xv6iREpd5x82psUfBAvgypqHfJ3t9S2WDnkLRr.Vz6MkqCAankSAS4Qi4oGyRt7GLGVGx9ZgSxLWoep3HFstcscK.SeyJ0IjoiZG0iLCJzIjoiaHR0cHM6Ly9hZ2VudC1ncjI3bi5hdGFsYXByaXNtLmlvL3ByaXNtLWFnZW50L2RpZGNvbW0iLCJyIjpbXSwiYSI6WyJkaWRjb21tL3YyIl19', their_did='did:peer:2.Ez6LSsFgPwvvxsJy4Tzw8Aj1avWnZcPALUyZDwEWfn4QfJaAJ.Vz6MkoM4oGjqrTUke94MeHZhkXqKqo1E2wYAkFe3EH5muaNAg.SeyJ0IjoiZG0iLCJzIjoiaHR0cHM6Ly9hZ2VudC1zZDY3bS5hdGFsYXByaXNtLmlvL3ByaXNtLWFnZW50L2RpZGNvbW0iLCJyIjpbXSwiYSI6WyJkaWRjb21tL3YyIl19', updated_at=datetime.datetime(2022, 12, 19, 23, 2, 32, tzinfo=tzutc()), additional_properties={}), Connection(self_='Connection', kind='/connections/83e50a9e-a1fa-4e17-9b1c-a19da204ce3c', connection_id='83e50a9e-a1fa-4e17-9b1c-a19da204ce3c', state=<ConnectionAllOfState.ConnectionRequestSent: 'ConnectionRequestSent'>, created_at=datetime.datetime(2022, 12, 19, 23, 45, 25, tzinfo=tzutc()), invitation=ConnectionInvitation(id='ffb61ca1-be69-4ba8-9639-a36fea06bd63', type='https://didcomm.org/out-of-band/2.0/invitation', from_='did:peer:2.Ez6LSi1DoS8BjWLGRJvT2iwTv9UvHJASC6p7CdRtvPwBUUzQa.Vz6Mkty3d3dfgEVzWUQfZpnaXgC4YySrYpk1SHoJDqYtqChZV.SeyJ0IjoiZG0iLCJzIjoiaHR0cHM6Ly9hZ2VudC1zZDY3bS5hdGFsYXByaXNtLmlvL3ByaXNtLWFnZW50L2RpZGNvbW0iLCJyIjpbXSwiYSI6WyJkaWRjb21tL3YyIl19', invitation_url='https://domain.com/path?_oob=eyJpZCI6ImZmYjYxY2ExLWJlNjktNGJhOC05NjM5LWEzNmZlYTA2YmQ2MyIsInR5cGUiOiJodHRwczovL2RpZGNvbW0ub3JnL291dC1vZi1iYW5kLzIuMC9pbnZpdGF0aW9uIiwiZnJvbSI6ImRpZDpwZWVyOjIuRXo2TFNpMURvUzhCaldMR1JKdlQyaXdUdjlVdkhKQVNDNnA3Q2RSdHZQd0JVVXpRYS5WejZNa3R5M2QzZGZnRVZ6V1VRZlpwbmFYZ0M0WXlTcllwazFTSG9KRHFZdHFDaFpWLlNleUowSWpvaVpHMGlMQ0p6SWpvaWFIUjBjSE02THk5aFoyVnVkQzF6WkRZM2JTNWhkR0ZzWVhCeWFYTnRMbWx2TDNCeWFYTnRMV0ZuWlc1MEwyUnBaR052YlcwaUxDSnlJanBiWFN3aVlTSTZXeUprYVdSamIyMXRMM1l5SWwxOSIsImJvZHkiOnsiZ29hbF9jb2RlIjoiY29ubmVjdCIsImdvYWwiOiJFc3RhYmxpc2ggYSB0cnVzdCBjb25uZWN0aW9uIGJldHdlZW4gdHdvIHBlZXJzIiwiYWNjZXB0IjpbXX19', additional_properties={}), label=<prism_agent_open_api_specification_client.types.Unset object at 0x7f127eccf940>, my_did='did:peer:2.Ez6LSsnhMrkzLMyr5o8RyWtRg44Ap62gieWz684tkcQMB7DLQ.Vz6Mkm4BRoKpCcPJTWRezAkM5fLtKmcUzaFqQ6fr5cGtbhgQZ.SeyJ0IjoiZG0iLCJzIjoiaHR0cHM6Ly9hZ2VudC1ncjI3bi5hdGFsYXByaXNtLmlvL3ByaXNtLWFnZW50L2RpZGNvbW0iLCJyIjpbXSwiYSI6WyJkaWRjb21tL3YyIl19', their_did='did:peer:2.Ez6LSi1DoS8BjWLGRJvT2iwTv9UvHJASC6p7CdRtvPwBUUzQa.Vz6Mkty3d3dfgEVzWUQfZpnaXgC4YySrYpk1SHoJDqYtqChZV.SeyJ0IjoiZG0iLCJzIjoiaHR0cHM6Ly9hZ2VudC1zZDY3bS5hdGFsYXByaXNtLmlvL3ByaXNtLWFnZW50L2RpZGNvbW0iLCJyIjpbXSwiYSI6WyJkaWRjb21tL3YyIl19', updated_at=datetime.datetime(2022, 12, 19, 23, 45, 37, tzinfo=tzutc()), additional_properties={})], additional_properties={})\n",
      "Verifier Connections:\n",
      "ConnectionCollection(self_='/collections', kind='Collection', contents=[], additional_properties={})\n"
     ]
    }
   ],
   "source": [
    "issuer_conns: Response[ConnectionCollection] = get_connections.sync(client=issuer_client_controller)\n",
    "holder_conns: Response[ConnectionCollection] = get_connections.sync(client=holder_client_controller)\n",
    "verifier_conns: Response[ConnectionCollection] = get_connections.sync(client=verifier_client_controller)\n",
    "print(\"Issuer Connections:\\n{}\\nHolder Connections:\\n{}\\nVerifier Connections:\\n{}\".format(issuer_conns, holder_conns,verifier_conns))"
   ]
  },
  {
   "cell_type": "markdown",
   "id": "e51eb416-e59f-4241-993a-44a08c62e8b4",
   "metadata": {},
   "source": [
    "## Issuer Connects with Holder"
   ]
  },
  {
   "cell_type": "code",
   "execution_count": 23,
   "id": "e3a740cd-7b3a-459e-bd45-f45ced77832f",
   "metadata": {
    "tags": []
   },
   "outputs": [
    {
     "name": "stdout",
     "output_type": "stream",
     "text": [
      "Response:\n",
      " Connection(self_='Connection', kind='/connections/ffb61ca1-be69-4ba8-9639-a36fea06bd63', connection_id='ffb61ca1-be69-4ba8-9639-a36fea06bd63', state=<ConnectionAllOfState.InvitationGenerated: 'InvitationGenerated'>, created_at=datetime.datetime(2022, 12, 19, 23, 45, 23, 285805, tzinfo=tzutc()), invitation=ConnectionInvitation(id='ffb61ca1-be69-4ba8-9639-a36fea06bd63', type='https://didcomm.org/out-of-band/2.0/invitation', from_='did:peer:2.Ez6LSi1DoS8BjWLGRJvT2iwTv9UvHJASC6p7CdRtvPwBUUzQa.Vz6Mkty3d3dfgEVzWUQfZpnaXgC4YySrYpk1SHoJDqYtqChZV.SeyJ0IjoiZG0iLCJzIjoiaHR0cHM6Ly9hZ2VudC1zZDY3bS5hdGFsYXByaXNtLmlvL3ByaXNtLWFnZW50L2RpZGNvbW0iLCJyIjpbXSwiYSI6WyJkaWRjb21tL3YyIl19', invitation_url='https://domain.com/path?_oob=eyJpZCI6ImZmYjYxY2ExLWJlNjktNGJhOC05NjM5LWEzNmZlYTA2YmQ2MyIsInR5cGUiOiJodHRwczovL2RpZGNvbW0ub3JnL291dC1vZi1iYW5kLzIuMC9pbnZpdGF0aW9uIiwiZnJvbSI6ImRpZDpwZWVyOjIuRXo2TFNpMURvUzhCaldMR1JKdlQyaXdUdjlVdkhKQVNDNnA3Q2RSdHZQd0JVVXpRYS5WejZNa3R5M2QzZGZnRVZ6V1VRZlpwbmFYZ0M0WXlTcllwazFTSG9KRHFZdHFDaFpWLlNleUowSWpvaVpHMGlMQ0p6SWpvaWFIUjBjSE02THk5aFoyVnVkQzF6WkRZM2JTNWhkR0ZzWVhCeWFYTnRMbWx2TDNCeWFYTnRMV0ZuWlc1MEwyUnBaR052YlcwaUxDSnlJanBiWFN3aVlTSTZXeUprYVdSamIyMXRMM1l5SWwxOSIsImJvZHkiOnsiZ29hbF9jb2RlIjoiY29ubmVjdCIsImdvYWwiOiJFc3RhYmxpc2ggYSB0cnVzdCBjb25uZWN0aW9uIGJldHdlZW4gdHdvIHBlZXJzIiwiYWNjZXB0IjpbXX19', additional_properties={}), label='Connect with Holder', my_did=<prism_agent_open_api_specification_client.types.Unset object at 0x7f127eccf940>, their_did=<prism_agent_open_api_specification_client.types.Unset object at 0x7f127eccf940>, updated_at=<prism_agent_open_api_specification_client.types.Unset object at 0x7f127eccf940>, additional_properties={})\n",
      "Connection ID\n",
      " ffb61ca1-be69-4ba8-9639-a36fea06bd63\n",
      "Invitation Base64\n",
      " eyJpZCI6ImZmYjYxY2ExLWJlNjktNGJhOC05NjM5LWEzNmZlYTA2YmQ2MyIsInR5cGUiOiJodHRwczovL2RpZGNvbW0ub3JnL291dC1vZi1iYW5kLzIuMC9pbnZpdGF0aW9uIiwiZnJvbSI6ImRpZDpwZWVyOjIuRXo2TFNpMURvUzhCaldMR1JKdlQyaXdUdjlVdkhKQVNDNnA3Q2RSdHZQd0JVVXpRYS5WejZNa3R5M2QzZGZnRVZ6V1VRZlpwbmFYZ0M0WXlTcllwazFTSG9KRHFZdHFDaFpWLlNleUowSWpvaVpHMGlMQ0p6SWpvaWFIUjBjSE02THk5aFoyVnVkQzF6WkRZM2JTNWhkR0ZzWVhCeWFYTnRMbWx2TDNCeWFYTnRMV0ZuWlc1MEwyUnBaR052YlcwaUxDSnlJanBiWFN3aVlTSTZXeUprYVdSamIyMXRMM1l5SWwxOSIsImJvZHkiOnsiZ29hbF9jb2RlIjoiY29ubmVjdCIsImdvYWwiOiJFc3RhYmxpc2ggYSB0cnVzdCBjb25uZWN0aW9uIGJldHdlZW4gdHdvIHBlZXJzIiwiYWNjZXB0IjpbXX19\n"
     ]
    }
   ],
   "source": [
    "# Create Invitation\n",
    "conn_request = CreateConnectionRequest()\n",
    "conn_request.label = 'Connect with Holder'\n",
    "issuer_invitation: Response[Connection] =  create_connection.sync(client=issuer_client_controller,json_body=conn_request)\n",
    "\n",
    "print(\"Response:\\n\",issuer_invitation)\n",
    "print(\"Connection ID\\n\",issuer_invitation.connection_id)\n",
    "# print(\"Invitation URL\\n\",issuer_invitation.invitation.invitation_url)\n",
    "issuer_invitationUrlbase64 = re.sub(\"^.*_oob=\", \"\", issuer_invitation.invitation.invitation_url)\n",
    "print(\"Invitation Base64\\n\",issuer_invitationUrlbase64)"
   ]
  },
  {
   "cell_type": "markdown",
   "id": "780ca6de-ad7a-4e9a-9ed7-913f27d79c14",
   "metadata": {},
   "source": [
    "## Holder Accepts Invitation from Issuer"
   ]
  },
  {
   "cell_type": "code",
   "execution_count": 24,
   "id": "0ef0073f-5064-4127-bf40-dbe261479986",
   "metadata": {
    "tags": []
   },
   "outputs": [
    {
     "name": "stdout",
     "output_type": "stream",
     "text": [
      "Connection(self_='Connection', kind='/connections/83e50a9e-a1fa-4e17-9b1c-a19da204ce3c', connection_id='83e50a9e-a1fa-4e17-9b1c-a19da204ce3c', state=<ConnectionAllOfState.ConnectionRequestPending: 'ConnectionRequestPending'>, created_at=datetime.datetime(2022, 12, 19, 23, 45, 25, tzinfo=tzutc()), invitation=ConnectionInvitation(id='ffb61ca1-be69-4ba8-9639-a36fea06bd63', type='https://didcomm.org/out-of-band/2.0/invitation', from_='did:peer:2.Ez6LSi1DoS8BjWLGRJvT2iwTv9UvHJASC6p7CdRtvPwBUUzQa.Vz6Mkty3d3dfgEVzWUQfZpnaXgC4YySrYpk1SHoJDqYtqChZV.SeyJ0IjoiZG0iLCJzIjoiaHR0cHM6Ly9hZ2VudC1zZDY3bS5hdGFsYXByaXNtLmlvL3ByaXNtLWFnZW50L2RpZGNvbW0iLCJyIjpbXSwiYSI6WyJkaWRjb21tL3YyIl19', invitation_url='https://domain.com/path?_oob=eyJpZCI6ImZmYjYxY2ExLWJlNjktNGJhOC05NjM5LWEzNmZlYTA2YmQ2MyIsInR5cGUiOiJodHRwczovL2RpZGNvbW0ub3JnL291dC1vZi1iYW5kLzIuMC9pbnZpdGF0aW9uIiwiZnJvbSI6ImRpZDpwZWVyOjIuRXo2TFNpMURvUzhCaldMR1JKdlQyaXdUdjlVdkhKQVNDNnA3Q2RSdHZQd0JVVXpRYS5WejZNa3R5M2QzZGZnRVZ6V1VRZlpwbmFYZ0M0WXlTcllwazFTSG9KRHFZdHFDaFpWLlNleUowSWpvaVpHMGlMQ0p6SWpvaWFIUjBjSE02THk5aFoyVnVkQzF6WkRZM2JTNWhkR0ZzWVhCeWFYTnRMbWx2TDNCeWFYTnRMV0ZuWlc1MEwyUnBaR052YlcwaUxDSnlJanBiWFN3aVlTSTZXeUprYVdSamIyMXRMM1l5SWwxOSIsImJvZHkiOnsiZ29hbF9jb2RlIjoiY29ubmVjdCIsImdvYWwiOiJFc3RhYmxpc2ggYSB0cnVzdCBjb25uZWN0aW9uIGJldHdlZW4gdHdvIHBlZXJzIiwiYWNjZXB0IjpbXX19', additional_properties={}), label=<prism_agent_open_api_specification_client.types.Unset object at 0x7f127eccf940>, my_did='did:peer:2.Ez6LSsnhMrkzLMyr5o8RyWtRg44Ap62gieWz684tkcQMB7DLQ.Vz6Mkm4BRoKpCcPJTWRezAkM5fLtKmcUzaFqQ6fr5cGtbhgQZ.SeyJ0IjoiZG0iLCJzIjoiaHR0cHM6Ly9hZ2VudC1ncjI3bi5hdGFsYXByaXNtLmlvL3ByaXNtLWFnZW50L2RpZGNvbW0iLCJyIjpbXSwiYSI6WyJkaWRjb21tL3YyIl19', their_did='did:peer:2.Ez6LSi1DoS8BjWLGRJvT2iwTv9UvHJASC6p7CdRtvPwBUUzQa.Vz6Mkty3d3dfgEVzWUQfZpnaXgC4YySrYpk1SHoJDqYtqChZV.SeyJ0IjoiZG0iLCJzIjoiaHR0cHM6Ly9hZ2VudC1zZDY3bS5hdGFsYXByaXNtLmlvL3ByaXNtLWFnZW50L2RpZGNvbW0iLCJyIjpbXSwiYSI6WyJkaWRjb21tL3YyIl19', updated_at=datetime.datetime(2022, 12, 19, 23, 45, 25, tzinfo=tzutc()), additional_properties={})\n"
     ]
    }
   ],
   "source": [
    "# Accept Invitation\n",
    "accept_conn_request = AcceptConnectionInvitationRequest(issuer_invitationUrlbase64)\n",
    "holder_invitation: Response[ConnectionInvitation] =  accept_connection_invitation.sync(client=holder_client_controller,json_body=accept_conn_request)\n",
    "print(holder_invitation)"
   ]
  },
  {
   "cell_type": "markdown",
   "id": "de2a2543-8711-4899-9616-c12063ec208e",
   "metadata": {},
   "source": [
    "## Check Issuer and Holder Connection State"
   ]
  },
  {
   "cell_type": "code",
   "execution_count": 25,
   "id": "31efd85a-cfdf-41fd-951b-2eb2aaa32365",
   "metadata": {},
   "outputs": [
    {
     "name": "stdout",
     "output_type": "stream",
     "text": [
      "Issuer State: InvitationGenerated Holder State: ConnectionRequestPending \n",
      "\n",
      "Issuer State: InvitationGenerated Holder State: ConnectionRequestPending \n",
      "\n",
      "Issuer State: ConnectionResponsePending Holder State: ConnectionRequestPending \n",
      "\n",
      "Issuer State: ConnectionResponseSent Holder State: ConnectionRequestSent \n",
      "\n",
      "Connection established between Issuer and Holder!\n"
     ]
    }
   ],
   "source": [
    "# Check Connection State\n",
    "issuer_conn: Response[Connection] =  get_connection.sync(client=issuer_client_controller,connection_id=issuer_invitation.connection_id)\n",
    "holder_conn: Response[Connection] =  get_connection.sync(client=holder_client_controller,connection_id=holder_invitation.connection_id)\n",
    "\n",
    "while (issuer_conn.state != 'ConnectionResponseSent' and holder_conn.state != 'ConnectionResponseReceived'):\n",
    "    issuer_conn: Response[Connection] =  get_connection.sync(client=issuer_client_controller,connection_id=issuer_invitation.connection_id)\n",
    "    holder_conn: Response[Connection] =  get_connection.sync(client=holder_client_controller,connection_id=holder_invitation.connection_id)\n",
    "    print(\"Issuer State: {} Holder State: {} \\n\".format(issuer_conn.state,holder_conn.state))\n",
    "    time.sleep(1)\n",
    "    \n",
    "print(\"Connection established between Issuer and Holder!\")"
   ]
  },
  {
   "cell_type": "markdown",
   "id": "220ee16e-a902-4aa8-8b27-1507a5588bdd",
   "metadata": {},
   "source": [
    "## Check Agent Connections"
   ]
  },
  {
   "cell_type": "code",
   "execution_count": 26,
   "id": "d284397d-69cb-432f-8c71-5fd420b666da",
   "metadata": {},
   "outputs": [
    {
     "name": "stdout",
     "output_type": "stream",
     "text": [
      "Issuer Connections:\n",
      "ConnectionCollection(self_='/collections', kind='Collection', contents=[Connection(self_='Connection', kind='/connections/ffb61ca1-be69-4ba8-9639-a36fea06bd63', connection_id='ffb61ca1-be69-4ba8-9639-a36fea06bd63', state=<ConnectionAllOfState.ConnectionResponseSent: 'ConnectionResponseSent'>, created_at=datetime.datetime(2022, 12, 19, 23, 45, 23, tzinfo=tzutc()), invitation=ConnectionInvitation(id='ffb61ca1-be69-4ba8-9639-a36fea06bd63', type='https://didcomm.org/out-of-band/2.0/invitation', from_='did:peer:2.Ez6LSi1DoS8BjWLGRJvT2iwTv9UvHJASC6p7CdRtvPwBUUzQa.Vz6Mkty3d3dfgEVzWUQfZpnaXgC4YySrYpk1SHoJDqYtqChZV.SeyJ0IjoiZG0iLCJzIjoiaHR0cHM6Ly9hZ2VudC1zZDY3bS5hdGFsYXByaXNtLmlvL3ByaXNtLWFnZW50L2RpZGNvbW0iLCJyIjpbXSwiYSI6WyJkaWRjb21tL3YyIl19', invitation_url='https://domain.com/path?_oob=eyJpZCI6ImZmYjYxY2ExLWJlNjktNGJhOC05NjM5LWEzNmZlYTA2YmQ2MyIsInR5cGUiOiJodHRwczovL2RpZGNvbW0ub3JnL291dC1vZi1iYW5kLzIuMC9pbnZpdGF0aW9uIiwiZnJvbSI6ImRpZDpwZWVyOjIuRXo2TFNpMURvUzhCaldMR1JKdlQyaXdUdjlVdkhKQVNDNnA3Q2RSdHZQd0JVVXpRYS5WejZNa3R5M2QzZGZnRVZ6V1VRZlpwbmFYZ0M0WXlTcllwazFTSG9KRHFZdHFDaFpWLlNleUowSWpvaVpHMGlMQ0p6SWpvaWFIUjBjSE02THk5aFoyVnVkQzF6WkRZM2JTNWhkR0ZzWVhCeWFYTnRMbWx2TDNCeWFYTnRMV0ZuWlc1MEwyUnBaR052YlcwaUxDSnlJanBiWFN3aVlTSTZXeUprYVdSamIyMXRMM1l5SWwxOSIsImJvZHkiOnsiZ29hbF9jb2RlIjoiY29ubmVjdCIsImdvYWwiOiJFc3RhYmxpc2ggYSB0cnVzdCBjb25uZWN0aW9uIGJldHdlZW4gdHdvIHBlZXJzIiwiYWNjZXB0IjpbXX19', additional_properties={}), label='Connect with Holder', my_did='did:peer:2.Ez6LSi1DoS8BjWLGRJvT2iwTv9UvHJASC6p7CdRtvPwBUUzQa.Vz6Mkty3d3dfgEVzWUQfZpnaXgC4YySrYpk1SHoJDqYtqChZV.SeyJ0IjoiZG0iLCJzIjoiaHR0cHM6Ly9hZ2VudC1zZDY3bS5hdGFsYXByaXNtLmlvL3ByaXNtLWFnZW50L2RpZGNvbW0iLCJyIjpbXSwiYSI6WyJkaWRjb21tL3YyIl19', their_did='did:peer:2.Ez6LSsnhMrkzLMyr5o8RyWtRg44Ap62gieWz684tkcQMB7DLQ.Vz6Mkm4BRoKpCcPJTWRezAkM5fLtKmcUzaFqQ6fr5cGtbhgQZ.SeyJ0IjoiZG0iLCJzIjoiaHR0cHM6Ly9hZ2VudC1ncjI3bi5hdGFsYXByaXNtLmlvL3ByaXNtLWFnZW50L2RpZGNvbW0iLCJyIjpbXSwiYSI6WyJkaWRjb21tL3YyIl19', updated_at=datetime.datetime(2022, 12, 19, 23, 45, 39, tzinfo=tzutc()), additional_properties={}), Connection(self_='Connection', kind='/connections/bf328121-c4b7-4ba4-a799-998a637e4e80', connection_id='bf328121-c4b7-4ba4-a799-998a637e4e80', state=<ConnectionAllOfState.ConnectionResponseSent: 'ConnectionResponseSent'>, created_at=datetime.datetime(2022, 12, 19, 23, 2, 3, tzinfo=tzutc()), invitation=ConnectionInvitation(id='bf328121-c4b7-4ba4-a799-998a637e4e80', type='https://didcomm.org/out-of-band/2.0/invitation', from_='did:peer:2.Ez6LSsFgPwvvxsJy4Tzw8Aj1avWnZcPALUyZDwEWfn4QfJaAJ.Vz6MkoM4oGjqrTUke94MeHZhkXqKqo1E2wYAkFe3EH5muaNAg.SeyJ0IjoiZG0iLCJzIjoiaHR0cHM6Ly9hZ2VudC1zZDY3bS5hdGFsYXByaXNtLmlvL3ByaXNtLWFnZW50L2RpZGNvbW0iLCJyIjpbXSwiYSI6WyJkaWRjb21tL3YyIl19', invitation_url='https://domain.com/path?_oob=eyJpZCI6ImJmMzI4MTIxLWM0YjctNGJhNC1hNzk5LTk5OGE2MzdlNGU4MCIsInR5cGUiOiJodHRwczovL2RpZGNvbW0ub3JnL291dC1vZi1iYW5kLzIuMC9pbnZpdGF0aW9uIiwiZnJvbSI6ImRpZDpwZWVyOjIuRXo2TFNzRmdQd3Z2eHNKeTRUenc4QWoxYXZXblpjUEFMVXlaRHdFV2ZuNFFmSmFBSi5WejZNa29NNG9HanFyVFVrZTk0TWVIWmhrWHFLcW8xRTJ3WUFrRmUzRUg1bXVhTkFnLlNleUowSWpvaVpHMGlMQ0p6SWpvaWFIUjBjSE02THk5aFoyVnVkQzF6WkRZM2JTNWhkR0ZzWVhCeWFYTnRMbWx2TDNCeWFYTnRMV0ZuWlc1MEwyUnBaR052YlcwaUxDSnlJanBiWFN3aVlTSTZXeUprYVdSamIyMXRMM1l5SWwxOSIsImJvZHkiOnsiZ29hbF9jb2RlIjoiY29ubmVjdCIsImdvYWwiOiJFc3RhYmxpc2ggYSB0cnVzdCBjb25uZWN0aW9uIGJldHdlZW4gdHdvIHBlZXJzIiwiYWNjZXB0IjpbXX19', additional_properties={}), label='Connect with Holder', my_did='did:peer:2.Ez6LSsFgPwvvxsJy4Tzw8Aj1avWnZcPALUyZDwEWfn4QfJaAJ.Vz6MkoM4oGjqrTUke94MeHZhkXqKqo1E2wYAkFe3EH5muaNAg.SeyJ0IjoiZG0iLCJzIjoiaHR0cHM6Ly9hZ2VudC1zZDY3bS5hdGFsYXByaXNtLmlvL3ByaXNtLWFnZW50L2RpZGNvbW0iLCJyIjpbXSwiYSI6WyJkaWRjb21tL3YyIl19', their_did='did:peer:2.Ez6LSejUdL5Xv6iREpd5x82psUfBAvgypqHfJ3t9S2WDnkLRr.Vz6MkqCAankSAS4Qi4oGyRt7GLGVGx9ZgSxLWoep3HFstcscK.SeyJ0IjoiZG0iLCJzIjoiaHR0cHM6Ly9hZ2VudC1ncjI3bi5hdGFsYXByaXNtLmlvL3ByaXNtLWFnZW50L2RpZGNvbW0iLCJyIjpbXSwiYSI6WyJkaWRjb21tL3YyIl19', updated_at=datetime.datetime(2022, 12, 19, 23, 2, 34, tzinfo=tzutc()), additional_properties={})], additional_properties={})\n",
      "\n",
      "Holder Connections:\n",
      "ConnectionCollection(self_='/collections', kind='Collection', contents=[Connection(self_='Connection', kind='/connections/63ec2b5c-8923-4f05-99ef-a4571c9bc6e5', connection_id='63ec2b5c-8923-4f05-99ef-a4571c9bc6e5', state=<ConnectionAllOfState.ConnectionResponseReceived: 'ConnectionResponseReceived'>, created_at=datetime.datetime(2022, 12, 19, 23, 2, 8, tzinfo=tzutc()), invitation=ConnectionInvitation(id='bf328121-c4b7-4ba4-a799-998a637e4e80', type='https://didcomm.org/out-of-band/2.0/invitation', from_='did:peer:2.Ez6LSsFgPwvvxsJy4Tzw8Aj1avWnZcPALUyZDwEWfn4QfJaAJ.Vz6MkoM4oGjqrTUke94MeHZhkXqKqo1E2wYAkFe3EH5muaNAg.SeyJ0IjoiZG0iLCJzIjoiaHR0cHM6Ly9hZ2VudC1zZDY3bS5hdGFsYXByaXNtLmlvL3ByaXNtLWFnZW50L2RpZGNvbW0iLCJyIjpbXSwiYSI6WyJkaWRjb21tL3YyIl19', invitation_url='https://domain.com/path?_oob=eyJpZCI6ImJmMzI4MTIxLWM0YjctNGJhNC1hNzk5LTk5OGE2MzdlNGU4MCIsInR5cGUiOiJodHRwczovL2RpZGNvbW0ub3JnL291dC1vZi1iYW5kLzIuMC9pbnZpdGF0aW9uIiwiZnJvbSI6ImRpZDpwZWVyOjIuRXo2TFNzRmdQd3Z2eHNKeTRUenc4QWoxYXZXblpjUEFMVXlaRHdFV2ZuNFFmSmFBSi5WejZNa29NNG9HanFyVFVrZTk0TWVIWmhrWHFLcW8xRTJ3WUFrRmUzRUg1bXVhTkFnLlNleUowSWpvaVpHMGlMQ0p6SWpvaWFIUjBjSE02THk5aFoyVnVkQzF6WkRZM2JTNWhkR0ZzWVhCeWFYTnRMbWx2TDNCeWFYTnRMV0ZuWlc1MEwyUnBaR052YlcwaUxDSnlJanBiWFN3aVlTSTZXeUprYVdSamIyMXRMM1l5SWwxOSIsImJvZHkiOnsiZ29hbF9jb2RlIjoiY29ubmVjdCIsImdvYWwiOiJFc3RhYmxpc2ggYSB0cnVzdCBjb25uZWN0aW9uIGJldHdlZW4gdHdvIHBlZXJzIiwiYWNjZXB0IjpbXX19', additional_properties={}), label=<prism_agent_open_api_specification_client.types.Unset object at 0x7f127eccf940>, my_did='did:peer:2.Ez6LSejUdL5Xv6iREpd5x82psUfBAvgypqHfJ3t9S2WDnkLRr.Vz6MkqCAankSAS4Qi4oGyRt7GLGVGx9ZgSxLWoep3HFstcscK.SeyJ0IjoiZG0iLCJzIjoiaHR0cHM6Ly9hZ2VudC1ncjI3bi5hdGFsYXByaXNtLmlvL3ByaXNtLWFnZW50L2RpZGNvbW0iLCJyIjpbXSwiYSI6WyJkaWRjb21tL3YyIl19', their_did='did:peer:2.Ez6LSsFgPwvvxsJy4Tzw8Aj1avWnZcPALUyZDwEWfn4QfJaAJ.Vz6MkoM4oGjqrTUke94MeHZhkXqKqo1E2wYAkFe3EH5muaNAg.SeyJ0IjoiZG0iLCJzIjoiaHR0cHM6Ly9hZ2VudC1zZDY3bS5hdGFsYXByaXNtLmlvL3ByaXNtLWFnZW50L2RpZGNvbW0iLCJyIjpbXSwiYSI6WyJkaWRjb21tL3YyIl19', updated_at=datetime.datetime(2022, 12, 19, 23, 2, 32, tzinfo=tzutc()), additional_properties={}), Connection(self_='Connection', kind='/connections/83e50a9e-a1fa-4e17-9b1c-a19da204ce3c', connection_id='83e50a9e-a1fa-4e17-9b1c-a19da204ce3c', state=<ConnectionAllOfState.ConnectionRequestSent: 'ConnectionRequestSent'>, created_at=datetime.datetime(2022, 12, 19, 23, 45, 25, tzinfo=tzutc()), invitation=ConnectionInvitation(id='ffb61ca1-be69-4ba8-9639-a36fea06bd63', type='https://didcomm.org/out-of-band/2.0/invitation', from_='did:peer:2.Ez6LSi1DoS8BjWLGRJvT2iwTv9UvHJASC6p7CdRtvPwBUUzQa.Vz6Mkty3d3dfgEVzWUQfZpnaXgC4YySrYpk1SHoJDqYtqChZV.SeyJ0IjoiZG0iLCJzIjoiaHR0cHM6Ly9hZ2VudC1zZDY3bS5hdGFsYXByaXNtLmlvL3ByaXNtLWFnZW50L2RpZGNvbW0iLCJyIjpbXSwiYSI6WyJkaWRjb21tL3YyIl19', invitation_url='https://domain.com/path?_oob=eyJpZCI6ImZmYjYxY2ExLWJlNjktNGJhOC05NjM5LWEzNmZlYTA2YmQ2MyIsInR5cGUiOiJodHRwczovL2RpZGNvbW0ub3JnL291dC1vZi1iYW5kLzIuMC9pbnZpdGF0aW9uIiwiZnJvbSI6ImRpZDpwZWVyOjIuRXo2TFNpMURvUzhCaldMR1JKdlQyaXdUdjlVdkhKQVNDNnA3Q2RSdHZQd0JVVXpRYS5WejZNa3R5M2QzZGZnRVZ6V1VRZlpwbmFYZ0M0WXlTcllwazFTSG9KRHFZdHFDaFpWLlNleUowSWpvaVpHMGlMQ0p6SWpvaWFIUjBjSE02THk5aFoyVnVkQzF6WkRZM2JTNWhkR0ZzWVhCeWFYTnRMbWx2TDNCeWFYTnRMV0ZuWlc1MEwyUnBaR052YlcwaUxDSnlJanBiWFN3aVlTSTZXeUprYVdSamIyMXRMM1l5SWwxOSIsImJvZHkiOnsiZ29hbF9jb2RlIjoiY29ubmVjdCIsImdvYWwiOiJFc3RhYmxpc2ggYSB0cnVzdCBjb25uZWN0aW9uIGJldHdlZW4gdHdvIHBlZXJzIiwiYWNjZXB0IjpbXX19', additional_properties={}), label=<prism_agent_open_api_specification_client.types.Unset object at 0x7f127eccf940>, my_did='did:peer:2.Ez6LSsnhMrkzLMyr5o8RyWtRg44Ap62gieWz684tkcQMB7DLQ.Vz6Mkm4BRoKpCcPJTWRezAkM5fLtKmcUzaFqQ6fr5cGtbhgQZ.SeyJ0IjoiZG0iLCJzIjoiaHR0cHM6Ly9hZ2VudC1ncjI3bi5hdGFsYXByaXNtLmlvL3ByaXNtLWFnZW50L2RpZGNvbW0iLCJyIjpbXSwiYSI6WyJkaWRjb21tL3YyIl19', their_did='did:peer:2.Ez6LSi1DoS8BjWLGRJvT2iwTv9UvHJASC6p7CdRtvPwBUUzQa.Vz6Mkty3d3dfgEVzWUQfZpnaXgC4YySrYpk1SHoJDqYtqChZV.SeyJ0IjoiZG0iLCJzIjoiaHR0cHM6Ly9hZ2VudC1zZDY3bS5hdGFsYXByaXNtLmlvL3ByaXNtLWFnZW50L2RpZGNvbW0iLCJyIjpbXSwiYSI6WyJkaWRjb21tL3YyIl19', updated_at=datetime.datetime(2022, 12, 19, 23, 45, 37, tzinfo=tzutc()), additional_properties={})], additional_properties={})\n",
      "\n",
      "Verifier Connections:\n",
      "ConnectionCollection(self_='/collections', kind='Collection', contents=[], additional_properties={})\n"
     ]
    }
   ],
   "source": [
    "issuer_conns: Response[ConnectionCollection] = get_connections.sync(client=issuer_client_controller)\n",
    "holder_conns: Response[ConnectionCollection] = get_connections.sync(client=holder_client_controller)\n",
    "verifier_conns: Response[ConnectionCollection] = get_connections.sync(client=verifier_client_controller)\n",
    "print(\"Issuer Connections:\\n{}\\n\\nHolder Connections:\\n{}\\n\\nVerifier Connections:\\n{}\".format(issuer_conns, holder_conns,verifier_conns))"
   ]
  },
  {
   "cell_type": "markdown",
   "id": "da9acd43-e873-42e2-85da-a1bddf1909ed",
   "metadata": {},
   "source": [
    "## Import Credential Management Models and API Client"
   ]
  },
  {
   "cell_type": "code",
   "execution_count": 27,
   "id": "12e52104-5c2b-4404-a3b1-be00d73003d3",
   "metadata": {},
   "outputs": [],
   "source": [
    "from prism_agent_open_api_specification_client.models import IssueCredentialRecord, CreateIssueCredentialRecordRequest, CreateIssueCredentialRecordRequestClaims, IssueCredentialRecordCollection\n",
    "from prism_agent_open_api_specification_client.api.issue_credentials_protocol import get_credential_record, get_credential_records, create_credential_offer,accept_credential_offer,issue_credential\n",
    "from prism_agent_open_api_specification_client.types import Response, Unset"
   ]
  },
  {
   "cell_type": "markdown",
   "id": "e0327bd3-b88b-4514-bbbd-844642cbdf72",
   "metadata": {},
   "source": [
    "## Check Credentials in Wallets"
   ]
  },
  {
   "cell_type": "code",
   "execution_count": 28,
   "id": "ea6e95b4-a8ea-4a79-bb0d-fb8b00245766",
   "metadata": {},
   "outputs": [
    {
     "name": "stdout",
     "output_type": "stream",
     "text": [
      "Issuer Credentials:\n",
      "IssueCredentialRecordCollection(items=[IssueCredentialRecord(subject_id='did:peer:2.Ez6LSejUdL5Xv6iREpd5x82psUfBAvgypqHfJ3t9S2WDnkLRr.Vz6MkqCAankSAS4Qi4oGyRt7GLGVGx9ZgSxLWoep3HFstcscK.SeyJ0IjoiZG0iLCJzIjoiaHR0cHM6Ly9hZ2VudC1ncjI3bi5hdGFsYXByaXNtLmlvL3ByaXNtLWFnZW50L2RpZGNvbW0iLCJyIjpbXSwiYSI6WyJkaWRjb21tL3YyIl19', claims=CreateIssueCredentialRecordRequestClaims(additional_properties={'birthdate': '01/01/2000', 'firstname': 'Alice', 'lastname': 'Wonderland'}), record_id='348f02c5-29a3-47ab-8487-6c2e472dcb6c', created_at=datetime.datetime(2022, 12, 19, 23, 3, 21, tzinfo=tzutc()), role=<IssueCredentialRecordAllOfRole.ISSUER: 'Issuer'>, protocol_state=<IssueCredentialRecordAllOfProtocolState.CREDENTIALSENT: 'CredentialSent'>, schema_id='1234', validity_period=3600.0, automatic_issuance=False, await_confirmation=False, updated_at=datetime.datetime(2022, 12, 19, 23, 4, 7, tzinfo=tzutc()), publication_state=<prism_agent_open_api_specification_client.types.Unset object at 0x7f127eccf940>, jwt_credential='ImV5SjBlWEFpT2lKS1YxUWlMQ0poYkdjaU9pSkZVekkxTmlKOS5leUpwYzNNaU9pSmthV1E2Y0hKcGMyMDZNemt3Tm1Oak16WXRNalkyT1MwMFpXSXdMV0poTXprdE5EbGpNVGcwWW1WaE1ETm1JaXdpYzNWaUlqb2laR2xrT25CbFpYSTZNaTVGZWpaTVUyVnFWV1JNTlZoMk5tbFNSWEJrTlhnNE1uQnpWV1pDUVhabmVYQnhTR1pLTTNRNVV6SlhSRzVyVEZKeUxsWjZOazFyY1VOQllXNXJVMEZUTkZGcE5HOUhlVkowTjBkTVIxWkhlRGxhWjFONFRGZHZaWEF6U0VaemRHTnpZMHN1VTJWNVNqQkphbTlwV2tjd2FVeERTbnBKYW05cFlVaFNNR05JVFRaTWVUbG9XakpXZFdSRE1XNWpha2t6WW1rMWFHUkhSbk5aV0VKNVlWaE9kRXh0YkhaTU0wSjVZVmhPZEV4WFJtNWFWelV3VERKU2NGcEhUblppVnpCcFRFTktlVWxxY0dKWVUzZHBXVk5KTmxkNVNtdGhWMUpxWWpJeGRFd3pXWGxKYkRFNUlpd2lkbU1pT25zaVkzSmxaR1Z1ZEdsaGJGTjFZbXBsWTNRaU9uc2lZbWx5ZEdoa1lYUmxJam9pTURFdk1ERXZNakF3TUNJc0ltWnBjbk4wYm1GdFpTSTZJa0ZzYVdObElpd2liR0Z6ZEc1aGJXVWlPaUpYYjI1a1pYSnNZVzVrSWl3aWFXUWlPaUprYVdRNmNHVmxjam95TGtWNk5reFRaV3BWWkV3MVdIWTJhVkpGY0dRMWVEZ3ljSE5WWmtKQmRtZDVjSEZJWmtvemREbFRNbGRFYm10TVVuSXVWbm8yVFd0eFEwRmhibXRUUVZNMFVXazBiMGQ1VW5RM1IweEhWa2Q0T1ZwblUzaE1WMjlsY0ROSVJuTjBZM05qU3k1VFpYbEtNRWxxYjJsYVJ6QnBURU5LZWtscWIybGhTRkl3WTBoTk5reDVPV2hhTWxaMVpFTXhibU5xU1ROaWFUVm9aRWRHYzFsWVFubGhXRTUwVEcxc2Rrd3pRbmxoV0U1MFRGZEdibHBYTlRCTU1sSndXa2RPZG1KWE1HbE1RMHA1U1dwd1lsaFRkMmxaVTBrMlYzbEthMkZYVW1waU1qRjBURE5aZVVsc01Ua2lmWDBzSW01aVppSTZNVFkzTVRRNU1UQXpNeXdpWlhod0lqb3hOamN4TkRrME5qTXpmUS4zRmV5YXZkRHA5YzVEc3Z4NEZnd2lMUnRGSnVuR2hZWEVmTEJYY2laY0NpMWkxc2dyZDdpZGQzWko0cXZiNmlOSHFUUHRXVmtSYS0wRUEtbk1fdERiUSI=', additional_properties={})], offset=0, limit=0, count=1, additional_properties={})\n",
      "\n",
      "Holder Credentials:\n",
      "IssueCredentialRecordCollection(items=[IssueCredentialRecord(subject_id='did:peer:2.Ez6LSejUdL5Xv6iREpd5x82psUfBAvgypqHfJ3t9S2WDnkLRr.Vz6MkqCAankSAS4Qi4oGyRt7GLGVGx9ZgSxLWoep3HFstcscK.SeyJ0IjoiZG0iLCJzIjoiaHR0cHM6Ly9hZ2VudC1ncjI3bi5hdGFsYXByaXNtLmlvL3ByaXNtLWFnZW50L2RpZGNvbW0iLCJyIjpbXSwiYSI6WyJkaWRjb21tL3YyIl19', claims=CreateIssueCredentialRecordRequestClaims(additional_properties={'birthdate': '01/01/2000', 'firstname': 'Alice', 'lastname': 'Wonderland'}), record_id='093ff453-9bfd-4255-91a5-746435ca8179', created_at=datetime.datetime(2022, 12, 19, 23, 3, 31, tzinfo=tzutc()), role=<IssueCredentialRecordAllOfRole.HOLDER: 'Holder'>, protocol_state=<IssueCredentialRecordAllOfProtocolState.CREDENTIALRECEIVED: 'CredentialReceived'>, schema_id=<prism_agent_open_api_specification_client.types.Unset object at 0x7f127eccf940>, validity_period=<prism_agent_open_api_specification_client.types.Unset object at 0x7f127eccf940>, automatic_issuance=<prism_agent_open_api_specification_client.types.Unset object at 0x7f127eccf940>, await_confirmation=<prism_agent_open_api_specification_client.types.Unset object at 0x7f127eccf940>, updated_at=datetime.datetime(2022, 12, 19, 23, 4, 4, tzinfo=tzutc()), publication_state=<prism_agent_open_api_specification_client.types.Unset object at 0x7f127eccf940>, jwt_credential='ImV5SjBlWEFpT2lKS1YxUWlMQ0poYkdjaU9pSkZVekkxTmlKOS5leUpwYzNNaU9pSmthV1E2Y0hKcGMyMDZNemt3Tm1Oak16WXRNalkyT1MwMFpXSXdMV0poTXprdE5EbGpNVGcwWW1WaE1ETm1JaXdpYzNWaUlqb2laR2xrT25CbFpYSTZNaTVGZWpaTVUyVnFWV1JNTlZoMk5tbFNSWEJrTlhnNE1uQnpWV1pDUVhabmVYQnhTR1pLTTNRNVV6SlhSRzVyVEZKeUxsWjZOazFyY1VOQllXNXJVMEZUTkZGcE5HOUhlVkowTjBkTVIxWkhlRGxhWjFONFRGZHZaWEF6U0VaemRHTnpZMHN1VTJWNVNqQkphbTlwV2tjd2FVeERTbnBKYW05cFlVaFNNR05JVFRaTWVUbG9XakpXZFdSRE1XNWpha2t6WW1rMWFHUkhSbk5aV0VKNVlWaE9kRXh0YkhaTU0wSjVZVmhPZEV4WFJtNWFWelV3VERKU2NGcEhUblppVnpCcFRFTktlVWxxY0dKWVUzZHBXVk5KTmxkNVNtdGhWMUpxWWpJeGRFd3pXWGxKYkRFNUlpd2lkbU1pT25zaVkzSmxaR1Z1ZEdsaGJGTjFZbXBsWTNRaU9uc2lZbWx5ZEdoa1lYUmxJam9pTURFdk1ERXZNakF3TUNJc0ltWnBjbk4wYm1GdFpTSTZJa0ZzYVdObElpd2liR0Z6ZEc1aGJXVWlPaUpYYjI1a1pYSnNZVzVrSWl3aWFXUWlPaUprYVdRNmNHVmxjam95TGtWNk5reFRaV3BWWkV3MVdIWTJhVkpGY0dRMWVEZ3ljSE5WWmtKQmRtZDVjSEZJWmtvemREbFRNbGRFYm10TVVuSXVWbm8yVFd0eFEwRmhibXRUUVZNMFVXazBiMGQ1VW5RM1IweEhWa2Q0T1ZwblUzaE1WMjlsY0ROSVJuTjBZM05qU3k1VFpYbEtNRWxxYjJsYVJ6QnBURU5LZWtscWIybGhTRkl3WTBoTk5reDVPV2hhTWxaMVpFTXhibU5xU1ROaWFUVm9aRWRHYzFsWVFubGhXRTUwVEcxc2Rrd3pRbmxoV0U1MFRGZEdibHBYTlRCTU1sSndXa2RPZG1KWE1HbE1RMHA1U1dwd1lsaFRkMmxaVTBrMlYzbEthMkZYVW1waU1qRjBURE5aZVVsc01Ua2lmWDBzSW01aVppSTZNVFkzTVRRNU1UQXpNeXdpWlhod0lqb3hOamN4TkRrME5qTXpmUS4zRmV5YXZkRHA5YzVEc3Z4NEZnd2lMUnRGSnVuR2hZWEVmTEJYY2laY0NpMWkxc2dyZDdpZGQzWko0cXZiNmlOSHFUUHRXVmtSYS0wRUEtbk1fdERiUSI=', additional_properties={})], offset=0, limit=0, count=1, additional_properties={})\n",
      "\n",
      "Verifier Credentials:\n",
      "IssueCredentialRecordCollection(items=[], offset=0, limit=0, count=0, additional_properties={})\n"
     ]
    }
   ],
   "source": [
    "issuer_creds: Response[IssueCredentialRecordCollection] = get_credential_records.sync(client=issuer_client_controller)\n",
    "holder_creds: Response[IssueCredentialRecordCollection] = get_credential_records.sync(client=holder_client_controller)\n",
    "verifier_creds: Response[IssueCredentialRecordCollection] = get_credential_records.sync(client=verifier_client_controller)\n",
    "print(\"Issuer Credentials:\\n{}\\n\\nHolder Credentials:\\n{}\\n\\nVerifier Credentials:\\n{}\".format(issuer_creds, holder_creds,verifier_creds))"
   ]
  },
  {
   "cell_type": "markdown",
   "id": "b964dbd9-f4c3-4f2c-bb7b-522b3c008fb5",
   "metadata": {},
   "source": [
    "## Define Credential Schema and Content"
   ]
  },
  {
   "cell_type": "code",
   "execution_count": 29,
   "id": "5234e899-478f-4fc6-9cf0-9ddead2030fc",
   "metadata": {},
   "outputs": [
    {
     "name": "stdout",
     "output_type": "stream",
     "text": [
      "CreateIssueCredentialRecordRequestClaims(additional_properties={'firstname': 'Alice', 'lastname': 'Wonderland', 'birthdate': '01/01/2000'})\n",
      "{'subjectId': 'did:peer:2.Ez6LSsnhMrkzLMyr5o8RyWtRg44Ap62gieWz684tkcQMB7DLQ.Vz6Mkm4BRoKpCcPJTWRezAkM5fLtKmcUzaFqQ6fr5cGtbhgQZ.SeyJ0IjoiZG0iLCJzIjoiaHR0cHM6Ly9hZ2VudC1ncjI3bi5hdGFsYXByaXNtLmlvL3ByaXNtLWFnZW50L2RpZGNvbW0iLCJyIjpbXSwiYSI6WyJkaWRjb21tL3YyIl19', 'claims': {'firstname': 'Alice', 'lastname': 'Wonderland', 'birthdate': '01/01/2000'}, 'schemaId': '1234', 'validityPeriod': 3600, 'automaticIssuance': False, 'awaitConfirmation': False}\n"
     ]
    }
   ],
   "source": [
    "data = {\n",
    "        \"firstname\": \"Alice\",\n",
    "        \"lastname\": \"Wonderland\",\n",
    "        \"birthdate\": \"01/01/2000\"\n",
    "      }\n",
    "cred_claims = CreateIssueCredentialRecordRequestClaims()\n",
    "cred_claims = cred_claims.from_dict(data)\n",
    "print(cred_claims)\n",
    "\n",
    "credential_offer = CreateIssueCredentialRecordRequest(subject_id=issuer_conn.their_did, claims=cred_claims, schema_id=\"1234\", validity_period=3600, automatic_issuance=False, await_confirmation=False)\n",
    "\n",
    "print(credential_offer.to_dict())"
   ]
  },
  {
   "cell_type": "markdown",
   "id": "b1cea471-f4ec-4fe3-b62f-6e9901b7cef2",
   "metadata": {},
   "source": [
    "## Send Credential Offer to Holder"
   ]
  },
  {
   "cell_type": "code",
   "execution_count": 30,
   "id": "1a37924d-6d18-4b28-9241-9d30bf8ad12b",
   "metadata": {},
   "outputs": [
    {
     "name": "stdout",
     "output_type": "stream",
     "text": [
      "IssueCredentialRecord(subject_id='did:peer:2.Ez6LSsnhMrkzLMyr5o8RyWtRg44Ap62gieWz684tkcQMB7DLQ.Vz6Mkm4BRoKpCcPJTWRezAkM5fLtKmcUzaFqQ6fr5cGtbhgQZ.SeyJ0IjoiZG0iLCJzIjoiaHR0cHM6Ly9hZ2VudC1ncjI3bi5hdGFsYXByaXNtLmlvL3ByaXNtLWFnZW50L2RpZGNvbW0iLCJyIjpbXSwiYSI6WyJkaWRjb21tL3YyIl19', claims=CreateIssueCredentialRecordRequestClaims(additional_properties={'birthdate': '01/01/2000', 'firstname': 'Alice', 'lastname': 'Wonderland'}), record_id='0728a12f-bf17-4631-b8fa-c282ad59a3b1', created_at=datetime.datetime(2022, 12, 19, 23, 45, 57, 807151, tzinfo=tzutc()), role=<IssueCredentialRecordAllOfRole.ISSUER: 'Issuer'>, protocol_state=<IssueCredentialRecordAllOfProtocolState.OFFERPENDING: 'OfferPending'>, schema_id='1234', validity_period=3600.0, automatic_issuance=False, await_confirmation=False, updated_at=<prism_agent_open_api_specification_client.types.Unset object at 0x7f127eccf940>, publication_state=<prism_agent_open_api_specification_client.types.Unset object at 0x7f127eccf940>, jwt_credential=<prism_agent_open_api_specification_client.types.Unset object at 0x7f127eccf940>, additional_properties={})\n"
     ]
    }
   ],
   "source": [
    "# Create Credential Offer\n",
    "issuer_cred_offer: Response[IssueCredentialRecord] = create_credential_offer.sync(client=issuer_client_controller,json_body=credential_offer)\n",
    "print(issuer_cred_offer)"
   ]
  },
  {
   "cell_type": "markdown",
   "id": "1c2e046e-b529-49db-a960-d330d47af0f7",
   "metadata": {},
   "source": [
    "## Retrieve Credential Records from Issuer and Holder"
   ]
  },
  {
   "cell_type": "code",
   "execution_count": 36,
   "id": "7fda642d-12cc-472f-8c2e-f0e393b9055e",
   "metadata": {},
   "outputs": [
    {
     "name": "stdout",
     "output_type": "stream",
     "text": [
      "\u001b[1m\u001b[35mCurrent state for Issuer Credential Record 348f02c5-29a3-47ab-8487-6c2e472dcb6c is CredentialSent and Holder Credential Record 093ff453-9bfd-4255-91a5-746435ca8179 is CredentialReceived\u001b[0m\n"
     ]
    }
   ],
   "source": [
    "# Check Credential State\n",
    "issuer_creds: Response[IssueCredentialRecordCollection] = get_credential_records.sync(client=issuer_client_controller)\n",
    "holder_creds: Response[IssueCredentialRecordCollection] = get_credential_records.sync(client=holder_client_controller)\n",
    "verifier_creds: Response[IssueCredentialRecordCollection] = get_credential_records.sync(client=verifier_client_controller)\n",
    "\n",
    "print(colored(\"Current state for Issuer Credential Record {} is {} and Holder Credential Record {} is {}\".format(issuer_creds.items[0].record_id,issuer_creds.items[0].protocol_state,holder_creds.items[0].record_id,holder_creds.items[0].protocol_state), \"magenta\", attrs=[\"bold\"]))\n"
   ]
  },
  {
   "cell_type": "markdown",
   "id": "42235069-9812-4c6d-ae32-909da72550de",
   "metadata": {},
   "source": [
    "## Holder Accept Credential Offer from Issuer"
   ]
  },
  {
   "cell_type": "code",
   "execution_count": 39,
   "id": "1ca223ea-f316-455e-b6eb-1be83fe8e0ce",
   "metadata": {},
   "outputs": [
    {
     "name": "stdout",
     "output_type": "stream",
     "text": [
      "093ff453-9bfd-4255-91a5-746435ca8179\n",
      "None\n"
     ]
    }
   ],
   "source": [
    "print(holder_creds.items[0].record_id)\n",
    "holder_cred_record: Response[IssueCredentialRecord] = accept_credential_offer.sync(client=holder_client_controller, record_id=holder_creds.items[0].record_id)\n",
    "print(holder_cred_record)"
   ]
  },
  {
   "cell_type": "markdown",
   "id": "6c90c28c-46c3-4c5e-be67-40d7b0c9aab6",
   "metadata": {},
   "source": [
    "## Issue Credential to Holder"
   ]
  },
  {
   "cell_type": "code",
   "execution_count": 40,
   "id": "169dc82f-f0a7-4f9a-ba33-f61eb5e97b45",
   "metadata": {},
   "outputs": [
    {
     "name": "stdout",
     "output_type": "stream",
     "text": [
      "348f02c5-29a3-47ab-8487-6c2e472dcb6c\n",
      "None\n"
     ]
    }
   ],
   "source": [
    "print(issuer_creds.items[0].record_id)\n",
    "issuer_cred_record: Response[IssueCredentialRecord] = issue_credential.sync(client=issuer_client_controller, record_id=issuer_creds.items[0].record_id)\n",
    "print(issuer_cred_record)"
   ]
  },
  {
   "cell_type": "markdown",
   "id": "cea667e7-5443-43f0-a507-dc96817c41ed",
   "metadata": {},
   "source": [
    "## Check if Credential is Successfully Issued to Holder"
   ]
  },
  {
   "cell_type": "code",
   "execution_count": 41,
   "id": "640b3439-8afd-4378-9f3e-0b04f2f04f48",
   "metadata": {},
   "outputs": [
    {
     "name": "stdout",
     "output_type": "stream",
     "text": [
      "\u001b[1m\u001b[35mCurrent state for Issuer Credential Record 348f02c5-29a3-47ab-8487-6c2e472dcb6c is CredentialSent and Holder Credential Record 093ff453-9bfd-4255-91a5-746435ca8179 is CredentialReceived\u001b[0m\n",
      "\u001b[1m\u001b[32mCredential Record 348f02c5-29a3-47ab-8487-6c2e472dcb6c Issued to Holder! Continue with notebook\u001b[0m\n"
     ]
    }
   ],
   "source": [
    "# Check Credential State\n",
    "issuer_creds: Response[IssueCredentialRecordCollection] = get_credential_records.sync(client=issuer_client_controller)\n",
    "holder_creds: Response[IssueCredentialRecordCollection] = get_credential_records.sync(client=holder_client_controller)\n",
    "verifier_creds: Response[IssueCredentialRecordCollection] = get_credential_records.sync(client=verifier_client_controller)\n",
    "\n",
    "print(colored(\"Current state for Issuer Credential Record {} is {} and Holder Credential Record {} is {}\".format(issuer_creds.items[0].record_id,issuer_creds.items[0].protocol_state,holder_creds.items[0].record_id,holder_creds.items[0].protocol_state), \"magenta\", attrs=[\"bold\"]))\n",
    "\n",
    "while (issuer_creds.items[0].protocol_state != 'CredentialSent' and holder_creds.items[0].protocol_state != 'CredentialReceived'):\n",
    "    issuer_creds: Response[IssueCredentialRecordCollection] = get_credential_records.sync(client=issuer_client_controller)\n",
    "    holder_creds: Response[IssueCredentialRecordCollection] = get_credential_records.sync(client=holder_client_controller)\n",
    "    print(\"Issuer State: {} Holder State: {} \\n\".format(issuer_creds.items[0].protocol_state,holder_creds.items[0].protocol_state))\n",
    "    time.sleep(1)\n",
    "    \n",
    "print(colored(\"Credential Record {} Issued to Holder! Continue with notebook\".format(issuer_creds.items[0].record_id), \"green\", attrs=[\"bold\"]))"
   ]
  },
  {
   "cell_type": "markdown",
   "id": "41d78816-1b7b-4d80-b51e-5e315ac164f7",
   "metadata": {},
   "source": [
    "## DIDs"
   ]
  },
  {
   "cell_type": "markdown",
   "id": "d55ca75b-70d9-45d5-b16f-7111ab6d6e3b",
   "metadata": {},
   "source": [
    "## Import DID Management Models and API Client"
   ]
  },
  {
   "cell_type": "code",
   "execution_count": null,
   "id": "29726272-d677-4719-a450-017dfb53e657",
   "metadata": {},
   "outputs": [],
   "source": [
    "from prism_agent_open_api_specification_client.models import DID, DIDDocumentMetadata, DIDOperationResponse, DIDResponse, CreateManagedDidRequest, ListManagedDIDResponseInner, CreateManagedDIDResponse\n",
    "from prism_agent_open_api_specification_client.api.did import get_did\n",
    "from prism_agent_open_api_specification_client.api.did_registrar import create_managed_did,list_managed_did,publish_managed_did\n",
    "from prism_agent_open_api_specification_client.types import Response"
   ]
  },
  {
   "cell_type": "markdown",
   "id": "efb3b42b-79db-4fbe-82a3-8833f385d655",
   "metadata": {},
   "source": [
    "### List DIDs in Wallet"
   ]
  },
  {
   "cell_type": "code",
   "execution_count": null,
   "id": "58787e11-e79f-4eac-a88a-4b0b7ef4a630",
   "metadata": {},
   "outputs": [],
   "source": [
    "issuer_dids: Response[ListManagedDIDResponseInner] = list_managed_did.sync(client=issuer_client_controller)\n",
    "print(issuer_dids)\n",
    "print(issuer_dids[0].did)"
   ]
  },
  {
   "cell_type": "markdown",
   "id": "08b60e81-d831-48e0-a4d8-419491243786",
   "metadata": {},
   "source": [
    "### Create DID"
   ]
  },
  {
   "cell_type": "code",
   "execution_count": null,
   "id": "e114a289-d8c6-414e-b43b-2cc49ae5bf6e",
   "metadata": {},
   "outputs": [],
   "source": [
    "data = {\n",
    "    \"documentTemplate\": {\n",
    "      \"publicKeys\": [\n",
    "        {\n",
    "          \"id\": \"auth0\",\n",
    "          \"purpose\": \"authentication\"\n",
    "        }\n",
    "      ],\n",
    "      \"services\": []\n",
    "    }\n",
    "  }\n",
    "new_did = CreateManagedDidRequest.from_dict(data)\n",
    "\n",
    "issuer_new_did: Response[CreateManagedDIDResponse] = create_managed_did.sync(client=issuer_client_controller, json_body=new_did)\n",
    "print(issuer_new_did)"
   ]
  },
  {
   "cell_type": "markdown",
   "id": "4219cf1f-9aba-4045-9715-7dfcd14d25b3",
   "metadata": {},
   "source": [
    "### Resolve DID"
   ]
  },
  {
   "cell_type": "code",
   "execution_count": null,
   "id": "f3f82ecb-1697-4508-920a-430c783d9bcb",
   "metadata": {},
   "outputs": [],
   "source": [
    "issuer_resolve_did: Response[DID] = get_did.sync(client=issuer_client_controller, did_ref=issuer_new_did.long_form_did)\n",
    "print(issuer_resolve_did)\n",
    "\n",
    "issuer_resolve_did: Response[DID] = get_did.sync(client=issuer_client_controller, did_ref=issuer_dids[0].did)\n",
    "print(issuer_resolve_did)\n"
   ]
  },
  {
   "cell_type": "markdown",
   "id": "95cd4c43-019d-4311-b7aa-8600f559e83a",
   "metadata": {},
   "source": [
    "### Publish DID"
   ]
  },
  {
   "cell_type": "code",
   "execution_count": null,
   "id": "8311830a-2b06-470c-8e4b-db82e7310201",
   "metadata": {},
   "outputs": [],
   "source": [
    "issuer_publish_did: Response[DID] = publish_managed_did.sync(client=issuer_client_controller, did_ref=issuer_new_did.long_form_did)\n",
    "print(issuer_publish_did)"
   ]
  },
  {
   "cell_type": "markdown",
   "id": "f67e116d-5240-476a-a95a-dd30d7cb4c8e",
   "metadata": {},
   "source": [
    "### Deactivate DID"
   ]
  },
  {
   "cell_type": "code",
   "execution_count": null,
   "id": "1af62548-2ea1-4ca3-88f4-47ddc15b97a9",
   "metadata": {},
   "outputs": [],
   "source": []
  }
 ],
 "metadata": {
  "kernelspec": {
   "display_name": "Python 3 (ipykernel)",
   "language": "python",
   "name": "python3"
  },
  "language_info": {
   "codemirror_mode": {
    "name": "ipython",
    "version": 3
   },
   "file_extension": ".py",
   "mimetype": "text/x-python",
   "name": "python",
   "nbconvert_exporter": "python",
   "pygments_lexer": "ipython3",
   "version": "3.10.8"
  }
 },
 "nbformat": 4,
 "nbformat_minor": 5
}
