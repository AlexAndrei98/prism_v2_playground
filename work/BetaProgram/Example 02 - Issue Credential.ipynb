{
 "cells": [
  {
   "cell_type": "code",
   "execution_count": 1,
   "id": "0b784096-9df8-490f-a4be-d247467ae58e",
   "metadata": {},
   "outputs": [],
   "source": [
    "import os\n",
    "import time\n",
    "import datetime\n",
    "from pprint import pprint\n",
    "from dotenv import load_dotenv\n",
    "\n",
    "from prism_agent_open_api_specification_client import Client\n",
    "from prism_agent_open_api_specification_client.models import ConnectionCollection,Connection,ConnectionInvitation,CreateConnectionRequest,AcceptConnectionInvitationRequest\n",
    "from prism_agent_open_api_specification_client.api.connections_management import get_connections,get_connection,create_connection,accept_connection_invitation\n",
    "from prism_agent_open_api_specification_client.types import Response\n",
    "from prism_agent_open_api_specification_client.models import IssueCredentialRecord, CreateIssueCredentialRecordRequest, CreateIssueCredentialRecordRequestClaims, IssueCredentialRecordCollection\n",
    "from prism_agent_open_api_specification_client.api.issue_credentials_protocol import get_credential_record, get_credential_records, create_credential_offer,accept_credential_offer,issue_credential\n",
    "\n",
    "def get_invitation_str(connection):\n",
    "    parts = connection.invitation.invitation_url.split(\"=\")\n",
    "    return parts[1]"
   ]
  },
  {
   "cell_type": "markdown",
   "id": "0c87c711-0271-485b-b1dd-9ceb6b38a3b7",
   "metadata": {},
   "source": [
    "## Issue Credential\n",
    "\n",
    "Issuing a credential involves establishing a connection between the issuer and the holder, which is done by following the process outlined in \"Example 01\". Once the connection is established, the issuer will prepare and send a credential offer, which creates an issue record on both the issuer's and holder's agents. The holder will then retrieve the list of issue records, find the one they wish to accept, and notify the issuer of their acceptance. Finally, the issuer will issue the credential to the holder, completing the process."
   ]
  },
  {
   "cell_type": "markdown",
   "id": "bb8dc963-b0ef-4666-adb9-24abac2ae625",
   "metadata": {},
   "source": [
    "## Client instances\n",
    "\n",
    "We will create two separate clients, one for the issuer and one for the holder, in order to establish a connection between the two.\n",
    "\n",
    "note: remember to update the file variables.env with the URLs and API keys provided to you.\n"
   ]
  },
  {
   "cell_type": "code",
   "execution_count": 2,
   "id": "abd8aab8-c435-43ff-b45f-f4598ab78b8a",
   "metadata": {},
   "outputs": [],
   "source": [
    "load_dotenv(\"../BetaProgram/variables.env\")\n",
    "issuerApiKey = os.getenv('ISSUER_APIKEY')\n",
    "issuerUrl = os.getenv('ISSUER_URL')\n",
    "\n",
    "holderApiKey = os.getenv('HOLDER_APIKEY')\n",
    "holderUrl = os.getenv('HOLDER_URL')\n",
    "\n",
    "issuer_client = Client(base_url=issuerUrl, headers={\"apiKey\": issuerApiKey})\n",
    "holder_client = Client(base_url=holderUrl, headers={\"apiKey\": holderApiKey})"
   ]
  },
  {
   "cell_type": "markdown",
   "id": "66210c60-88b1-438c-aa79-01a5304582a9",
   "metadata": {},
   "source": [
    "### Create connection\n",
    "\n",
    "For details on this see \"Example 01 - Connections\""
   ]
  },
  {
   "cell_type": "code",
   "execution_count": 4,
   "id": "2cba1313-d47f-4c21-bc7d-acd43f6fa2d6",
   "metadata": {},
   "outputs": [
    {
     "name": "stdout",
     "output_type": "stream",
     "text": [
      "Issuer State: InvitationGenerated Holder State: ConnectionRequestPending \n",
      "\n",
      "Issuer State: InvitationGenerated Holder State: ConnectionRequestPending \n",
      "\n",
      "Issuer State: ConnectionResponsePending Holder State: ConnectionRequestPending \n",
      "\n",
      "Issuer State: ConnectionResponsePending Holder State: ConnectionRequestSent \n",
      "\n",
      "Issuer State: ConnectionResponseSent Holder State: ConnectionRequestSent \n",
      "\n",
      "Connection established between Issuer and Holder!\n",
      "Issuer connection id: 15ecfd56-c4fc-4c01-bfef-a8c02dd9dfdd\n"
     ]
    }
   ],
   "source": [
    "conn_request = CreateConnectionRequest()\n",
    "conn_request.label = f'Issue credential {datetime.date.today().strftime(\"%Y-%m-%d %H:%M:%S\")}'\n",
    "issuer_connection: Response[Connection] =  create_connection.sync(client=issuer_client,json_body=conn_request)\n",
    "\n",
    "invitation = get_invitation_str(issuer_connection)\n",
    "\n",
    "accept_conn_request = AcceptConnectionInvitationRequest(invitation)\n",
    "holder_connection: Response[ConnectionInvitation] =  accept_connection_invitation.sync(client=holder_client,json_body=accept_conn_request)\n",
    "\n",
    "\n",
    "issuer_connection: Response[Connection] = get_connection.sync(client=issuer_client,connection_id=issuer_connection.connection_id)\n",
    "holder_connection: Response[Connection] = get_connection.sync(client=holder_client,connection_id=holder_connection.connection_id)\n",
    "\n",
    "while (issuer_connection.state != 'ConnectionResponseSent' and holder_connection.state != 'ConnectionResponseReceived'):\n",
    "    issuer_connection: Response[Connection] = get_connection.sync(client=issuer_client,connection_id=issuer_connection.connection_id)\n",
    "    holder_connection: Response[Connection] = get_connection.sync(client=holder_client,connection_id=holder_connection.connection_id)\n",
    "    print(\"Issuer State: {} Holder State: {} \\n\".format(issuer_connection.state,holder_connection.state))\n",
    "    time.sleep(1)\n",
    "    \n",
    "print(\"Connection established between Issuer and Holder!\")\n",
    "print(f\"Issuer connection id: {issuer_connection.connection_id}\")"
   ]
  },
  {
   "cell_type": "code",
   "execution_count": null,
   "id": "c24101f8-0425-435c-9156-dd857ec57bd1",
   "metadata": {},
   "outputs": [],
   "source": []
  },
  {
   "cell_type": "markdown",
   "id": "881397b8-4ed6-4fb8-ac52-243306f9ad9c",
   "metadata": {},
   "source": [
    "Flow 2 - Issue Credential\n",
    "-------------------------\n",
    "\n",
    "Issuer - create an invitation\n",
    "\n",
    "Holder - accept invitation\n",
    "\n",
    "Issuer - check connection\n",
    "Issuer - credential offer\n",
    "\n",
    "Holder - check records\n",
    "Holder - accept offer\n",
    "\n",
    "Issuer - check records\n",
    "Issuer - issue credential\n",
    "\n",
    "Holder - check record, credential\n",
    "\n"
   ]
  }
 ],
 "metadata": {
  "kernelspec": {
   "display_name": "Python 3 (ipykernel)",
   "language": "python",
   "name": "python3"
  },
  "language_info": {
   "codemirror_mode": {
    "name": "ipython",
    "version": 3
   },
   "file_extension": ".py",
   "mimetype": "text/x-python",
   "name": "python",
   "nbconvert_exporter": "python",
   "pygments_lexer": "ipython3",
   "version": "3.10.8"
  }
 },
 "nbformat": 4,
 "nbformat_minor": 5
}
