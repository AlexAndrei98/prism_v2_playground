{
 "cells": [
  {
   "cell_type": "markdown",
   "id": "0c87c711-0271-485b-b1dd-9ceb6b38a3b7",
   "metadata": {},
   "source": [
    "## Issue Credential\n",
    "\n",
    "Issuing a credential involves establishing a connection between the issuer and the holder, which is done by following the process outlined in *Example 01 - Connections*. Once the connection is established, the issuer will prepare and send a credential offer, which creates an issue record on both the issuer's and holder's agents. The holder will then retrieve the list of issue records, find the one they wish to accept, and notify the issuer of their acceptance. Finally, the issuer will issue the credential to the holder, completing the process."
   ]
  },
  {
   "cell_type": "code",
   "execution_count": 22,
   "id": "0b784096-9df8-490f-a4be-d247467ae58e",
   "metadata": {},
   "outputs": [],
   "source": [
    "import os\n",
    "import time\n",
    "import datetime\n",
    "import base64\n",
    "from pprint import pprint\n",
    "from dotenv import load_dotenv\n",
    "from termcolor import colored,cprint\n",
    "\n",
    "from prism_agent_open_api_specification_client import Client\n",
    "from prism_agent_open_api_specification_client.types import Response\n",
    "from prism_agent_open_api_specification_client.models import ConnectionCollection,Connection,ConnectionInvitation,CreateConnectionRequest,AcceptConnectionInvitationRequest\n",
    "from prism_agent_open_api_specification_client.api.connections_management import get_connections,get_connection,create_connection,accept_connection_invitation\n",
    "from prism_agent_open_api_specification_client.models import IssueCredentialRecord, CreateIssueCredentialRecordRequest, CreateIssueCredentialRecordRequestClaims, IssueCredentialRecordCollection, IssueCredentialRecordAllOfProtocolState\n",
    "from prism_agent_open_api_specification_client.api.issue_credentials_protocol import get_credential_record, get_credential_records, create_credential_offer,accept_credential_offer,issue_credential\n",
    "from prism_agent_open_api_specification_client.models import CreateManagedDidRequestDocumentTemplatePublicKeysInnerPurpose, CreateManagedDidRequestDocumentTemplatePublicKeysInner\n",
    "from prism_agent_open_api_specification_client.models import CreateManagedDidRequestDocumentTemplate, CreateManagedDidRequest, CreateManagedDIDResponse\n",
    "from prism_agent_open_api_specification_client.models import ListManagedDIDResponseInner, ListManagedDIDResponseInnerStatus\n",
    "from prism_agent_open_api_specification_client.models import DIDDocumentMetadata, DIDOperationResponse, DidOperationSubmission, DIDResponse, DID, Service, ServiceType   \n",
    "from prism_agent_open_api_specification_client.api.did_registrar import create_managed_did, list_managed_did, publish_managed_did  \n"
   ]
  },
  {
   "cell_type": "markdown",
   "id": "27d5b99e-b917-4845-9811-ee2b56ab39eb",
   "metadata": {},
   "source": [
    "### Ultilitary functions"
   ]
  },
  {
   "cell_type": "code",
   "execution_count": 11,
   "id": "256622d6-ec9c-4189-ade3-5f9a773f3a45",
   "metadata": {},
   "outputs": [],
   "source": [
    "def get_invitation_str(connection):\n",
    "    parts = connection.invitation.invitation_url.split(\"=\")\n",
    "    return parts[1]\n",
    "\n",
    "def find_credential_record_by_state(client, state):\n",
    "    holder_credential_records: Response[IssueCredentialRecordCollection] = get_credential_records.sync(client=client)\n",
    "\n",
    "    for offer in holder_credential_records.items:\n",
    "        if(offer.protocol_state == state):\n",
    "            return offer\n",
    "    return None \n",
    "\n",
    "def print_credential_record(credential_record):\n",
    "    print(f\"record_id:          {credential_record.record_id}\")\n",
    "    print(f\"subject_id:         {credential_record.subject_id}\")\n",
    "    print(f\"role:               {credential_record.role}\")\n",
    "    print(f\"protocol_state:     {credential_record.protocol_state}\")\n",
    "    print(f\"publication_state:  {credential_record.publication_state}\")\n",
    "    print(f\"created_at:         {credential_record.created_at}\")\n",
    "    print(f\"updated_at:         {credential_record.updated_at}\")\n",
    "    \n",
    "    \n",
    "def print_connection(connection):\n",
    "    print(f\"connection_id: {connection.connection_id}\")\n",
    "    print(f\"state:         {connection.state}\")\n",
    "    print(f\"label:         {connection.label}\")\n",
    "    print(f\"my_did:        {connection.my_did}\")\n",
    "    print(f\"their_did:     {connection.their_did}\")\n",
    "    print(f\"created_at:    {connection.created_at}\")"
   ]
  },
  {
   "cell_type": "markdown",
   "id": "bb8dc963-b0ef-4666-adb9-24abac2ae625",
   "metadata": {},
   "source": [
    "### Client instances\n",
    "\n",
    "We will create two separate clients, one for the issuer and one for the holder, in order to establish a connection between the two.\n",
    "\n",
    "note: remember to update the file variables.env with the URLs and API keys provided to you.\n"
   ]
  },
  {
   "cell_type": "code",
   "execution_count": 3,
   "id": "767fd10e-4ae7-4b17-b932-ac2e8f5d6219",
   "metadata": {},
   "outputs": [],
   "source": [
    "load_dotenv(\"../BetaProgram/variables.env\")\n",
    "issuerApiKey = os.getenv('ISSUER_APIKEY')\n",
    "issuerUrl = os.getenv('ISSUER_URL')\n",
    "\n",
    "holderApiKey = os.getenv('HOLDER_APIKEY')\n",
    "holderUrl = os.getenv('HOLDER_URL')\n",
    "\n",
    "issuer_client = Client(base_url=issuerUrl, headers={\"apiKey\": issuerApiKey})\n",
    "holder_client = Client(base_url=holderUrl, headers={\"apiKey\": holderApiKey})"
   ]
  },
  {
   "cell_type": "markdown",
   "id": "66210c60-88b1-438c-aa79-01a5304582a9",
   "metadata": {},
   "source": [
    "### Create connection\n",
    "\n",
    "For details on this see \"Example 01 - Connections\""
   ]
  },
  {
   "cell_type": "code",
   "execution_count": 4,
   "id": "2cba1313-d47f-4c21-bc7d-acd43f6fa2d6",
   "metadata": {},
   "outputs": [
    {
     "name": "stdout",
     "output_type": "stream",
     "text": [
      "Please wait...\n",
      "Issuer State: InvitationGenerated / Holder State: ConnectionRequestPending \n",
      "\n",
      "Issuer State: ConnectionResponsePending / Holder State: ConnectionRequestPending \n",
      "\n",
      "Issuer State: ConnectionResponsePending / Holder State: ConnectionRequestSent \n",
      "\n",
      "Issuer State: ConnectionResponsePending / Holder State: ConnectionRequestSent \n",
      "\n",
      "Issuer State: ConnectionResponsePending / Holder State: ConnectionResponseReceived \n",
      "\n",
      "Connection established between Issuer and Holder!\n",
      "\n",
      "Issuer connection:\n",
      "\n",
      "connection_id: 1fdfca4d-bf32-46e7-af5c-c2115ecc22ec\n",
      "state:         ConnectionResponsePending\n",
      "label:         Issue credential 2023-01-29 00:00:00\n",
      "my_did:        did:peer:2.Ez6LSqN1jSpye52Fs3xUz8L4KqPvWXLgGpQpgUCws3V4xtYxK.Vz6Mkrc6eD4pUWwEGB4Nq7C6uEwUSCnX5NivvbWAn1wZQxLHr.SeyJ0IjoiZG0iLCJzIjoiaHR0cHM6Ly9iZzY1ai5hdGFsYXByaXNtLmlvL3ByaXNtLWFnZW50L2RpZGNvbW0iLCJyIjpbXSwiYSI6WyJkaWRjb21tL3YyIl19\n",
      "their_did:     did:peer:2.Ez6LSpzdmF4wrt3MEuMPxWTdL9TRkpTmKdgq3zqPsgEZ4giLi.Vz6MkgXLUEFc3LHcQ8kfA5c3DYhtXCkWBTSBuhF2m2Qinv8Jm.SeyJ0IjoiZG0iLCJzIjoiaHR0cHM6Ly9sdzIycS5hdGFsYXByaXNtLmlvL3ByaXNtLWFnZW50L2RpZGNvbW0iLCJyIjpbXSwiYSI6WyJkaWRjb21tL3YyIl19\n",
      "created_at:    2023-01-29 01:17:20+00:00\n",
      "\n",
      "Holder connection:\n",
      "\n",
      "connection_id: 41e88be1-ced4-4af6-a1ec-2ce360313b54\n",
      "state:         ConnectionResponseReceived\n",
      "label:         <prism_agent_open_api_specification_client.types.Unset object at 0x7f3e60220580>\n",
      "my_did:        did:peer:2.Ez6LSpzdmF4wrt3MEuMPxWTdL9TRkpTmKdgq3zqPsgEZ4giLi.Vz6MkgXLUEFc3LHcQ8kfA5c3DYhtXCkWBTSBuhF2m2Qinv8Jm.SeyJ0IjoiZG0iLCJzIjoiaHR0cHM6Ly9sdzIycS5hdGFsYXByaXNtLmlvL3ByaXNtLWFnZW50L2RpZGNvbW0iLCJyIjpbXSwiYSI6WyJkaWRjb21tL3YyIl19\n",
      "their_did:     did:peer:2.Ez6LSqN1jSpye52Fs3xUz8L4KqPvWXLgGpQpgUCws3V4xtYxK.Vz6Mkrc6eD4pUWwEGB4Nq7C6uEwUSCnX5NivvbWAn1wZQxLHr.SeyJ0IjoiZG0iLCJzIjoiaHR0cHM6Ly9iZzY1ai5hdGFsYXByaXNtLmlvL3ByaXNtLWFnZW50L2RpZGNvbW0iLCJyIjpbXSwiYSI6WyJkaWRjb21tL3YyIl19\n",
      "created_at:    2023-01-29 01:17:21+00:00\n"
     ]
    }
   ],
   "source": [
    "print(\"Please wait...\")\n",
    "\n",
    "conn_request = CreateConnectionRequest()\n",
    "conn_request.label = f'Issue credential {datetime.date.today().strftime(\"%Y-%m-%d %H:%M:%S\")}'\n",
    "issuer_connection: Response[Connection] =  create_connection.sync(client=issuer_client,json_body=conn_request)\n",
    "\n",
    "invitation = get_invitation_str(issuer_connection)\n",
    "\n",
    "accept_conn_request = AcceptConnectionInvitationRequest(invitation)\n",
    "holder_connection: Response[ConnectionInvitation] =  accept_connection_invitation.sync(client=holder_client,json_body=accept_conn_request)\n",
    "\n",
    "\n",
    "issuer_connection: Response[Connection] = get_connection.sync(client=issuer_client,connection_id=issuer_connection.connection_id)\n",
    "holder_connection: Response[Connection] = get_connection.sync(client=holder_client,connection_id=holder_connection.connection_id)\n",
    "\n",
    "while (issuer_connection.state != 'ConnectionResponseSent' and holder_connection.state != 'ConnectionResponseReceived'):\n",
    "    issuer_connection: Response[Connection] = get_connection.sync(client=issuer_client,connection_id=issuer_connection.connection_id)\n",
    "    holder_connection: Response[Connection] = get_connection.sync(client=holder_client,connection_id=holder_connection.connection_id)\n",
    "    print(\"Issuer State: {} / Holder State: {} \\n\".format(issuer_connection.state,holder_connection.state))\n",
    "    time.sleep(1)\n",
    "    \n",
    "print(\"Connection established between Issuer and Holder!\")\n",
    "print(\"\\nIssuer connection:\\n\")\n",
    "print_connection(issuer_connection)\n",
    "print(\"\\nHolder connection:\\n\")\n",
    "print_connection(holder_connection)"
   ]
  },
  {
   "cell_type": "markdown",
   "id": "431b503e-79f9-4993-8602-d4ec08bc971c",
   "metadata": {},
   "source": [
    "### Holder - Create PRISM DID (TBD)\n"
   ]
  },
  {
   "cell_type": "code",
   "execution_count": 5,
   "id": "c24101f8-0425-435c-9156-dd857ec57bd1",
   "metadata": {},
   "outputs": [
    {
     "name": "stdout",
     "output_type": "stream",
     "text": [
      "'did:prism:e62b4529af0964e37983af7abc05f5ddfefa6b317a4f685e8cecdc950ad079b7:CrwBCrkBElkKBGtleTEQBEJPCglzZWNwMjU2azESIJijkDX4d_iqN8wBfrh5Ne4q6qlSOc59HrjQoLw_TL3oGiA0OmQ6rl1M5FBzl6IvKeyX0rZZR-KWg-4eTzxXiOIExhJcCgdtYXN0ZXIwEAFCTwoJc2VjcDI1NmsxEiA-0cbEBtYruG-pEqvXtgfePaafWmMAXGKcI_armAGlAxogyay3a2aFUDckUl1alQQNJzEMF4mEw8eflR-cY1zpklo'\n"
     ]
    }
   ],
   "source": [
    "public_key = CreateManagedDidRequestDocumentTemplatePublicKeysInner(id=\"key1\", purpose=CreateManagedDidRequestDocumentTemplatePublicKeysInnerPurpose.AUTHENTICATION)\n",
    "service = Service(id=\"service1\", type=ServiceType.MEDIATORSERVICE, service_endpoint=[f\"{holderUrl}/didcomm\"])\n",
    "document_template = CreateManagedDidRequestDocumentTemplate([public_key],[])\n",
    "did_request = CreateManagedDidRequest(document_template)\n",
    "\n",
    "did_subject: Response[CreateManagedDIDResponse] = create_managed_did.sync(client=holder_client, json_body=did_request)\n",
    "\n",
    "pprint(f\"{did_subject.long_form_did}\")"
   ]
  },
  {
   "cell_type": "markdown",
   "id": "fed2a112-4160-4de0-9673-ffbf37d1bf06",
   "metadata": {},
   "source": [
    "### Issuer - Create credential claim\n",
    "\n",
    "The issuer creates the credential claim object to store the attributes that will be part of the verifiable credential."
   ]
  },
  {
   "cell_type": "code",
   "execution_count": 6,
   "id": "8fd78b3e-ebd7-466b-a71d-158b7f310d82",
   "metadata": {},
   "outputs": [],
   "source": [
    "data = {\n",
    "        \"firstname\": 'Joe',\n",
    "        \"lastname\": 'Soap',\n",
    "        \"birthdate\": '11/11/1999'\n",
    "      }\n",
    "\n",
    "credential_claims = CreateIssueCredentialRecordRequestClaims().from_dict(data)"
   ]
  },
  {
   "cell_type": "markdown",
   "id": "a51d2dd2-8355-4193-9900-cf8cd8eea715",
   "metadata": {},
   "source": [
    "### Issuer - Send credential offer\n",
    "\n",
    "The issuer creates a `CreateIssueCredentialRecordRequest`. It contains the `subject_id`, the `claims` and other metadata. This object is passed to the `create_credential_offer` endpoint.\n",
    "The `create_credential_offer` call creates an `IssueCredentialRecord` on the issuer side, it also sends the credential offer to the holder."
   ]
  },
  {
   "cell_type": "code",
   "execution_count": 7,
   "id": "28f46366-c57b-4787-b26b-8ae21926c069",
   "metadata": {},
   "outputs": [
    {
     "name": "stdout",
     "output_type": "stream",
     "text": [
      "record_id:          6d02900b-d861-4d2e-a516-d4486424e0fb\n",
      "subject_id:         did:peer:2.Ez6LSpzdmF4wrt3MEuMPxWTdL9TRkpTmKdgq3zqPsgEZ4giLi.Vz6MkgXLUEFc3LHcQ8kfA5c3DYhtXCkWBTSBuhF2m2Qinv8Jm.SeyJ0IjoiZG0iLCJzIjoiaHR0cHM6Ly9sdzIycS5hdGFsYXByaXNtLmlvL3ByaXNtLWFnZW50L2RpZGNvbW0iLCJyIjpbXSwiYSI6WyJkaWRjb21tL3YyIl19\n",
      "role:               Issuer\n",
      "protocol_state:     OfferPending\n",
      "publication_state:  <prism_agent_open_api_specification_client.types.Unset object at 0x7f3e60220580>\n",
      "created_at:         2023-01-29 01:17:49.318241+00:00\n",
      "updated_at:         <prism_agent_open_api_specification_client.types.Unset object at 0x7f3e60220580>\n"
     ]
    }
   ],
   "source": [
    "credential_offer = CreateIssueCredentialRecordRequest(subject_id=issuer_connection.their_did, claims=credential_claims, schema_id=\"1234\", validity_period=3600, automatic_issuance=False, await_confirmation=False)\n",
    "\n",
    "issuer_credential_offer: Response[IssueCredentialRecord] = create_credential_offer.sync(client=issuer_client,json_body=credential_offer)\n",
    "\n",
    "print_credential_record(issuer_credential_offer)"
   ]
  },
  {
   "cell_type": "markdown",
   "id": "77a8f829-74ea-4f98-8d6c-90a40433a0e4",
   "metadata": {},
   "source": [
    "### Holder - Wait for credential offer\n",
    "\n",
    "The holder waits to receive the credential offer. When received, it will show up in the holder's credential records list as a new entry with `protocol_state` equal to `OfferReceived`. The code below waits until a credential offer is received and takes the corresponding credential_record."
   ]
  },
  {
   "cell_type": "code",
   "execution_count": 12,
   "id": "90d092f0-87fa-45da-b34f-081af9152a72",
   "metadata": {},
   "outputs": [
    {
     "name": "stdout",
     "output_type": "stream",
     "text": [
      "record_id:          0c263de4-99c6-4134-bc77-323fa868d386\n",
      "subject_id:         did:peer:2.Ez6LSpzdmF4wrt3MEuMPxWTdL9TRkpTmKdgq3zqPsgEZ4giLi.Vz6MkgXLUEFc3LHcQ8kfA5c3DYhtXCkWBTSBuhF2m2Qinv8Jm.SeyJ0IjoiZG0iLCJzIjoiaHR0cHM6Ly9sdzIycS5hdGFsYXByaXNtLmlvL3ByaXNtLWFnZW50L2RpZGNvbW0iLCJyIjpbXSwiYSI6WyJkaWRjb21tL3YyIl19\n",
      "role:               Holder\n",
      "protocol_state:     OfferReceived\n",
      "publication_state:  <prism_agent_open_api_specification_client.types.Unset object at 0x7f3e60220580>\n",
      "created_at:         2023-01-29 01:17:52+00:00\n",
      "updated_at:         <prism_agent_open_api_specification_client.types.Unset object at 0x7f3e60220580>\n"
     ]
    }
   ],
   "source": [
    "holder_credential_record = find_credential_record_by_state(holder_client, IssueCredentialRecordAllOfProtocolState.OFFERRECEIVED)\n",
    "\n",
    "while(holder_credential_record == None):\n",
    "    holder_credential_record = find_credential_record_by_state(holder_client, IssueCredentialRecordAllOfProtocolState.OFFERRECEIVED)\n",
    "    time.sleep(1)\n",
    "    \n",
    "print_credential_record(holder_credential_record)"
   ]
  },
  {
   "cell_type": "markdown",
   "id": "c49cf031-2806-4f47-b9aa-4efc11f99342",
   "metadata": {
    "tags": []
   },
   "source": [
    "### Holder - Accept credential offer\n",
    "\n",
    "The holder uses the `accept_credential_offer` endpoint to accept the credential offer. It must provide the `record_id` of the offer. Accepting the credential offer tells the Issuer that the credential can be issued."
   ]
  },
  {
   "cell_type": "code",
   "execution_count": 13,
   "id": "8a0a2b49-1ea4-4f41-9c87-b21ceb78bf34",
   "metadata": {},
   "outputs": [
    {
     "name": "stdout",
     "output_type": "stream",
     "text": [
      "record_id:          0c263de4-99c6-4134-bc77-323fa868d386\n",
      "subject_id:         did:peer:2.Ez6LSpzdmF4wrt3MEuMPxWTdL9TRkpTmKdgq3zqPsgEZ4giLi.Vz6MkgXLUEFc3LHcQ8kfA5c3DYhtXCkWBTSBuhF2m2Qinv8Jm.SeyJ0IjoiZG0iLCJzIjoiaHR0cHM6Ly9sdzIycS5hdGFsYXByaXNtLmlvL3ByaXNtLWFnZW50L2RpZGNvbW0iLCJyIjpbXSwiYSI6WyJkaWRjb21tL3YyIl19\n",
      "role:               Holder\n",
      "protocol_state:     RequestPending\n",
      "publication_state:  <prism_agent_open_api_specification_client.types.Unset object at 0x7f3e60220580>\n",
      "created_at:         2023-01-29 01:17:52+00:00\n",
      "updated_at:         2023-01-29 01:24:56+00:00\n"
     ]
    }
   ],
   "source": [
    "holder_credential_record: Response[IssueCredentialRecord] = accept_credential_offer.sync(client=holder_client, record_id=holder_credential_record.record_id)\n",
    "print_credential_record(holder_credential_record)"
   ]
  },
  {
   "cell_type": "markdown",
   "id": "b22ba226-c5d9-4590-a270-59a600a2115a",
   "metadata": {},
   "source": [
    "### Issuer - Wait for credential request\n",
    "\n",
    "The issuer waits to receive the credential request. When received, the credential record state will change to `RequestReceived` in the issuer's credential records list. The code below waits until a credential request is received and takes the corresponding credential_record."
   ]
  },
  {
   "cell_type": "code",
   "execution_count": 14,
   "id": "dcd1c6d2-6418-4b12-bb87-4dec88a12001",
   "metadata": {},
   "outputs": [
    {
     "name": "stdout",
     "output_type": "stream",
     "text": [
      "record_id:          6d02900b-d861-4d2e-a516-d4486424e0fb\n",
      "subject_id:         did:peer:2.Ez6LSpzdmF4wrt3MEuMPxWTdL9TRkpTmKdgq3zqPsgEZ4giLi.Vz6MkgXLUEFc3LHcQ8kfA5c3DYhtXCkWBTSBuhF2m2Qinv8Jm.SeyJ0IjoiZG0iLCJzIjoiaHR0cHM6Ly9sdzIycS5hdGFsYXByaXNtLmlvL3ByaXNtLWFnZW50L2RpZGNvbW0iLCJyIjpbXSwiYSI6WyJkaWRjb21tL3YyIl19\n",
      "role:               Issuer\n",
      "protocol_state:     RequestReceived\n",
      "publication_state:  <prism_agent_open_api_specification_client.types.Unset object at 0x7f3e60220580>\n",
      "created_at:         2023-01-29 01:17:49+00:00\n",
      "updated_at:         2023-01-29 01:25:00+00:00\n"
     ]
    }
   ],
   "source": [
    "issuer_credential_offer = get_credential_record.sync(client=issuer_client, record_id=issuer_credential_offer.record_id)\n",
    "\n",
    "while(issuer_credential_offer.protocol_state != IssueCredentialRecordAllOfProtocolState.REQUESTRECEIVED):\n",
    "    issuer_credential_offer = get_credential_record.sync(client=issuer_client, record_id=issuer_credential_offer.record_id)\n",
    "    print(\"protocol_state: {}\\n\".format(issuer_credential_offer.protocol_state))\n",
    "    time.sleep(1)\n",
    "    \n",
    "print_credential_record(issuer_credential_offer)"
   ]
  },
  {
   "cell_type": "markdown",
   "id": "208ac467-e00a-4376-93b1-f6843c4fe10f",
   "metadata": {},
   "source": [
    "### Issuer - Accept credential request (issue credential to holder)\n",
    "\n",
    "The issuer uses the `issue_credential` endpoint to issue the credential. It must provide the `record_id`. When issued the record state changes to `CredentialSent` and the credential is send to the holder."
   ]
  },
  {
   "cell_type": "code",
   "execution_count": 15,
   "id": "0374cd2a-5094-44f3-ba65-2254015b34ad",
   "metadata": {},
   "outputs": [
    {
     "name": "stdout",
     "output_type": "stream",
     "text": [
      "record_id:          6d02900b-d861-4d2e-a516-d4486424e0fb\n",
      "subject_id:         did:peer:2.Ez6LSpzdmF4wrt3MEuMPxWTdL9TRkpTmKdgq3zqPsgEZ4giLi.Vz6MkgXLUEFc3LHcQ8kfA5c3DYhtXCkWBTSBuhF2m2Qinv8Jm.SeyJ0IjoiZG0iLCJzIjoiaHR0cHM6Ly9sdzIycS5hdGFsYXByaXNtLmlvL3ByaXNtLWFnZW50L2RpZGNvbW0iLCJyIjpbXSwiYSI6WyJkaWRjb21tL3YyIl19\n",
      "role:               Issuer\n",
      "protocol_state:     CredentialPending\n",
      "publication_state:  <prism_agent_open_api_specification_client.types.Unset object at 0x7f3e60220580>\n",
      "created_at:         2023-01-29 01:17:49+00:00\n",
      "updated_at:         2023-01-29 01:25:13+00:00\n"
     ]
    }
   ],
   "source": [
    "issuer_credential_offer: Response[IssueCredentialRecord] = issue_credential.sync(client=issuer_client, record_id=issuer_credential_offer.record_id)\n",
    "print_credential_record(issuer_credential_offer)"
   ]
  },
  {
   "cell_type": "markdown",
   "id": "6658741d-b1b3-4bae-9226-50295235d3d9",
   "metadata": {},
   "source": [
    "### Holder - Wait for credential\n",
    "\n",
    "The holder waits to receive the credential. When received, it will be added to the holder's credential record and the `protocol_state` will be updated to `CredentialReceived`. The code below waits until a credential is received."
   ]
  },
  {
   "cell_type": "code",
   "execution_count": 23,
   "id": "42baaa79-ca85-4b32-a28b-b4723a4a92ed",
   "metadata": {},
   "outputs": [
    {
     "name": "stdout",
     "output_type": "stream",
     "text": [
      "record_id:          0c263de4-99c6-4134-bc77-323fa868d386\n",
      "subject_id:         did:peer:2.Ez6LSpzdmF4wrt3MEuMPxWTdL9TRkpTmKdgq3zqPsgEZ4giLi.Vz6MkgXLUEFc3LHcQ8kfA5c3DYhtXCkWBTSBuhF2m2Qinv8Jm.SeyJ0IjoiZG0iLCJzIjoiaHR0cHM6Ly9sdzIycS5hdGFsYXByaXNtLmlvL3ByaXNtLWFnZW50L2RpZGNvbW0iLCJyIjpbXSwiYSI6WyJkaWRjb21tL3YyIl19\n",
      "role:               Holder\n",
      "protocol_state:     CredentialReceived\n",
      "publication_state:  <prism_agent_open_api_specification_client.types.Unset object at 0x7f3e60220580>\n",
      "created_at:         2023-01-29 01:17:52+00:00\n",
      "updated_at:         2023-01-29 01:25:25+00:00\n"
     ]
    }
   ],
   "source": [
    "holder_credential_record = get_credential_record.sync(client=holder_client, record_id=holder_credential_record.record_id)\n",
    "\n",
    "while(holder_credential_record.protocol_state != IssueCredentialRecordAllOfProtocolState.CREDENTIALRECEIVED):\n",
    "    holder_credential_record = get_credential_record.sync(client=holder_client, record_id=holder_credential_record.record_id)\n",
    "    print(f\"protocol state: {holder_credential_record.protocol_state}\")\n",
    "    time.sleep(1)\n",
    "    \n",
    "print_credential_record(holder_credential_record)"
   ]
  },
  {
   "cell_type": "markdown",
   "id": "7495a570-d40d-4b1d-83d8-f3b6a435ff93",
   "metadata": {},
   "source": [
    "### JWT Credential\n",
    "\n",
    "The JWT Credential is available in the holder credential record. The website https://jwt.io/ can be used to decode the credential."
   ]
  },
  {
   "cell_type": "code",
   "execution_count": 31,
   "id": "bb23fcd1-43bb-4195-9785-505e24de50be",
   "metadata": {},
   "outputs": [
    {
     "name": "stdout",
     "output_type": "stream",
     "text": [
      "\"eyJhbGciOiJFUzI1NksifQ.eyJpc3MiOiJkaWQ6cHJpc206ZGFiOTc0NmVlMGJkNTgyOTdhMTFmNTFmYmEwMjA2ZDYwM2YzNGNhZWQ3NzkzYjExZjk4ODZiM2Y4NDhiZjQ1ZDpDcjhCQ3J3QkVsd0tCMmx6YzNWcGJtY1FCRUpQQ2dselpXTndNalUyYXpFU0lBbEctS2U5bG5PaEZWaUdJcGRDNzNPcmNkcEk2MHp4MzRNS1JVcHNSQXJSR2lCc1kzWmI1eTBzSUpRV1F4SW5ZZFcxQmNIUzhzVmE2QU52YWU0aElBYVR4aEpjQ2dkdFlYTjBaWEl3RUFGQ1R3b0pjMlZqY0RJMU5tc3hFaUJuZGU1bUZiSFJVYlljTHQ1UXZCVkxBQjNsUEE0Yi1XRlpJcDc4SHJORlN4b2c5dzJ0S3ZYeWRLSlEwMXk2dVhfM08ySmc1YXNJLVYzNUJmeXE1d1ZkUms0Iiwic3ViIjoiZGlkOnBlZXI6Mi5FejZMU3B6ZG1GNHdydDNNRXVNUHhXVGRMOVRSa3BUbUtkZ3EzenFQc2dFWjRnaUxpLlZ6Nk1rZ1hMVUVGYzNMSGNROGtmQTVjM0RZaHRYQ2tXQlRTQnVoRjJtMlFpbnY4Sm0uU2V5SjBJam9pWkcwaUxDSnpJam9pYUhSMGNITTZMeTlzZHpJeWNTNWhkR0ZzWVhCeWFYTnRMbWx2TDNCeWFYTnRMV0ZuWlc1MEwyUnBaR052YlcwaUxDSnlJanBiWFN3aVlTSTZXeUprYVdSamIyMXRMM1l5SWwxOSIsIm5iZiI6MTY3NDk1NTUxNCwiZXhwIjoxNjc0OTU5MTE0LCJ2YyI6eyJjcmVkZW50aWFsU3ViamVjdCI6eyJmaXJzdG5hbWUiOiJKb2UiLCJiaXJ0aGRhdGUiOiIxMVwvMTFcLzE5OTkiLCJpZCI6ImRpZDpwZWVyOjIuRXo2TFNwemRtRjR3cnQzTUV1TVB4V1RkTDlUUmtwVG1LZGdxM3pxUHNnRVo0Z2lMaS5WejZNa2dYTFVFRmMzTEhjUThrZkE1YzNEWWh0WENrV0JUU0J1aEYybTJRaW52OEptLlNleUowSWpvaVpHMGlMQ0p6SWpvaWFIUjBjSE02THk5c2R6SXljUzVoZEdGc1lYQnlhWE50TG1sdkwzQnlhWE50TFdGblpXNTBMMlJwWkdOdmJXMGlMQ0p5SWpwYlhTd2lZU0k2V3lKa2FXUmpiMjF0TDNZeUlsMTkiLCJsYXN0bmFtZSI6IlNvYXAifSwidHlwZSI6WyJWZXJpZmlhYmxlQ3JlZGVudGlhbCJdLCJAY29udGV4dCI6WyJodHRwczpcL1wvd3d3LnczLm9yZ1wvMjAxOFwvY3JlZGVudGlhbHNcL3YxIl19fQ.HUZeHpa8THyKntdeNy-AGgIJwQtmhiKx6oj5WaR2v6TKOw1LYvFjNOXTbqLX_d5vO4NfXIU8egr3CI8TAbBTyw\"\n"
     ]
    }
   ],
   "source": [
    "print(base64.b64decode(holder_credential_record.jwt_credential).decode())"
   ]
  }
 ],
 "metadata": {
  "kernelspec": {
   "display_name": "Python 3 (ipykernel)",
   "language": "python",
   "name": "python3"
  },
  "language_info": {
   "codemirror_mode": {
    "name": "ipython",
    "version": 3
   },
   "file_extension": ".py",
   "mimetype": "text/x-python",
   "name": "python",
   "nbconvert_exporter": "python",
   "pygments_lexer": "ipython3",
   "version": "3.10.8"
  }
 },
 "nbformat": 4,
 "nbformat_minor": 5
}
