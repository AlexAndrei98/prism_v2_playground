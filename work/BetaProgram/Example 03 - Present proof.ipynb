{
 "cells": [
  {
   "cell_type": "markdown",
   "id": "7f64f643-ccd0-44eb-9f00-770a9c9864f5",
   "metadata": {},
   "source": [
    "Flow 3 - present proof\n",
    "----------------------\n",
    "\n",
    "verifier - create an invitation\n",
    "holder - accept invitation\n",
    "\n",
    "verifier - create present proof request (connection, proofs)\n",
    "\n",
    "holder - check list of presentation requests\n",
    "holder - check list of credential records\n",
    "holder - accept the presentation (presentationId, proofId -> credential record)"
   ]
  }
 ],
 "metadata": {
  "kernelspec": {
   "display_name": "Python 3 (ipykernel)",
   "language": "python",
   "name": "python3"
  },
  "language_info": {
   "codemirror_mode": {
    "name": "ipython",
    "version": 3
   },
   "file_extension": ".py",
   "mimetype": "text/x-python",
   "name": "python",
   "nbconvert_exporter": "python",
   "pygments_lexer": "ipython3",
   "version": "3.10.8"
  }
 },
 "nbformat": 4,
 "nbformat_minor": 5
}
