{
 "cells": [
  {
   "cell_type": "markdown",
   "id": "7f64f643-ccd0-44eb-9f00-770a9c9864f5",
   "metadata": {
    "tags": []
   },
   "source": [
    "## Present proof"
   ]
  },
  {
   "cell_type": "code",
   "execution_count": 1,
   "id": "4470368b-5861-4622-b332-355720d2c3eb",
   "metadata": {},
   "outputs": [],
   "source": [
    "import os\n",
    "import time\n",
    "import datetime\n",
    "import base64\n",
    "from pprint import pprint\n",
    "from dotenv import load_dotenv\n",
    "from termcolor import colored,cprint\n",
    "\n",
    "from prism_agent_open_api_specification_client import Client\n",
    "from prism_agent_open_api_specification_client.types import Response\n",
    "from prism_agent_open_api_specification_client.models import ConnectionCollection,Connection,ConnectionInvitation,CreateConnectionRequest,AcceptConnectionInvitationRequest\n",
    "from prism_agent_open_api_specification_client.api.connections_management import get_connections,get_connection,create_connection,accept_connection_invitation\n",
    "\n",
    "from prism_agent_open_api_specification_client.models import PresentationStatus, ErrorResponse, Proof, ProofRequestAux, PublicKeyJwk, RequestPresentationInput, RequestPresentationOutput, RequestPresentationAction, RequestPresentationActionAction\n",
    "from prism_agent_open_api_specification_client.api.present_proof import get_presentation, get_all_presentation, request_presentation, update_presentation"
   ]
  },
  {
   "cell_type": "markdown",
   "id": "2c20cf06-b5eb-43ca-97c6-e26fbac4b497",
   "metadata": {
    "tags": []
   },
   "source": [
    "### Ultilitary functions"
   ]
  },
  {
   "cell_type": "code",
   "execution_count": 2,
   "id": "f23d8275-00af-4eb9-9d30-245b5dc09504",
   "metadata": {},
   "outputs": [],
   "source": [
    "def get_invitation_str(connection):\n",
    "    parts = connection.invitation.invitation_url.split(\"=\")\n",
    "    return parts[1]\n",
    "\n",
    "def find_proof_request_by_state(client, state):\n",
    "    proof_requests: Response[PresentationStatus] = get_all_presentation.sync(client=client)\n",
    "    \n",
    "    for proof_request in proof_requests:\n",
    "        if(proof_request.status == state):\n",
    "            return proof_request\n",
    "    return None \n",
    "\n",
    "def print_proof_request(proof_request):\n",
    "    print(f\"presentation_id: {proof_request.presentation_id}\")\n",
    "    if hasattr(proof_request, \"status\"):\n",
    "        print(f\"status:          {proof_request.status}\")\n",
    "    if hasattr(proof_request, \"connection_id\"):\n",
    "        print(f\"connection_id:   {proof_request.connection_id}\")\n",
    "\n",
    "def print_connection(connection):\n",
    "    print(f\"connection_id: {connection.connection_id}\")\n",
    "    print(f\"state:         {connection.state}\")\n",
    "    print(f\"label:         {connection.label}\")\n",
    "    print(f\"my_did:        {connection.my_did}\")\n",
    "    print(f\"their_did:     {connection.their_did}\")\n",
    "    print(f\"created_at:    {connection.created_at}\")"
   ]
  },
  {
   "cell_type": "markdown",
   "id": "57053f19-8354-4a52-9c14-ad89c8e4718a",
   "metadata": {},
   "source": [
    "### Client instances\n",
    "\n",
    "We will create two separate clients, one for the verifier and one for the holder, in order to establish a connection between the two.\n",
    "\n",
    "note: remember to update the file variables.env with the URLs and API keys provided to you.\n"
   ]
  },
  {
   "cell_type": "code",
   "execution_count": 3,
   "id": "8389e691-de39-49d7-9972-03d3059de644",
   "metadata": {},
   "outputs": [],
   "source": [
    "load_dotenv(\"../BetaProgram/variables.env\")\n",
    "verifierApiKey = os.getenv('VERIFIER_APIKEY')\n",
    "verifierUrl = os.getenv('VERIFIER_URL')\n",
    "\n",
    "holderApiKey = os.getenv('HOLDER_APIKEY')\n",
    "holderUrl = os.getenv('HOLDER_URL')\n",
    "\n",
    "verifier_client = Client(base_url=verifierUrl, headers={\"apiKey\": verifierApiKey})\n",
    "holder_client = Client(base_url=holderUrl, headers={\"apiKey\": holderApiKey})"
   ]
  },
  {
   "cell_type": "markdown",
   "id": "4ef31cb2-1dab-44c8-8d33-059bb8c1a027",
   "metadata": {
    "tags": []
   },
   "source": [
    "### Create connection\n",
    "\n",
    "For details on this see \"Example 01 - Connections\""
   ]
  },
  {
   "cell_type": "code",
   "execution_count": 4,
   "id": "4f8772f4-feba-4be2-b000-d083931fee4c",
   "metadata": {},
   "outputs": [
    {
     "name": "stdout",
     "output_type": "stream",
     "text": [
      "Please wait...\n",
      "Verifier State: InvitationGenerated / Holder State: ConnectionRequestPending \n",
      "\n",
      "Verifier State: InvitationGenerated / Holder State: ConnectionRequestPending \n",
      "\n",
      "Verifier State: ConnectionResponsePending / Holder State: ConnectionRequestPending \n",
      "\n",
      "Verifier State: ConnectionResponsePending / Holder State: ConnectionRequestSent \n",
      "\n",
      "Verifier State: ConnectionResponsePending / Holder State: ConnectionRequestSent \n",
      "\n",
      "Verifier State: ConnectionResponsePending / Holder State: ConnectionResponseReceived \n",
      "\n",
      "Connection established between verifier and Holder!\n",
      "\n",
      "Verifier connection:\n",
      "\n",
      "connection_id: 4eb2271c-c577-4d95-9aae-5efb3665169f\n",
      "state:         ConnectionResponsePending\n",
      "label:         Present proof 2023-01-31 00:00:00\n",
      "my_did:        did:peer:2.Ez6LSm4kELijx9AJWAdF5cEu1s64MGnNCsAT3T74ChN3n3AGf.Vz6MkfqvXP89QraHWDySDjqnDJpzaJRiwtpGLQ2RkSn1uQNAS.SeyJ0IjoiZG0iLCJzIjoiaHR0cHM6Ly9rcjM0YS5hdGFsYXByaXNtLmlvL3ByaXNtLWFnZW50L2RpZGNvbW0iLCJyIjpbXSwiYSI6WyJkaWRjb21tL3YyIl19\n",
      "their_did:     did:peer:2.Ez6LSs7MERNbjF5dL8211xq9r6LMrZRQcgTpyEh3UDttfgobW.Vz6Mkk47GWys1mdT89EyrzTSSMBUgpucQ2uGaPUNvkZ8NuRgL.SeyJ0IjoiZG0iLCJzIjoiaHR0cHM6Ly9sdzIycS5hdGFsYXByaXNtLmlvL3ByaXNtLWFnZW50L2RpZGNvbW0iLCJyIjpbXSwiYSI6WyJkaWRjb21tL3YyIl19\n",
      "created_at:    2023-01-31 06:18:38+00:00\n",
      "\n",
      "Holder connection:\n",
      "\n",
      "connection_id: c805661b-67ba-4be1-8d0e-b24c90ad7ec6\n",
      "state:         ConnectionResponseReceived\n",
      "label:         <prism_agent_open_api_specification_client.types.Unset object at 0x7f22367d8a90>\n",
      "my_did:        did:peer:2.Ez6LSs7MERNbjF5dL8211xq9r6LMrZRQcgTpyEh3UDttfgobW.Vz6Mkk47GWys1mdT89EyrzTSSMBUgpucQ2uGaPUNvkZ8NuRgL.SeyJ0IjoiZG0iLCJzIjoiaHR0cHM6Ly9sdzIycS5hdGFsYXByaXNtLmlvL3ByaXNtLWFnZW50L2RpZGNvbW0iLCJyIjpbXSwiYSI6WyJkaWRjb21tL3YyIl19\n",
      "their_did:     did:peer:2.Ez6LSm4kELijx9AJWAdF5cEu1s64MGnNCsAT3T74ChN3n3AGf.Vz6MkfqvXP89QraHWDySDjqnDJpzaJRiwtpGLQ2RkSn1uQNAS.SeyJ0IjoiZG0iLCJzIjoiaHR0cHM6Ly9rcjM0YS5hdGFsYXByaXNtLmlvL3ByaXNtLWFnZW50L2RpZGNvbW0iLCJyIjpbXSwiYSI6WyJkaWRjb21tL3YyIl19\n",
      "created_at:    2023-01-31 06:18:38+00:00\n"
     ]
    }
   ],
   "source": [
    "print(\"Please wait...\")\n",
    "\n",
    "conn_request = CreateConnectionRequest()\n",
    "conn_request.label = f'Present proof {datetime.date.today().strftime(\"%Y-%m-%d %H:%M:%S\")}'\n",
    "verifier_connection: Response[Connection] =  create_connection.sync(client=verifier_client,json_body=conn_request)\n",
    "\n",
    "invitation = get_invitation_str(verifier_connection)\n",
    "\n",
    "accept_conn_request = AcceptConnectionInvitationRequest(invitation)\n",
    "holder_connection: Response[ConnectionInvitation] =  accept_connection_invitation.sync(client=holder_client,json_body=accept_conn_request)\n",
    "\n",
    "\n",
    "verifier_connection: Response[Connection] = get_connection.sync(client=verifier_client,connection_id=verifier_connection.connection_id)\n",
    "holder_connection: Response[Connection] = get_connection.sync(client=holder_client,connection_id=holder_connection.connection_id)\n",
    "\n",
    "while (verifier_connection.state != 'ConnectionResponseSent' and holder_connection.state != 'ConnectionResponseReceived'):\n",
    "    verifier_connection: Response[Connection] = get_connection.sync(client=verifier_client,connection_id=verifier_connection.connection_id)\n",
    "    holder_connection: Response[Connection] = get_connection.sync(client=holder_client,connection_id=holder_connection.connection_id)\n",
    "    print(\"Verifier State: {} / Holder State: {} \\n\".format(verifier_connection.state,holder_connection.state))\n",
    "    time.sleep(1)\n",
    "    \n",
    "print(\"Connection established between verifier and Holder!\")\n",
    "print(\"\\nVerifier connection:\\n\")\n",
    "print_connection(verifier_connection)\n",
    "print(\"\\nHolder connection:\\n\")\n",
    "print_connection(holder_connection)"
   ]
  },
  {
   "cell_type": "markdown",
   "id": "3996cf0a-0279-47c5-98c1-24bb4ae00f69",
   "metadata": {},
   "source": [
    "### Verifier - Create presentation request\n",
    "Uses the connectionID of the connection with the Holder, proofs describe the credential requested "
   ]
  },
  {
   "cell_type": "code",
   "execution_count": 5,
   "id": "6371eb11-cf89-4063-8d72-ac59ece40715",
   "metadata": {},
   "outputs": [],
   "source": [
    "data = {\n",
    "    \"connectionId\": verifier_connection.connection_id,\n",
    "    \"proofs\":[\n",
    "        {\n",
    "            \"schemaId\": \"https://schema.org/Person\",\n",
    "            \"trustIssuers\": [\n",
    "                \"did:web:atalaprism.io/users/testUser\"\n",
    "            ]\n",
    "        }\n",
    "    ]\n",
    "}\n",
    "\n",
    "proof_request = RequestPresentationInput.from_dict(data)\n",
    "\n"
   ]
  },
  {
   "cell_type": "markdown",
   "id": "e34574ec-6931-4d45-943c-38a7d9d9a004",
   "metadata": {},
   "source": [
    "### Verifier - Send proof request"
   ]
  },
  {
   "cell_type": "code",
   "execution_count": 6,
   "id": "90d4f75d-5ed7-45b2-8478-dc2b0bd683f3",
   "metadata": {},
   "outputs": [
    {
     "name": "stdout",
     "output_type": "stream",
     "text": [
      "presentation_id: 9963ac55-365b-494e-9bcf-b7906aeedbbe\n"
     ]
    }
   ],
   "source": [
    "verifier_proof_request: Response[RequestPresentationInput] = request_presentation.sync(client=verifier_client, json_body=proof_request)\n",
    "print_proof_request(verifier_proof_request)"
   ]
  },
  {
   "cell_type": "markdown",
   "id": "1afada58-80f3-4f45-8ea8-8b0ed5ba8b1f",
   "metadata": {},
   "source": [
    "### Holder - Wait for proof request"
   ]
  },
  {
   "cell_type": "code",
   "execution_count": 7,
   "id": "4b3a3dec-5888-425a-8aa5-1e15f5eddde0",
   "metadata": {},
   "outputs": [
    {
     "name": "stdout",
     "output_type": "stream",
     "text": [
      "presentation_id: 642a8314-b358-4bc0-9cb4-6d957acdee82\n",
      "status:          RequestReceived\n",
      "connection_id:   <prism_agent_open_api_specification_client.types.Unset object at 0x7f22367d8a90>\n"
     ]
    }
   ],
   "source": [
    "holder_proof_request = find_proof_request_by_state(holder_client, \"RequestReceived\")\n",
    "\n",
    "while(holder_proof_request == None):\n",
    "    holder_proof_request = find_proof_request_by_state(holder_client, \"RequestReceived\")\n",
    "    time.sleep(1)\n",
    "    \n",
    "print_proof_request(holder_proof_request)"
   ]
  },
  {
   "cell_type": "markdown",
   "id": "7b2eb401-d308-4e6d-b5ac-fd4060f89619",
   "metadata": {},
   "source": [
    "### Holder - Accept proof request"
   ]
  },
  {
   "cell_type": "code",
   "execution_count": 8,
   "id": "64a967f2-acea-498d-93be-6db8d9b779ad",
   "metadata": {},
   "outputs": [],
   "source": [
    "from typing import Any, Dict, Optional, Union, cast\n",
    "action = RequestPresentationAction(action=RequestPresentationActionAction.REQUEST_ACCEPT, proof_id=[\"0c263de4-99c6-4134-bc77-323fa868d386\"])\n",
    "\n",
    "##Always returns none\n",
    "update_presentation.sync(client=holder_client, json_body=action, id=holder_proof_request.presentation_id)"
   ]
  },
  {
   "cell_type": "markdown",
   "id": "28579404-3dd5-407c-b315-10a9bb749f07",
   "metadata": {},
   "source": [
    "### Verifier - Wait for verification"
   ]
  },
  {
   "cell_type": "code",
   "execution_count": 9,
   "id": "e534639a-40d0-4a60-8324-a7e239419675",
   "metadata": {},
   "outputs": [
    {
     "name": "stdout",
     "output_type": "stream",
     "text": [
      "status: PresentationReceived\n",
      "status: PresentationReceived\n",
      "status: PresentationReceived\n",
      "status: PresentationVerified\n",
      "presentation_id: 9963ac55-365b-494e-9bcf-b7906aeedbbe\n",
      "status:          PresentationVerified\n",
      "connection_id:   <prism_agent_open_api_specification_client.types.Unset object at 0x7f22367d8a90>\n"
     ]
    }
   ],
   "source": [
    "verifier_proof_request: Response[PresentationStatus] = get_presentation.sync(client=verifier_client, id=verifier_proof_request.presentation_id)\n",
    "\n",
    "while(verifier_proof_request.status != \"PresentationVerified\"):\n",
    "    verifier_proof_request: Response[PresentationStatus] = get_presentation.sync(client=verifier_client, id=verifier_proof_request.presentation_id)\n",
    "    print(f\"status: {verifier_proof_request.status}\")\n",
    "    time.sleep(1)\n",
    "    \n",
    "print_proof_request(verifier_proof_request)"
   ]
  },
  {
   "cell_type": "code",
   "execution_count": null,
   "id": "f120f121-ac09-4955-94f5-c32bec894d78",
   "metadata": {},
   "outputs": [],
   "source": []
  }
 ],
 "metadata": {
  "kernelspec": {
   "display_name": "Python 3 (ipykernel)",
   "language": "python",
   "name": "python3"
  },
  "language_info": {
   "codemirror_mode": {
    "name": "ipython",
    "version": 3
   },
   "file_extension": ".py",
   "mimetype": "text/x-python",
   "name": "python",
   "nbconvert_exporter": "python",
   "pygments_lexer": "ipython3",
   "version": "3.10.8"
  }
 },
 "nbformat": 4,
 "nbformat_minor": 5
}
