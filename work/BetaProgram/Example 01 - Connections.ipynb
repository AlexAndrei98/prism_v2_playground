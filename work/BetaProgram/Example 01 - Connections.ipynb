{
 "cells": [
  {
   "cell_type": "markdown",
   "id": "0911a63e-9a58-4d0f-a4f9-5106ab0a99c6",
   "metadata": {},
   "source": [
    "# Create a connection\n",
    "\n",
    "The process of establishing a connection between two peers, referred to as the Inviter and Invitee, begins with the Inviter creating an out-of-band (oob) invitation. This invitation contains all the necessary information for the Invitee to connect with the Inviter. Once the invitation is created, it must be handed to the Invitee in some way, such as through email, messaging or QR code. Once the Invitee receives the invitation, they must accept it in order to proceed with the connection. Finally, with the invitation accepted, the connection is established, allowing the two peers to communicate and share data."
   ]
  },
  {
   "cell_type": "code",
   "execution_count": 1,
   "id": "5462ef1f-e512-4f39-91e5-4c2b73c5be6b",
   "metadata": {},
   "outputs": [],
   "source": [
    "import os\n",
    "import datetime\n",
    "import time\n",
    "from pprint import pprint\n",
    "from dotenv import load_dotenv\n",
    "\n",
    "from prism_agent_open_api_specification_client import Client\n",
    "from prism_agent_open_api_specification_client.models import ConnectionCollection,Connection,ConnectionInvitation,CreateConnectionRequest,AcceptConnectionInvitationRequest\n",
    "from prism_agent_open_api_specification_client.api.connections_management import get_connections,get_connection,create_connection,accept_connection_invitation\n",
    "from prism_agent_open_api_specification_client.types import Response"
   ]
  },
  {
   "cell_type": "markdown",
   "id": "311e0392-b60b-4e23-bf82-eb05aeeecb10",
   "metadata": {},
   "source": [
    "### Utilitary functions"
   ]
  },
  {
   "cell_type": "code",
   "execution_count": 2,
   "id": "9733ecb3-dab9-4c5b-b0c2-025c554150aa",
   "metadata": {},
   "outputs": [],
   "source": [
    "def get_invitation_str(connection):\n",
    "    parts = connection.invitation.invitation_url.split(\"=\")\n",
    "    return parts[1]\n",
    "\n",
    "def print_connection(connection):\n",
    "    print(f\"connection_id: {connection.connection_id}\")\n",
    "    print(f\"state:         {connection.state}\")\n",
    "    print(f\"label:         {connection.label}\")\n",
    "    print(f\"my_did:        {connection.my_did}\")\n",
    "    print(f\"their_did:     {connection.their_did}\")\n",
    "    print(f\"created_at:    {connection.created_at}\")\n",
    "    print(f\"OOB Invitation: {get_invitation_str(connection)}\")"
   ]
  },
  {
   "cell_type": "markdown",
   "id": "46b9afe5-ff61-4116-870b-103d3f065506",
   "metadata": {},
   "source": [
    "### Client instances\n",
    "\n",
    "We will create two separate clients, one for the inviter and one for the invitee, in order to establish a connection between the two. The roles of the inviter and invitee may overlap with the traditional holder, prover, issuer, and verifier relationships. In some cases, the inviter may also have the role of an issuer or verifier, while the invitee may have the role of a holder or prover. This flexibility allows for different scenarios and use cases to be supported within the same flow\n",
    "\n",
    "note: remember to update the file variables.env with the URLs and API keys provided to you.\n"
   ]
  },
  {
   "cell_type": "code",
   "execution_count": 3,
   "id": "cb32dc0d-55bc-44cd-865e-19b9502e23d6",
   "metadata": {},
   "outputs": [],
   "source": [
    "load_dotenv(\"../BetaProgram/variables.env\")\n",
    "inviterApiKey = os.getenv('ISSUER_APIKEY')\n",
    "inviterUrl = os.getenv('ISSUER_URL')\n",
    "\n",
    "inviteeApiKey = os.getenv('HOLDER_APIKEY')\n",
    "inviteeUrl = os.getenv('HOLDER_URL')\n",
    "\n",
    "inviter_client = Client(base_url=inviterUrl, headers={\"apiKey\": inviterApiKey})\n",
    "invitee_client = Client(base_url=inviteeUrl, headers={\"apiKey\": inviteeApiKey})"
   ]
  },
  {
   "cell_type": "markdown",
   "id": "0f4ebed2-a890-4463-912c-96cde7ba3961",
   "metadata": {},
   "source": [
    "### Inviter - Create the invitation\n",
    "\n",
    "An invitation is created when a connection is created. The only parameter required is a label to identify the connection with a human-readable format. \n",
    "\n",
    "The connection state, at the Inviter, will be set to `InvitationGenerated`"
   ]
  },
  {
   "cell_type": "code",
   "execution_count": 4,
   "id": "09aeafb8-16e6-49ae-a75c-a42fa96572b8",
   "metadata": {},
   "outputs": [
    {
     "name": "stdout",
     "output_type": "stream",
     "text": [
      "connection_id: cb01e66d-6844-4f0a-8c51-7f3486fad705\n",
      "state:         InvitationGenerated\n",
      "label:         Connect 2023-02-06 00:00:00\n",
      "my_did:        <prism_agent_open_api_specification_client.types.Unset object at 0x7ff31b7687c0>\n",
      "their_did:     <prism_agent_open_api_specification_client.types.Unset object at 0x7ff31b7687c0>\n",
      "created_at:    2023-02-06 05:42:13.051043+00:00\n",
      "OOB Invitation: eyJpZCI6ImNiMDFlNjZkLTY4NDQtNGYwYS04YzUxLTdmMzQ4NmZhZDcwNSIsInR5cGUiOiJodHRwczovL2RpZGNvbW0ub3JnL291dC1vZi1iYW5kLzIuMC9pbnZpdGF0aW9uIiwiZnJvbSI6ImRpZDpwZWVyOjIuRXo2TFNveXd0b2pxRTh0NlVldmtSOE1VanhLeU5tZUt0cGZhM1l4Mm5GSldMbm5HbS5WejZNa2tjaUs3NVl2NXZjeERFc21jTHoxS3pNNGNaQXlCendRUVVpcE5Yd3g2Zm1BLlNleUowSWpvaVpHMGlMQ0p6SWpvaWFIUjBjRG92TDJodmMzUXVaRzlqYTJWeUxtbHVkR1Z5Ym1Gc09qZ3dPREF2Wkdsa1kyOXRiU0lzSW5JaU9sdGRMQ0poSWpwYkltUnBaR052YlcwdmRqSWlYWDAiLCJib2R5Ijp7ImdvYWxfY29kZSI6ImNvbm5lY3QiLCJnb2FsIjoiRXN0YWJsaXNoIGEgdHJ1c3QgY29ubmVjdGlvbiBiZXR3ZWVuIHR3byBwZWVycyIsImFjY2VwdCI6W119fQ\n"
     ]
    }
   ],
   "source": [
    "conn_request = CreateConnectionRequest()\n",
    "conn_request.label = f'Connect {datetime.date.today().strftime(\"%Y-%m-%d %H:%M:%S\")}'\n",
    "inviter_connection: Response[Connection] =  create_connection.sync(client=inviter_client,json_body=conn_request)\n",
    "\n",
    "invitation = get_invitation_str(inviter_connection)\n",
    "print_connection(inviter_connection)"
   ]
  },
  {
   "cell_type": "markdown",
   "id": "e076cafc-45a0-44b7-ad95-7ead9f5603f8",
   "metadata": {},
   "source": [
    "### Invitee - Accept the invitation \n",
    "\n",
    "When the inviter creates the invitation, there is no connection on the invitee side, which is why the invitation is shared out of band. Here we conveniently use a variable to pass the initation to the invitee\n",
    "\n",
    "The PRISM Agent does the process to establish the connection automatically, so it may not be possible to track all the protocol steps. They progress as described below:\n",
    "\n",
    "Invitee: ConnectionRequestPending --> ConnectionRequestSent --> ConnectionResponseReceived\n",
    "\n",
    "Inviter: InvitationGenerated --> ConnectionResponsePending --> ConnectionResponseSent\n",
    "\n",
    ">**Note -** if the while loop gets stuck replace:  \n",
    ">```while (inviter_connection.state != 'ConnectionResponseSent' or invitee_connection.state != 'ConnectionResponseReceived'):```    \n",
    ">    with:  \n",
    ">```while (inviter_connection.state != 'ConnectionResponseSent' or not(invitee_connection.state == 'ConnectionResponseReceived' or invitee_connection.state == 'ConnectionRequestSent')):```  \n",
    ">and raise a ZenDesk Ticket :)"
   ]
  },
  {
   "cell_type": "code",
   "execution_count": 5,
   "id": "7a407846-195e-4ed9-9f2d-6c08ba0e94ef",
   "metadata": {},
   "outputs": [
    {
     "name": "stdout",
     "output_type": "stream",
     "text": [
      "Please wait...\n",
      "Inviter State: InvitationGenerated / Invitee State: ConnectionRequestPending \n",
      "\n",
      "Inviter State: InvitationGenerated / Invitee State: ConnectionRequestPending \n",
      "\n",
      "Inviter State: InvitationGenerated / Invitee State: ConnectionRequestPending \n",
      "\n",
      "Inviter State: InvitationGenerated / Invitee State: ConnectionRequestPending \n",
      "\n",
      "Inviter State: ConnectionResponsePending / Invitee State: ConnectionRequestPending \n",
      "\n",
      "Inviter State: ConnectionResponsePending / Invitee State: ConnectionRequestSent \n",
      "\n",
      "Inviter State: ConnectionResponsePending / Invitee State: ConnectionRequestSent \n",
      "\n",
      "Inviter State: ConnectionResponsePending / Invitee State: ConnectionRequestSent \n",
      "\n",
      "Inviter State: ConnectionResponsePending / Invitee State: ConnectionRequestSent \n",
      "\n",
      "Inviter State: ConnectionResponsePending / Invitee State: ConnectionRequestSent \n",
      "\n",
      "Inviter State: ConnectionResponsePending / Invitee State: ConnectionRequestSent \n",
      "\n",
      "Inviter State: ConnectionResponsePending / Invitee State: ConnectionRequestSent \n",
      "\n",
      "Inviter State: ConnectionResponsePending / Invitee State: ConnectionResponseReceived \n",
      "\n",
      "Inviter State: ConnectionResponsePending / Invitee State: ConnectionResponseReceived \n",
      "\n",
      "Inviter State: ConnectionResponseSent / Invitee State: ConnectionResponseReceived \n",
      "\n",
      "Connection established between Issuer and Holder!\n"
     ]
    }
   ],
   "source": [
    "print(\"Please wait...\")\n",
    "\n",
    "accept_conn_request = AcceptConnectionInvitationRequest(invitation)\n",
    "invitee_connection: Response[ConnectionInvitation] =  accept_connection_invitation.sync(client=invitee_client,json_body=accept_conn_request)\n",
    "\n",
    "while (inviter_connection.state != 'ConnectionResponseSent' or invitee_connection.state != 'ConnectionResponseReceived'):\n",
    "    inviter_connection: Response[Connection] = get_connection.sync(client=inviter_client,connection_id=inviter_connection.connection_id)\n",
    "    invitee_connection: Response[Connection] = get_connection.sync(client=invitee_client,connection_id=invitee_connection.connection_id)\n",
    "    print(\"Inviter State: {} / Invitee State: {} \\n\".format(inviter_connection.state,invitee_connection.state))\n",
    "    time.sleep(1)\n",
    "    \n",
    "print(\"Connection established between Issuer and Holder!\")"
   ]
  },
  {
   "cell_type": "markdown",
   "id": "7a3b2d2b-7039-4d93-8adc-9aed8ad7b77a",
   "metadata": {},
   "source": [
    "### Inviter - Check connection\n",
    "\n",
    "The details of the connection on the Inviter side are as presented below:"
   ]
  },
  {
   "cell_type": "code",
   "execution_count": 6,
   "id": "11b7b03d-cddf-483b-b133-67e55bdbafe5",
   "metadata": {},
   "outputs": [
    {
     "name": "stdout",
     "output_type": "stream",
     "text": [
      "connection_id: cb01e66d-6844-4f0a-8c51-7f3486fad705\n",
      "state:         ConnectionResponseSent\n",
      "label:         Connect 2023-02-06 00:00:00\n",
      "my_did:        did:peer:2.Ez6LSoywtojqE8t6UevkR8MUjxKyNmeKtpfa3Yx2nFJWLnnGm.Vz6MkkciK75Yv5vcxDEsmcLz1KzM4cZAyBzwQQUipNXwx6fmA.SeyJ0IjoiZG0iLCJzIjoiaHR0cDovL2hvc3QuZG9ja2VyLmludGVybmFsOjgwODAvZGlkY29tbSIsInIiOltdLCJhIjpbImRpZGNvbW0vdjIiXX0\n",
      "their_did:     did:peer:2.Ez6LSkNU7c9yUMKFP2YEAwaqro2uhmoHtcMQQp5N2uxhNDwCU.Vz6MkhqYzHqdMiQsSiQ1tnbZVMpKrRBhto8koCoudgYppQiDR.SeyJ0IjoiZG0iLCJzIjoiaHR0cDovL2hvc3QuZG9ja2VyLmludGVybmFsOjgwOTAvZGlkY29tbSIsInIiOltdLCJhIjpbImRpZGNvbW0vdjIiXX0\n",
      "created_at:    2023-02-06 05:42:13+00:00\n",
      "OOB Invitation: eyJpZCI6ImNiMDFlNjZkLTY4NDQtNGYwYS04YzUxLTdmMzQ4NmZhZDcwNSIsInR5cGUiOiJodHRwczovL2RpZGNvbW0ub3JnL291dC1vZi1iYW5kLzIuMC9pbnZpdGF0aW9uIiwiZnJvbSI6ImRpZDpwZWVyOjIuRXo2TFNveXd0b2pxRTh0NlVldmtSOE1VanhLeU5tZUt0cGZhM1l4Mm5GSldMbm5HbS5WejZNa2tjaUs3NVl2NXZjeERFc21jTHoxS3pNNGNaQXlCendRUVVpcE5Yd3g2Zm1BLlNleUowSWpvaVpHMGlMQ0p6SWpvaWFIUjBjRG92TDJodmMzUXVaRzlqYTJWeUxtbHVkR1Z5Ym1Gc09qZ3dPREF2Wkdsa1kyOXRiU0lzSW5JaU9sdGRMQ0poSWpwYkltUnBaR052YlcwdmRqSWlYWDAiLCJib2R5Ijp7ImdvYWxfY29kZSI6ImNvbm5lY3QiLCJnb2FsIjoiRXN0YWJsaXNoIGEgdHJ1c3QgY29ubmVjdGlvbiBiZXR3ZWVuIHR3byBwZWVycyIsImFjY2VwdCI6W119fQ\n"
     ]
    }
   ],
   "source": [
    "inviter_connection: Response[Connection] =  get_connection.sync(client=inviter_client,connection_id=inviter_connection.connection_id)\n",
    "print_connection(inviter_connection)"
   ]
  },
  {
   "cell_type": "markdown",
   "id": "295ed0ca-be80-406b-913c-b4e8ec8011ed",
   "metadata": {},
   "source": [
    "### Invitee - Check connection\n",
    "\n",
    "The details of the connection on the Invitee side are as presented below:"
   ]
  },
  {
   "cell_type": "code",
   "execution_count": 7,
   "id": "3129389a-bca8-4124-9fe8-d6184cee1d71",
   "metadata": {},
   "outputs": [
    {
     "name": "stdout",
     "output_type": "stream",
     "text": [
      "connection_id: f6f88329-1eb4-44f1-bc67-4f597bfd1d66\n",
      "state:         ConnectionResponseReceived\n",
      "label:         <prism_agent_open_api_specification_client.types.Unset object at 0x7ff31b7687c0>\n",
      "my_did:        did:peer:2.Ez6LSkNU7c9yUMKFP2YEAwaqro2uhmoHtcMQQp5N2uxhNDwCU.Vz6MkhqYzHqdMiQsSiQ1tnbZVMpKrRBhto8koCoudgYppQiDR.SeyJ0IjoiZG0iLCJzIjoiaHR0cDovL2hvc3QuZG9ja2VyLmludGVybmFsOjgwOTAvZGlkY29tbSIsInIiOltdLCJhIjpbImRpZGNvbW0vdjIiXX0\n",
      "their_did:     did:peer:2.Ez6LSoywtojqE8t6UevkR8MUjxKyNmeKtpfa3Yx2nFJWLnnGm.Vz6MkkciK75Yv5vcxDEsmcLz1KzM4cZAyBzwQQUipNXwx6fmA.SeyJ0IjoiZG0iLCJzIjoiaHR0cDovL2hvc3QuZG9ja2VyLmludGVybmFsOjgwODAvZGlkY29tbSIsInIiOltdLCJhIjpbImRpZGNvbW0vdjIiXX0\n",
      "created_at:    2023-02-06 05:42:14+00:00\n",
      "OOB Invitation: eyJpZCI6ImNiMDFlNjZkLTY4NDQtNGYwYS04YzUxLTdmMzQ4NmZhZDcwNSIsInR5cGUiOiJodHRwczovL2RpZGNvbW0ub3JnL291dC1vZi1iYW5kLzIuMC9pbnZpdGF0aW9uIiwiZnJvbSI6ImRpZDpwZWVyOjIuRXo2TFNveXd0b2pxRTh0NlVldmtSOE1VanhLeU5tZUt0cGZhM1l4Mm5GSldMbm5HbS5WejZNa2tjaUs3NVl2NXZjeERFc21jTHoxS3pNNGNaQXlCendRUVVpcE5Yd3g2Zm1BLlNleUowSWpvaVpHMGlMQ0p6SWpvaWFIUjBjRG92TDJodmMzUXVaRzlqYTJWeUxtbHVkR1Z5Ym1Gc09qZ3dPREF2Wkdsa1kyOXRiU0lzSW5JaU9sdGRMQ0poSWpwYkltUnBaR052YlcwdmRqSWlYWDAiLCJib2R5Ijp7ImdvYWxfY29kZSI6ImNvbm5lY3QiLCJnb2FsIjoiRXN0YWJsaXNoIGEgdHJ1c3QgY29ubmVjdGlvbiBiZXR3ZWVuIHR3byBwZWVycyIsImFjY2VwdCI6W119fQ\n"
     ]
    }
   ],
   "source": [
    "invitee_connection: Response[Connection] =  get_connection.sync(client=invitee_client,connection_id=invitee_connection.connection_id)\n",
    "print_connection(invitee_connection)"
   ]
  },
  {
   "cell_type": "markdown",
   "id": "60f90e75-84e5-4002-831e-9fc477b84e31",
   "metadata": {},
   "source": [
    "### List all connections\n",
    "\n",
    "The following code retrieves the lists of connections. (only printing the first 3)"
   ]
  },
  {
   "cell_type": "code",
   "execution_count": 8,
   "id": "c984557c-5420-46a3-8f0b-c5f0f8e24c95",
   "metadata": {},
   "outputs": [
    {
     "name": "stdout",
     "output_type": "stream",
     "text": [
      "Inviter connections\n",
      "-------------------\n",
      "\n",
      "(\"[Connection(self_='Connection', \"\n",
      " \"kind='/connections/cb01e66d-6844-4f0a-8c51-7f3486fad705', \"\n",
      " \"connection_id='cb01e66d-6844-4f0a-8c51-7f3486fad705', \"\n",
      " 'state=<ConnectionAllOfState.CONNECTION_RESPONSE_SENT: '\n",
      " \"'ConnectionResponseSent'>, created_at=datetime.datetime(2023, 2, 6, 5, 42, \"\n",
      " '13, tzinfo=tzutc()), '\n",
      " \"invitation=ConnectionInvitation(id='cb01e66d-6844-4f0a-8c51-7f3486fad705', \"\n",
      " \"type='https://didcomm.org/out-of-band/2.0/invitation', \"\n",
      " \"from_='did:peer:2.Ez6LSoywtojqE8t6UevkR8MUjxKyNmeKtpfa3Yx2nFJWLnnGm.Vz6MkkciK75Yv5vcxDEsmcLz1KzM4cZAyBzwQQUipNXwx6fmA.SeyJ0IjoiZG0iLCJzIjoiaHR0cDovL2hvc3QuZG9ja2VyLmludGVybmFsOjgwODAvZGlkY29tbSIsInIiOltdLCJhIjpbImRpZGNvbW0vdjIiXX0', \"\n",
      " \"invitation_url='https://domain.com/path?_oob=eyJpZCI6ImNiMDFlNjZkLTY4NDQtNGYwYS04YzUxLTdmMzQ4NmZhZDcwNSIsInR5cGUiOiJodHRwczovL2RpZGNvbW0ub3JnL291dC1vZi1iYW5kLzIuMC9pbnZpdGF0aW9uIiwiZnJvbSI6ImRpZDpwZWVyOjIuRXo2TFNveXd0b2pxRTh0NlVldmtSOE1VanhLeU5tZUt0cGZhM1l4Mm5GSldMbm5HbS5WejZNa2tjaUs3NVl2NXZjeERFc21jTHoxS3pNNGNaQXlCendRUVVpcE5Yd3g2Zm1BLlNleUowSWpvaVpHMGlMQ0p6SWpvaWFIUjBjRG92TDJodmMzUXVaRzlqYTJWeUxtbHVkR1Z5Ym1Gc09qZ3dPREF2Wkdsa1kyOXRiU0lzSW5JaU9sdGRMQ0poSWpwYkltUnBaR052YlcwdmRqSWlYWDAiLCJib2R5Ijp7ImdvYWxfY29kZSI6ImNvbm5lY3QiLCJnb2FsIjoiRXN0YWJsaXNoIGEgdHJ1c3QgY29ubmVjdGlvbiBiZXR3ZWVuIHR3byBwZWVycyIsImFjY2VwdCI6W119fQ==', \"\n",
      " \"additional_properties={}), label='Connect 2023-02-06 00:00:00', \"\n",
      " \"my_did='did:peer:2.Ez6LSoywtojqE8t6UevkR8MUjxKyNmeKtpfa3Yx2nFJWLnnGm.Vz6MkkciK75Yv5vcxDEsmcLz1KzM4cZAyBzwQQUipNXwx6fmA.SeyJ0IjoiZG0iLCJzIjoiaHR0cDovL2hvc3QuZG9ja2VyLmludGVybmFsOjgwODAvZGlkY29tbSIsInIiOltdLCJhIjpbImRpZGNvbW0vdjIiXX0', \"\n",
      " \"their_did='did:peer:2.Ez6LSkNU7c9yUMKFP2YEAwaqro2uhmoHtcMQQp5N2uxhNDwCU.Vz6MkhqYzHqdMiQsSiQ1tnbZVMpKrRBhto8koCoudgYppQiDR.SeyJ0IjoiZG0iLCJzIjoiaHR0cDovL2hvc3QuZG9ja2VyLmludGVybmFsOjgwOTAvZGlkY29tbSIsInIiOltdLCJhIjpbImRpZGNvbW0vdjIiXX0', \"\n",
      " 'updated_at=datetime.datetime(2023, 2, 6, 5, 42, 31, tzinfo=tzutc()), '\n",
      " 'additional_properties={})]')\n",
      "\n",
      "Invitee connections\n",
      "-------------------\n",
      "\n",
      "(\"[Connection(self_='Connection', \"\n",
      " \"kind='/connections/24484f7c-57f7-4512-9980-b5aa9c853126', \"\n",
      " \"connection_id='24484f7c-57f7-4512-9980-b5aa9c853126', \"\n",
      " \"state=<ConnectionAllOfState.INVITATION_GENERATED: 'InvitationGenerated'>, \"\n",
      " 'created_at=datetime.datetime(2023, 1, 31, 3, 1, 34, tzinfo=tzutc()), '\n",
      " \"invitation=ConnectionInvitation(id='24484f7c-57f7-4512-9980-b5aa9c853126', \"\n",
      " \"type='https://didcomm.org/out-of-band/2.0/invitation', \"\n",
      " \"from_='did:peer:2.Ez6LSt4v2fMciKvs6AfdQdmdw8XzVY2zAJGGsSi3xhYzhmaYH.Vz6Mkjgzwmk8ruDte5shxsAdXr9oB1rseLvvHeHttyMYHKQh2.SeyJ0IjoiZG0iLCJzIjoiaHR0cDovL2hvc3QuZG9ja2VyLmludGVybmFsOjgwOTAvZGlkY29tbSIsInIiOltdLCJhIjpbImRpZGNvbW0vdjIiXX0', \"\n",
      " \"invitation_url='https://domain.com/path?_oob=eyJpZCI6IjI0NDg0ZjdjLTU3ZjctNDUxMi05OTgwLWI1YWE5Yzg1MzEyNiIsInR5cGUiOiJodHRwczovL2RpZGNvbW0ub3JnL291dC1vZi1iYW5kLzIuMC9pbnZpdGF0aW9uIiwiZnJvbSI6ImRpZDpwZWVyOjIuRXo2TFN0NHYyZk1jaUt2czZBZmRRZG1kdzhYelZZMnpBSkdHc1NpM3hoWXpobWFZSC5WejZNa2pnendtazhydUR0ZTVzaHhzQWRYcjlvQjFyc2VMdnZIZUh0dHlNWUhLUWgyLlNleUowSWpvaVpHMGlMQ0p6SWpvaWFIUjBjRG92TDJodmMzUXVaRzlqYTJWeUxtbHVkR1Z5Ym1Gc09qZ3dPVEF2Wkdsa1kyOXRiU0lzSW5JaU9sdGRMQ0poSWpwYkltUnBaR052YlcwdmRqSWlYWDAiLCJib2R5Ijp7ImdvYWxfY29kZSI6ImNvbm5lY3QiLCJnb2FsIjoiRXN0YWJsaXNoIGEgdHJ1c3QgY29ubmVjdGlvbiBiZXR3ZWVuIHR3byBwZWVycyIsImFjY2VwdCI6W119fQ==', \"\n",
      " \"additional_properties={}), label='Verify-credential', \"\n",
      " 'my_did=<prism_agent_open_api_specification_client.types.Unset object at '\n",
      " '0x7ff31b7687c0>, '\n",
      " 'their_did=<prism_agent_open_api_specification_client.types.Unset object at '\n",
      " '0x7ff31b7687c0>, '\n",
      " 'updated_at=<prism_agent_open_api_specification_client.types.Unset object at '\n",
      " \"0x7ff31b7687c0>, additional_properties={}), Connection(self_='Connection', \"\n",
      " \"kind='/connections/7feb3a4d-7c5f-44a9-b9cf-51b94066c378', \"\n",
      " \"connection_id='7feb3a4d-7c5f-44a9-b9cf-51b94066c378', \"\n",
      " \"state=<ConnectionAllOfState.INVITATION_GENERATED: 'InvitationGenerated'>, \"\n",
      " 'created_at=datetime.datetime(2023, 1, 31, 3, 8, 36, tzinfo=tzutc()), '\n",
      " \"invitation=ConnectionInvitation(id='7feb3a4d-7c5f-44a9-b9cf-51b94066c378', \"\n",
      " \"type='https://didcomm.org/out-of-band/2.0/invitation', \"\n",
      " \"from_='did:peer:2.Ez6LSkQEcb1qAwpd5fDanQRwcDRDQRSmSDedi7mqbc2RLfW7b.Vz6Mkez9uoTYcaNXsgt6euBVfb63RVXPnE4nnpmZPWCHNLBY8.SeyJ0IjoiZG0iLCJzIjoiaHR0cDovL2hvc3QuZG9ja2VyLmludGVybmFsOjgwOTAvZGlkY29tbSIsInIiOltdLCJhIjpbImRpZGNvbW0vdjIiXX0', \"\n",
      " \"invitation_url='https://domain.com/path?_oob=eyJpZCI6IjdmZWIzYTRkLTdjNWYtNDRhOS1iOWNmLTUxYjk0MDY2YzM3OCIsInR5cGUiOiJodHRwczovL2RpZGNvbW0ub3JnL291dC1vZi1iYW5kLzIuMC9pbnZpdGF0aW9uIiwiZnJvbSI6ImRpZDpwZWVyOjIuRXo2TFNrUUVjYjFxQXdwZDVmRGFuUVJ3Y0RSRFFSU21TRGVkaTdtcWJjMlJMZlc3Yi5WejZNa2V6OXVvVFljYU5Yc2d0NmV1QlZmYjYzUlZYUG5FNG5ucG1aUFdDSE5MQlk4LlNleUowSWpvaVpHMGlMQ0p6SWpvaWFIUjBjRG92TDJodmMzUXVaRzlqYTJWeUxtbHVkR1Z5Ym1Gc09qZ3dPVEF2Wkdsa1kyOXRiU0lzSW5JaU9sdGRMQ0poSWpwYkltUnBaR052YlcwdmRqSWlYWDAiLCJib2R5Ijp7ImdvYWxfY29kZSI6ImNvbm5lY3QiLCJnb2FsIjoiRXN0YWJsaXNoIGEgdHJ1c3QgY29ubmVjdGlvbiBiZXR3ZWVuIHR3byBwZWVycyIsImFjY2VwdCI6W119fQ==', \"\n",
      " 'additional_properties={}), '\n",
      " 'label=<prism_agent_open_api_specification_client.types.Unset object at '\n",
      " '0x7ff31b7687c0>, '\n",
      " 'my_did=<prism_agent_open_api_specification_client.types.Unset object at '\n",
      " '0x7ff31b7687c0>, '\n",
      " 'their_did=<prism_agent_open_api_specification_client.types.Unset object at '\n",
      " '0x7ff31b7687c0>, '\n",
      " 'updated_at=<prism_agent_open_api_specification_client.types.Unset object at '\n",
      " \"0x7ff31b7687c0>, additional_properties={}), Connection(self_='Connection', \"\n",
      " \"kind='/connections/6d4ec5a7-c4e3-4b53-9906-0617755dce32', \"\n",
      " \"connection_id='6d4ec5a7-c4e3-4b53-9906-0617755dce32', \"\n",
      " \"state=<ConnectionAllOfState.INVITATION_GENERATED: 'InvitationGenerated'>, \"\n",
      " 'created_at=datetime.datetime(2023, 1, 31, 3, 8, 45, tzinfo=tzutc()), '\n",
      " \"invitation=ConnectionInvitation(id='6d4ec5a7-c4e3-4b53-9906-0617755dce32', \"\n",
      " \"type='https://didcomm.org/out-of-band/2.0/invitation', \"\n",
      " \"from_='did:peer:2.Ez6LSqxBieKzGksFPVMV2UGRVi5YXnAo8aKXffBy3uGjjLXVY.Vz6Mkg3SqU5kqKJKovAUiEDDQQjsmVNidrbg6CZsRBT6tE35L.SeyJ0IjoiZG0iLCJzIjoiaHR0cDovL2hvc3QuZG9ja2VyLmludGVybmFsOjgwOTAvZGlkY29tbSIsInIiOltdLCJhIjpbImRpZGNvbW0vdjIiXX0', \"\n",
      " \"invitation_url='https://domain.com/path?_oob=eyJpZCI6IjZkNGVjNWE3LWM0ZTMtNGI1My05OTA2LTA2MTc3NTVkY2UzMiIsInR5cGUiOiJodHRwczovL2RpZGNvbW0ub3JnL291dC1vZi1iYW5kLzIuMC9pbnZpdGF0aW9uIiwiZnJvbSI6ImRpZDpwZWVyOjIuRXo2TFNxeEJpZUt6R2tzRlBWTVYyVUdSVmk1WVhuQW84YUtYZmZCeTN1R2pqTFhWWS5WejZNa2czU3FVNWtxS0pLb3ZBVWlFRERRUWpzbVZOaWRyYmc2Q1pzUkJUNnRFMzVMLlNleUowSWpvaVpHMGlMQ0p6SWpvaWFIUjBjRG92TDJodmMzUXVaRzlqYTJWeUxtbHVkR1Z5Ym1Gc09qZ3dPVEF2Wkdsa1kyOXRiU0lzSW5JaU9sdGRMQ0poSWpwYkltUnBaR052YlcwdmRqSWlYWDAiLCJib2R5Ijp7ImdvYWxfY29kZSI6ImNvbm5lY3QiLCJnb2FsIjoiRXN0YWJsaXNoIGEgdHJ1c3QgY29ubmVjdGlvbiBiZXR3ZWVuIHR3byBwZWVycyIsImFjY2VwdCI6W119fQ==', \"\n",
      " \"additional_properties={}), label='Verify-credential', \"\n",
      " 'my_did=<prism_agent_open_api_specification_client.types.Unset object at '\n",
      " '0x7ff31b7687c0>, '\n",
      " 'their_did=<prism_agent_open_api_specification_client.types.Unset object at '\n",
      " '0x7ff31b7687c0>, '\n",
      " 'updated_at=<prism_agent_open_api_specification_client.types.Unset object at '\n",
      " '0x7ff31b7687c0>, additional_properties={})]')\n"
     ]
    }
   ],
   "source": [
    "inviter_connections: Response[ConnectionCollection] = get_connections.sync(client=inviter_client)\n",
    "invitee_connections: Response[ConnectionCollection] = get_connections.sync(client=invitee_client)\n",
    "\n",
    "print(\"Inviter connections\")\n",
    "print(\"-------------------\\n\")\n",
    "pprint(f\"{inviter_connections.contents[0:3]}\")\n",
    "print(\"\\nInvitee connections\")\n",
    "print(\"-------------------\\n\")\n",
    "pprint(f\"{invitee_connections.contents[0:3]}\")"
   ]
  },
  {
   "cell_type": "code",
   "execution_count": null,
   "id": "6545edb2-9166-4d82-b2d5-d47258c76133",
   "metadata": {},
   "outputs": [],
   "source": []
  }
 ],
 "metadata": {
  "kernelspec": {
   "display_name": "Python 3 (ipykernel)",
   "language": "python",
   "name": "python3"
  },
  "language_info": {
   "codemirror_mode": {
    "name": "ipython",
    "version": 3
   },
   "file_extension": ".py",
   "mimetype": "text/x-python",
   "name": "python",
   "nbconvert_exporter": "python",
   "pygments_lexer": "ipython3",
   "version": "3.10.8"
  }
 },
 "nbformat": 4,
 "nbformat_minor": 5
}
