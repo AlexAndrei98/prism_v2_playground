{
 "cells": [
  {
   "cell_type": "markdown",
   "id": "0911a63e-9a58-4d0f-a4f9-5106ab0a99c6",
   "metadata": {},
   "source": [
    "# Create a connection\n",
    "\n",
    "The process of establishing a connection between two peers, referred to as the Inviter and Invitee, begins with the Inviter creating an out-of-band (oob) invitation. This invitation contains all the necessary information for the Invitee to connect with the Inviter. Once the invitation is created, it must be handed to the Invitee in some way, such as through email, messaging or QR code. Once the Invitee receives the invitation, they must accept it in order to proceed with the connection. Finally, with the invitation accepted, the connection is established, allowing the two peers to communicate and share data."
   ]
  },
  {
   "cell_type": "code",
   "execution_count": null,
   "id": "5462ef1f-e512-4f39-91e5-4c2b73c5be6b",
   "metadata": {},
   "outputs": [],
   "source": [
    "import os\n",
    "import datetime\n",
    "from pprint import pprint\n",
    "from dotenv import load_dotenv\n",
    "\n",
    "from prism_agent_open_api_specification_client import Client\n",
    "from prism_agent_open_api_specification_client.models import ConnectionCollection,Connection,ConnectionInvitation,CreateConnectionRequest,AcceptConnectionInvitationRequest\n",
    "from prism_agent_open_api_specification_client.api.connections_management import get_connections,get_connection,create_connection,accept_connection_invitation\n",
    "from prism_agent_open_api_specification_client.types import Response"
   ]
  },
  {
   "cell_type": "markdown",
   "id": "311e0392-b60b-4e23-bf82-eb05aeeecb10",
   "metadata": {},
   "source": [
    "### Utilitary functions"
   ]
  },
  {
   "cell_type": "code",
   "execution_count": null,
   "id": "9733ecb3-dab9-4c5b-b0c2-025c554150aa",
   "metadata": {},
   "outputs": [],
   "source": [
    "def get_invitation_str(connection):\n",
    "    parts = connection.invitation.invitation_url.split(\"=\")\n",
    "    return parts[1]\n",
    "\n",
    "def print_connection(connection):\n",
    "    print(f\"connection_id: {connection.connection_id}\")\n",
    "    print(f\"state:         {connection.state}\")\n",
    "    print(f\"label:         {connection.label}\")\n",
    "    print(f\"my_did:        {connection.my_did}\")\n",
    "    print(f\"their_did:     {connection.their_did}\")\n",
    "    print(f\"created_at:    {connection.created_at}\")\n",
    "    print(f\"OOB Invitation: {get_invitation_str(connection)}\")"
   ]
  },
  {
   "cell_type": "markdown",
   "id": "46b9afe5-ff61-4116-870b-103d3f065506",
   "metadata": {},
   "source": [
    "### Client instances\n",
    "\n",
    "We will create two separate clients, one for the inviter and one for the invitee, in order to establish a connection between the two. The roles of the inviter and invitee may overlap with the traditional holder, prover, issuer, and verifier relationships. In some cases, the inviter may also have the role of an issuer or verifier, while the invitee may have the role of a holder or prover. This flexibility allows for different scenarios and use cases to be supported within the same flow\n",
    "\n",
    "note: remember to update the file variables.env with the URLs and API keys provided to you.\n"
   ]
  },
  {
   "cell_type": "code",
   "execution_count": null,
   "id": "cb32dc0d-55bc-44cd-865e-19b9502e23d6",
   "metadata": {},
   "outputs": [],
   "source": [
    "load_dotenv(\"../BetaProgram/variables.env\")\n",
    "inviterApiKey = os.getenv('ISSUER_APIKEY')\n",
    "inviterUrl = os.getenv('ISSUER_URL')\n",
    "\n",
    "inviteeApiKey = os.getenv('HOLDER_APIKEY')\n",
    "inviteeUrl = os.getenv('HOLDER_URL')\n",
    "\n",
    "inviter_client = Client(base_url=inviterUrl, headers={\"apiKey\": inviterApiKey})\n",
    "invitee_client = Client(base_url=inviteeUrl, headers={\"apiKey\": inviteeApiKey})"
   ]
  },
  {
   "cell_type": "markdown",
   "id": "0f4ebed2-a890-4463-912c-96cde7ba3961",
   "metadata": {},
   "source": [
    "### Inviter - Create the invitation\n",
    "\n",
    "An invitation is created when a connection is created. The only parameter required is a label to identify the connection with a human-readable format. "
   ]
  },
  {
   "cell_type": "code",
   "execution_count": null,
   "id": "09aeafb8-16e6-49ae-a75c-a42fa96572b8",
   "metadata": {},
   "outputs": [],
   "source": [
    "conn_request = CreateConnectionRequest()\n",
    "conn_request.label = f'Connect {datetime.date.today().strftime(\"%Y-%m-%d %H:%M:%S\")}'\n",
    "inviter_connection: Response[Connection] =  create_connection.sync(client=inviter_client,json_body=conn_request)\n",
    "\n",
    "invitation = get_invitation_str(inviter_connection)"
   ]
  },
  {
   "cell_type": "markdown",
   "id": "d7a910f1-bf8a-4c62-a5f2-bb5becf45d5d",
   "metadata": {},
   "source": [
    "Details of the connection on the inviter side are presented below. The connection contains the invitation in the invitation_url field."
   ]
  },
  {
   "cell_type": "code",
   "execution_count": null,
   "id": "ae69d102-577e-4b3d-95ec-613737490686",
   "metadata": {},
   "outputs": [],
   "source": [
    "print_connection(inviter_connection)"
   ]
  },
  {
   "cell_type": "markdown",
   "id": "e076cafc-45a0-44b7-ad95-7ead9f5603f8",
   "metadata": {},
   "source": [
    "### Invitee - Accept the invitation \n",
    "\n",
    "When the inviter creates the invitation, there is no connection record on the invitee side, which is why the invitation is shared out of band. Here we conveniently use a variable to pass the initation to the invitee"
   ]
  },
  {
   "cell_type": "code",
   "execution_count": null,
   "id": "7a407846-195e-4ed9-9f2d-6c08ba0e94ef",
   "metadata": {},
   "outputs": [],
   "source": [
    "accept_conn_request = AcceptConnectionInvitationRequest(invitation)\n",
    "invitee_connection: Response[ConnectionInvitation] =  accept_connection_invitation.sync(client=invitee_client,json_body=accept_conn_request)\n"
   ]
  },
  {
   "cell_type": "markdown",
   "id": "98b7b463-1d19-43d2-b3fc-479f9d60efad",
   "metadata": {},
   "source": [
    "Details of the connection on the invitee side are presented below."
   ]
  },
  {
   "cell_type": "code",
   "execution_count": null,
   "id": "49a5f455-380d-4581-b9af-c79ae2af6e74",
   "metadata": {},
   "outputs": [],
   "source": [
    "print_connection(invitee_connection)"
   ]
  },
  {
   "cell_type": "markdown",
   "id": "7a3b2d2b-7039-4d93-8adc-9aed8ad7b77a",
   "metadata": {},
   "source": [
    "### Inviter - Check connection\n",
    "\n",
    "The states of the connection on the inviter side are as described below:\n",
    "\n",
    "InvitationGenerated --> ConnectionRequestReceived --> ConnectionResponsePending --> **ConnectionResponseSent**\n",
    "\n",
    "The PRISM Agent does the process to establish the connection automatically, so it may not be possible to track all the protocol steps."
   ]
  },
  {
   "cell_type": "code",
   "execution_count": null,
   "id": "11b7b03d-cddf-483b-b133-67e55bdbafe5",
   "metadata": {},
   "outputs": [],
   "source": [
    "inviter_connection: Response[Connection] =  get_connection.sync(client=inviter_client,connection_id=inviter_connection.connection_id)"
   ]
  },
  {
   "cell_type": "code",
   "execution_count": null,
   "id": "2f65080e-038f-41dd-91ba-e6349ccd8adc",
   "metadata": {},
   "outputs": [],
   "source": [
    "print_connection(inviter_connection)"
   ]
  },
  {
   "cell_type": "markdown",
   "id": "295ed0ca-be80-406b-913c-b4e8ec8011ed",
   "metadata": {},
   "source": [
    "### Invitee - Check connection\n",
    "\n",
    "The states of the connection on the inviter side are as described below:\n",
    "\n",
    "InvitationReceived  --> ConnectionRequestPending  --> ConnectionRequestSent     --> **ConnectionResponseReceived**\n",
    "\n",
    "The PRISM Agent does the process to establish the connection automatically, so it may not be possible to track all the protocol steps."
   ]
  },
  {
   "cell_type": "code",
   "execution_count": null,
   "id": "3129389a-bca8-4124-9fe8-d6184cee1d71",
   "metadata": {},
   "outputs": [],
   "source": [
    "invitee_connection: Response[Connection] =  get_connection.sync(client=invitee_client,connection_id=invitee_connection.connection_id)"
   ]
  },
  {
   "cell_type": "code",
   "execution_count": null,
   "id": "9c7ab97d-44e4-4652-9b98-8f086d4b9c10",
   "metadata": {},
   "outputs": [],
   "source": [
    "print_connection(invitee_connection)"
   ]
  },
  {
   "cell_type": "markdown",
   "id": "60f90e75-84e5-4002-831e-9fc477b84e31",
   "metadata": {},
   "source": [
    "### List all connections\n",
    "\n",
    "The following code retrieves the lists of connections."
   ]
  },
  {
   "cell_type": "code",
   "execution_count": null,
   "id": "c984557c-5420-46a3-8f0b-c5f0f8e24c95",
   "metadata": {},
   "outputs": [],
   "source": [
    "inviter_connections: Response[ConnectionCollection] = get_connections.sync(client=inviter_client)\n",
    "invitee_connections: Response[ConnectionCollection] = get_connections.sync(client=invitee_client)\n",
    "print(\"Inviter connections\")\n",
    "print(\"-------------------\\n\")\n",
    "pprint(\"{}\".format(inviter_connections, invitee_connections))\n",
    "print(\"\\nInvitee connections\")\n",
    "print(\"-------------------\\n\")\n",
    "pprint(\"{}\".format(invitee_connections, invitee_connections))"
   ]
  }
 ],
 "metadata": {
  "kernelspec": {
   "display_name": "Python 3 (ipykernel)",
   "language": "python",
   "name": "python3"
  },
  "language_info": {
   "codemirror_mode": {
    "name": "ipython",
    "version": 3
   },
   "file_extension": ".py",
   "mimetype": "text/x-python",
   "name": "python",
   "nbconvert_exporter": "python",
   "pygments_lexer": "ipython3",
   "version": "3.10.8"
  }
 },
 "nbformat": 4,
 "nbformat_minor": 5
}
