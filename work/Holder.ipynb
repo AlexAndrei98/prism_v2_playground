{
 "cells": [
  {
   "cell_type": "markdown",
   "id": "50be2a5d-45e0-412f-b072-214eea01ff59",
   "metadata": {},
   "source": [
    "# Holder Agent"
   ]
  },
  {
   "cell_type": "code",
   "execution_count": 58,
   "id": "19895e9f-43cc-49a7-bdbc-38f74a1bb28b",
   "metadata": {},
   "outputs": [],
   "source": [
    "import requests\n",
    "import json\n",
    "import qrcode\n",
    "import uuid\n",
    "import base64\n",
    "import re\n",
    "import jwt\n"
   ]
  },
  {
   "cell_type": "code",
   "execution_count": 59,
   "id": "7ac8121f-a4a8-4faa-8a51-ed59ee6d8155",
   "metadata": {},
   "outputs": [],
   "source": [
    "# Set the URL for the API endpoint\n",
    "# Need to specify the host as host.docker.internal as the Prism Agents and the Prism Playground are running in two isolated docker environments\n",
    "base_url = \"http://host.docker.internal:8090\"\n",
    "\n",
    "headers = {'Content-Type': 'application/json'}"
   ]
  },
  {
   "cell_type": "markdown",
   "id": "e86a0ced-055c-4233-944f-0d89142da1e6",
   "metadata": {},
   "source": [
    "## Connections"
   ]
  },
  {
   "cell_type": "code",
   "execution_count": 60,
   "id": "114e7662-5f90-480a-aede-3bc8134906b6",
   "metadata": {
    "tags": []
   },
   "outputs": [
    {
     "name": "stdout",
     "output_type": "stream",
     "text": [
      "{\n",
      "  \"contents\": [],\n",
      "  \"kind\": \"Collection\",\n",
      "  \"self\": \"/collections\"\n",
      "}\n"
     ]
    }
   ],
   "source": [
    "path = '/prism-agent/connections'\n",
    "\n",
    "# Make the request\n",
    "response = requests.get(base_url + path, headers=headers)\n",
    "\n",
    "# Check the response status code\n",
    "if response.status_code == 200:\n",
    "    # Print the response content\n",
    "    loaded_json = json.loads(response.content.decode())\n",
    "    print(json.dumps(loaded_json, indent=2))\n",
    "else:\n",
    "    # Print an error message\n",
    "    print(\"Error: The API returned a non-200 status code\")"
   ]
  },
  {
   "cell_type": "markdown",
   "id": "be257999-ec4a-4fb4-8aa4-49bb8d62eda5",
   "metadata": {
    "tags": []
   },
   "source": [
    "## Fetch invitationUrl from Issuer Agent"
   ]
  },
  {
   "cell_type": "code",
   "execution_count": 61,
   "id": "1384f017-f58e-4a6f-87d9-80582970d578",
   "metadata": {},
   "outputs": [
    {
     "name": "stdout",
     "output_type": "stream",
     "text": [
      "eyJpZCI6IjhmMzM5YWFlLTVlNTktNGYzNi1hNzdlLTBmMzFhYjU4ZTZmNCIsInR5cGUiOiJodHRwczovL2RpZGNvbW0ub3JnL291dC1vZi1iYW5kLzIuMC9pbnZpdGF0aW9uIiwiZnJvbSI6ImRpZDpwZWVyOjIuRXo2TFNrREVSNFpIU2NBRERvV3NkQ0VwbnhUd05zYVVQaFlrMjk1aWRNTEJ5dnpGQy5WejZNa2Z5emtjaW1yZVo1RTVZQXMzWjZZNHZDMk1XWUdYOUVQV2Q5OWlRRkczQzNRLlNleUowSWpvaVpHMGlMQ0p6SWpvaWFIUjBjRG92TDJodmMzUXVaRzlqYTJWeUxtbHVkR1Z5Ym1Gc09qZ3dPREF2Wkdsa1kyOXRiU0lzSW5JaU9sdGRMQ0poSWpwYkltUnBaR052YlcwdmRqSWlYWDAiLCJib2R5Ijp7ImdvYWxfY29kZSI6ImNvbm5lY3QiLCJnb2FsIjoiRXN0YWJsaXNoIGEgdHJ1c3QgY29ubmVjdGlvbiBiZXR3ZWVuIHR3byBwZWVycyIsImFjY2VwdCI6W119fQ==\n",
      "\n",
      " {\"id\":\"8f339aae-5e59-4f36-a77e-0f31ab58e6f4\",\"type\":\"https://didcomm.org/out-of-band/2.0/invitation\",\"from\":\"did:peer:2.Ez6LSkDER4ZHScADDoWsdCEpnxTwNsaUPhYk295idMLByvzFC.Vz6MkfyzkcimreZ5E5YAs3Z6Y4vC2MWYGX9EPWd99iQFG3C3Q.SeyJ0IjoiZG0iLCJzIjoiaHR0cDovL2hvc3QuZG9ja2VyLmludGVybmFsOjgwODAvZGlkY29tbSIsInIiOltdLCJhIjpbImRpZGNvbW0vdjIiXX0\",\"body\":{\"goal_code\":\"connect\",\"goal\":\"Establish a trust connection between two peers\",\"accept\":[]}}\n"
     ]
    }
   ],
   "source": [
    "%store -r invitationUrlbase64\n",
    "print(invitationUrlbase64)\n",
    "\n",
    "# Standard Base64 Decoding\n",
    "decodedBytes = base64.b64decode(invitationUrlbase64)\n",
    "decodedStr = str(decodedBytes, \"utf-8\")\n",
    "\n",
    "print(\"\\n\", decodedStr)\n"
   ]
  },
  {
   "cell_type": "markdown",
   "id": "974daf8c-04c1-485b-aee3-e698cb0b71b2",
   "metadata": {},
   "source": [
    "## Accept an OOB connection invitation from Issuer Agent\n",
    "> Replace `{RAW_INVITATION}` with the value of the '_oob' query string parameter from the invitation URL above\n",
    "```bash\n",
    "curl -X 'POST' \\\n",
    "\t'http://localhost:8090/prism-agent/connection-invitations' \\\n",
    "\t-H 'Content-Type: application/json' \\\n",
    "\t-d '{\n",
    "\t\t\"invitation\": \"{RAW_INVITATION}\"\n",
    "\t}' | jq\n",
    "```"
   ]
  },
  {
   "cell_type": "code",
   "execution_count": 62,
   "id": "de483f16-0556-4d94-99e2-12b4af1ae0ea",
   "metadata": {},
   "outputs": [
    {
     "name": "stdout",
     "output_type": "stream",
     "text": [
      "{\n",
      "  \"connectionId\": \"49070030-7557-4e58-8545-20ae56d873e5\",\n",
      "  \"createdAt\": \"2022-12-14T18:41:05Z\",\n",
      "  \"invitation\": {\n",
      "    \"from\": \"did:peer:2.Ez6LSkDER4ZHScADDoWsdCEpnxTwNsaUPhYk295idMLByvzFC.Vz6MkfyzkcimreZ5E5YAs3Z6Y4vC2MWYGX9EPWd99iQFG3C3Q.SeyJ0IjoiZG0iLCJzIjoiaHR0cDovL2hvc3QuZG9ja2VyLmludGVybmFsOjgwODAvZGlkY29tbSIsInIiOltdLCJhIjpbImRpZGNvbW0vdjIiXX0\",\n",
      "    \"id\": \"8f339aae-5e59-4f36-a77e-0f31ab58e6f4\",\n",
      "    \"invitationUrl\": \"https://domain.com/path?_oob=eyJpZCI6IjhmMzM5YWFlLTVlNTktNGYzNi1hNzdlLTBmMzFhYjU4ZTZmNCIsInR5cGUiOiJodHRwczovL2RpZGNvbW0ub3JnL291dC1vZi1iYW5kLzIuMC9pbnZpdGF0aW9uIiwiZnJvbSI6ImRpZDpwZWVyOjIuRXo2TFNrREVSNFpIU2NBRERvV3NkQ0VwbnhUd05zYVVQaFlrMjk1aWRNTEJ5dnpGQy5WejZNa2Z5emtjaW1yZVo1RTVZQXMzWjZZNHZDMk1XWUdYOUVQV2Q5OWlRRkczQzNRLlNleUowSWpvaVpHMGlMQ0p6SWpvaWFIUjBjRG92TDJodmMzUXVaRzlqYTJWeUxtbHVkR1Z5Ym1Gc09qZ3dPREF2Wkdsa1kyOXRiU0lzSW5JaU9sdGRMQ0poSWpwYkltUnBaR052YlcwdmRqSWlYWDAiLCJib2R5Ijp7ImdvYWxfY29kZSI6ImNvbm5lY3QiLCJnb2FsIjoiRXN0YWJsaXNoIGEgdHJ1c3QgY29ubmVjdGlvbiBiZXR3ZWVuIHR3byBwZWVycyIsImFjY2VwdCI6W119fQ==\",\n",
      "    \"type\": \"https://didcomm.org/out-of-band/2.0/invitation\"\n",
      "  },\n",
      "  \"kind\": \"/connections/49070030-7557-4e58-8545-20ae56d873e5\",\n",
      "  \"myDid\": \"did:peer:2.Ez6LSdEYSAtkCArFgUXXY5g4RhXP23ej1Ynu8UejzjU9YrX3E.Vz6Mksj7wesBWcbKV7so6ipvaKYY9wse6aXc7rEYxWLXdJ8zw.SeyJ0IjoiZG0iLCJzIjoiaHR0cDovL2hvc3QuZG9ja2VyLmludGVybmFsOjgwOTAvZGlkY29tbSIsInIiOltdLCJhIjpbImRpZGNvbW0vdjIiXX0\",\n",
      "  \"self\": \"Connection\",\n",
      "  \"state\": \"ConnectionRequestPending\",\n",
      "  \"theirDid\": \"did:peer:2.Ez6LSkDER4ZHScADDoWsdCEpnxTwNsaUPhYk295idMLByvzFC.Vz6MkfyzkcimreZ5E5YAs3Z6Y4vC2MWYGX9EPWd99iQFG3C3Q.SeyJ0IjoiZG0iLCJzIjoiaHR0cDovL2hvc3QuZG9ja2VyLmludGVybmFsOjgwODAvZGlkY29tbSIsInIiOltdLCJhIjpbImRpZGNvbW0vdjIiXX0\",\n",
      "  \"updatedAt\": \"2022-12-14T18:41:05Z\"\n",
      "}\n"
     ]
    }
   ],
   "source": [
    "path = '/prism-agent/connection-invitations'\n",
    "data = {\"invitation\": invitationUrlbase64}\n",
    "# Make the request\n",
    "response = requests.post(base_url + path, headers=headers, json=data)\n",
    "\n",
    "# Check the response status code\n",
    "if response.status_code == 200:\n",
    "    # Print the response content\n",
    "    loaded_json = json.loads(response.content.decode())\n",
    "    print(json.dumps(loaded_json, indent=2))\n",
    "    invitation = json.loads(response.content.decode())\n",
    "    invitationUrl = invitation['invitation']['invitationUrl']\n",
    "    # invitationUrlbase64 = invitation['invitation']['invitationUrl'].split('=')[1]\n",
    "    connection_id = invitation['connectionId']\n",
    "else:\n",
    "    # Print an error message\n",
    "    print(\"Error: The API returned a non-200 status code\")"
   ]
  },
  {
   "cell_type": "markdown",
   "id": "7df51bdc-55c0-4794-b498-21c3c2d56cd6",
   "metadata": {
    "tags": []
   },
   "source": [
    "## Retrieving the list of connections\n",
    "```bash\n",
    "curl -X 'GET' 'http://localhost:8090/prism-agent/connections' | jq\n",
    "```"
   ]
  },
  {
   "cell_type": "code",
   "execution_count": 63,
   "id": "65c42a6e-7ffc-4260-9b70-50a50e354d0f",
   "metadata": {},
   "outputs": [
    {
     "name": "stdout",
     "output_type": "stream",
     "text": [
      "{\n",
      "  \"connectionId\": \"49070030-7557-4e58-8545-20ae56d873e5\",\n",
      "  \"createdAt\": \"2022-12-14T18:41:05Z\",\n",
      "  \"invitation\": {\n",
      "    \"from\": \"did:peer:2.Ez6LSkDER4ZHScADDoWsdCEpnxTwNsaUPhYk295idMLByvzFC.Vz6MkfyzkcimreZ5E5YAs3Z6Y4vC2MWYGX9EPWd99iQFG3C3Q.SeyJ0IjoiZG0iLCJzIjoiaHR0cDovL2hvc3QuZG9ja2VyLmludGVybmFsOjgwODAvZGlkY29tbSIsInIiOltdLCJhIjpbImRpZGNvbW0vdjIiXX0\",\n",
      "    \"id\": \"8f339aae-5e59-4f36-a77e-0f31ab58e6f4\",\n",
      "    \"invitationUrl\": \"https://domain.com/path?_oob=eyJpZCI6IjhmMzM5YWFlLTVlNTktNGYzNi1hNzdlLTBmMzFhYjU4ZTZmNCIsInR5cGUiOiJodHRwczovL2RpZGNvbW0ub3JnL291dC1vZi1iYW5kLzIuMC9pbnZpdGF0aW9uIiwiZnJvbSI6ImRpZDpwZWVyOjIuRXo2TFNrREVSNFpIU2NBRERvV3NkQ0VwbnhUd05zYVVQaFlrMjk1aWRNTEJ5dnpGQy5WejZNa2Z5emtjaW1yZVo1RTVZQXMzWjZZNHZDMk1XWUdYOUVQV2Q5OWlRRkczQzNRLlNleUowSWpvaVpHMGlMQ0p6SWpvaWFIUjBjRG92TDJodmMzUXVaRzlqYTJWeUxtbHVkR1Z5Ym1Gc09qZ3dPREF2Wkdsa1kyOXRiU0lzSW5JaU9sdGRMQ0poSWpwYkltUnBaR052YlcwdmRqSWlYWDAiLCJib2R5Ijp7ImdvYWxfY29kZSI6ImNvbm5lY3QiLCJnb2FsIjoiRXN0YWJsaXNoIGEgdHJ1c3QgY29ubmVjdGlvbiBiZXR3ZWVuIHR3byBwZWVycyIsImFjY2VwdCI6W119fQ==\",\n",
      "    \"type\": \"https://didcomm.org/out-of-band/2.0/invitation\"\n",
      "  },\n",
      "  \"kind\": \"/connections/49070030-7557-4e58-8545-20ae56d873e5\",\n",
      "  \"myDid\": \"did:peer:2.Ez6LSdEYSAtkCArFgUXXY5g4RhXP23ej1Ynu8UejzjU9YrX3E.Vz6Mksj7wesBWcbKV7so6ipvaKYY9wse6aXc7rEYxWLXdJ8zw.SeyJ0IjoiZG0iLCJzIjoiaHR0cDovL2hvc3QuZG9ja2VyLmludGVybmFsOjgwOTAvZGlkY29tbSIsInIiOltdLCJhIjpbImRpZGNvbW0vdjIiXX0\",\n",
      "  \"self\": \"Connection\",\n",
      "  \"state\": \"ConnectionRequestPending\",\n",
      "  \"theirDid\": \"did:peer:2.Ez6LSkDER4ZHScADDoWsdCEpnxTwNsaUPhYk295idMLByvzFC.Vz6MkfyzkcimreZ5E5YAs3Z6Y4vC2MWYGX9EPWd99iQFG3C3Q.SeyJ0IjoiZG0iLCJzIjoiaHR0cDovL2hvc3QuZG9ja2VyLmludGVybmFsOjgwODAvZGlkY29tbSIsInIiOltdLCJhIjpbImRpZGNvbW0vdjIiXX0\",\n",
      "  \"updatedAt\": \"2022-12-14T18:41:05Z\"\n",
      "}\n"
     ]
    }
   ],
   "source": [
    "\n",
    "path = '/prism-agent//connections/' + connection_id\n",
    "\n",
    "# Make the request\n",
    "response = requests.get(base_url + path, headers=headers)\n",
    "\n",
    "# Check the response status code\n",
    "if response.status_code == 200:\n",
    "    # Print the response content\n",
    "    loaded_json = json.loads(response.content.decode())\n",
    "    print(json.dumps(loaded_json, indent=2))\n",
    "    STATE = loaded_json['state']\n",
    "    \n",
    "else:\n",
    "    # Print an error message\n",
    "    print(\"Error: The API returned a non-200 status code\")"
   ]
  },
  {
   "cell_type": "code",
   "execution_count": 77,
   "id": "563d86f7-079c-43e0-94a8-386960606ca2",
   "metadata": {},
   "outputs": [
    {
     "name": "stdout",
     "output_type": "stream",
     "text": [
      "\u001b[1m\u001b[35mCurrent state for ConnectionId aa7aaf4d-eeb8-437e-8318-19b0033d15fb is ConnectionResponseReceived\u001b[0m\n",
      "\u001b[1m\u001b[32mConnectionId: aa7aaf4d-eeb8-437e-8318-19b0033d15fb is now active. Continue with notebook\u001b[0m\n"
     ]
    }
   ],
   "source": [
    "import time\n",
    "from termcolor import colored,cprint\n",
    "\n",
    "path = '/prism-agent//connections/' + connection_id\n",
    "\n",
    "# print('Current state for ConnectionId {} is {}'.format(connection_id,STATE))\n",
    "print(colored(\"Current state for ConnectionId {} is {}\".format(connection_id,STATE), \"magenta\", attrs=[\"bold\"]))\n",
    "while STATE != 'ConnectionResponseReceived':\n",
    "    # Make the request\n",
    "    response = requests.get(base_url + path, headers=headers)\n",
    "\n",
    "    # Check the response status code\n",
    "    if response.status_code == 200:\n",
    "        # Print the response content\n",
    "        loaded_json = json.loads(response.content.decode())\n",
    "        # print(json.dumps(loaded_json, indent=2))\n",
    "        STATE = loaded_json['state']\n",
    "        their_did = loaded_json['theirDid']\n",
    "        print(colored(\"ConnectionId {0} is not in active state yet. State: {1}\".format(connection_id,STATE), \"yellow\", attrs=[\"bold\"]))\n",
    "\n",
    "    else:\n",
    "        # Print an error message\n",
    "        print(\"Error: The API returned a non-200 status code\")\n",
    "        \n",
    "\n",
    "    time.sleep(1)\n",
    "    \n",
    "# print('ConnectionId: {0} is now active. Continue with notebook'.format(connection_id))\n",
    "print(colored(\"ConnectionId: {0} is now active. Continue with notebook\".format(connection_id), \"green\", attrs=[\"bold\"]))\n"
   ]
  },
  {
   "cell_type": "markdown",
   "id": "7b80cbae-deb4-4d29-91fa-020647f11ade",
   "metadata": {},
   "source": [
    "## Receive Credentials from Issuer"
   ]
  },
  {
   "cell_type": "markdown",
   "id": "0c47ddac-9742-478c-839a-deb389b5a5cb",
   "metadata": {},
   "source": [
    "### Accept credential from Issuer"
   ]
  },
  {
   "cell_type": "markdown",
   "id": "5945efac-39ab-49ea-8d07-68ed688d5d39",
   "metadata": {},
   "source": [
    "### Retrieving the list of issue records\n",
    "```bash\n",
    "curl -X 'GET' 'http://localhost:8090/prism-agent/issue-credentials/records' | jq\n",
    "```"
   ]
  },
  {
   "cell_type": "code",
   "execution_count": 65,
   "id": "d57c3d3e-9ad6-4512-bcde-045fbb879169",
   "metadata": {},
   "outputs": [
    {
     "name": "stdout",
     "output_type": "stream",
     "text": [
      "{\n",
      "  \"count\": 1,\n",
      "  \"items\": [\n",
      "    {\n",
      "      \"claims\": {\n",
      "        \"birthdate\": \"01/01/2000\",\n",
      "        \"firstname\": \"Alice\",\n",
      "        \"lastname\": \"Wonderland\"\n",
      "      },\n",
      "      \"createdAt\": \"2022-12-14T18:42:13Z\",\n",
      "      \"protocolState\": \"OfferReceived\",\n",
      "      \"recordId\": \"08eb1750-a446-4b06-b89f-34c8cea31e64\",\n",
      "      \"role\": \"Holder\",\n",
      "      \"subjectId\": \"did:peer:2.Ez6LSdEYSAtkCArFgUXXY5g4RhXP23ej1Ynu8UejzjU9YrX3E.Vz6Mksj7wesBWcbKV7so6ipvaKYY9wse6aXc7rEYxWLXdJ8zw.SeyJ0IjoiZG0iLCJzIjoiaHR0cDovL2hvc3QuZG9ja2VyLmludGVybmFsOjgwOTAvZGlkY29tbSIsInIiOltdLCJhIjpbImRpZGNvbW0vdjIiXX0\"\n",
      "    }\n",
      "  ],\n",
      "  \"limit\": 0,\n",
      "  \"offset\": 0\n",
      "}\n"
     ]
    }
   ],
   "source": [
    "path = '/prism-agent/issue-credentials/records'\n",
    "\n",
    "# Make the request\n",
    "response = requests.get(base_url + path, headers=headers)\n",
    "\n",
    "# Check the response status code\n",
    "if response.status_code == 200:\n",
    "    # Print the response content\n",
    "    loaded_json = json.loads(response.content.decode())\n",
    "    print(json.dumps(loaded_json, indent=2))\n",
    "    record_id = loaded_json['items'][0]['recordId']\n",
    "else:\n",
    "    # Print an error message\n",
    "    print(\"Error: The API returned a non-200 status code\")\n",
    "    print(response.content)"
   ]
  },
  {
   "cell_type": "markdown",
   "id": "b9de4db5-c080-42e0-a80c-fe46a0a09878",
   "metadata": {},
   "source": [
    "### Accepting the credential offer \n",
    "\n",
    "Replace `{RECORD_ID}` with the UUID of the record from the previous list\n",
    "```bash\n",
    "curl -X 'POST' 'http://localhost:8090/prism-agent/issue-credentials/records/{RECORD_ID}/accept-offer' | jq\n",
    "```"
   ]
  },
  {
   "cell_type": "code",
   "execution_count": 66,
   "id": "aed9402d-ec72-4514-b675-7ff9b7f64d05",
   "metadata": {},
   "outputs": [
    {
     "name": "stdout",
     "output_type": "stream",
     "text": [
      "Issuer credential recordId: 51dc271c-4abf-472a-89b9-253d2256c61a\n",
      "Holder credential recordId: 08eb1750-a446-4b06-b89f-34c8cea31e64\n"
     ]
    }
   ],
   "source": [
    "%store -r credential_record_id\n",
    "print(\"Issuer credential recordId:\", credential_record_id)\n",
    "print(\"Holder credential recordId:\",record_id)"
   ]
  },
  {
   "cell_type": "code",
   "execution_count": 67,
   "id": "efd39392-480b-4d1f-9da6-745155440163",
   "metadata": {},
   "outputs": [
    {
     "name": "stdout",
     "output_type": "stream",
     "text": [
      "{\n",
      "  \"claims\": {\n",
      "    \"birthdate\": \"01/01/2000\",\n",
      "    \"firstname\": \"Alice\",\n",
      "    \"lastname\": \"Wonderland\"\n",
      "  },\n",
      "  \"createdAt\": \"2022-12-14T18:42:13Z\",\n",
      "  \"protocolState\": \"RequestPending\",\n",
      "  \"recordId\": \"08eb1750-a446-4b06-b89f-34c8cea31e64\",\n",
      "  \"role\": \"Holder\",\n",
      "  \"subjectId\": \"did:peer:2.Ez6LSdEYSAtkCArFgUXXY5g4RhXP23ej1Ynu8UejzjU9YrX3E.Vz6Mksj7wesBWcbKV7so6ipvaKYY9wse6aXc7rEYxWLXdJ8zw.SeyJ0IjoiZG0iLCJzIjoiaHR0cDovL2hvc3QuZG9ja2VyLmludGVybmFsOjgwOTAvZGlkY29tbSIsInIiOltdLCJhIjpbImRpZGNvbW0vdjIiXX0\",\n",
      "  \"updatedAt\": \"2022-12-14T18:42:19Z\"\n",
      "}\n"
     ]
    }
   ],
   "source": [
    "path = '/prism-agent/issue-credentials/records/' + record_id + '/accept-offer'\n",
    "\n",
    "# Make the request\n",
    "response = requests.post(base_url + path, headers=headers)\n",
    "\n",
    "# Check the response status code\n",
    "if response.status_code == 200:\n",
    "    # Print the response content\n",
    "    loaded_json = json.loads(response.content.decode())\n",
    "    print(json.dumps(loaded_json, indent=2))\n",
    "    \n",
    "else:\n",
    "    # Print an error message\n",
    "    print(\"Error: The API returned a non-200 status code\")\n",
    "    print(response.content)"
   ]
  },
  {
   "cell_type": "code",
   "execution_count": 72,
   "id": "8111aabd-6cec-4114-85cf-2904b900f3a5",
   "metadata": {},
   "outputs": [
    {
     "name": "stdout",
     "output_type": "stream",
     "text": [
      "{\n",
      "  \"count\": 1,\n",
      "  \"items\": [\n",
      "    {\n",
      "      \"claims\": {\n",
      "        \"birthdate\": \"01/01/2000\",\n",
      "        \"firstname\": \"Alice\",\n",
      "        \"lastname\": \"Wonderland\"\n",
      "      },\n",
      "      \"createdAt\": \"2022-12-14T18:42:13Z\",\n",
      "      \"jwtCredential\": \"ImV5SjBlWEFpT2lKS1YxUWlMQ0poYkdjaU9pSkZVekkxTmlKOS5leUpwYzNNaU9pSmthV1E2Y0hKcGMyMDZZekF4T0dJMU1HUXRZalpsWXkwMFlUSXlMV0l4TXpVdE5qVmtNbVZsTWpCaU16RTFJaXdpYzNWaUlqb2laR2xrT25CbFpYSTZNaTVGZWpaTVUyUkZXVk5CZEd0RFFYSkdaMVZZV0ZrMVp6UlNhRmhRTWpObGFqRlpiblU0VldWcWVtcFZPVmx5V0RORkxsWjZOazFyYzJvM2QyVnpRbGRqWWt0V04zTnZObWx3ZG1GTFdWazVkM05sTm1GWVl6ZHlSVmw0VjB4WVpFbzRlbmN1VTJWNVNqQkphbTlwV2tjd2FVeERTbnBKYW05cFlVaFNNR05FYjNaTU1taDJZek5SZFZwSE9XcGhNbFo1VEcxc2RXUkhWbmxpYlVaelQycG5kMDlVUVhaYVIyeHJXVEk1ZEdKVFNYTkpia2xwVDJ4MFpFeERTbWhKYW5CaVNXMVNjRnBIVG5aaVZ6QjJaR3BKYVZoWU1DSXNJblpqSWpwN0ltTnlaV1JsYm5ScFlXeFRkV0pxWldOMElqcDdJbUpwY25Sb1pHRjBaU0k2SWpBeEx6QXhMekl3TURBaUxDSm1hWEp6ZEc1aGJXVWlPaUpCYkdsalpTSXNJbXhoYzNSdVlXMWxJam9pVjI5dVpHVnliR0Z1WkNJc0ltbGtJam9pWkdsa09uQmxaWEk2TWk1RmVqWk1VMlJGV1ZOQmRHdERRWEpHWjFWWVdGazFaelJTYUZoUU1qTmxhakZaYm5VNFZXVnFlbXBWT1ZseVdETkZMbFo2TmsxcmMybzNkMlZ6UWxkallrdFdOM052Tm1sd2RtRkxXVms1ZDNObE5tRllZemR5UlZsNFYweFlaRW80ZW5jdVUyVjVTakJKYW05cFdrY3dhVXhEU25wSmFtOXBZVWhTTUdORWIzWk1NbWgyWXpOUmRWcEhPV3BoTWxaNVRHMXNkV1JIVm5saWJVWnpUMnBuZDA5VVFYWmFSMnhyV1RJNWRHSlRTWE5KYmtscFQyeDBaRXhEU21oSmFuQmlTVzFTY0ZwSFRuWmlWekIyWkdwSmFWaFlNQ0o5ZlN3aWJtSm1Jam9pTWpBeU1pMHhNaTB4TkZReE9EbzBNam96TlM0M01qQXpNVGRhSWl3aVpYaHdJam9pTWpBeU1pMHhNaTB4TkZReE9UbzBNam96TlM0M01qQXpNVGRhSW4wLloxZHBCUjcwX18wLVFUeEFlZ21vc1FhMGlhcUNHdk5TMW0zWXZsaXJWUmc0YzlVOEFDdGdfQ1lxVXk1MmZWZjBsbkFoUEltMHd6RTBHTUF6NW1WQ3dnIg==\",\n",
      "      \"protocolState\": \"CredentialReceived\",\n",
      "      \"recordId\": \"08eb1750-a446-4b06-b89f-34c8cea31e64\",\n",
      "      \"role\": \"Holder\",\n",
      "      \"subjectId\": \"did:peer:2.Ez6LSdEYSAtkCArFgUXXY5g4RhXP23ej1Ynu8UejzjU9YrX3E.Vz6Mksj7wesBWcbKV7so6ipvaKYY9wse6aXc7rEYxWLXdJ8zw.SeyJ0IjoiZG0iLCJzIjoiaHR0cDovL2hvc3QuZG9ja2VyLmludGVybmFsOjgwOTAvZGlkY29tbSIsInIiOltdLCJhIjpbImRpZGNvbW0vdjIiXX0\",\n",
      "      \"updatedAt\": \"2022-12-14T18:42:45Z\"\n",
      "    }\n",
      "  ],\n",
      "  \"limit\": 0,\n",
      "  \"offset\": 0\n",
      "}\n"
     ]
    }
   ],
   "source": [
    "path = '/prism-agent/issue-credentials/records'\n",
    "\n",
    "# Make the request\n",
    "response = requests.get(base_url + path, headers=headers)\n",
    "\n",
    "# Check the response status code\n",
    "if response.status_code == 200:\n",
    "    # Print the response content\n",
    "    loaded_json = json.loads(response.content.decode())\n",
    "    print(json.dumps(loaded_json, indent=2))\n",
    "    \n",
    "else:\n",
    "    # Print an error message\n",
    "    print(\"Error: The API returned a non-200 status code\")\n",
    "    print(response.content)"
   ]
  },
  {
   "cell_type": "markdown",
   "id": "606ed88f-6197-4949-84a2-d09f39882fd0",
   "metadata": {},
   "source": [
    "### Decode JWT in Credential"
   ]
  },
  {
   "cell_type": "code",
   "execution_count": 73,
   "id": "39a95339-52d3-4808-a7a7-e293994e715c",
   "metadata": {},
   "outputs": [
    {
     "name": "stdout",
     "output_type": "stream",
     "text": [
      "eyJ0eXAiOiJKV1QiLCJhbGciOiJFUzI1NiJ9.eyJpc3MiOiJkaWQ6cHJpc206YzAxOGI1MGQtYjZlYy00YTIyLWIxMzUtNjVkMmVlMjBiMzE1Iiwic3ViIjoiZGlkOnBlZXI6Mi5FejZMU2RFWVNBdGtDQXJGZ1VYWFk1ZzRSaFhQMjNlajFZbnU4VWVqempVOVlyWDNFLlZ6Nk1rc2o3d2VzQldjYktWN3NvNmlwdmFLWVk5d3NlNmFYYzdyRVl4V0xYZEo4encuU2V5SjBJam9pWkcwaUxDSnpJam9pYUhSMGNEb3ZMMmh2YzNRdVpHOWphMlZ5TG1sdWRHVnlibUZzT2pnd09UQXZaR2xrWTI5dGJTSXNJbklpT2x0ZExDSmhJanBiSW1ScFpHTnZiVzB2ZGpJaVhYMCIsInZjIjp7ImNyZWRlbnRpYWxTdWJqZWN0Ijp7ImJpcnRoZGF0ZSI6IjAxLzAxLzIwMDAiLCJmaXJzdG5hbWUiOiJBbGljZSIsImxhc3RuYW1lIjoiV29uZGVybGFuZCIsImlkIjoiZGlkOnBlZXI6Mi5FejZMU2RFWVNBdGtDQXJGZ1VYWFk1ZzRSaFhQMjNlajFZbnU4VWVqempVOVlyWDNFLlZ6Nk1rc2o3d2VzQldjYktWN3NvNmlwdmFLWVk5d3NlNmFYYzdyRVl4V0xYZEo4encuU2V5SjBJam9pWkcwaUxDSnpJam9pYUhSMGNEb3ZMMmh2YzNRdVpHOWphMlZ5TG1sdWRHVnlibUZzT2pnd09UQXZaR2xrWTI5dGJTSXNJbklpT2x0ZExDSmhJanBiSW1ScFpHTnZiVzB2ZGpJaVhYMCJ9fSwibmJmIjoiMjAyMi0xMi0xNFQxODo0MjozNS43MjAzMTdaIiwiZXhwIjoiMjAyMi0xMi0xNFQxOTo0MjozNS43MjAzMTdaIn0.Z1dpBR70__0-QTxAegmosQa0iaqCGvNS1m3YvlirVRg4c9U8ACtg_CYqUy52fVf0lnAhPIm0wzE0GMAz5mVCwg \n",
      "\n",
      "{'typ': 'JWT', 'alg': 'ES256'} \n",
      "\n",
      "{\n",
      "  \"iss\": \"did:prism:c018b50d-b6ec-4a22-b135-65d2ee20b315\",\n",
      "  \"sub\": \"did:peer:2.Ez6LSdEYSAtkCArFgUXXY5g4RhXP23ej1Ynu8UejzjU9YrX3E.Vz6Mksj7wesBWcbKV7so6ipvaKYY9wse6aXc7rEYxWLXdJ8zw.SeyJ0IjoiZG0iLCJzIjoiaHR0cDovL2hvc3QuZG9ja2VyLmludGVybmFsOjgwOTAvZGlkY29tbSIsInIiOltdLCJhIjpbImRpZGNvbW0vdjIiXX0\",\n",
      "  \"vc\": {\n",
      "    \"credentialSubject\": {\n",
      "      \"birthdate\": \"01/01/2000\",\n",
      "      \"firstname\": \"Alice\",\n",
      "      \"lastname\": \"Wonderland\",\n",
      "      \"id\": \"did:peer:2.Ez6LSdEYSAtkCArFgUXXY5g4RhXP23ej1Ynu8UejzjU9YrX3E.Vz6Mksj7wesBWcbKV7so6ipvaKYY9wse6aXc7rEYxWLXdJ8zw.SeyJ0IjoiZG0iLCJzIjoiaHR0cDovL2hvc3QuZG9ja2VyLmludGVybmFsOjgwOTAvZGlkY29tbSIsInIiOltdLCJhIjpbImRpZGNvbW0vdjIiXX0\"\n",
      "    }\n",
      "  },\n",
      "  \"nbf\": \"2022-12-14T18:42:35.720317Z\",\n",
      "  \"exp\": \"2022-12-14T19:42:35.720317Z\"\n",
      "}\n"
     ]
    }
   ],
   "source": [
    "token = loaded_json['items'][0]['jwtCredential']\n",
    "# print(token)\n",
    "\n",
    "padded = token + \"=\"*divmod(len(token),4)[1]\n",
    "# print(padded)\n",
    "jsondata = base64.urlsafe_b64decode(token)\n",
    "# print(jsondata)\n",
    "b64decoded_token = json.loads(jsondata.decode())\n",
    "print(b64decoded_token,'\\n')\n",
    "header = jwt.get_unverified_header(b64decoded_token)\n",
    "print (header,'\\n')\n",
    "# print (header['typ'])\n",
    "# print (header['alg'])\n",
    "\n",
    "\n",
    "# decodedJWT = jwt.decode(token, algorithms=[header['alg'], ])\n",
    "# try:\n",
    "#     jwt_decoded_id_token = jwt.decode(\n",
    "#         token,\n",
    "#         jwt_public_key,\n",
    "#         # audience = config_idporten[\"aud\"],\n",
    "#         algorithms=[header['alg'], ])\n",
    "#     print(jwt_decoded_id_token)\n",
    "# except (jwt.ExpiredSignatureError, jwt.InvalidAudienceError) as e:\n",
    "#     print(\"[ERROR]\", e)\n",
    "\n",
    "try:\n",
    "    jwt_decoded_id_token = jwt.decode(b64decoded_token, options={\"verify_signature\": False})\n",
    "    # print(jwt_decoded_id_token)\n",
    "    print(json.dumps(jwt_decoded_id_token, indent=2))\n",
    "except (jwt.ExpiredSignatureError, jwt.InvalidAudienceError) as e:\n",
    "    print(\"[ERROR]\", e)\n",
    "    "
   ]
  },
  {
   "cell_type": "markdown",
   "id": "150f2baf-a3d0-4d7a-868e-7b2ffff3a423",
   "metadata": {},
   "source": [
    "## Create connection with verifier"
   ]
  },
  {
   "cell_type": "markdown",
   "id": "14206dc8-cde3-41e5-b56b-8fd548478f38",
   "metadata": {},
   "source": [
    "## Head over to Verifier Notebook to crate connection invitation"
   ]
  },
  {
   "cell_type": "markdown",
   "id": "72ed6e71-cfa2-451d-86ae-5dd67ff190b8",
   "metadata": {
    "tags": []
   },
   "source": [
    "## Fetch invitationUrl from Verifier Agent"
   ]
  },
  {
   "cell_type": "code",
   "execution_count": 74,
   "id": "5dcc52cc-dea7-421c-909d-3f74fdc93131",
   "metadata": {},
   "outputs": [
    {
     "name": "stdout",
     "output_type": "stream",
     "text": [
      "eyJpZCI6ImQ5MmE0NmUzLWUzNGItNGY4NS04M2UwLWM5MGU5ZjVlNjcwMyIsInR5cGUiOiJodHRwczovL2RpZGNvbW0ub3JnL291dC1vZi1iYW5kLzIuMC9pbnZpdGF0aW9uIiwiZnJvbSI6ImRpZDpwZWVyOjIuRXo2TFNvV210WGpGWGNhUUVjalJ6djdGMWFMQWRiUWpqblh6eEhudTcyZmNodkNtNS5WejZNa3ZEaG1iWWlOVXJXdmJTdDVxYlVqZEZac0xES2dCVWJRS0ZTVll3cXJ6RUxXLlNleUowSWpvaVpHMGlMQ0p6SWpvaWFIUjBjRG92TDJodmMzUXVaRzlqYTJWeUxtbHVkR1Z5Ym1Gc09qa3dNREF2Wkdsa1kyOXRiU0lzSW5JaU9sdGRMQ0poSWpwYkltUnBaR052YlcwdmRqSWlYWDAiLCJib2R5Ijp7ImdvYWxfY29kZSI6ImNvbm5lY3QiLCJnb2FsIjoiRXN0YWJsaXNoIGEgdHJ1c3QgY29ubmVjdGlvbiBiZXR3ZWVuIHR3byBwZWVycyIsImFjY2VwdCI6W119fQ==\n"
     ]
    }
   ],
   "source": [
    "%store -r invitationUrlbase64verifier\n",
    "print(invitationUrlbase64verifier)"
   ]
  },
  {
   "cell_type": "markdown",
   "id": "bc67b81d-ea40-405f-bf48-1ef37d546bf5",
   "metadata": {},
   "source": [
    "## Accept an OOB connection invitation from Verifier Agent\n",
    "> Replace `{RAW_INVITATION}` with the value of the '_oob' query string parameter from the invitation URL above\n",
    "```bash\n",
    "curl -X 'POST' \\\n",
    "\t'http://localhost:8090/prism-agent/connection-invitations' \\\n",
    "\t-H 'Content-Type: application/json' \\\n",
    "\t-d '{\n",
    "\t\t\"invitation\": \"{RAW_INVITATION}\"\n",
    "\t}' | jq\n",
    "```"
   ]
  },
  {
   "cell_type": "code",
   "execution_count": 75,
   "id": "e7522086-baba-4665-ab69-83bc3f4057c1",
   "metadata": {},
   "outputs": [
    {
     "name": "stdout",
     "output_type": "stream",
     "text": [
      "{\n",
      "  \"connectionId\": \"aa7aaf4d-eeb8-437e-8318-19b0033d15fb\",\n",
      "  \"createdAt\": \"2022-12-14T18:44:27Z\",\n",
      "  \"invitation\": {\n",
      "    \"from\": \"did:peer:2.Ez6LSoWmtXjFXcaQEcjRzv7F1aLAdbQjjnXzxHnu72fchvCm5.Vz6MkvDhmbYiNUrWvbSt5qbUjdFZsLDKgBUbQKFSVYwqrzELW.SeyJ0IjoiZG0iLCJzIjoiaHR0cDovL2hvc3QuZG9ja2VyLmludGVybmFsOjkwMDAvZGlkY29tbSIsInIiOltdLCJhIjpbImRpZGNvbW0vdjIiXX0\",\n",
      "    \"id\": \"d92a46e3-e34b-4f85-83e0-c90e9f5e6703\",\n",
      "    \"invitationUrl\": \"https://domain.com/path?_oob=eyJpZCI6ImQ5MmE0NmUzLWUzNGItNGY4NS04M2UwLWM5MGU5ZjVlNjcwMyIsInR5cGUiOiJodHRwczovL2RpZGNvbW0ub3JnL291dC1vZi1iYW5kLzIuMC9pbnZpdGF0aW9uIiwiZnJvbSI6ImRpZDpwZWVyOjIuRXo2TFNvV210WGpGWGNhUUVjalJ6djdGMWFMQWRiUWpqblh6eEhudTcyZmNodkNtNS5WejZNa3ZEaG1iWWlOVXJXdmJTdDVxYlVqZEZac0xES2dCVWJRS0ZTVll3cXJ6RUxXLlNleUowSWpvaVpHMGlMQ0p6SWpvaWFIUjBjRG92TDJodmMzUXVaRzlqYTJWeUxtbHVkR1Z5Ym1Gc09qa3dNREF2Wkdsa1kyOXRiU0lzSW5JaU9sdGRMQ0poSWpwYkltUnBaR052YlcwdmRqSWlYWDAiLCJib2R5Ijp7ImdvYWxfY29kZSI6ImNvbm5lY3QiLCJnb2FsIjoiRXN0YWJsaXNoIGEgdHJ1c3QgY29ubmVjdGlvbiBiZXR3ZWVuIHR3byBwZWVycyIsImFjY2VwdCI6W119fQ==\",\n",
      "    \"type\": \"https://didcomm.org/out-of-band/2.0/invitation\"\n",
      "  },\n",
      "  \"kind\": \"/connections/aa7aaf4d-eeb8-437e-8318-19b0033d15fb\",\n",
      "  \"myDid\": \"did:peer:2.Ez6LSdEYSAtkCArFgUXXY5g4RhXP23ej1Ynu8UejzjU9YrX3E.Vz6Mksj7wesBWcbKV7so6ipvaKYY9wse6aXc7rEYxWLXdJ8zw.SeyJ0IjoiZG0iLCJzIjoiaHR0cDovL2hvc3QuZG9ja2VyLmludGVybmFsOjgwOTAvZGlkY29tbSIsInIiOltdLCJhIjpbImRpZGNvbW0vdjIiXX0\",\n",
      "  \"self\": \"Connection\",\n",
      "  \"state\": \"ConnectionRequestPending\",\n",
      "  \"theirDid\": \"did:peer:2.Ez6LSoWmtXjFXcaQEcjRzv7F1aLAdbQjjnXzxHnu72fchvCm5.Vz6MkvDhmbYiNUrWvbSt5qbUjdFZsLDKgBUbQKFSVYwqrzELW.SeyJ0IjoiZG0iLCJzIjoiaHR0cDovL2hvc3QuZG9ja2VyLmludGVybmFsOjkwMDAvZGlkY29tbSIsInIiOltdLCJhIjpbImRpZGNvbW0vdjIiXX0\",\n",
      "  \"updatedAt\": \"2022-12-14T18:44:27Z\"\n",
      "}\n"
     ]
    }
   ],
   "source": [
    "path = '/prism-agent/connection-invitations'\n",
    "data = {\"invitation\": invitationUrlbase64verifier}\n",
    "# Make the request\n",
    "response = requests.post(base_url + path, headers=headers, json=data)\n",
    "\n",
    "# Check the response status code\n",
    "if response.status_code == 200:\n",
    "    # Print the response content\n",
    "    loaded_json = json.loads(response.content.decode())\n",
    "    print(json.dumps(loaded_json, indent=2))\n",
    "    invitation = json.loads(response.content.decode())\n",
    "    invitationUrl = invitation['invitation']['invitationUrl']\n",
    "    # invitationUrlbase64 = invitation['invitation']['invitationUrl'].split('=')[1]\n",
    "    connection_id = invitation['connectionId']\n",
    "else:\n",
    "    # Print an error message\n",
    "    print(\"Error: The API returned a non-200 status code\")"
   ]
  },
  {
   "cell_type": "markdown",
   "id": "b44eee10-4696-4fed-9ea8-4209cd37b9bc",
   "metadata": {
    "tags": []
   },
   "source": [
    "## Retrieving the list of connections\n",
    "```bash\n",
    "curl -X 'GET' 'http://localhost:8090/prism-agent/connections' | jq\n",
    "```"
   ]
  },
  {
   "cell_type": "code",
   "execution_count": 78,
   "id": "11c71cf5-8654-422c-892d-d3debbbbdeb9",
   "metadata": {},
   "outputs": [
    {
     "name": "stdout",
     "output_type": "stream",
     "text": [
      "{\n",
      "  \"connectionId\": \"aa7aaf4d-eeb8-437e-8318-19b0033d15fb\",\n",
      "  \"createdAt\": \"2022-12-14T18:44:27Z\",\n",
      "  \"invitation\": {\n",
      "    \"from\": \"did:peer:2.Ez6LSoWmtXjFXcaQEcjRzv7F1aLAdbQjjnXzxHnu72fchvCm5.Vz6MkvDhmbYiNUrWvbSt5qbUjdFZsLDKgBUbQKFSVYwqrzELW.SeyJ0IjoiZG0iLCJzIjoiaHR0cDovL2hvc3QuZG9ja2VyLmludGVybmFsOjkwMDAvZGlkY29tbSIsInIiOltdLCJhIjpbImRpZGNvbW0vdjIiXX0\",\n",
      "    \"id\": \"d92a46e3-e34b-4f85-83e0-c90e9f5e6703\",\n",
      "    \"invitationUrl\": \"https://domain.com/path?_oob=eyJpZCI6ImQ5MmE0NmUzLWUzNGItNGY4NS04M2UwLWM5MGU5ZjVlNjcwMyIsInR5cGUiOiJodHRwczovL2RpZGNvbW0ub3JnL291dC1vZi1iYW5kLzIuMC9pbnZpdGF0aW9uIiwiZnJvbSI6ImRpZDpwZWVyOjIuRXo2TFNvV210WGpGWGNhUUVjalJ6djdGMWFMQWRiUWpqblh6eEhudTcyZmNodkNtNS5WejZNa3ZEaG1iWWlOVXJXdmJTdDVxYlVqZEZac0xES2dCVWJRS0ZTVll3cXJ6RUxXLlNleUowSWpvaVpHMGlMQ0p6SWpvaWFIUjBjRG92TDJodmMzUXVaRzlqYTJWeUxtbHVkR1Z5Ym1Gc09qa3dNREF2Wkdsa1kyOXRiU0lzSW5JaU9sdGRMQ0poSWpwYkltUnBaR052YlcwdmRqSWlYWDAiLCJib2R5Ijp7ImdvYWxfY29kZSI6ImNvbm5lY3QiLCJnb2FsIjoiRXN0YWJsaXNoIGEgdHJ1c3QgY29ubmVjdGlvbiBiZXR3ZWVuIHR3byBwZWVycyIsImFjY2VwdCI6W119fQ==\",\n",
      "    \"type\": \"https://didcomm.org/out-of-band/2.0/invitation\"\n",
      "  },\n",
      "  \"kind\": \"/connections/aa7aaf4d-eeb8-437e-8318-19b0033d15fb\",\n",
      "  \"myDid\": \"did:peer:2.Ez6LSdEYSAtkCArFgUXXY5g4RhXP23ej1Ynu8UejzjU9YrX3E.Vz6Mksj7wesBWcbKV7so6ipvaKYY9wse6aXc7rEYxWLXdJ8zw.SeyJ0IjoiZG0iLCJzIjoiaHR0cDovL2hvc3QuZG9ja2VyLmludGVybmFsOjgwOTAvZGlkY29tbSIsInIiOltdLCJhIjpbImRpZGNvbW0vdjIiXX0\",\n",
      "  \"self\": \"Connection\",\n",
      "  \"state\": \"ConnectionResponseReceived\",\n",
      "  \"theirDid\": \"did:peer:2.Ez6LSoWmtXjFXcaQEcjRzv7F1aLAdbQjjnXzxHnu72fchvCm5.Vz6MkvDhmbYiNUrWvbSt5qbUjdFZsLDKgBUbQKFSVYwqrzELW.SeyJ0IjoiZG0iLCJzIjoiaHR0cDovL2hvc3QuZG9ja2VyLmludGVybmFsOjkwMDAvZGlkY29tbSIsInIiOltdLCJhIjpbImRpZGNvbW0vdjIiXX0\",\n",
      "  \"updatedAt\": \"2022-12-14T18:44:37Z\"\n",
      "}\n",
      "\u001b[1m\u001b[35mCurrent state for ConnectionId aa7aaf4d-eeb8-437e-8318-19b0033d15fb is ConnectionResponseReceived\u001b[0m\n",
      "\u001b[1m\u001b[32mConnectionId: aa7aaf4d-eeb8-437e-8318-19b0033d15fb is now active. Continue with notebook\u001b[0m\n"
     ]
    }
   ],
   "source": [
    "import time\n",
    "from termcolor import colored,cprint\n",
    "\n",
    "path = '/prism-agent//connections/' + connection_id\n",
    "# Make the request\n",
    "response = requests.get(base_url + path, headers=headers)\n",
    "\n",
    "# Check the response status code\n",
    "if response.status_code == 200:\n",
    "    # Print the response content\n",
    "    loaded_json = json.loads(response.content.decode())\n",
    "    print(json.dumps(loaded_json, indent=2))\n",
    "    STATE = loaded_json['state']\n",
    "else:\n",
    "    # Print an error message\n",
    "    print(\"Error: The API returned a non-200 status code\")\n",
    "\n",
    "# print('Current state for ConnectionId {} is {}'.format(connection_id,STATE))\n",
    "print(colored(\"Current state for ConnectionId {} is {}\".format(connection_id,STATE), \"magenta\", attrs=[\"bold\"]))\n",
    "while STATE != 'ConnectionResponseReceived':\n",
    "    # Make the request\n",
    "    response = requests.get(base_url + path, headers=headers)\n",
    "\n",
    "    # Check the response status code\n",
    "    if response.status_code == 200:\n",
    "        # Print the response content\n",
    "        loaded_json = json.loads(response.content.decode())\n",
    "        # print(json.dumps(loaded_json, indent=2))\n",
    "        STATE = loaded_json['state']\n",
    "        print(colored(\"ConnectionId {0} is not in active state yet. State: {1}\".format(connection_id,STATE), \"yellow\", attrs=[\"bold\"]))\n",
    "        their_did = loaded_json['theirDid']\n",
    "    else:\n",
    "        # Print an error message\n",
    "        print(\"Error: The API returned a non-200 status code\")\n",
    "        \n",
    "\n",
    "    time.sleep(1)\n",
    "    \n",
    "# print('ConnectionId: {0} is now active. Continue with notebook'.format(connection_id))\n",
    "print(colored(\"ConnectionId: {0} is now active. Continue with notebook\".format(connection_id), \"green\", attrs=[\"bold\"]))\n"
   ]
  },
  {
   "cell_type": "markdown",
   "id": "a7797fc9-c66f-4055-89d8-9cc0f7848fe6",
   "metadata": {},
   "source": [
    "## Verify Credentials"
   ]
  },
  {
   "cell_type": "markdown",
   "id": "bb2a3292-3198-4d44-9efb-f318013add54",
   "metadata": {},
   "source": [
    "### Retrieving the list of presentation records\n",
    "\n",
    "```shell\n",
    "curl -X 'GET' 'http://localhost:8090/prism-agent/present-proof/presentations' -H 'accept: application/json' | jq\n",
    "```"
   ]
  },
  {
   "cell_type": "code",
   "execution_count": 84,
   "id": "74700662-d097-4552-b585-9bf712621df0",
   "metadata": {},
   "outputs": [
    {
     "name": "stdout",
     "output_type": "stream",
     "text": [
      "[\n",
      "  {\n",
      "    \"presentationId\": \"547d5d1c-01ca-46a4-8246-1fe81626a3ba\",\n",
      "    \"proofs\": [],\n",
      "    \"status\": \"RequestReceived\"\n",
      "  }\n",
      "]\n"
     ]
    }
   ],
   "source": [
    "path = '/prism-agent/present-proof/presentations'\n",
    "\n",
    "# Make the request\n",
    "response = requests.get(base_url + path, headers=headers)\n",
    "\n",
    "# Check the response status code\n",
    "if response.status_code == 200:\n",
    "    # Print the response content\n",
    "    loaded_json = json.loads(response.content.decode())\n",
    "    print(json.dumps(loaded_json, indent=2))\n",
    "    presentationId = loaded_json[0]['presentationId']\n",
    "else:\n",
    "    # Print an error message\n",
    "    print(\"Error: The API returned a non-200 status code\")"
   ]
  },
  {
   "cell_type": "markdown",
   "id": "b3a6c7ba-6c4a-4104-a0f9-e3fd488f1e23",
   "metadata": {},
   "source": [
    "### Retrieving the list of credentials records\n",
    "> choose the `{RECORD_ID}` for credential with status CredentialRecieved\n",
    "\n",
    "```shell\n",
    "curl -X 'GET' 'http://localhost:8090/prism-agent/issue-credentials/records' -H 'accept: application/json' | jq\n",
    "```"
   ]
  },
  {
   "cell_type": "code",
   "execution_count": 85,
   "id": "9e8ac6cb-0f8a-47b3-8629-faba43ed3a90",
   "metadata": {},
   "outputs": [
    {
     "name": "stdout",
     "output_type": "stream",
     "text": [
      "08eb1750-a446-4b06-b89f-34c8cea31e64\n",
      "547d5d1c-01ca-46a4-8246-1fe81626a3ba\n"
     ]
    }
   ],
   "source": [
    "print(record_id)\n",
    "print(presentationId)"
   ]
  },
  {
   "cell_type": "markdown",
   "id": "75bca86a-6180-48ec-ba77-2c8d37240c77",
   "metadata": {},
   "source": [
    "### Accepting the Presentation Request \n",
    ">Replace `{PRESENTATION_ID}` with the UUID of the record from the presentation records list\n",
    "\n",
    ">Replace `{RECORD_ID}` with the UUID of the record from the credential records list\n",
    "\n",
    "\n",
    "```shell\n",
    "curl -X 'PATCH' \\\n",
    "  'http://localhost:8090/prism-agent/present-proof/presentations/{PRESENTATION_ID}' \\\n",
    "  -H 'Content-Type: application/json' \\\n",
    "  -d '{\n",
    "  \"action\": \"request-accept\",\n",
    "  \"proofId\": [\"{RECORD_ID}\"]\n",
    "}'\n",
    "```"
   ]
  },
  {
   "cell_type": "code",
   "execution_count": 91,
   "id": "c3de534f-64fe-4ec0-a633-4ddb7a77a681",
   "metadata": {},
   "outputs": [
    {
     "name": "stdout",
     "output_type": "stream",
     "text": [
      "b'Update the presentation record'\n"
     ]
    }
   ],
   "source": [
    "data = {\n",
    "  \"action\": \"request-accept\",\n",
    "  \"proofId\": [record_id]\n",
    "}\n",
    "\n",
    "path = '/prism-agent/present-proof/presentations/' + presentationId\n",
    "\n",
    "# Make the request\n",
    "response = requests.patch(base_url + path, headers=headers, json=data)\n",
    "\n",
    "# Check the response status code\n",
    "if response.status_code == 200:\n",
    "    # Print the response content\n",
    "    print(response.content)\n",
    "    # loaded_json = json.loads(response.content.decode())\n",
    "    # print(json.dumps(loaded_json, indent=2))\n",
    "    # proof_requestId = loaded_json[0]['presentationId']\n",
    "else:\n",
    "    # Print an error message\n",
    "    print(\"Error: The API returned a non-200 status code\")\n",
    "    print(response.content)"
   ]
  },
  {
   "cell_type": "markdown",
   "id": "7774794a-0c3b-4178-b6a1-048cf9c189c3",
   "metadata": {
    "tags": []
   },
   "source": [
    "# TODO\n",
    "> Fix response for successful API in PATCH HTTP call above"
   ]
  },
  {
   "cell_type": "markdown",
   "id": "5f72c5ca-bfd4-48cf-8c21-aab926bd94aa",
   "metadata": {},
   "source": [
    "### check Presentation state  PresentationSent \n",
    "> check PresentationSent !\n",
    "```shell\n",
    "curl -X 'GET' 'http://localhost:8090/prism-agent/present-proof/presentations' -H 'accept: application/json' | jq\n",
    "```"
   ]
  },
  {
   "cell_type": "code",
   "execution_count": 95,
   "id": "f7b06b4a-19f3-4b0e-96cf-85537263c4ed",
   "metadata": {},
   "outputs": [
    {
     "name": "stdout",
     "output_type": "stream",
     "text": [
      "[\n",
      "  {\n",
      "    \"presentationId\": \"547d5d1c-01ca-46a4-8246-1fe81626a3ba\",\n",
      "    \"proofs\": [],\n",
      "    \"status\": \"RequestReceived\"\n",
      "  }\n",
      "]\n"
     ]
    }
   ],
   "source": [
    "path = '/prism-agent/present-proof/presentations'\n",
    "\n",
    "# Make the request\n",
    "response = requests.get(base_url + path, headers=headers)\n",
    "\n",
    "# Check the response status code\n",
    "if response.status_code == 200:\n",
    "    # Print the response content\n",
    "    # print(response.content)\n",
    "    # loaded_json = json.loads(response.content.decode())\n",
    "    print(json.dumps(loaded_json, indent=2))\n",
    "    presentationId = loaded_json[0]['presentationId']\n",
    "else:\n",
    "    # Print an error message\n",
    "    print(\"Error: The API returned a non-200 status code\")"
   ]
  },
  {
   "cell_type": "code",
   "execution_count": null,
   "id": "5cb9b62c-1e5c-40c8-95e0-8b0a70db6302",
   "metadata": {},
   "outputs": [],
   "source": []
  }
 ],
 "metadata": {
  "kernelspec": {
   "display_name": "Python 3 (ipykernel)",
   "language": "python",
   "name": "python3"
  },
  "language_info": {
   "codemirror_mode": {
    "name": "ipython",
    "version": 3
   },
   "file_extension": ".py",
   "mimetype": "text/x-python",
   "name": "python",
   "nbconvert_exporter": "python",
   "pygments_lexer": "ipython3",
   "version": "3.10.8"
  }
 },
 "nbformat": 4,
 "nbformat_minor": 5
}
