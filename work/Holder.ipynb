{
 "cells": [
  {
   "cell_type": "markdown",
   "id": "50be2a5d-45e0-412f-b072-214eea01ff59",
   "metadata": {},
   "source": [
    "# Holder Agent"
   ]
  },
  {
   "cell_type": "code",
   "execution_count": 97,
   "id": "19895e9f-43cc-49a7-bdbc-38f74a1bb28b",
   "metadata": {},
   "outputs": [],
   "source": [
    "import requests\n",
    "import json\n",
    "import qrcode\n",
    "import uuid"
   ]
  },
  {
   "cell_type": "code",
   "execution_count": 98,
   "id": "7ac8121f-a4a8-4faa-8a51-ed59ee6d8155",
   "metadata": {},
   "outputs": [],
   "source": [
    "# Set the URL for the API endpoint\n",
    "# Need to specify the host as host.docker.internal as the Prism Agents and the Prism Playground are running in two isolated docker environments\n",
    "base_url = \"http://host.docker.internal:8090\"\n",
    "\n",
    "headers = {'Content-Type': 'application/json'}"
   ]
  },
  {
   "cell_type": "markdown",
   "id": "e86a0ced-055c-4233-944f-0d89142da1e6",
   "metadata": {},
   "source": [
    "## Connections"
   ]
  },
  {
   "cell_type": "markdown",
   "id": "be257999-ec4a-4fb4-8aa4-49bb8d62eda5",
   "metadata": {
    "tags": []
   },
   "source": [
    "## Fetch invitationUrl from Issuer Agent"
   ]
  },
  {
   "cell_type": "code",
   "execution_count": 99,
   "id": "1384f017-f58e-4a6f-87d9-80582970d578",
   "metadata": {},
   "outputs": [
    {
     "name": "stdout",
     "output_type": "stream",
     "text": [
      "eyJpZCI6ImM0NDZkNTEzLTIxYzEtNGEzNS04MTJlLWZlOTA0NjczNDYwZiIsInR5cGUiOiJodHRwczovL2RpZGNvbW0ub3JnL291dC1vZi1iYW5kLzIuMC9pbnZpdGF0aW9uIiwiZnJvbSI6ImRpZDpwZWVyOjIuRXo2TFNrdG9MbU00TG9NbndlOHNaRXZMekc3UVFEZFA3SllYWUZ0OTVFd3Q0VVM2ci5WejZNa2t0ZmhwSkRHaVZDODd2MmlxeHB2aGp2SEdxOHRkaGZkNENpemtSMUR3QlRILlNleUowSWpvaVpHMGlMQ0p6SWpvaWFIUjBjRG92TDJodmMzUXVaRzlqYTJWeUxtbHVkR1Z5Ym1Gc09qZ3dPREF2Wkdsa1kyOXRiU0lzSW5JaU9sdGRMQ0poSWpwYkltUnBaR052YlcwdmRqSWlYWDAiLCJib2R5Ijp7ImdvYWxfY29kZSI6ImNvbm5lY3QiLCJnb2FsIjoiRXN0YWJsaXNoIGEgdHJ1c3QgY29ubmVjdGlvbiBiZXR3ZWVuIHR3byBwZWVycyIsImFjY2VwdCI6W119fQ\n"
     ]
    }
   ],
   "source": [
    "%store -r invitationUrlbase64\n",
    "print(invitationUrlbase64)"
   ]
  },
  {
   "cell_type": "markdown",
   "id": "974daf8c-04c1-485b-aee3-e698cb0b71b2",
   "metadata": {},
   "source": [
    "## Accept an OOB connection invitation from Issuer Agent\n",
    "> Replace `{RAW_INVITATION}` with the value of the '_oob' query string parameter from the invitation URL above\n",
    "```bash\n",
    "curl -X 'POST' \\\n",
    "\t'http://localhost:8090/prism-agent/connection-invitations' \\\n",
    "\t-H 'Content-Type: application/json' \\\n",
    "\t-d '{\n",
    "\t\t\"invitation\": \"{RAW_INVITATION}\"\n",
    "\t}' | jq\n",
    "```"
   ]
  },
  {
   "cell_type": "code",
   "execution_count": 100,
   "id": "de483f16-0556-4d94-99e2-12b4af1ae0ea",
   "metadata": {},
   "outputs": [
    {
     "name": "stdout",
     "output_type": "stream",
     "text": [
      "{\n",
      "  \"connectionId\": \"d82055cc-91be-4b8d-8fd9-ab0e7dc01360\",\n",
      "  \"createdAt\": \"2022-12-12T18:32:28Z\",\n",
      "  \"invitation\": {\n",
      "    \"from\": \"did:peer:2.Ez6LSktoLmM4LoMnwe8sZEvLzG7QQDdP7JYXYFt95Ewt4US6r.Vz6MkktfhpJDGiVC87v2iqxpvhjvHGq8tdhfd4CizkR1DwBTH.SeyJ0IjoiZG0iLCJzIjoiaHR0cDovL2hvc3QuZG9ja2VyLmludGVybmFsOjgwODAvZGlkY29tbSIsInIiOltdLCJhIjpbImRpZGNvbW0vdjIiXX0\",\n",
      "    \"id\": \"c446d513-21c1-4a35-812e-fe904673460f\",\n",
      "    \"invitationUrl\": \"https://domain.com/path?_oob=eyJpZCI6ImM0NDZkNTEzLTIxYzEtNGEzNS04MTJlLWZlOTA0NjczNDYwZiIsInR5cGUiOiJodHRwczovL2RpZGNvbW0ub3JnL291dC1vZi1iYW5kLzIuMC9pbnZpdGF0aW9uIiwiZnJvbSI6ImRpZDpwZWVyOjIuRXo2TFNrdG9MbU00TG9NbndlOHNaRXZMekc3UVFEZFA3SllYWUZ0OTVFd3Q0VVM2ci5WejZNa2t0ZmhwSkRHaVZDODd2MmlxeHB2aGp2SEdxOHRkaGZkNENpemtSMUR3QlRILlNleUowSWpvaVpHMGlMQ0p6SWpvaWFIUjBjRG92TDJodmMzUXVaRzlqYTJWeUxtbHVkR1Z5Ym1Gc09qZ3dPREF2Wkdsa1kyOXRiU0lzSW5JaU9sdGRMQ0poSWpwYkltUnBaR052YlcwdmRqSWlYWDAiLCJib2R5Ijp7ImdvYWxfY29kZSI6ImNvbm5lY3QiLCJnb2FsIjoiRXN0YWJsaXNoIGEgdHJ1c3QgY29ubmVjdGlvbiBiZXR3ZWVuIHR3byBwZWVycyIsImFjY2VwdCI6W119fQ==\",\n",
      "    \"type\": \"https://didcomm.org/out-of-band/2.0/invitation\"\n",
      "  },\n",
      "  \"kind\": \"/connections/d82055cc-91be-4b8d-8fd9-ab0e7dc01360\",\n",
      "  \"myDid\": \"did:peer:2.Ez6LSsTrRs11jqVkPPebHqdnncQZvmmyvuKrZvjBsAdPXHjt8.Vz6Mkog7ZoErip29PcRf9K5TzCsGMGqrfLeYXBP6y918dAR1L.SeyJ0IjoiZG0iLCJzIjoiaHR0cDovL2hvc3QuZG9ja2VyLmludGVybmFsOjgwOTAvZGlkY29tbSIsInIiOltdLCJhIjpbImRpZGNvbW0vdjIiXX0\",\n",
      "  \"self\": \"Connection\",\n",
      "  \"state\": \"ConnectionRequestPending\",\n",
      "  \"theirDid\": \"did:peer:2.Ez6LSktoLmM4LoMnwe8sZEvLzG7QQDdP7JYXYFt95Ewt4US6r.Vz6MkktfhpJDGiVC87v2iqxpvhjvHGq8tdhfd4CizkR1DwBTH.SeyJ0IjoiZG0iLCJzIjoiaHR0cDovL2hvc3QuZG9ja2VyLmludGVybmFsOjgwODAvZGlkY29tbSIsInIiOltdLCJhIjpbImRpZGNvbW0vdjIiXX0\",\n",
      "  \"updatedAt\": \"2022-12-12T18:32:28Z\"\n",
      "}\n"
     ]
    }
   ],
   "source": [
    "path = '/prism-agent/connection-invitations'\n",
    "data = {\"invitation\": invitationUrlbase64}\n",
    "# Make the request\n",
    "response = requests.post(base_url + path, headers=headers, json=data)\n",
    "\n",
    "# Check the response status code\n",
    "if response.status_code == 200:\n",
    "    # Print the response content\n",
    "    loaded_json = json.loads(response.content.decode())\n",
    "    print(json.dumps(loaded_json, indent=2))\n",
    "    invitation = json.loads(response.content.decode())\n",
    "    invitationUrl = invitation['invitation']['invitationUrl']\n",
    "    # invitationUrlbase64 = invitation['invitation']['invitationUrl'].split('=')[1]\n",
    "    connection_id = invitation['connectionId']\n",
    "else:\n",
    "    # Print an error message\n",
    "    print(\"Error: The API returned a non-200 status code\")"
   ]
  },
  {
   "cell_type": "markdown",
   "id": "7df51bdc-55c0-4794-b498-21c3c2d56cd6",
   "metadata": {},
   "source": [
    "## Retrieving the list of connections\n",
    "```bash\n",
    "curl -X 'GET' 'http://localhost:8090/prism-agent/connections' | jq\n",
    "```"
   ]
  },
  {
   "cell_type": "code",
   "execution_count": 101,
   "id": "e4d8ffd2-980d-49dd-94d6-44bdb6ee8932",
   "metadata": {},
   "outputs": [
    {
     "name": "stdout",
     "output_type": "stream",
     "text": [
      "{\n",
      "  \"contents\": [\n",
      "    {\n",
      "      \"connectionId\": \"d82055cc-91be-4b8d-8fd9-ab0e7dc01360\",\n",
      "      \"createdAt\": \"2022-12-12T18:32:28Z\",\n",
      "      \"invitation\": {\n",
      "        \"from\": \"did:peer:2.Ez6LSktoLmM4LoMnwe8sZEvLzG7QQDdP7JYXYFt95Ewt4US6r.Vz6MkktfhpJDGiVC87v2iqxpvhjvHGq8tdhfd4CizkR1DwBTH.SeyJ0IjoiZG0iLCJzIjoiaHR0cDovL2hvc3QuZG9ja2VyLmludGVybmFsOjgwODAvZGlkY29tbSIsInIiOltdLCJhIjpbImRpZGNvbW0vdjIiXX0\",\n",
      "        \"id\": \"c446d513-21c1-4a35-812e-fe904673460f\",\n",
      "        \"invitationUrl\": \"https://domain.com/path?_oob=eyJpZCI6ImM0NDZkNTEzLTIxYzEtNGEzNS04MTJlLWZlOTA0NjczNDYwZiIsInR5cGUiOiJodHRwczovL2RpZGNvbW0ub3JnL291dC1vZi1iYW5kLzIuMC9pbnZpdGF0aW9uIiwiZnJvbSI6ImRpZDpwZWVyOjIuRXo2TFNrdG9MbU00TG9NbndlOHNaRXZMekc3UVFEZFA3SllYWUZ0OTVFd3Q0VVM2ci5WejZNa2t0ZmhwSkRHaVZDODd2MmlxeHB2aGp2SEdxOHRkaGZkNENpemtSMUR3QlRILlNleUowSWpvaVpHMGlMQ0p6SWpvaWFIUjBjRG92TDJodmMzUXVaRzlqYTJWeUxtbHVkR1Z5Ym1Gc09qZ3dPREF2Wkdsa1kyOXRiU0lzSW5JaU9sdGRMQ0poSWpwYkltUnBaR052YlcwdmRqSWlYWDAiLCJib2R5Ijp7ImdvYWxfY29kZSI6ImNvbm5lY3QiLCJnb2FsIjoiRXN0YWJsaXNoIGEgdHJ1c3QgY29ubmVjdGlvbiBiZXR3ZWVuIHR3byBwZWVycyIsImFjY2VwdCI6W119fQ==\",\n",
      "        \"type\": \"https://didcomm.org/out-of-band/2.0/invitation\"\n",
      "      },\n",
      "      \"kind\": \"/connections/d82055cc-91be-4b8d-8fd9-ab0e7dc01360\",\n",
      "      \"myDid\": \"did:peer:2.Ez6LSsTrRs11jqVkPPebHqdnncQZvmmyvuKrZvjBsAdPXHjt8.Vz6Mkog7ZoErip29PcRf9K5TzCsGMGqrfLeYXBP6y918dAR1L.SeyJ0IjoiZG0iLCJzIjoiaHR0cDovL2hvc3QuZG9ja2VyLmludGVybmFsOjgwOTAvZGlkY29tbSIsInIiOltdLCJhIjpbImRpZGNvbW0vdjIiXX0\",\n",
      "      \"self\": \"Connection\",\n",
      "      \"state\": \"ConnectionRequestPending\",\n",
      "      \"theirDid\": \"did:peer:2.Ez6LSktoLmM4LoMnwe8sZEvLzG7QQDdP7JYXYFt95Ewt4US6r.Vz6MkktfhpJDGiVC87v2iqxpvhjvHGq8tdhfd4CizkR1DwBTH.SeyJ0IjoiZG0iLCJzIjoiaHR0cDovL2hvc3QuZG9ja2VyLmludGVybmFsOjgwODAvZGlkY29tbSIsInIiOltdLCJhIjpbImRpZGNvbW0vdjIiXX0\",\n",
      "      \"updatedAt\": \"2022-12-12T18:32:28Z\"\n",
      "    }\n",
      "  ],\n",
      "  \"kind\": \"Collection\",\n",
      "  \"self\": \"/collections\"\n",
      "}\n"
     ]
    }
   ],
   "source": [
    "path = '/prism-agent/connections'\n",
    "\n",
    "# Make the request\n",
    "response = requests.get(base_url + path, headers=headers)\n",
    "\n",
    "# Check the response status code\n",
    "if response.status_code == 200:\n",
    "    # Print the response content\n",
    "    loaded_json = json.loads(response.content.decode())\n",
    "    print(json.dumps(loaded_json, indent=2))\n",
    "    \n",
    "else:\n",
    "    # Print an error message\n",
    "    print(\"Error: The API returned a non-200 status code\")"
   ]
  },
  {
   "cell_type": "code",
   "execution_count": 103,
   "id": "65c42a6e-7ffc-4260-9b70-50a50e354d0f",
   "metadata": {},
   "outputs": [
    {
     "name": "stdout",
     "output_type": "stream",
     "text": [
      "{\n",
      "  \"connectionId\": \"d82055cc-91be-4b8d-8fd9-ab0e7dc01360\",\n",
      "  \"createdAt\": \"2022-12-12T18:32:28Z\",\n",
      "  \"invitation\": {\n",
      "    \"from\": \"did:peer:2.Ez6LSktoLmM4LoMnwe8sZEvLzG7QQDdP7JYXYFt95Ewt4US6r.Vz6MkktfhpJDGiVC87v2iqxpvhjvHGq8tdhfd4CizkR1DwBTH.SeyJ0IjoiZG0iLCJzIjoiaHR0cDovL2hvc3QuZG9ja2VyLmludGVybmFsOjgwODAvZGlkY29tbSIsInIiOltdLCJhIjpbImRpZGNvbW0vdjIiXX0\",\n",
      "    \"id\": \"c446d513-21c1-4a35-812e-fe904673460f\",\n",
      "    \"invitationUrl\": \"https://domain.com/path?_oob=eyJpZCI6ImM0NDZkNTEzLTIxYzEtNGEzNS04MTJlLWZlOTA0NjczNDYwZiIsInR5cGUiOiJodHRwczovL2RpZGNvbW0ub3JnL291dC1vZi1iYW5kLzIuMC9pbnZpdGF0aW9uIiwiZnJvbSI6ImRpZDpwZWVyOjIuRXo2TFNrdG9MbU00TG9NbndlOHNaRXZMekc3UVFEZFA3SllYWUZ0OTVFd3Q0VVM2ci5WejZNa2t0ZmhwSkRHaVZDODd2MmlxeHB2aGp2SEdxOHRkaGZkNENpemtSMUR3QlRILlNleUowSWpvaVpHMGlMQ0p6SWpvaWFIUjBjRG92TDJodmMzUXVaRzlqYTJWeUxtbHVkR1Z5Ym1Gc09qZ3dPREF2Wkdsa1kyOXRiU0lzSW5JaU9sdGRMQ0poSWpwYkltUnBaR052YlcwdmRqSWlYWDAiLCJib2R5Ijp7ImdvYWxfY29kZSI6ImNvbm5lY3QiLCJnb2FsIjoiRXN0YWJsaXNoIGEgdHJ1c3QgY29ubmVjdGlvbiBiZXR3ZWVuIHR3byBwZWVycyIsImFjY2VwdCI6W119fQ==\",\n",
      "    \"type\": \"https://didcomm.org/out-of-band/2.0/invitation\"\n",
      "  },\n",
      "  \"kind\": \"/connections/d82055cc-91be-4b8d-8fd9-ab0e7dc01360\",\n",
      "  \"myDid\": \"did:peer:2.Ez6LSsTrRs11jqVkPPebHqdnncQZvmmyvuKrZvjBsAdPXHjt8.Vz6Mkog7ZoErip29PcRf9K5TzCsGMGqrfLeYXBP6y918dAR1L.SeyJ0IjoiZG0iLCJzIjoiaHR0cDovL2hvc3QuZG9ja2VyLmludGVybmFsOjgwOTAvZGlkY29tbSIsInIiOltdLCJhIjpbImRpZGNvbW0vdjIiXX0\",\n",
      "  \"self\": \"Connection\",\n",
      "  \"state\": \"ConnectionResponseReceived\",\n",
      "  \"theirDid\": \"did:peer:2.Ez6LSktoLmM4LoMnwe8sZEvLzG7QQDdP7JYXYFt95Ewt4US6r.Vz6MkktfhpJDGiVC87v2iqxpvhjvHGq8tdhfd4CizkR1DwBTH.SeyJ0IjoiZG0iLCJzIjoiaHR0cDovL2hvc3QuZG9ja2VyLmludGVybmFsOjgwODAvZGlkY29tbSIsInIiOltdLCJhIjpbImRpZGNvbW0vdjIiXX0\",\n",
      "  \"updatedAt\": \"2022-12-12T18:32:44Z\"\n",
      "}\n"
     ]
    }
   ],
   "source": [
    "\n",
    "path = '/prism-agent//connections/' + connection_id\n",
    "\n",
    "# Make the request\n",
    "response = requests.get(base_url + path, headers=headers)\n",
    "\n",
    "# Check the response status code\n",
    "if response.status_code == 200:\n",
    "    # Print the response content\n",
    "    loaded_json = json.loads(response.content.decode())\n",
    "    print(json.dumps(loaded_json, indent=2))\n",
    "    \n",
    "else:\n",
    "    # Print an error message\n",
    "    print(\"Error: The API returned a non-200 status code\")"
   ]
  },
  {
   "cell_type": "markdown",
   "id": "7b80cbae-deb4-4d29-91fa-020647f11ade",
   "metadata": {},
   "source": [
    "## Receive Credentials from Issuer"
   ]
  },
  {
   "cell_type": "markdown",
   "id": "0c47ddac-9742-478c-839a-deb389b5a5cb",
   "metadata": {},
   "source": [
    "### Accept credential from Issuer"
   ]
  },
  {
   "cell_type": "markdown",
   "id": "5945efac-39ab-49ea-8d07-68ed688d5d39",
   "metadata": {},
   "source": [
    "### Retrieving the list of issue records\n",
    "```bash\n",
    "curl -X 'GET' 'http://localhost:8090/prism-agent/issue-credentials/records' | jq\n",
    "```"
   ]
  },
  {
   "cell_type": "code",
   "execution_count": 104,
   "id": "d57c3d3e-9ad6-4512-bcde-045fbb879169",
   "metadata": {},
   "outputs": [
    {
     "name": "stdout",
     "output_type": "stream",
     "text": [
      "{\n",
      "  \"count\": 1,\n",
      "  \"items\": [\n",
      "    {\n",
      "      \"claims\": {\n",
      "        \"birthdate\": \"01/01/2000\",\n",
      "        \"firstname\": \"Alice\",\n",
      "        \"lastname\": \"Wonderland\"\n",
      "      },\n",
      "      \"createdAt\": \"2022-12-12T18:33:34Z\",\n",
      "      \"protocolState\": \"OfferReceived\",\n",
      "      \"recordId\": \"66ea8ac0-9459-4d62-b9df-dd9b6adf1ed2\",\n",
      "      \"role\": \"Holder\",\n",
      "      \"subjectId\": \"did:peer:2.Ez6LSsTrRs11jqVkPPebHqdnncQZvmmyvuKrZvjBsAdPXHjt8.Vz6Mkog7ZoErip29PcRf9K5TzCsGMGqrfLeYXBP6y918dAR1L.SeyJ0IjoiZG0iLCJzIjoiaHR0cDovL2hvc3QuZG9ja2VyLmludGVybmFsOjgwOTAvZGlkY29tbSIsInIiOltdLCJhIjpbImRpZGNvbW0vdjIiXX0\"\n",
      "    }\n",
      "  ],\n",
      "  \"limit\": 0,\n",
      "  \"offset\": 0\n",
      "}\n"
     ]
    }
   ],
   "source": [
    "path = '/prism-agent/issue-credentials/records'\n",
    "\n",
    "# Make the request\n",
    "response = requests.get(base_url + path, headers=headers)\n",
    "\n",
    "# Check the response status code\n",
    "if response.status_code == 200:\n",
    "    # Print the response content\n",
    "    loaded_json = json.loads(response.content.decode())\n",
    "    print(json.dumps(loaded_json, indent=2))\n",
    "    record_id = loaded_json['items'][0]['recordId']\n",
    "else:\n",
    "    # Print an error message\n",
    "    print(\"Error: The API returned a non-200 status code\")\n",
    "    print(response.content)"
   ]
  },
  {
   "cell_type": "markdown",
   "id": "b9de4db5-c080-42e0-a80c-fe46a0a09878",
   "metadata": {},
   "source": [
    "### Accepting the credential offer \n",
    "\n",
    "Replace `{RECORD_ID}` with the UUID of the record from the previous list\n",
    "```bash\n",
    "curl -X 'POST' 'http://localhost:8090/prism-agent/issue-credentials/records/{RECORD_ID}/accept-offer' | jq\n",
    "```"
   ]
  },
  {
   "cell_type": "code",
   "execution_count": 105,
   "id": "aed9402d-ec72-4514-b675-7ff9b7f64d05",
   "metadata": {},
   "outputs": [
    {
     "name": "stdout",
     "output_type": "stream",
     "text": [
      "Issuer credential recordId: c4357341-e47e-4aa0-b411-ebac0a6820c9\n",
      "Holder credential recordId: 66ea8ac0-9459-4d62-b9df-dd9b6adf1ed2\n"
     ]
    }
   ],
   "source": [
    "%store -r credential_record_id\n",
    "print(\"Issuer credential recordId:\", credential_record_id)\n",
    "print(\"Holder credential recordId:\",record_id)"
   ]
  },
  {
   "cell_type": "code",
   "execution_count": 106,
   "id": "efd39392-480b-4d1f-9da6-745155440163",
   "metadata": {},
   "outputs": [
    {
     "name": "stdout",
     "output_type": "stream",
     "text": [
      "{\n",
      "  \"claims\": {\n",
      "    \"birthdate\": \"01/01/2000\",\n",
      "    \"firstname\": \"Alice\",\n",
      "    \"lastname\": \"Wonderland\"\n",
      "  },\n",
      "  \"createdAt\": \"2022-12-12T18:33:34Z\",\n",
      "  \"protocolState\": \"RequestPending\",\n",
      "  \"recordId\": \"66ea8ac0-9459-4d62-b9df-dd9b6adf1ed2\",\n",
      "  \"role\": \"Holder\",\n",
      "  \"subjectId\": \"did:peer:2.Ez6LSsTrRs11jqVkPPebHqdnncQZvmmyvuKrZvjBsAdPXHjt8.Vz6Mkog7ZoErip29PcRf9K5TzCsGMGqrfLeYXBP6y918dAR1L.SeyJ0IjoiZG0iLCJzIjoiaHR0cDovL2hvc3QuZG9ja2VyLmludGVybmFsOjgwOTAvZGlkY29tbSIsInIiOltdLCJhIjpbImRpZGNvbW0vdjIiXX0\",\n",
      "  \"updatedAt\": \"2022-12-12T18:34:03Z\"\n",
      "}\n"
     ]
    }
   ],
   "source": [
    "path = '/prism-agent/issue-credentials/records/' + record_id + '/accept-offer'\n",
    "\n",
    "# Make the request\n",
    "response = requests.post(base_url + path, headers=headers)\n",
    "\n",
    "# Check the response status code\n",
    "if response.status_code == 200:\n",
    "    # Print the response content\n",
    "    loaded_json = json.loads(response.content.decode())\n",
    "    print(json.dumps(loaded_json, indent=2))\n",
    "    \n",
    "else:\n",
    "    # Print an error message\n",
    "    print(\"Error: The API returned a non-200 status code\")\n",
    "    print(response.content)"
   ]
  },
  {
   "cell_type": "code",
   "execution_count": 111,
   "id": "8111aabd-6cec-4114-85cf-2904b900f3a5",
   "metadata": {},
   "outputs": [
    {
     "name": "stdout",
     "output_type": "stream",
     "text": [
      "{\n",
      "  \"count\": 1,\n",
      "  \"items\": [\n",
      "    {\n",
      "      \"claims\": {\n",
      "        \"birthdate\": \"01/01/2000\",\n",
      "        \"firstname\": \"Alice\",\n",
      "        \"lastname\": \"Wonderland\"\n",
      "      },\n",
      "      \"createdAt\": \"2022-12-12T18:33:34Z\",\n",
      "      \"jwtCredential\": \"ImV5SjBlWEFpT2lKS1YxUWlMQ0poYkdjaU9pSkZVekkxTmlKOS5leUpwYzNNaU9pSmthV1E2Y0hKcGMyMDZaR05tWWpBMFl6Z3RaREF4WWkwME16QXdMVGxrTVRRdE56UTBORFV3WW1Fek9HUTFJaXdpYzNWaUlqb2laR2xrT25CbFpYSTZNaTVGZWpaTVUzTlVjbEp6TVRGcWNWWnJVRkJsWWtoeFpHNXVZMUZhZG0xdGVYWjFTM0phZG1wQ2MwRmtVRmhJYW5RNExsWjZOazFyYjJjM1dtOUZjbWx3TWpsUVkxSm1PVXMxVkhwRGMwZE5SM0Z5Wmt4bFdWaENVRFo1T1RFNFpFRlNNVXd1VTJWNVNqQkphbTlwV2tjd2FVeERTbnBKYW05cFlVaFNNR05FYjNaTU1taDJZek5SZFZwSE9XcGhNbFo1VEcxc2RXUkhWbmxpYlVaelQycG5kMDlVUVhaYVIyeHJXVEk1ZEdKVFNYTkpia2xwVDJ4MFpFeERTbWhKYW5CaVNXMVNjRnBIVG5aaVZ6QjJaR3BKYVZoWU1DSXNJblpqSWpwN0ltTnlaV1JsYm5ScFlXeFRkV0pxWldOMElqcDdJbUpwY25Sb1pHRjBaU0k2SWpBeEx6QXhMekl3TURBaUxDSm1hWEp6ZEc1aGJXVWlPaUpCYkdsalpTSXNJbXhoYzNSdVlXMWxJam9pVjI5dVpHVnliR0Z1WkNJc0ltbGtJam9pWkdsa09uQmxaWEk2TWk1RmVqWk1VM05VY2xKek1URnFjVlpyVUZCbFlraHhaRzV1WTFGYWRtMXRlWFoxUzNKYWRtcENjMEZrVUZoSWFuUTRMbFo2TmsxcmIyYzNXbTlGY21sd01qbFFZMUptT1VzMVZIcERjMGROUjNGeVpreGxXVmhDVURaNU9URTRaRUZTTVV3dVUyVjVTakJKYW05cFdrY3dhVXhEU25wSmFtOXBZVWhTTUdORWIzWk1NbWgyWXpOUmRWcEhPV3BoTWxaNVRHMXNkV1JIVm5saWJVWnpUMnBuZDA5VVFYWmFSMnhyV1RJNWRHSlRTWE5KYmtscFQyeDBaRXhEU21oSmFuQmlTVzFTY0ZwSFRuWmlWekIyWkdwSmFWaFlNQ0o5ZlN3aWJtSm1Jam9pTWpBeU1pMHhNaTB4TWxReE9Eb3pORG8wTmk0d056RXhOalZhSWl3aVpYaHdJam9pTWpBeU1pMHhNaTB4TWxReE9Ub3pORG8wTmk0d056RXhOalZhSW4wLndoSlE2RFFTOGxTU00tajJxeGFvb0Q1cGlUYUdYaTloNEkzcHNla3k1MWxkNERDQmxGZlRPb0FCQ19MYmhkaDlGSktiTHpRMGp3cUpDWVpuMHVUeGtRIg==\",\n",
      "      \"protocolState\": \"CredentialReceived\",\n",
      "      \"recordId\": \"66ea8ac0-9459-4d62-b9df-dd9b6adf1ed2\",\n",
      "      \"role\": \"Holder\",\n",
      "      \"subjectId\": \"did:peer:2.Ez6LSsTrRs11jqVkPPebHqdnncQZvmmyvuKrZvjBsAdPXHjt8.Vz6Mkog7ZoErip29PcRf9K5TzCsGMGqrfLeYXBP6y918dAR1L.SeyJ0IjoiZG0iLCJzIjoiaHR0cDovL2hvc3QuZG9ja2VyLmludGVybmFsOjgwOTAvZGlkY29tbSIsInIiOltdLCJhIjpbImRpZGNvbW0vdjIiXX0\",\n",
      "      \"updatedAt\": \"2022-12-12T18:34:56Z\"\n",
      "    }\n",
      "  ],\n",
      "  \"limit\": 0,\n",
      "  \"offset\": 0\n",
      "}\n"
     ]
    }
   ],
   "source": [
    "path = '/prism-agent/issue-credentials/records'\n",
    "\n",
    "# Make the request\n",
    "response = requests.get(base_url + path, headers=headers)\n",
    "\n",
    "# Check the response status code\n",
    "if response.status_code == 200:\n",
    "    # Print the response content\n",
    "    loaded_json = json.loads(response.content.decode())\n",
    "    print(json.dumps(loaded_json, indent=2))\n",
    "    \n",
    "else:\n",
    "    # Print an error message\n",
    "    print(\"Error: The API returned a non-200 status code\")\n",
    "    print(response.content)"
   ]
  },
  {
   "cell_type": "markdown",
   "id": "150f2baf-a3d0-4d7a-868e-7b2ffff3a423",
   "metadata": {},
   "source": [
    "## Create connection with verifier"
   ]
  },
  {
   "cell_type": "markdown",
   "id": "72ed6e71-cfa2-451d-86ae-5dd67ff190b8",
   "metadata": {
    "tags": []
   },
   "source": [
    "## Fetch invitationUrl from Verifier Agent"
   ]
  },
  {
   "cell_type": "code",
   "execution_count": 112,
   "id": "5dcc52cc-dea7-421c-909d-3f74fdc93131",
   "metadata": {},
   "outputs": [
    {
     "name": "stdout",
     "output_type": "stream",
     "text": [
      "eyJpZCI6IjhlYmQwYTFlLTMyYjMtNDZhNS1iNGFkLTJlNDg1M2FjNTYzOSIsInR5cGUiOiJodHRwczovL2RpZGNvbW0ub3JnL291dC1vZi1iYW5kLzIuMC9pbnZpdGF0aW9uIiwiZnJvbSI6ImRpZDpwZWVyOjIuRXo2TFNuZGJ5MmptNEpnZk5qWmdoTHEzU2s1dExUUHQ1dWhlbW5pRWQyZzhFY1JNcS5WejZNa3Ric1l5dmtxdUJlNFZMdzJ0bmdhc1B1cjZ0ekt4QlR3ZUNEZXh6Zm9RemFDLlNleUowSWpvaVpHMGlMQ0p6SWpvaWFIUjBjRG92TDJodmMzUXVaRzlqYTJWeUxtbHVkR1Z5Ym1Gc09qa3dNREF2Wkdsa1kyOXRiU0lzSW5JaU9sdGRMQ0poSWpwYkltUnBaR052YlcwdmRqSWlYWDAiLCJib2R5Ijp7ImdvYWxfY29kZSI6ImNvbm5lY3QiLCJnb2FsIjoiRXN0YWJsaXNoIGEgdHJ1c3QgY29ubmVjdGlvbiBiZXR3ZWVuIHR3byBwZWVycyIsImFjY2VwdCI6W119fQ\n"
     ]
    }
   ],
   "source": [
    "%store -r invitationUrlbase64verifier\n",
    "print(invitationUrlbase64verifier)"
   ]
  },
  {
   "cell_type": "markdown",
   "id": "bc67b81d-ea40-405f-bf48-1ef37d546bf5",
   "metadata": {},
   "source": [
    "## Accept an OOB connection invitation from Verifier Agent\n",
    "> Replace `{RAW_INVITATION}` with the value of the '_oob' query string parameter from the invitation URL above\n",
    "```bash\n",
    "curl -X 'POST' \\\n",
    "\t'http://localhost:8090/prism-agent/connection-invitations' \\\n",
    "\t-H 'Content-Type: application/json' \\\n",
    "\t-d '{\n",
    "\t\t\"invitation\": \"{RAW_INVITATION}\"\n",
    "\t}' | jq\n",
    "```"
   ]
  },
  {
   "cell_type": "code",
   "execution_count": 113,
   "id": "e7522086-baba-4665-ab69-83bc3f4057c1",
   "metadata": {},
   "outputs": [
    {
     "name": "stdout",
     "output_type": "stream",
     "text": [
      "{\n",
      "  \"connectionId\": \"49976f87-95ba-42dc-80ba-5c7726d7c9b9\",\n",
      "  \"createdAt\": \"2022-12-12T18:36:21Z\",\n",
      "  \"invitation\": {\n",
      "    \"from\": \"did:peer:2.Ez6LSndby2jm4JgfNjZghLq3Sk5tLTPt5uhemniEd2g8EcRMq.Vz6MktbsYyvkquBe4VLw2tngasPur6tzKxBTweCDexzfoQzaC.SeyJ0IjoiZG0iLCJzIjoiaHR0cDovL2hvc3QuZG9ja2VyLmludGVybmFsOjkwMDAvZGlkY29tbSIsInIiOltdLCJhIjpbImRpZGNvbW0vdjIiXX0\",\n",
      "    \"id\": \"8ebd0a1e-32b3-46a5-b4ad-2e4853ac5639\",\n",
      "    \"invitationUrl\": \"https://domain.com/path?_oob=eyJpZCI6IjhlYmQwYTFlLTMyYjMtNDZhNS1iNGFkLTJlNDg1M2FjNTYzOSIsInR5cGUiOiJodHRwczovL2RpZGNvbW0ub3JnL291dC1vZi1iYW5kLzIuMC9pbnZpdGF0aW9uIiwiZnJvbSI6ImRpZDpwZWVyOjIuRXo2TFNuZGJ5MmptNEpnZk5qWmdoTHEzU2s1dExUUHQ1dWhlbW5pRWQyZzhFY1JNcS5WejZNa3Ric1l5dmtxdUJlNFZMdzJ0bmdhc1B1cjZ0ekt4QlR3ZUNEZXh6Zm9RemFDLlNleUowSWpvaVpHMGlMQ0p6SWpvaWFIUjBjRG92TDJodmMzUXVaRzlqYTJWeUxtbHVkR1Z5Ym1Gc09qa3dNREF2Wkdsa1kyOXRiU0lzSW5JaU9sdGRMQ0poSWpwYkltUnBaR052YlcwdmRqSWlYWDAiLCJib2R5Ijp7ImdvYWxfY29kZSI6ImNvbm5lY3QiLCJnb2FsIjoiRXN0YWJsaXNoIGEgdHJ1c3QgY29ubmVjdGlvbiBiZXR3ZWVuIHR3byBwZWVycyIsImFjY2VwdCI6W119fQ==\",\n",
      "    \"type\": \"https://didcomm.org/out-of-band/2.0/invitation\"\n",
      "  },\n",
      "  \"kind\": \"/connections/49976f87-95ba-42dc-80ba-5c7726d7c9b9\",\n",
      "  \"myDid\": \"did:peer:2.Ez6LSsTrRs11jqVkPPebHqdnncQZvmmyvuKrZvjBsAdPXHjt8.Vz6Mkog7ZoErip29PcRf9K5TzCsGMGqrfLeYXBP6y918dAR1L.SeyJ0IjoiZG0iLCJzIjoiaHR0cDovL2hvc3QuZG9ja2VyLmludGVybmFsOjgwOTAvZGlkY29tbSIsInIiOltdLCJhIjpbImRpZGNvbW0vdjIiXX0\",\n",
      "  \"self\": \"Connection\",\n",
      "  \"state\": \"ConnectionRequestPending\",\n",
      "  \"theirDid\": \"did:peer:2.Ez6LSndby2jm4JgfNjZghLq3Sk5tLTPt5uhemniEd2g8EcRMq.Vz6MktbsYyvkquBe4VLw2tngasPur6tzKxBTweCDexzfoQzaC.SeyJ0IjoiZG0iLCJzIjoiaHR0cDovL2hvc3QuZG9ja2VyLmludGVybmFsOjkwMDAvZGlkY29tbSIsInIiOltdLCJhIjpbImRpZGNvbW0vdjIiXX0\",\n",
      "  \"updatedAt\": \"2022-12-12T18:36:21Z\"\n",
      "}\n"
     ]
    }
   ],
   "source": [
    "path = '/prism-agent/connection-invitations'\n",
    "data = {\"invitation\": invitationUrlbase64verifier}\n",
    "# Make the request\n",
    "response = requests.post(base_url + path, headers=headers, json=data)\n",
    "\n",
    "# Check the response status code\n",
    "if response.status_code == 200:\n",
    "    # Print the response content\n",
    "    loaded_json = json.loads(response.content.decode())\n",
    "    print(json.dumps(loaded_json, indent=2))\n",
    "    invitation = json.loads(response.content.decode())\n",
    "    invitationUrl = invitation['invitation']['invitationUrl']\n",
    "    # invitationUrlbase64 = invitation['invitation']['invitationUrl'].split('=')[1]\n",
    "    connection_id = invitation['connectionId']\n",
    "else:\n",
    "    # Print an error message\n",
    "    print(\"Error: The API returned a non-200 status code\")"
   ]
  },
  {
   "cell_type": "markdown",
   "id": "b44eee10-4696-4fed-9ea8-4209cd37b9bc",
   "metadata": {},
   "source": [
    "## Retrieving the list of connections\n",
    "```bash\n",
    "curl -X 'GET' 'http://localhost:8090/prism-agent/connections' | jq\n",
    "```"
   ]
  },
  {
   "cell_type": "code",
   "execution_count": 114,
   "id": "9274268f-e086-4fdb-bac1-cac61fe5fbb3",
   "metadata": {},
   "outputs": [
    {
     "name": "stdout",
     "output_type": "stream",
     "text": [
      "{\n",
      "  \"contents\": [\n",
      "    {\n",
      "      \"connectionId\": \"d82055cc-91be-4b8d-8fd9-ab0e7dc01360\",\n",
      "      \"createdAt\": \"2022-12-12T18:32:28Z\",\n",
      "      \"invitation\": {\n",
      "        \"from\": \"did:peer:2.Ez6LSktoLmM4LoMnwe8sZEvLzG7QQDdP7JYXYFt95Ewt4US6r.Vz6MkktfhpJDGiVC87v2iqxpvhjvHGq8tdhfd4CizkR1DwBTH.SeyJ0IjoiZG0iLCJzIjoiaHR0cDovL2hvc3QuZG9ja2VyLmludGVybmFsOjgwODAvZGlkY29tbSIsInIiOltdLCJhIjpbImRpZGNvbW0vdjIiXX0\",\n",
      "        \"id\": \"c446d513-21c1-4a35-812e-fe904673460f\",\n",
      "        \"invitationUrl\": \"https://domain.com/path?_oob=eyJpZCI6ImM0NDZkNTEzLTIxYzEtNGEzNS04MTJlLWZlOTA0NjczNDYwZiIsInR5cGUiOiJodHRwczovL2RpZGNvbW0ub3JnL291dC1vZi1iYW5kLzIuMC9pbnZpdGF0aW9uIiwiZnJvbSI6ImRpZDpwZWVyOjIuRXo2TFNrdG9MbU00TG9NbndlOHNaRXZMekc3UVFEZFA3SllYWUZ0OTVFd3Q0VVM2ci5WejZNa2t0ZmhwSkRHaVZDODd2MmlxeHB2aGp2SEdxOHRkaGZkNENpemtSMUR3QlRILlNleUowSWpvaVpHMGlMQ0p6SWpvaWFIUjBjRG92TDJodmMzUXVaRzlqYTJWeUxtbHVkR1Z5Ym1Gc09qZ3dPREF2Wkdsa1kyOXRiU0lzSW5JaU9sdGRMQ0poSWpwYkltUnBaR052YlcwdmRqSWlYWDAiLCJib2R5Ijp7ImdvYWxfY29kZSI6ImNvbm5lY3QiLCJnb2FsIjoiRXN0YWJsaXNoIGEgdHJ1c3QgY29ubmVjdGlvbiBiZXR3ZWVuIHR3byBwZWVycyIsImFjY2VwdCI6W119fQ==\",\n",
      "        \"type\": \"https://didcomm.org/out-of-band/2.0/invitation\"\n",
      "      },\n",
      "      \"kind\": \"/connections/d82055cc-91be-4b8d-8fd9-ab0e7dc01360\",\n",
      "      \"myDid\": \"did:peer:2.Ez6LSsTrRs11jqVkPPebHqdnncQZvmmyvuKrZvjBsAdPXHjt8.Vz6Mkog7ZoErip29PcRf9K5TzCsGMGqrfLeYXBP6y918dAR1L.SeyJ0IjoiZG0iLCJzIjoiaHR0cDovL2hvc3QuZG9ja2VyLmludGVybmFsOjgwOTAvZGlkY29tbSIsInIiOltdLCJhIjpbImRpZGNvbW0vdjIiXX0\",\n",
      "      \"self\": \"Connection\",\n",
      "      \"state\": \"ConnectionResponseReceived\",\n",
      "      \"theirDid\": \"did:peer:2.Ez6LSktoLmM4LoMnwe8sZEvLzG7QQDdP7JYXYFt95Ewt4US6r.Vz6MkktfhpJDGiVC87v2iqxpvhjvHGq8tdhfd4CizkR1DwBTH.SeyJ0IjoiZG0iLCJzIjoiaHR0cDovL2hvc3QuZG9ja2VyLmludGVybmFsOjgwODAvZGlkY29tbSIsInIiOltdLCJhIjpbImRpZGNvbW0vdjIiXX0\",\n",
      "      \"updatedAt\": \"2022-12-12T18:32:44Z\"\n",
      "    },\n",
      "    {\n",
      "      \"connectionId\": \"49976f87-95ba-42dc-80ba-5c7726d7c9b9\",\n",
      "      \"createdAt\": \"2022-12-12T18:36:21Z\",\n",
      "      \"invitation\": {\n",
      "        \"from\": \"did:peer:2.Ez6LSndby2jm4JgfNjZghLq3Sk5tLTPt5uhemniEd2g8EcRMq.Vz6MktbsYyvkquBe4VLw2tngasPur6tzKxBTweCDexzfoQzaC.SeyJ0IjoiZG0iLCJzIjoiaHR0cDovL2hvc3QuZG9ja2VyLmludGVybmFsOjkwMDAvZGlkY29tbSIsInIiOltdLCJhIjpbImRpZGNvbW0vdjIiXX0\",\n",
      "        \"id\": \"8ebd0a1e-32b3-46a5-b4ad-2e4853ac5639\",\n",
      "        \"invitationUrl\": \"https://domain.com/path?_oob=eyJpZCI6IjhlYmQwYTFlLTMyYjMtNDZhNS1iNGFkLTJlNDg1M2FjNTYzOSIsInR5cGUiOiJodHRwczovL2RpZGNvbW0ub3JnL291dC1vZi1iYW5kLzIuMC9pbnZpdGF0aW9uIiwiZnJvbSI6ImRpZDpwZWVyOjIuRXo2TFNuZGJ5MmptNEpnZk5qWmdoTHEzU2s1dExUUHQ1dWhlbW5pRWQyZzhFY1JNcS5WejZNa3Ric1l5dmtxdUJlNFZMdzJ0bmdhc1B1cjZ0ekt4QlR3ZUNEZXh6Zm9RemFDLlNleUowSWpvaVpHMGlMQ0p6SWpvaWFIUjBjRG92TDJodmMzUXVaRzlqYTJWeUxtbHVkR1Z5Ym1Gc09qa3dNREF2Wkdsa1kyOXRiU0lzSW5JaU9sdGRMQ0poSWpwYkltUnBaR052YlcwdmRqSWlYWDAiLCJib2R5Ijp7ImdvYWxfY29kZSI6ImNvbm5lY3QiLCJnb2FsIjoiRXN0YWJsaXNoIGEgdHJ1c3QgY29ubmVjdGlvbiBiZXR3ZWVuIHR3byBwZWVycyIsImFjY2VwdCI6W119fQ==\",\n",
      "        \"type\": \"https://didcomm.org/out-of-band/2.0/invitation\"\n",
      "      },\n",
      "      \"kind\": \"/connections/49976f87-95ba-42dc-80ba-5c7726d7c9b9\",\n",
      "      \"myDid\": \"did:peer:2.Ez6LSsTrRs11jqVkPPebHqdnncQZvmmyvuKrZvjBsAdPXHjt8.Vz6Mkog7ZoErip29PcRf9K5TzCsGMGqrfLeYXBP6y918dAR1L.SeyJ0IjoiZG0iLCJzIjoiaHR0cDovL2hvc3QuZG9ja2VyLmludGVybmFsOjgwOTAvZGlkY29tbSIsInIiOltdLCJhIjpbImRpZGNvbW0vdjIiXX0\",\n",
      "      \"self\": \"Connection\",\n",
      "      \"state\": \"ConnectionRequestSent\",\n",
      "      \"theirDid\": \"did:peer:2.Ez6LSndby2jm4JgfNjZghLq3Sk5tLTPt5uhemniEd2g8EcRMq.Vz6MktbsYyvkquBe4VLw2tngasPur6tzKxBTweCDexzfoQzaC.SeyJ0IjoiZG0iLCJzIjoiaHR0cDovL2hvc3QuZG9ja2VyLmludGVybmFsOjkwMDAvZGlkY29tbSIsInIiOltdLCJhIjpbImRpZGNvbW0vdjIiXX0\",\n",
      "      \"updatedAt\": \"2022-12-12T18:36:30Z\"\n",
      "    }\n",
      "  ],\n",
      "  \"kind\": \"Collection\",\n",
      "  \"self\": \"/collections\"\n",
      "}\n"
     ]
    }
   ],
   "source": [
    "path = '/prism-agent/connections'\n",
    "\n",
    "# Make the request\n",
    "response = requests.get(base_url + path, headers=headers)\n",
    "\n",
    "# Check the response status code\n",
    "if response.status_code == 200:\n",
    "    # Print the response content\n",
    "    loaded_json = json.loads(response.content.decode())\n",
    "    print(json.dumps(loaded_json, indent=2))\n",
    "    \n",
    "else:\n",
    "    # Print an error message\n",
    "    print(\"Error: The API returned a non-200 status code\")"
   ]
  },
  {
   "cell_type": "code",
   "execution_count": 117,
   "id": "cc7a7a47-990c-40e1-8b96-0eabd95b2fd0",
   "metadata": {},
   "outputs": [
    {
     "name": "stdout",
     "output_type": "stream",
     "text": [
      "{\n",
      "  \"connectionId\": \"49976f87-95ba-42dc-80ba-5c7726d7c9b9\",\n",
      "  \"createdAt\": \"2022-12-12T18:36:21Z\",\n",
      "  \"invitation\": {\n",
      "    \"from\": \"did:peer:2.Ez6LSndby2jm4JgfNjZghLq3Sk5tLTPt5uhemniEd2g8EcRMq.Vz6MktbsYyvkquBe4VLw2tngasPur6tzKxBTweCDexzfoQzaC.SeyJ0IjoiZG0iLCJzIjoiaHR0cDovL2hvc3QuZG9ja2VyLmludGVybmFsOjkwMDAvZGlkY29tbSIsInIiOltdLCJhIjpbImRpZGNvbW0vdjIiXX0\",\n",
      "    \"id\": \"8ebd0a1e-32b3-46a5-b4ad-2e4853ac5639\",\n",
      "    \"invitationUrl\": \"https://domain.com/path?_oob=eyJpZCI6IjhlYmQwYTFlLTMyYjMtNDZhNS1iNGFkLTJlNDg1M2FjNTYzOSIsInR5cGUiOiJodHRwczovL2RpZGNvbW0ub3JnL291dC1vZi1iYW5kLzIuMC9pbnZpdGF0aW9uIiwiZnJvbSI6ImRpZDpwZWVyOjIuRXo2TFNuZGJ5MmptNEpnZk5qWmdoTHEzU2s1dExUUHQ1dWhlbW5pRWQyZzhFY1JNcS5WejZNa3Ric1l5dmtxdUJlNFZMdzJ0bmdhc1B1cjZ0ekt4QlR3ZUNEZXh6Zm9RemFDLlNleUowSWpvaVpHMGlMQ0p6SWpvaWFIUjBjRG92TDJodmMzUXVaRzlqYTJWeUxtbHVkR1Z5Ym1Gc09qa3dNREF2Wkdsa1kyOXRiU0lzSW5JaU9sdGRMQ0poSWpwYkltUnBaR052YlcwdmRqSWlYWDAiLCJib2R5Ijp7ImdvYWxfY29kZSI6ImNvbm5lY3QiLCJnb2FsIjoiRXN0YWJsaXNoIGEgdHJ1c3QgY29ubmVjdGlvbiBiZXR3ZWVuIHR3byBwZWVycyIsImFjY2VwdCI6W119fQ==\",\n",
      "    \"type\": \"https://didcomm.org/out-of-band/2.0/invitation\"\n",
      "  },\n",
      "  \"kind\": \"/connections/49976f87-95ba-42dc-80ba-5c7726d7c9b9\",\n",
      "  \"myDid\": \"did:peer:2.Ez6LSsTrRs11jqVkPPebHqdnncQZvmmyvuKrZvjBsAdPXHjt8.Vz6Mkog7ZoErip29PcRf9K5TzCsGMGqrfLeYXBP6y918dAR1L.SeyJ0IjoiZG0iLCJzIjoiaHR0cDovL2hvc3QuZG9ja2VyLmludGVybmFsOjgwOTAvZGlkY29tbSIsInIiOltdLCJhIjpbImRpZGNvbW0vdjIiXX0\",\n",
      "  \"self\": \"Connection\",\n",
      "  \"state\": \"ConnectionResponseReceived\",\n",
      "  \"theirDid\": \"did:peer:2.Ez6LSndby2jm4JgfNjZghLq3Sk5tLTPt5uhemniEd2g8EcRMq.Vz6MktbsYyvkquBe4VLw2tngasPur6tzKxBTweCDexzfoQzaC.SeyJ0IjoiZG0iLCJzIjoiaHR0cDovL2hvc3QuZG9ja2VyLmludGVybmFsOjkwMDAvZGlkY29tbSIsInIiOltdLCJhIjpbImRpZGNvbW0vdjIiXX0\",\n",
      "  \"updatedAt\": \"2022-12-12T18:36:38Z\"\n",
      "}\n"
     ]
    }
   ],
   "source": [
    "\n",
    "path = '/prism-agent//connections/' + connection_id\n",
    "\n",
    "# Make the request\n",
    "response = requests.get(base_url + path, headers=headers)\n",
    "\n",
    "# Check the response status code\n",
    "if response.status_code == 200:\n",
    "    # Print the response content\n",
    "    loaded_json = json.loads(response.content.decode())\n",
    "    print(json.dumps(loaded_json, indent=2))\n",
    "    \n",
    "else:\n",
    "    # Print an error message\n",
    "    print(\"Error: The API returned a non-200 status code\")"
   ]
  },
  {
   "cell_type": "markdown",
   "id": "a7797fc9-c66f-4055-89d8-9cc0f7848fe6",
   "metadata": {},
   "source": [
    "## Verify Credentials"
   ]
  },
  {
   "cell_type": "markdown",
   "id": "bb2a3292-3198-4d44-9efb-f318013add54",
   "metadata": {},
   "source": [
    "### Retrieving the list of presentation records\n",
    "\n",
    "```shell\n",
    "curl -X 'GET' 'http://localhost:8090/prism-agent/present-proof/presentations' -H 'accept: application/json' | jq\n",
    "```"
   ]
  },
  {
   "cell_type": "code",
   "execution_count": 138,
   "id": "74700662-d097-4552-b585-9bf712621df0",
   "metadata": {},
   "outputs": [
    {
     "name": "stdout",
     "output_type": "stream",
     "text": [
      "[\n",
      "  {\n",
      "    \"presentationId\": \"346603cd-4167-4897-b85f-620bb9473df8\",\n",
      "    \"proofs\": [],\n",
      "    \"status\": \"RequestReceived\"\n",
      "  },\n",
      "  {\n",
      "    \"presentationId\": \"b4025727-b02e-48ef-b5da-999e1175fa13\",\n",
      "    \"proofs\": [],\n",
      "    \"status\": \"PresentationSent\"\n",
      "  }\n",
      "]\n"
     ]
    }
   ],
   "source": [
    "path = '/prism-agent/present-proof/presentations'\n",
    "\n",
    "# Make the request\n",
    "response = requests.get(base_url + path, headers=headers)\n",
    "\n",
    "# Check the response status code\n",
    "if response.status_code == 200:\n",
    "    # Print the response content\n",
    "    loaded_json = json.loads(response.content.decode())\n",
    "    print(json.dumps(loaded_json, indent=2))\n",
    "    presentationId = loaded_json[0]['presentationId']\n",
    "else:\n",
    "    # Print an error message\n",
    "    print(\"Error: The API returned a non-200 status code\")"
   ]
  },
  {
   "cell_type": "markdown",
   "id": "b3a6c7ba-6c4a-4104-a0f9-e3fd488f1e23",
   "metadata": {},
   "source": [
    "### Retrieving the list of credentials records\n",
    "> choose the `{RECORD_ID}` for credential with status CredentialRecieved\n",
    "\n",
    "```shell\n",
    "curl -X 'GET' 'http://localhost:8090/prism-agent/issue-credentials/records' -H 'accept: application/json' | jq\n",
    "```"
   ]
  },
  {
   "cell_type": "code",
   "execution_count": 139,
   "id": "9e8ac6cb-0f8a-47b3-8629-faba43ed3a90",
   "metadata": {},
   "outputs": [
    {
     "name": "stdout",
     "output_type": "stream",
     "text": [
      "66ea8ac0-9459-4d62-b9df-dd9b6adf1ed2\n",
      "346603cd-4167-4897-b85f-620bb9473df8\n"
     ]
    }
   ],
   "source": [
    "print(record_id)\n",
    "print(presentationId)"
   ]
  },
  {
   "cell_type": "markdown",
   "id": "75bca86a-6180-48ec-ba77-2c8d37240c77",
   "metadata": {},
   "source": [
    "### Accepting the Presentation Request \n",
    ">Replace `{PRESENTATION_ID}` with the UUID of the record from the presentation records list\n",
    "\n",
    ">Replace `{RECORD_ID}` with the UUID of the record from the credential records list\n",
    "\n",
    "\n",
    "```shell\n",
    "curl -X 'PATCH' \\\n",
    "  'http://localhost:8090/prism-agent/present-proof/presentations/{PRESENTATION_ID}' \\\n",
    "  -H 'Content-Type: application/json' \\\n",
    "  -d '{\n",
    "  \"action\": \"request-accept\",\n",
    "  \"proofId\": [\"{RECORD_ID}\"]\n",
    "}'\n",
    "```"
   ]
  },
  {
   "cell_type": "code",
   "execution_count": 140,
   "id": "c3de534f-64fe-4ec0-a633-4ddb7a77a681",
   "metadata": {},
   "outputs": [
    {
     "name": "stdout",
     "output_type": "stream",
     "text": [
      "b'Update the presentation record'\n"
     ]
    }
   ],
   "source": [
    "data = {\n",
    "  \"action\": \"request-accept\",\n",
    "  \"proofId\": [record_id]\n",
    "}\n",
    "\n",
    "path = '/prism-agent/present-proof/presentations/' + presentationId\n",
    "\n",
    "# Make the request\n",
    "response = requests.patch(base_url + path, headers=headers, json=data)\n",
    "\n",
    "# Check the response status code\n",
    "if response.status_code == 200:\n",
    "    # Print the response content\n",
    "    print(response.content)\n",
    "    # loaded_json = json.loads(response.content.decode())\n",
    "    # print(json.dumps(loaded_json, indent=2))\n",
    "    # proof_requestId = loaded_json[0]['presentationId']\n",
    "else:\n",
    "    # Print an error message\n",
    "    print(\"Error: The API returned a non-200 status code\")\n",
    "    print(response.content)"
   ]
  },
  {
   "cell_type": "markdown",
   "id": "5f72c5ca-bfd4-48cf-8c21-aab926bd94aa",
   "metadata": {},
   "source": [
    "### check Presentation state  PresentationSent \n",
    "> check PresentationSent !\n",
    "```shell\n",
    "curl -X 'GET' 'http://localhost:8090/prism-agent/present-proof/presentations' -H 'accept: application/json' | jq\n",
    "```"
   ]
  },
  {
   "cell_type": "code",
   "execution_count": 142,
   "id": "f7b06b4a-19f3-4b0e-96cf-85537263c4ed",
   "metadata": {},
   "outputs": [
    {
     "name": "stdout",
     "output_type": "stream",
     "text": [
      "[\n",
      "  {\n",
      "    \"presentationId\": \"346603cd-4167-4897-b85f-620bb9473df8\",\n",
      "    \"proofs\": [],\n",
      "    \"status\": \"RequestReceived\"\n",
      "  },\n",
      "  {\n",
      "    \"presentationId\": \"b4025727-b02e-48ef-b5da-999e1175fa13\",\n",
      "    \"proofs\": [],\n",
      "    \"status\": \"PresentationSent\"\n",
      "  }\n",
      "]\n"
     ]
    }
   ],
   "source": [
    "path = '/prism-agent/present-proof/presentations'\n",
    "\n",
    "# Make the request\n",
    "response = requests.get(base_url + path, headers=headers)\n",
    "\n",
    "# Check the response status code\n",
    "if response.status_code == 200:\n",
    "    # Print the response content\n",
    "    # print(response.content)\n",
    "    # loaded_json = json.loads(response.content.decode())\n",
    "    print(json.dumps(loaded_json, indent=2))\n",
    "    presentationId = loaded_json[0]['presentationId']\n",
    "else:\n",
    "    # Print an error message\n",
    "    print(\"Error: The API returned a non-200 status code\")"
   ]
  },
  {
   "cell_type": "markdown",
   "id": "4fbda0e7-8954-4a04-9da1-039f385007db",
   "metadata": {},
   "source": [
    "### Accept PresentationReceived \n",
    "> Replace `{PRESENTATION_ID}` with the UUID of the record from the presentation records list with state PresentationReceived\n",
    "\n",
    "```shell\n",
    "curl -X 'PATCH' \\\n",
    "  'http://localhost:8070/prism-agent/present-proof/presentations/{PRESENTATION_ID}' \\\n",
    "  -H 'Content-Type: application/json' \\\n",
    "  -d '{\"action\": \"presentation-accept\"}' | jq\n",
    "```\n"
   ]
  },
  {
   "cell_type": "code",
   "execution_count": 136,
   "id": "15b584b6-c157-4603-828b-297aba6876da",
   "metadata": {},
   "outputs": [
    {
     "name": "stdout",
     "output_type": "stream",
     "text": [
      "Error: The API returned a non-200 status code\n",
      "b'{\"detail\":\"RepositoryError(java.rmi.UnexpectedException: Invalid row count result: 0)\",\"instance\":\"error-instance\",\"status\":500,\"title\":\"error-title\",\"type\":\"error-type\"}'\n"
     ]
    }
   ],
   "source": [
    "data = {\"action\": \"presentation-accept\"}\n",
    "\n",
    "path = '/prism-agent/present-proof/presentations/' + presentationId\n",
    "\n",
    "# Make the request\n",
    "response = requests.patch(base_url + path, headers=headers, json=data)\n",
    "\n",
    "# Check the response status code\n",
    "if response.status_code == 200:\n",
    "    # Print the response content\n",
    "    print(response.content)\n",
    "    # loaded_json = json.loads(response.content.decode())\n",
    "    # print(json.dumps(loaded_json, indent=2))\n",
    "    # proof_requestId = loaded_json[0]['presentationId']\n",
    "else:\n",
    "    # Print an error message\n",
    "    print(\"Error: The API returned a non-200 status code\")\n",
    "    print(response.content)"
   ]
  },
  {
   "cell_type": "code",
   "execution_count": null,
   "id": "c24d2299-ec02-4ab4-8ef3-8f95250ceedb",
   "metadata": {},
   "outputs": [],
   "source": []
  }
 ],
 "metadata": {
  "kernelspec": {
   "display_name": "Python 3 (ipykernel)",
   "language": "python",
   "name": "python3"
  },
  "language_info": {
   "codemirror_mode": {
    "name": "ipython",
    "version": 3
   },
   "file_extension": ".py",
   "mimetype": "text/x-python",
   "name": "python",
   "nbconvert_exporter": "python",
   "pygments_lexer": "ipython3",
   "version": "3.10.8"
  }
 },
 "nbformat": 4,
 "nbformat_minor": 5
}
