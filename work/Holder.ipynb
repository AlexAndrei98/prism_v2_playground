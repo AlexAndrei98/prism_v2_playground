{
 "cells": [
  {
   "cell_type": "markdown",
   "id": "50be2a5d-45e0-412f-b072-214eea01ff59",
   "metadata": {},
   "source": [
    "# Holder Agent"
   ]
  },
  {
   "cell_type": "code",
   "execution_count": null,
   "id": "19895e9f-43cc-49a7-bdbc-38f74a1bb28b",
   "metadata": {},
   "outputs": [],
   "source": [
    "import requests\n",
    "import json\n",
    "import qrcode\n",
    "import uuid\n",
    "import base64\n",
    "import re\n",
    "import jwt\n",
    "import time\n",
    "# https://pypi.org/project/termcolor/\n",
    "from termcolor import colored,cprint"
   ]
  },
  {
   "cell_type": "code",
   "execution_count": null,
   "id": "7ac8121f-a4a8-4faa-8a51-ed59ee6d8155",
   "metadata": {},
   "outputs": [],
   "source": [
    "# Set the URL for the API endpoint\n",
    "# Need to specify the host as host.docker.internal as the Prism Agents and the Prism Playground are running in two isolated docker environments\n",
    "base_url = \"http://host.docker.internal:8090\"\n",
    "\n",
    "headers = {'Content-Type': 'application/json'}"
   ]
  },
  {
   "cell_type": "markdown",
   "id": "90b99e1c-bb43-42ca-aeec-70042f05e1b0",
   "metadata": {},
   "source": [
    "## Check Agent Records\n",
    "1. Connections\n",
    "2. Credentials\n",
    "3. Proof Presentations"
   ]
  },
  {
   "cell_type": "code",
   "execution_count": null,
   "id": "6a332f7c-a4df-4418-a212-f3be828c6445",
   "metadata": {
    "tags": []
   },
   "outputs": [],
   "source": [
    "print(colored('Agent State:\\n', attrs=['bold']))\n",
    "path = '/prism-agent/connections'\n",
    "\n",
    "# Make the request\n",
    "response = requests.get(base_url + path, headers=headers)\n",
    "\n",
    "print(colored('Connection Records:\\n', attrs=['bold']))\n",
    "# Check the response status code\n",
    "if response.status_code == 200:\n",
    "    # Print the response content\n",
    "    loaded_json = json.loads(response.content.decode())\n",
    "    print(json.dumps(loaded_json, indent=2))\n",
    "else:\n",
    "    # Print an error message\n",
    "    print(\"Error: The API returned a non-200 status code\")\n",
    "    \n",
    "path = '/prism-agent/issue-credentials/records'\n",
    "\n",
    "print(colored('Credential Records:\\n', attrs=['bold']))\n",
    "# Make the request\n",
    "response = requests.get(base_url + path, headers=headers)\n",
    "\n",
    "# Check the response status code\n",
    "if response.status_code == 200:\n",
    "    # Print the response content\n",
    "    loaded_json = json.loads(response.content.decode())\n",
    "    print(json.dumps(loaded_json, indent=2))\n",
    "    \n",
    "else:\n",
    "    # Print an error message\n",
    "    print(\"Error: The API returned a non-200 status code\")\n",
    "    print(response.content)\n",
    "    \n",
    "path = '/prism-agent/present-proof/presentations'\n",
    "\n",
    "print(colored('Proof Presentation Records:\\n', attrs=['bold']))\n",
    "# Make the request\n",
    "response = requests.get(base_url + path, headers=headers)\n",
    "\n",
    "# Check the response status code\n",
    "if response.status_code == 200:\n",
    "    # Print the response content\n",
    "    loaded_json = json.loads(response.content.decode())\n",
    "    print(json.dumps(loaded_json, indent=2))\n",
    "    \n",
    "else:\n",
    "    # Print an error message\n",
    "    print(\"Error: The API returned a non-200 status code\")\n",
    "    print(response.content)"
   ]
  },
  {
   "cell_type": "markdown",
   "id": "e86a0ced-055c-4233-944f-0d89142da1e6",
   "metadata": {},
   "source": [
    "## Receive a Connection from Issuer Agent"
   ]
  },
  {
   "cell_type": "markdown",
   "id": "be257999-ec4a-4fb4-8aa4-49bb8d62eda5",
   "metadata": {
    "tags": []
   },
   "source": [
    "## Fetch invitationUrl from Issuer Agent"
   ]
  },
  {
   "cell_type": "code",
   "execution_count": null,
   "id": "1384f017-f58e-4a6f-87d9-80582970d578",
   "metadata": {},
   "outputs": [],
   "source": [
    "%store -r invitationUrlbase64\n",
    "print(colored('Base64 Encoded Raw Connection Invitation Payload:\\n', attrs=['bold']))\n",
    "print(invitationUrlbase64)\n",
    "\n",
    "# Standard Base64 Decoding\n",
    "decodedBytes = base64.b64decode(invitationUrlbase64)\n",
    "decodedStr = str(decodedBytes, \"utf-8\")\n",
    "\n",
    "print(colored('\\nBase64 Decoded Raw Connection Invitation Payload:\\n', attrs=['bold']))\n",
    "print(decodedStr)\n"
   ]
  },
  {
   "cell_type": "markdown",
   "id": "974daf8c-04c1-485b-aee3-e698cb0b71b2",
   "metadata": {},
   "source": [
    "## Accept an OOB connection invitation from Issuer Agent\n",
    "> Replace `{RAW_INVITATION}` with the value of the '_oob' query string parameter from the invitation URL above\n",
    "```bash\n",
    "curl -X 'POST' \\\n",
    "\t'http://localhost:8090/prism-agent/connection-invitations' \\\n",
    "\t-H 'Content-Type: application/json' \\\n",
    "\t-d '{\n",
    "\t\t\"invitation\": \"{RAW_INVITATION}\"\n",
    "\t}' | jq\n",
    "```"
   ]
  },
  {
   "cell_type": "code",
   "execution_count": null,
   "id": "de483f16-0556-4d94-99e2-12b4af1ae0ea",
   "metadata": {},
   "outputs": [],
   "source": [
    "path = '/prism-agent/connection-invitations'\n",
    "data = {\"invitation\": invitationUrlbase64}\n",
    "# Make the request\n",
    "response = requests.post(base_url + path, headers=headers, json=data)\n",
    "\n",
    "# Check the response status code\n",
    "if response.status_code == 200:\n",
    "    # Print the response content\n",
    "    loaded_json = json.loads(response.content.decode())\n",
    "    print(json.dumps(loaded_json, indent=2))\n",
    "    invitation = json.loads(response.content.decode())\n",
    "    invitationUrl = invitation['invitation']['invitationUrl']\n",
    "    # invitationUrlbase64 = invitation['invitation']['invitationUrl'].split('=')[1]\n",
    "    connection_id = invitation['connectionId']\n",
    "    STATE = loaded_json['state']\n",
    "else:\n",
    "    # Print an error message\n",
    "    print(\"Error: The API returned a non-200 status code\")"
   ]
  },
  {
   "cell_type": "markdown",
   "id": "7df51bdc-55c0-4794-b498-21c3c2d56cd6",
   "metadata": {
    "tags": []
   },
   "source": [
    "## Retrieving the list of connections\n",
    "```bash\n",
    "curl -X 'GET' 'http://localhost:8090/prism-agent/connections' | jq\n",
    "```"
   ]
  },
  {
   "cell_type": "code",
   "execution_count": null,
   "id": "563d86f7-079c-43e0-94a8-386960606ca2",
   "metadata": {},
   "outputs": [],
   "source": [
    "# STATE = None\n",
    "\n",
    "path = '/prism-agent//connections/' + connection_id\n",
    "\n",
    "print('Current state for ConnectionId {} is {}'.format(connection_id,STATE))\n",
    "print(colored(\"Current state for ConnectionId {} is {}\".format(connection_id,STATE), \"magenta\", attrs=[\"bold\"]))\n",
    "while STATE != 'ConnectionResponseReceived':\n",
    "    # Make the request\n",
    "    response = requests.get(base_url + path, headers=headers)\n",
    "\n",
    "    # Check the response status code\n",
    "    if response.status_code == 200:\n",
    "        # Print the response content\n",
    "        loaded_json = json.loads(response.content.decode())\n",
    "        # print(json.dumps(loaded_json, indent=2))\n",
    "        STATE = loaded_json['state']\n",
    "        print(colored(\"ConnectionId {0} is not in active state yet\".format(connection_id), \"yellow\", attrs=[\"bold\"]))\n",
    "        print(colored(\"State: {0}\".format(STATE), \"blue\", attrs=[\"bold\"]))\n",
    "\n",
    "        try:\n",
    "            their_did = loaded_json['theirDid']\n",
    "        except (KeyError) as e:\n",
    "            print(colored(\"Holder didn't accept invitation yet\".format(connection_id,STATE), \"red\", attrs=[\"bold\"]))\n",
    "\n",
    "    else:\n",
    "        # Print an error message\n",
    "        print(\"Error: The API returned a non-200 status code\")\n",
    "        \n",
    "\n",
    "    time.sleep(1)\n",
    "    \n",
    "# print('ConnectionId: {0} is now active. Continue with notebook'.format(connection_id))\n",
    "print(colored(\"ConnectionId: {0} is now active. Continue with notebook\".format(connection_id), \"green\", attrs=[\"bold\"]))\n",
    "\n"
   ]
  },
  {
   "cell_type": "markdown",
   "id": "7b80cbae-deb4-4d29-91fa-020647f11ade",
   "metadata": {},
   "source": [
    "## Receive Credentials from Issuer"
   ]
  },
  {
   "cell_type": "markdown",
   "id": "5945efac-39ab-49ea-8d07-68ed688d5d39",
   "metadata": {},
   "source": [
    "### Retrieving the list of issue records\n",
    "```bash\n",
    "curl -X 'GET' 'http://localhost:8090/prism-agent/issue-credentials/records' | jq\n",
    "```"
   ]
  },
  {
   "cell_type": "code",
   "execution_count": null,
   "id": "d57c3d3e-9ad6-4512-bcde-045fbb879169",
   "metadata": {},
   "outputs": [],
   "source": [
    "path = '/prism-agent/issue-credentials/records'\n",
    "\n",
    "# Make the request\n",
    "response = requests.get(base_url + path, headers=headers)\n",
    "\n",
    "# Check the response status code\n",
    "if response.status_code == 200:\n",
    "    # Print the response content\n",
    "    loaded_json = json.loads(response.content.decode())\n",
    "    print(json.dumps(loaded_json, indent=2))\n",
    "    record_id = loaded_json['items'][0]['recordId']\n",
    "    STATE = loaded_json['items'][0]['protocolState']\n",
    "else:\n",
    "    # Print an error message\n",
    "    print(\"Error: The API returned a non-200 status code\")\n",
    "    print(response.content)"
   ]
  },
  {
   "cell_type": "markdown",
   "id": "b9de4db5-c080-42e0-a80c-fe46a0a09878",
   "metadata": {},
   "source": [
    "### Accepting the credential offer from Issuer\n",
    "\n",
    "Replace `{RECORD_ID}` with the UUID of the record from the previous list\n",
    "```bash\n",
    "curl -X 'POST' 'http://localhost:8090/prism-agent/issue-credentials/records/{RECORD_ID}/accept-offer' | jq\n",
    "```"
   ]
  },
  {
   "cell_type": "code",
   "execution_count": null,
   "id": "aed9402d-ec72-4514-b675-7ff9b7f64d05",
   "metadata": {},
   "outputs": [],
   "source": [
    "%store -r credential_record_id\n",
    "print(\"Issuer credential recordId:\", credential_record_id)\n",
    "print(\"Holder credential recordId:\",record_id)"
   ]
  },
  {
   "cell_type": "code",
   "execution_count": null,
   "id": "8111aabd-6cec-4114-85cf-2904b900f3a5",
   "metadata": {},
   "outputs": [],
   "source": [
    "print(colored(\"Current state for Credential Issuance {} is {}\".format(connection_id,STATE), \"magenta\", attrs=[\"bold\"]))\n",
    "\n",
    "if STATE == 'OfferReceived':\n",
    "    path = '/prism-agent/issue-credentials/records/' + record_id + '/accept-offer'\n",
    "\n",
    "    # Make the request\n",
    "    response = requests.post(base_url + path, headers=headers)\n",
    "\n",
    "    # Check the response status code\n",
    "    if response.status_code == 200:\n",
    "        # Print the response content\n",
    "        loaded_json = json.loads(response.content.decode())\n",
    "        print(json.dumps(loaded_json, indent=2))\n",
    "        STATE = loaded_json['protocolState']\n",
    "    else:\n",
    "        # Print an error message\n",
    "        print(\"Error: The API returned a non-200 status code\")\n",
    "        print(response.content)\n",
    "    \n",
    "    \n",
    "path = '/prism-agent/issue-credentials/records'\n",
    "\n",
    "# print('Current state for ConnectionId {} is {}'.format(connection_id,STATE))\n",
    "print(colored(\"Current state for Credential Issuance {} is {}\".format(connection_id,STATE), \"magenta\", attrs=[\"bold\"]))\n",
    "while STATE != 'CredentialReceived':\n",
    "    # Make the request\n",
    "    response = requests.get(base_url + path, headers=headers)\n",
    "\n",
    "    # Check the response status code\n",
    "    if response.status_code == 200:\n",
    "        # Print the response content\n",
    "        loaded_json = json.loads(response.content.decode())\n",
    "        # print(json.dumps(loaded_json, indent=2))\n",
    "        STATE = loaded_json['items'][0]['protocolState']\n",
    "        print(colored(\"ConnectionId {0}\".format(connection_id), \"yellow\", attrs=[\"bold\"]))\n",
    "        print(colored(\"Credential Issuance State: {0}\".format(STATE), \"blue\", attrs=[\"bold\"]))\n",
    "\n",
    "        # try:\n",
    "        #     their_did = loaded_json['theirDid']\n",
    "        # except (KeyError) as e:\n",
    "        #     print(colored(\"Holder didn't accept invitation yet\".format(connection_id,STATE), \"red\", attrs=[\"bold\"]))\n",
    "\n",
    "    else:\n",
    "        # Print an error message\n",
    "        print(\"Error: The API returned a non-200 status code\")\n",
    "        \n",
    "\n",
    "    time.sleep(1)\n",
    "    \n",
    "# print('ConnectionId: {0} is now active. Continue with notebook'.format(connection_id))\n",
    "print(colored(\"CredentialId: {0} issued.\".format(connection_id), \"green\", attrs=[\"bold\"]))\n"
   ]
  },
  {
   "cell_type": "markdown",
   "id": "606ed88f-6197-4949-84a2-d09f39882fd0",
   "metadata": {},
   "source": [
    "### Decode JWT in Credential"
   ]
  },
  {
   "cell_type": "code",
   "execution_count": null,
   "id": "39a95339-52d3-4808-a7a7-e293994e715c",
   "metadata": {},
   "outputs": [],
   "source": [
    "token = loaded_json['items'][0]['jwtCredential']\n",
    "# print(token)\n",
    "\n",
    "padded = token + \"=\"*divmod(len(token),4)[1]\n",
    "# print(padded)\n",
    "jsondata = base64.urlsafe_b64decode(token)\n",
    "# print(jsondata)\n",
    "b64decoded_token = json.loads(jsondata.decode())\n",
    "print(b64decoded_token,'\\n')\n",
    "header = jwt.get_unverified_header(b64decoded_token)\n",
    "print (header,'\\n')\n",
    "# print (header['typ'])\n",
    "# print (header['alg'])\n",
    "\n",
    "\n",
    "# decodedJWT = jwt.decode(token, algorithms=[header['alg'], ])\n",
    "# try:\n",
    "#     jwt_decoded_id_token = jwt.decode(\n",
    "#         token,\n",
    "#         jwt_public_key,\n",
    "#         # audience = config_idporten[\"aud\"],\n",
    "#         algorithms=[header['alg'], ])\n",
    "#     print(jwt_decoded_id_token)\n",
    "# except (jwt.ExpiredSignatureError, jwt.InvalidAudienceError) as e:\n",
    "#     print(\"[ERROR]\", e)\n",
    "\n",
    "try:\n",
    "    jwt_decoded_id_token = jwt.decode(b64decoded_token, options={\"verify_signature\": False})\n",
    "    # print(jwt_decoded_id_token)\n",
    "    print(json.dumps(jwt_decoded_id_token, indent=2))\n",
    "except (jwt.ExpiredSignatureError, jwt.InvalidAudienceError) as e:\n",
    "    print(\"[ERROR]\", e)\n",
    "    "
   ]
  },
  {
   "cell_type": "markdown",
   "id": "14206dc8-cde3-41e5-b56b-8fd548478f38",
   "metadata": {},
   "source": [
    "## Head over to Verifier Notebook to crate connection invitation"
   ]
  },
  {
   "cell_type": "markdown",
   "id": "150f2baf-a3d0-4d7a-868e-7b2ffff3a423",
   "metadata": {},
   "source": [
    "## Create connection with verifier"
   ]
  },
  {
   "cell_type": "markdown",
   "id": "72ed6e71-cfa2-451d-86ae-5dd67ff190b8",
   "metadata": {
    "tags": []
   },
   "source": [
    "## Fetch invitationUrl from Verifier Agent"
   ]
  },
  {
   "cell_type": "code",
   "execution_count": null,
   "id": "5dcc52cc-dea7-421c-909d-3f74fdc93131",
   "metadata": {},
   "outputs": [],
   "source": [
    "%store -r invitationUrlbase64verifier\n",
    "print(invitationUrlbase64verifier)"
   ]
  },
  {
   "cell_type": "markdown",
   "id": "bc67b81d-ea40-405f-bf48-1ef37d546bf5",
   "metadata": {},
   "source": [
    "## Accept an OOB connection invitation from Verifier Agent\n",
    "> Replace `{RAW_INVITATION}` with the value of the '_oob' query string parameter from the invitation URL above\n",
    "```bash\n",
    "curl -X 'POST' \\\n",
    "\t'http://localhost:8090/prism-agent/connection-invitations' \\\n",
    "\t-H 'Content-Type: application/json' \\\n",
    "\t-d '{\n",
    "\t\t\"invitation\": \"{RAW_INVITATION}\"\n",
    "\t}' | jq\n",
    "```"
   ]
  },
  {
   "cell_type": "code",
   "execution_count": null,
   "id": "e7522086-baba-4665-ab69-83bc3f4057c1",
   "metadata": {},
   "outputs": [],
   "source": [
    "path = '/prism-agent/connection-invitations'\n",
    "data = {\"invitation\": invitationUrlbase64verifier}\n",
    "# Make the request\n",
    "response = requests.post(base_url + path, headers=headers, json=data)\n",
    "\n",
    "# Check the response status code\n",
    "if response.status_code == 200:\n",
    "    # Print the response content\n",
    "    loaded_json = json.loads(response.content.decode())\n",
    "    print(json.dumps(loaded_json, indent=2))\n",
    "    invitation = json.loads(response.content.decode())\n",
    "    invitationUrl = invitation['invitation']['invitationUrl']\n",
    "    # invitationUrlbase64 = invitation['invitation']['invitationUrl'].split('=')[1]\n",
    "    connection_id = invitation['connectionId']\n",
    "else:\n",
    "    # Print an error message\n",
    "    print(\"Error: The API returned a non-200 status code\")"
   ]
  },
  {
   "cell_type": "markdown",
   "id": "b44eee10-4696-4fed-9ea8-4209cd37b9bc",
   "metadata": {
    "tags": []
   },
   "source": [
    "## Retrieving the list of connections\n",
    "```bash\n",
    "curl -X 'GET' 'http://localhost:8090/prism-agent/connections' | jq\n",
    "```"
   ]
  },
  {
   "cell_type": "code",
   "execution_count": null,
   "id": "11c71cf5-8654-422c-892d-d3debbbbdeb9",
   "metadata": {},
   "outputs": [],
   "source": [
    "STATE = None\n",
    "\n",
    "path = '/prism-agent//connections/' + connection_id\n",
    "\n",
    "# print('Current state for ConnectionId {} is {}'.format(connection_id,STATE))\n",
    "print(colored(\"Current state for ConnectionId {} is {}\".format(connection_id,STATE), \"magenta\", attrs=[\"bold\"]))\n",
    "while STATE != 'ConnectionResponseReceived':\n",
    "    # Make the request\n",
    "    response = requests.get(base_url + path, headers=headers)\n",
    "\n",
    "    # Check the response status code\n",
    "    if response.status_code == 200:\n",
    "        # Print the response content\n",
    "        loaded_json = json.loads(response.content.decode())\n",
    "        # print(json.dumps(loaded_json, indent=2))\n",
    "        STATE = loaded_json['state']\n",
    "        print(colored(\"ConnectionId {0} is not in active state yet\".format(connection_id), \"yellow\", attrs=[\"bold\"]))\n",
    "        print(colored(\"State: {0}\".format(STATE), \"blue\", attrs=[\"bold\"]))\n",
    "\n",
    "        try:\n",
    "            their_did = loaded_json['theirDid']\n",
    "        except (KeyError) as e:\n",
    "            print(colored(\"Holder didn't accept invitation yet\".format(connection_id,STATE), \"red\", attrs=[\"bold\"]))\n",
    "\n",
    "    else:\n",
    "        # Print an error message\n",
    "        print(\"Error: The API returned a non-200 status code\")\n",
    "        \n",
    "\n",
    "    time.sleep(1)\n",
    "    \n",
    "# print('ConnectionId: {0} is now active. Continue with notebook'.format(connection_id))\n",
    "print(colored(\"ConnectionId: {0} is now active. Continue with notebook\".format(connection_id), \"green\", attrs=[\"bold\"]))\n",
    "\n"
   ]
  },
  {
   "cell_type": "markdown",
   "id": "a7797fc9-c66f-4055-89d8-9cc0f7848fe6",
   "metadata": {},
   "source": [
    "## Verify Credentials"
   ]
  },
  {
   "cell_type": "markdown",
   "id": "bb2a3292-3198-4d44-9efb-f318013add54",
   "metadata": {},
   "source": [
    "### Retrieving the list of presentation records\n",
    "\n",
    "```shell\n",
    "curl -X 'GET' 'http://localhost:8090/prism-agent/present-proof/presentations' -H 'accept: application/json' | jq\n",
    "```"
   ]
  },
  {
   "cell_type": "code",
   "execution_count": null,
   "id": "74700662-d097-4552-b585-9bf712621df0",
   "metadata": {},
   "outputs": [],
   "source": [
    "path = '/prism-agent/present-proof/presentations'\n",
    "\n",
    "# Make the request\n",
    "response = requests.get(base_url + path, headers=headers)\n",
    "\n",
    "# Check the response status code\n",
    "if response.status_code == 200:\n",
    "    # Print the response content\n",
    "    loaded_json = json.loads(response.content.decode())\n",
    "    print(json.dumps(loaded_json, indent=2))\n",
    "    presentationId = loaded_json[0]['presentationId']\n",
    "    STATE = loaded_json[0]['status']\n",
    "else:\n",
    "    # Print an error message\n",
    "    print(\"Error: The API returned a non-200 status code\")"
   ]
  },
  {
   "cell_type": "markdown",
   "id": "b3a6c7ba-6c4a-4104-a0f9-e3fd488f1e23",
   "metadata": {},
   "source": [
    "### Retrieving the list of credentials records\n",
    "> choose the `{RECORD_ID}` for credential with status CredentialRecieved\n",
    "\n",
    "```shell\n",
    "curl -X 'GET' 'http://localhost:8090/prism-agent/issue-credentials/records' -H 'accept: application/json' | jq\n",
    "```"
   ]
  },
  {
   "cell_type": "code",
   "execution_count": null,
   "id": "9e8ac6cb-0f8a-47b3-8629-faba43ed3a90",
   "metadata": {},
   "outputs": [],
   "source": [
    "print(record_id)\n",
    "print(presentationId)"
   ]
  },
  {
   "cell_type": "markdown",
   "id": "75bca86a-6180-48ec-ba77-2c8d37240c77",
   "metadata": {},
   "source": [
    "### Accepting the Presentation Request \n",
    ">Replace `{PRESENTATION_ID}` with the UUID of the record from the presentation records list\n",
    "\n",
    ">Replace `{RECORD_ID}` with the UUID of the record from the credential records list\n",
    "\n",
    "\n",
    "```shell\n",
    "curl -X 'PATCH' \\\n",
    "  'http://localhost:8090/prism-agent/present-proof/presentations/{PRESENTATION_ID}' \\\n",
    "  -H 'Content-Type: application/json' \\\n",
    "  -d '{\n",
    "  \"action\": \"request-accept\",\n",
    "  \"proofId\": [\"{RECORD_ID}\"]\n",
    "}'\n",
    "```"
   ]
  },
  {
   "cell_type": "code",
   "execution_count": null,
   "id": "c3de534f-64fe-4ec0-a633-4ddb7a77a681",
   "metadata": {},
   "outputs": [],
   "source": [
    "data = {\n",
    "  \"action\": \"request-accept\",\n",
    "  \"proofId\": [record_id]\n",
    "}\n",
    "\n",
    "path = '/prism-agent/present-proof/presentations/' + presentationId\n",
    "\n",
    "# Make the request\n",
    "response = requests.patch(base_url + path, headers=headers, json=data)\n",
    "\n",
    "# Check the response status code\n",
    "if response.status_code == 200:\n",
    "    # Print the response content\n",
    "    print(response.content)\n",
    "    # loaded_json = json.loads(response.content.decode())\n",
    "    # print(json.dumps(loaded_json, indent=2))\n",
    "    # proof_requestId = loaded_json[0]['presentationId']\n",
    "else:\n",
    "    # Print an error message\n",
    "    print(\"Error: The API returned a non-200 status code\")\n",
    "    print(response.content)"
   ]
  },
  {
   "cell_type": "code",
   "execution_count": null,
   "id": "386456a8-da28-43b9-ab1e-7069a157cb2d",
   "metadata": {},
   "outputs": [],
   "source": [
    "path = '/prism-agent/present-proof/presentations'\n",
    "\n",
    "print('Current state for Presentation {} is {}'.format(connection_id,STATE))\n",
    "print(colored(\"Current state for ConnectionId {} is {}\".format(connection_id,STATE), \"magenta\", attrs=[\"bold\"]))\n",
    "while STATE != 'PresentationSent':\n",
    "    # Make the request\n",
    "    response = requests.get(base_url + path, headers=headers)\n",
    "\n",
    "    # Check the response status code\n",
    "    if response.status_code == 200:\n",
    "        # Print the response content\n",
    "        loaded_json = json.loads(response.content.decode())\n",
    "        # print(json.dumps(loaded_json, indent=2))\n",
    "        STATE = loaded_json[0]['status']\n",
    "        print(colored(\"ConnectionId {0} is not in active state yet\".format(connection_id), \"yellow\", attrs=[\"bold\"]))\n",
    "        print(colored(\"State: {0}\".format(STATE), \"blue\", attrs=[\"bold\"]))\n",
    "\n",
    "    else:\n",
    "        # Print an error message\n",
    "        print(\"Error: The API returned a non-200 status code\")\n",
    "        \n",
    "\n",
    "    time.sleep(1)\n",
    "    \n",
    "# print('ConnectionId: {0} is now active. Continue with notebook'.format(connection_id))\n",
    "print(colored(\"Proof Presentation send to Verifier\".format(connection_id), \"green\", attrs=[\"bold\"]))\n",
    "\n"
   ]
  },
  {
   "cell_type": "markdown",
   "id": "7774794a-0c3b-4178-b6a1-048cf9c189c3",
   "metadata": {
    "tags": []
   },
   "source": [
    "# TODO\n",
    "> Fix response for successful API in PATCH HTTP call above"
   ]
  }
 ],
 "metadata": {
  "kernelspec": {
   "display_name": "Python 3 (ipykernel)",
   "language": "python",
   "name": "python3"
  },
  "language_info": {
   "codemirror_mode": {
    "name": "ipython",
    "version": 3
   },
   "file_extension": ".py",
   "mimetype": "text/x-python",
   "name": "python",
   "nbconvert_exporter": "python",
   "pygments_lexer": "ipython3",
   "version": "3.10.8"
  }
 },
 "nbformat": 4,
 "nbformat_minor": 5
}
