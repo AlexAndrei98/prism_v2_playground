{
 "cells": [
  {
   "cell_type": "markdown",
   "id": "c24b261b-b403-4136-95ff-77e40f7eba8f",
   "metadata": {},
   "source": [
    "# Verifier Agent"
   ]
  },
  {
   "cell_type": "code",
   "execution_count": null,
   "id": "0712d9ac-4b4e-40d6-8761-09ac0fe11f7a",
   "metadata": {},
   "outputs": [],
   "source": [
    "import requests\n",
    "import json\n",
    "import qrcode\n",
    "import uuid\n",
    "import base64\n",
    "import re\n",
    "import jwt\n",
    "import time\n",
    "# https://pypi.org/project/termcolor/\n",
    "from termcolor import colored,cprint"
   ]
  },
  {
   "cell_type": "code",
   "execution_count": null,
   "id": "d4120c44-c05e-48ff-84a9-828a5155a3ec",
   "metadata": {},
   "outputs": [],
   "source": [
    "# Set the URL for the API endpoint\n",
    "# Need to specify the host as host.docker.internal as the Prism Agents and the Prism Playground are running in two isolated docker environments\n",
    "base_url = \"http://host.docker.internal:9000\"\n",
    "\n",
    "headers = {'Content-Type': 'application/json', 'accept': 'application/json'}"
   ]
  },
  {
   "cell_type": "markdown",
   "id": "6c713f87-9c26-45f0-8c84-14e4b90ff998",
   "metadata": {},
   "source": [
    "## Check Agent Records\n",
    "1. Connections\n",
    "2. Credentials\n",
    "3. Proof Presentations"
   ]
  },
  {
   "cell_type": "code",
   "execution_count": null,
   "id": "bb48c745-d8a9-489f-8e8a-2034aea03ac5",
   "metadata": {
    "tags": []
   },
   "outputs": [],
   "source": [
    "print(colored('Agent State:\\n', attrs=['bold']))\n",
    "path = '/prism-agent/connections'\n",
    "\n",
    "# Make the request\n",
    "response = requests.get(base_url + path, headers=headers)\n",
    "\n",
    "print(colored('Connection Records:\\n', attrs=['bold']))\n",
    "# Check the response status code\n",
    "if response.status_code == 200:\n",
    "    # Print the response content\n",
    "    loaded_json = json.loads(response.content.decode())\n",
    "    print(json.dumps(loaded_json, indent=2))\n",
    "else:\n",
    "    # Print an error message\n",
    "    print(\"Error: The API returned a non-200 status code\")\n",
    "    \n",
    "path = '/prism-agent/issue-credentials/records'\n",
    "\n",
    "print(colored('Credential Records:\\n', attrs=['bold']))\n",
    "# Make the request\n",
    "response = requests.get(base_url + path, headers=headers)\n",
    "\n",
    "# Check the response status code\n",
    "if response.status_code == 200:\n",
    "    # Print the response content\n",
    "    loaded_json = json.loads(response.content.decode())\n",
    "    print(json.dumps(loaded_json, indent=2))\n",
    "    \n",
    "else:\n",
    "    # Print an error message\n",
    "    print(\"Error: The API returned a non-200 status code\")\n",
    "    print(response.content)\n",
    "    \n",
    "path = '/prism-agent/present-proof/presentations'\n",
    "\n",
    "print(colored('Proof Presentation Records:\\n', attrs=['bold']))\n",
    "# Make the request\n",
    "response = requests.get(base_url + path, headers=headers)\n",
    "\n",
    "# Check the response status code\n",
    "if response.status_code == 200:\n",
    "    # Print the response content\n",
    "    loaded_json = json.loads(response.content.decode())\n",
    "    print(json.dumps(loaded_json, indent=2))\n",
    "    \n",
    "else:\n",
    "    # Print an error message\n",
    "    print(\"Error: The API returned a non-200 status code\")\n",
    "    print(response.content)"
   ]
  },
  {
   "cell_type": "markdown",
   "id": "d727cbe0-f297-491d-8a70-3a55c0061e97",
   "metadata": {},
   "source": [
    "## Make a Connection with Holder Agent"
   ]
  },
  {
   "cell_type": "code",
   "execution_count": null,
   "id": "ea1e17ce-7ea3-4d63-8719-aeb8ac03fd2c",
   "metadata": {
    "tags": []
   },
   "outputs": [],
   "source": [
    "path = '/prism-agent/connections'\n",
    "\n",
    "# Make the request\n",
    "response = requests.get(base_url + path, headers=headers)\n",
    "\n",
    "# Check the response status code\n",
    "if response.status_code == 200:\n",
    "    # Print the response content\n",
    "    loaded_json = json.loads(response.content.decode())\n",
    "    print(json.dumps(loaded_json, indent=2))\n",
    "else:\n",
    "    # Print an error message\n",
    "    print(\"Error: The API returned a non-200 status code\")"
   ]
  },
  {
   "cell_type": "markdown",
   "id": "6289927e-218a-4f5c-814d-9688686e9404",
   "metadata": {
    "tags": []
   },
   "source": [
    "### Create a connection record containing the invitation\n",
    "```bash\n",
    "curl -X 'POST' \\\n",
    "\t'http://localhost:8080/prism-agent/connections' \\\n",
    "\t-H 'Content-Type: application/json' \\\n",
    "\t-d '{\n",
    "\t\t\"label\": \"Connect with Alice\"\n",
    "\t\t}' | jq\n",
    "```"
   ]
  },
  {
   "cell_type": "code",
   "execution_count": null,
   "id": "1032f06f-b164-4ac6-a98f-1b4c9a1382fe",
   "metadata": {},
   "outputs": [],
   "source": [
    "path = '/prism-agent/connections'\n",
    "data = {\"label\": \"Connect with Alice\"}\n",
    "# Make the request\n",
    "response = requests.post(base_url + path, headers=headers, json=data)\n",
    "\n",
    "# Check the response status code\n",
    "if response.status_code == 201:\n",
    "    # Print the response content\n",
    "    loaded_json = json.loads(response.content.decode())\n",
    "    print(json.dumps(loaded_json, indent=2))\n",
    "    STATE = loaded_json['state']\n",
    "    \n",
    "else:\n",
    "    # Print an error message\n",
    "    print(\"Error: The API returned a non-201 status code\")"
   ]
  },
  {
   "cell_type": "markdown",
   "id": "0a6e42ea-0993-4373-a534-ef39a6c10c7a",
   "metadata": {},
   "source": [
    "## Send invitation to Holder"
   ]
  },
  {
   "cell_type": "code",
   "execution_count": null,
   "id": "264f547b-bb2e-4b74-89b2-06c1fe3d8401",
   "metadata": {},
   "outputs": [],
   "source": [
    "invitation = json.loads(response.content.decode())\n",
    "invitationUrl = invitation['invitation']['invitationUrl']\n",
    "invitationUrlbase64verifier = re.sub(\"^.*_oob=\", \"\", invitationUrl)\n",
    "print(invitationUrlbase64verifier)\n",
    "connection_id = invitation['connectionId']\n",
    "%store invitationUrlbase64verifier"
   ]
  },
  {
   "cell_type": "markdown",
   "id": "6be89e35-8061-4be9-ace7-7adcc21f04e8",
   "metadata": {
    "jp-MarkdownHeadingCollapsed": true,
    "tags": []
   },
   "source": [
    "### Generate QR code from invitation"
   ]
  },
  {
   "cell_type": "code",
   "execution_count": null,
   "id": "629b6d84-ef9f-452a-81dc-6bc37d48a75c",
   "metadata": {},
   "outputs": [],
   "source": [
    "# Link for connection invitation\n",
    "input_data = invitationUrl\n",
    "# Creating an instance of qrcode\n",
    "qr = qrcode.QRCode(\n",
    "        version=1,\n",
    "        box_size=10,\n",
    "        border=5)\n",
    "qr.add_data(input_data)\n",
    "qr.make(fit=True)\n",
    "img = qr.make_image(fill='black', back_color='white')\n",
    "img.save('issuer_agent_invite_QRcode.png')\n",
    "\n",
    "from IPython.display import Image\n",
    "Image(width=400, filename='./issuer_agent_invite_QRcode.png')"
   ]
  },
  {
   "cell_type": "markdown",
   "id": "b06d85e7-8d60-443c-ab1f-38ef2bb27461",
   "metadata": {
    "tags": []
   },
   "source": [
    "### Retrieving the list of connections\n",
    "```bash\n",
    "curl -X 'GET' 'http://localhost:8080/prism-agent/connections' | jq\n",
    "```"
   ]
  },
  {
   "cell_type": "code",
   "execution_count": null,
   "id": "64cf837c-3c29-4ce7-96e3-bb4d8b8b94df",
   "metadata": {},
   "outputs": [],
   "source": [
    "# STATE = None\n",
    "\n",
    "path = '/prism-agent//connections/' + connection_id\n",
    "\n",
    "print('Current state for ConnectionId {} is {}'.format(connection_id,STATE))\n",
    "print(colored(\"Current state for ConnectionId {} is {}\".format(connection_id,STATE), \"magenta\", attrs=[\"bold\"]))\n",
    "while STATE != 'ConnectionResponseSent':\n",
    "    # Make the request\n",
    "    response = requests.get(base_url + path, headers=headers)\n",
    "\n",
    "    # Check the response status code\n",
    "    if response.status_code == 200:\n",
    "        # Print the response content\n",
    "        loaded_json = json.loads(response.content.decode())\n",
    "        # print(json.dumps(loaded_json, indent=2))\n",
    "        STATE = loaded_json['state']\n",
    "        print(colored(\"ConnectionId {0} is not in active state yet\".format(connection_id), \"yellow\", attrs=[\"bold\"]))\n",
    "        print(colored(\"State: {0}\".format(STATE), \"blue\", attrs=[\"bold\"]))\n",
    "\n",
    "        try:\n",
    "            their_did = loaded_json['theirDid']\n",
    "        except (KeyError) as e:\n",
    "            print(colored(\"Holder didn't accept invitation yet. Head over to Holder notebook and accept connection invitation\".format(connection_id,STATE), \"red\", attrs=[\"bold\"]))\n",
    "\n",
    "    else:\n",
    "        # Print an error message\n",
    "        print(\"Error: The API returned a non-200 status code\")\n",
    "        \n",
    "\n",
    "    time.sleep(1)\n",
    "    \n",
    "# print('ConnectionId: {0} is now active. Continue with notebook'.format(connection_id))\n",
    "print(colored(\"ConnectionId: {0} is now active. Continue with notebook\".format(connection_id), \"green\", attrs=[\"bold\"]))\n"
   ]
  },
  {
   "cell_type": "markdown",
   "id": "0e69fc0d-d9dc-40c4-8611-67d3635bc3a6",
   "metadata": {},
   "source": [
    "## Executing the `Verifier` flow\n",
    "---\n",
    "connectionId is the holder (connectionId or did)\n",
    "Replace `{CONNECTION_ID}` with the DID of the holder displayed at startup in the his Prism Agent console logs"
   ]
  },
  {
   "cell_type": "markdown",
   "id": "20d8aba7-1f89-4454-8aff-b8a1c987409e",
   "metadata": {},
   "source": [
    "### Initiates a Proof Request\n",
    "\n",
    "```shell\n",
    "curl -X 'POST' \\\n",
    "  'http://localhost:8070/prism-agent/present-proof/presentations' \\\n",
    "  -H 'accept: application/json' \\\n",
    "  -H 'Content-Type: application/json' \\\n",
    "  -d '{\n",
    "  \"connectionId\": \"{CONNECTION_ID}\", \"proofs\":[]\n",
    "}'\n",
    "```"
   ]
  },
  {
   "cell_type": "code",
   "execution_count": null,
   "id": "146cc95b-1691-4b45-b3cf-643ccf85c06b",
   "metadata": {},
   "outputs": [],
   "source": [
    "path = '/prism-agent/present-proof/presentations'\n",
    "data = {\n",
    "  \"connectionId\": connection_id, \"proofs\":[]\n",
    "}\n",
    "# Make the request\n",
    "response = requests.post(base_url + path, headers=headers, json=data)\n",
    "\n",
    "# Check the response status code\n",
    "if response.status_code == 201:\n",
    "    # Print the response content\n",
    "    loaded_json = json.loads(response.content.decode())\n",
    "    print(json.dumps(loaded_json, indent=2))\n",
    "    \n",
    "else:\n",
    "    # Print an error message\n",
    "    print(\"Error: The API returned a non-201 status code\")\n",
    "    print(response.content)"
   ]
  },
  {
   "cell_type": "markdown",
   "id": "fdeebffe-6500-44d9-9b23-5f16abb97ee1",
   "metadata": {},
   "source": [
    "### Send proof request to Holder"
   ]
  },
  {
   "cell_type": "code",
   "execution_count": null,
   "id": "140179af-b290-4b94-88eb-c6a9df6f18d8",
   "metadata": {},
   "outputs": [],
   "source": [
    "presentation_id = loaded_json['presentationId']\n",
    "%store presentation_id\n",
    "print(presentation_id)"
   ]
  },
  {
   "cell_type": "markdown",
   "id": "7cf5026c-037e-4e95-bd76-e62aa216c944",
   "metadata": {},
   "source": [
    "### Check Presentation state  PresentationReceived \n",
    "> check PresentationReceived !\n",
    "```shell\n",
    "curl -X 'GET' 'http://localhost:8070/prism-agent/present-proof/presentations' -H 'accept: application/json' | jq\n",
    "```\n"
   ]
  },
  {
   "cell_type": "code",
   "execution_count": null,
   "id": "b144df6e-79e0-416a-8705-aca49eea1712",
   "metadata": {},
   "outputs": [],
   "source": [
    "path = '/prism-agent/present-proof/presentations'\n",
    "\n",
    "# Make the request\n",
    "response = requests.get(base_url + path, headers=headers)\n",
    "\n",
    "# Check the response status code\n",
    "if response.status_code == 200:\n",
    "    # Print the response content\n",
    "    # print(response.content)\n",
    "    loaded_json = json.loads(response.content.decode())\n",
    "    print(json.dumps(loaded_json, indent=1))\n",
    "    STATE = loaded_json[0]['status']\n",
    "    # proof_requestId = loaded_json[0]['presentationId']\n",
    "else:\n",
    "    # Print an error message\n",
    "    print(\"Error: The API returned a non-200 status code\")"
   ]
  },
  {
   "cell_type": "code",
   "execution_count": null,
   "id": "0847bfd2-bbbf-4615-8577-e584ba73e725",
   "metadata": {},
   "outputs": [],
   "source": [
    "path = '/prism-agent/present-proof/presentations'\n",
    "\n",
    "print('Current state for Presentation {} is {}'.format(connection_id,STATE))\n",
    "print(colored(\"Current state for ConnectionId {} is {}\".format(connection_id,STATE), \"magenta\", attrs=[\"bold\"]))\n",
    "while STATE != 'PresentationVerified':\n",
    "    # Make the request\n",
    "    response = requests.get(base_url + path, headers=headers)\n",
    "\n",
    "    # Check the response status code\n",
    "    if response.status_code == 200:\n",
    "        # Print the response content\n",
    "        loaded_json = json.loads(response.content.decode())\n",
    "        # print(json.dumps(loaded_json, indent=2))\n",
    "        STATE = loaded_json[0]['status']\n",
    "        print(colored(\"ConnectionId {0} is not in active state yet\".format(connection_id), \"yellow\", attrs=[\"bold\"]))\n",
    "        print(colored(\"State: {0}\".format(STATE), \"blue\", attrs=[\"bold\"]))\n",
    "\n",
    "    else:\n",
    "        # Print an error message\n",
    "        print(\"Error: The API returned a non-200 status code\")\n",
    "        \n",
    "\n",
    "    time.sleep(1)\n",
    "    \n",
    "# print('ConnectionId: {0} is now active. Continue with notebook'.format(connection_id))\n",
    "print(colored(\"ConnectionId: {0} is now active. Continue with notebook\".format(connection_id), \"green\", attrs=[\"bold\"]))\n",
    "\n"
   ]
  },
  {
   "cell_type": "markdown",
   "id": "1d167249-ce87-4d38-88a5-dd79975fcf16",
   "metadata": {},
   "source": [
    "## TODO - Verify JWT and display contents"
   ]
  },
  {
   "cell_type": "markdown",
   "id": "948658f8-1d5b-4a62-8cc8-965b7fde2f17",
   "metadata": {},
   "source": [
    "### Accept PresentationReceived \n",
    "> Replace `{PRESENTATION_ID}` with the UUID of the record from the presentation records list with state PresentationReceived\n",
    "\n",
    "```shell\n",
    "curl -X 'PATCH' \\\n",
    "  'http://localhost:8070/prism-agent/present-proof/presentations/{PRESENTATION_ID}' \\\n",
    "  -H 'Content-Type: application/json' \\\n",
    "  -d '{\"action\": \"presentation-accept\"}' | jq\n",
    "```\n",
    "\n"
   ]
  },
  {
   "cell_type": "code",
   "execution_count": null,
   "id": "22285cdd-8cd6-4557-916a-a57788fdd25d",
   "metadata": {},
   "outputs": [],
   "source": [
    "data = {\"action\": \"presentation-accept\"}\n",
    "\n",
    "path = '/prism-agent/present-proof/presentations/' + presentation_id\n",
    "\n",
    "# Make the request\n",
    "response = requests.patch(base_url + path, headers=headers, json=data)\n",
    "\n",
    "# Check the response status code\n",
    "if response.status_code == 200:\n",
    "    # Print the response content\n",
    "    print(response.content)\n",
    "    # loaded_json = json.loads(response.content.decode())\n",
    "    # print(json.dumps(loaded_json, indent=2))\n",
    "    # proof_requestId = loaded_json[0]['presentationId']\n",
    "else:\n",
    "    # Print an error message\n",
    "    print(\"Error: The API returned a non-200 status code\")\n",
    "    print(response.content)"
   ]
  },
  {
   "cell_type": "markdown",
   "id": "5bce5ab7-ac96-41d3-ae91-b192eb65b9a3",
   "metadata": {},
   "source": [
    "### Check Presentation state  PresentationVerified \n",
    "> check PresentationVerified !\n",
    "\n",
    "```shell\n",
    "curl -X 'GET' 'http://localhost:8070/prism-agent/present-proof/presentations' -H 'accept: application/json' | jq\n",
    "```"
   ]
  },
  {
   "cell_type": "code",
   "execution_count": null,
   "id": "85d4ad74-a861-4bcf-8cfa-15b0ae2bb378",
   "metadata": {},
   "outputs": [],
   "source": [
    "path = '/prism-agent/present-proof/presentations'\n",
    "\n",
    "# Make the request\n",
    "response = requests.get(base_url + path, headers=headers)\n",
    "\n",
    "# Check the response status code\n",
    "if response.status_code == 200:\n",
    "    # Print the response content\n",
    "    loaded_json = json.loads(response.content.decode())\n",
    "    print(json.dumps(loaded_json, indent=2))\n",
    "    \n",
    "else:\n",
    "    # Print an error message\n",
    "    print(\"Error: The API returned a non-200 status code\")\n",
    "    print(response.content)"
   ]
  },
  {
   "cell_type": "markdown",
   "id": "6505bcee-c214-4650-b100-19e512ead89a",
   "metadata": {
    "jp-MarkdownHeadingCollapsed": true,
    "tags": []
   },
   "source": [
    "## DIDs"
   ]
  },
  {
   "cell_type": "markdown",
   "id": "153333b1-85cf-43e9-98d1-e6099b5a0f5f",
   "metadata": {},
   "source": [
    "### Create a new unpublised DID stored in Prism Agent\n",
    "```bash\n",
    "curl --location --request POST 'http://localhost:8080/prism-agent/did-registrar/dids' \\\n",
    "  --header 'Content-Type: application/json' \\\n",
    "  --header 'Accept: application/json' \\\n",
    "  --data-raw '{\n",
    "    \"documentTemplate\": {\n",
    "      \"publicKeys\": [\n",
    "        {\n",
    "          \"id\": \"auth0\",\n",
    "          \"purpose\": \"authentication\"\n",
    "        }\n",
    "      ],\n",
    "      \"services\": []\n",
    "    }\n",
    "  }'\n",
    "```"
   ]
  },
  {
   "cell_type": "code",
   "execution_count": null,
   "id": "c1784b6b-1348-4566-9c22-026ffd003421",
   "metadata": {},
   "outputs": [],
   "source": [
    "path = '/prism-agent/did-registrar/dids'\n",
    "data = {\n",
    "    \"documentTemplate\": {\n",
    "      \"publicKeys\": [\n",
    "        {\n",
    "          \"id\": \"auth0\",\n",
    "          \"purpose\": \"authentication\"\n",
    "        }\n",
    "      ],\n",
    "      \"services\": []\n",
    "    }\n",
    "  }\n",
    "\n",
    "# Make the request\n",
    "response = requests.post(base_url + path, headers=headers, json=data)\n",
    "\n",
    "# Check the response status code\n",
    "if response.status_code == 200:\n",
    "    # Print the response content\n",
    "    loaded_json = json.loads(response.content.decode())\n",
    "    print(json.dumps(loaded_json, indent=2))\n",
    "    \n",
    "else:\n",
    "    # Print an error message\n",
    "    print(\"Error: The API returned a non-200 status code\")\n",
    "    print(response.content)"
   ]
  },
  {
   "cell_type": "markdown",
   "id": "95009dc6-000d-4056-8500-d519ee0c0aa6",
   "metadata": {},
   "source": [
    "### Lists all the DIDs in Prism Agent\n",
    "```bash\n",
    "curl --location --request GET 'http://localhost:8080/prism-agent/did-registrar/dids' \\\n",
    "  --header 'Accept: application/json'\n",
    "```\n",
    "\n"
   ]
  },
  {
   "cell_type": "code",
   "execution_count": null,
   "id": "131ac7e5-6ee1-4952-a134-2987c385e371",
   "metadata": {},
   "outputs": [],
   "source": [
    "path = '/prism-agent/did-registrar/dids'\n",
    "\n",
    "# Make the request\n",
    "response = requests.get(base_url + path, headers=headers)\n",
    "\n",
    "# Check the response status code\n",
    "if response.status_code == 200:\n",
    "    # Print the response content\n",
    "    loaded_json = json.loads(response.content.decode())\n",
    "    print(json.dumps(loaded_json, indent=2))\n",
    "    DID_REF = loaded_json[0]['longFormDid']\n",
    "    DID_REF_SHORT = loaded_json[0]['did']\n",
    "else:\n",
    "    # Print an error message\n",
    "    print(\"Error: The API returned a non-200 status code\")\n",
    "    print(response.content)"
   ]
  },
  {
   "cell_type": "markdown",
   "id": "603b1063-d542-4f44-afa3-97909bd12c3a",
   "metadata": {},
   "source": [
    "### Publishes the DID in Prism Agent to the blockchain\n",
    "Replace `DID_REF` by the DID on Prism Agent that should be published\n",
    "```bash\n",
    "curl --location --request POST 'http://localhost:8080/prism-agent/did-registrar/dids/{DID_REF}/publications' \\\n",
    "--header 'Accept: application/json'\n",
    "```"
   ]
  },
  {
   "cell_type": "code",
   "execution_count": null,
   "id": "7ffcbe4d-e8a3-49e6-b6f1-d808a44572c2",
   "metadata": {},
   "outputs": [],
   "source": [
    "path = '/prism-agent/did-registrar/dids/' + DID_REF + '/publications'\n",
    "\n",
    "# Make the request\n",
    "response = requests.post(base_url + path, headers=headers)\n",
    "\n",
    "# Check the response status code\n",
    "if response.status_code == 202:\n",
    "    # Print the response content\n",
    "    loaded_json = json.loads(response.content.decode())\n",
    "    print(json.dumps(loaded_json, indent=2))\n",
    "    \n",
    "else:\n",
    "    # Print an error message\n",
    "    print(\"Error: The API returned a non-202 status code\")\n",
    "    print(response.content)"
   ]
  },
  {
   "cell_type": "markdown",
   "id": "3bec083c-b2a5-42ab-a750-7d68f0a1891b",
   "metadata": {},
   "source": [
    "### Resolves the DID document of Prism DID\n",
    "Replace `DID_REF` by the DID on Prism Agent that should be resolved\n",
    "```bash\n",
    "curl --location --request GET 'http://localhost:8080/prism-agent/dids/{DID_REF}' \\\n",
    "--header 'Accept: application/json'\n",
    "```"
   ]
  },
  {
   "cell_type": "code",
   "execution_count": null,
   "id": "897ab771-933c-4979-8512-7750d63d1274",
   "metadata": {},
   "outputs": [],
   "source": [
    "path = '/prism-agent/dids/' + DID_REF\n",
    "\n",
    "# Make the request\n",
    "response = requests.get(base_url + path, headers=headers)\n",
    "\n",
    "# Check the response status code\n",
    "if response.status_code == 200:\n",
    "    # Print the response content\n",
    "    loaded_json = json.loads(response.content.decode())\n",
    "    print(json.dumps(loaded_json, indent=2))\n",
    "    \n",
    "else:\n",
    "    # Print an error message\n",
    "    print(\"Error: The API returned a non-200 status code\")\n",
    "    print(response.content)"
   ]
  },
  {
   "cell_type": "code",
   "execution_count": null,
   "id": "24c50b32-a69f-41a8-b988-b0f7b125cfab",
   "metadata": {},
   "outputs": [],
   "source": []
  }
 ],
 "metadata": {
  "kernelspec": {
   "display_name": "Python 3 (ipykernel)",
   "language": "python",
   "name": "python3"
  },
  "language_info": {
   "codemirror_mode": {
    "name": "ipython",
    "version": 3
   },
   "file_extension": ".py",
   "mimetype": "text/x-python",
   "name": "python",
   "nbconvert_exporter": "python",
   "pygments_lexer": "ipython3",
   "version": "3.10.8"
  }
 },
 "nbformat": 4,
 "nbformat_minor": 5
}
