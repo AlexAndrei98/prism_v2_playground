{
 "cells": [
  {
   "cell_type": "markdown",
   "id": "c24b261b-b403-4136-95ff-77e40f7eba8f",
   "metadata": {},
   "source": [
    "# Verifier Agent"
   ]
  },
  {
   "cell_type": "code",
   "execution_count": 21,
   "id": "0712d9ac-4b4e-40d6-8761-09ac0fe11f7a",
   "metadata": {},
   "outputs": [],
   "source": [
    "import requests\n",
    "import json\n",
    "import qrcode\n",
    "import uuid\n",
    "import re"
   ]
  },
  {
   "cell_type": "code",
   "execution_count": 22,
   "id": "d4120c44-c05e-48ff-84a9-828a5155a3ec",
   "metadata": {},
   "outputs": [],
   "source": [
    "# Set the URL for the API endpoint\n",
    "# Need to specify the host as host.docker.internal as the Prism Agents and the Prism Playground are running in two isolated docker environments\n",
    "base_url = \"http://host.docker.internal:9000\"\n",
    "\n",
    "headers = {'Content-Type': 'application/json', 'accept': 'application/json'}"
   ]
  },
  {
   "cell_type": "markdown",
   "id": "d727cbe0-f297-491d-8a70-3a55c0061e97",
   "metadata": {},
   "source": [
    "## Connections"
   ]
  },
  {
   "cell_type": "code",
   "execution_count": 23,
   "id": "ea1e17ce-7ea3-4d63-8719-aeb8ac03fd2c",
   "metadata": {
    "tags": []
   },
   "outputs": [
    {
     "name": "stdout",
     "output_type": "stream",
     "text": [
      "{\n",
      "  \"contents\": [],\n",
      "  \"kind\": \"Collection\",\n",
      "  \"self\": \"/collections\"\n",
      "}\n"
     ]
    }
   ],
   "source": [
    "path = '/prism-agent/connections'\n",
    "\n",
    "# Make the request\n",
    "response = requests.get(base_url + path, headers=headers)\n",
    "\n",
    "# Check the response status code\n",
    "if response.status_code == 200:\n",
    "    # Print the response content\n",
    "    loaded_json = json.loads(response.content.decode())\n",
    "    print(json.dumps(loaded_json, indent=2))\n",
    "else:\n",
    "    # Print an error message\n",
    "    print(\"Error: The API returned a non-200 status code\")"
   ]
  },
  {
   "cell_type": "markdown",
   "id": "6289927e-218a-4f5c-814d-9688686e9404",
   "metadata": {
    "tags": []
   },
   "source": [
    "### Create a connection record containing the invitation\n",
    "```bash\n",
    "curl -X 'POST' \\\n",
    "\t'http://localhost:8080/prism-agent/connections' \\\n",
    "\t-H 'Content-Type: application/json' \\\n",
    "\t-d '{\n",
    "\t\t\"label\": \"Connect with Alice\"\n",
    "\t\t}' | jq\n",
    "```"
   ]
  },
  {
   "cell_type": "code",
   "execution_count": 24,
   "id": "1032f06f-b164-4ac6-a98f-1b4c9a1382fe",
   "metadata": {},
   "outputs": [
    {
     "name": "stdout",
     "output_type": "stream",
     "text": [
      "{\n",
      "  \"connectionId\": \"d92a46e3-e34b-4f85-83e0-c90e9f5e6703\",\n",
      "  \"createdAt\": \"2022-12-14T18:43:17.879280Z\",\n",
      "  \"invitation\": {\n",
      "    \"from\": \"did:peer:2.Ez6LSoWmtXjFXcaQEcjRzv7F1aLAdbQjjnXzxHnu72fchvCm5.Vz6MkvDhmbYiNUrWvbSt5qbUjdFZsLDKgBUbQKFSVYwqrzELW.SeyJ0IjoiZG0iLCJzIjoiaHR0cDovL2hvc3QuZG9ja2VyLmludGVybmFsOjkwMDAvZGlkY29tbSIsInIiOltdLCJhIjpbImRpZGNvbW0vdjIiXX0\",\n",
      "    \"id\": \"d92a46e3-e34b-4f85-83e0-c90e9f5e6703\",\n",
      "    \"invitationUrl\": \"https://domain.com/path?_oob=eyJpZCI6ImQ5MmE0NmUzLWUzNGItNGY4NS04M2UwLWM5MGU5ZjVlNjcwMyIsInR5cGUiOiJodHRwczovL2RpZGNvbW0ub3JnL291dC1vZi1iYW5kLzIuMC9pbnZpdGF0aW9uIiwiZnJvbSI6ImRpZDpwZWVyOjIuRXo2TFNvV210WGpGWGNhUUVjalJ6djdGMWFMQWRiUWpqblh6eEhudTcyZmNodkNtNS5WejZNa3ZEaG1iWWlOVXJXdmJTdDVxYlVqZEZac0xES2dCVWJRS0ZTVll3cXJ6RUxXLlNleUowSWpvaVpHMGlMQ0p6SWpvaWFIUjBjRG92TDJodmMzUXVaRzlqYTJWeUxtbHVkR1Z5Ym1Gc09qa3dNREF2Wkdsa1kyOXRiU0lzSW5JaU9sdGRMQ0poSWpwYkltUnBaR052YlcwdmRqSWlYWDAiLCJib2R5Ijp7ImdvYWxfY29kZSI6ImNvbm5lY3QiLCJnb2FsIjoiRXN0YWJsaXNoIGEgdHJ1c3QgY29ubmVjdGlvbiBiZXR3ZWVuIHR3byBwZWVycyIsImFjY2VwdCI6W119fQ==\",\n",
      "    \"type\": \"https://didcomm.org/out-of-band/2.0/invitation\"\n",
      "  },\n",
      "  \"kind\": \"/connections/d92a46e3-e34b-4f85-83e0-c90e9f5e6703\",\n",
      "  \"label\": \"Connect with Alice\",\n",
      "  \"self\": \"Connection\",\n",
      "  \"state\": \"InvitationGenerated\"\n",
      "}\n"
     ]
    }
   ],
   "source": [
    "path = '/prism-agent/connections'\n",
    "data = {\"label\": \"Connect with Alice\"}\n",
    "# Make the request\n",
    "response = requests.post(base_url + path, headers=headers, json=data)\n",
    "\n",
    "# Check the response status code\n",
    "if response.status_code == 201:\n",
    "    # Print the response content\n",
    "    loaded_json = json.loads(response.content.decode())\n",
    "    print(json.dumps(loaded_json, indent=2))\n",
    "    \n",
    "else:\n",
    "    # Print an error message\n",
    "    print(\"Error: The API returned a non-201 status code\")"
   ]
  },
  {
   "cell_type": "markdown",
   "id": "0a6e42ea-0993-4373-a534-ef39a6c10c7a",
   "metadata": {},
   "source": [
    "## Send invitation to Holder"
   ]
  },
  {
   "cell_type": "code",
   "execution_count": 25,
   "id": "264f547b-bb2e-4b74-89b2-06c1fe3d8401",
   "metadata": {},
   "outputs": [
    {
     "name": "stdout",
     "output_type": "stream",
     "text": [
      "eyJpZCI6ImQ5MmE0NmUzLWUzNGItNGY4NS04M2UwLWM5MGU5ZjVlNjcwMyIsInR5cGUiOiJodHRwczovL2RpZGNvbW0ub3JnL291dC1vZi1iYW5kLzIuMC9pbnZpdGF0aW9uIiwiZnJvbSI6ImRpZDpwZWVyOjIuRXo2TFNvV210WGpGWGNhUUVjalJ6djdGMWFMQWRiUWpqblh6eEhudTcyZmNodkNtNS5WejZNa3ZEaG1iWWlOVXJXdmJTdDVxYlVqZEZac0xES2dCVWJRS0ZTVll3cXJ6RUxXLlNleUowSWpvaVpHMGlMQ0p6SWpvaWFIUjBjRG92TDJodmMzUXVaRzlqYTJWeUxtbHVkR1Z5Ym1Gc09qa3dNREF2Wkdsa1kyOXRiU0lzSW5JaU9sdGRMQ0poSWpwYkltUnBaR052YlcwdmRqSWlYWDAiLCJib2R5Ijp7ImdvYWxfY29kZSI6ImNvbm5lY3QiLCJnb2FsIjoiRXN0YWJsaXNoIGEgdHJ1c3QgY29ubmVjdGlvbiBiZXR3ZWVuIHR3byBwZWVycyIsImFjY2VwdCI6W119fQ==\n",
      "Stored 'invitationUrlbase64verifier' (str)\n"
     ]
    }
   ],
   "source": [
    "invitation = json.loads(response.content.decode())\n",
    "invitationUrl = invitation['invitation']['invitationUrl']\n",
    "invitationUrlbase64verifier = re.sub(\"^.*_oob=\", \"\", invitationUrl)\n",
    "print(invitationUrlbase64verifier)\n",
    "connection_id = invitation['connectionId']\n",
    "%store invitationUrlbase64verifier"
   ]
  },
  {
   "cell_type": "markdown",
   "id": "6be89e35-8061-4be9-ace7-7adcc21f04e8",
   "metadata": {
    "jp-MarkdownHeadingCollapsed": true,
    "tags": []
   },
   "source": [
    "### Generate QR code from invitation"
   ]
  },
  {
   "cell_type": "code",
   "execution_count": null,
   "id": "629b6d84-ef9f-452a-81dc-6bc37d48a75c",
   "metadata": {},
   "outputs": [],
   "source": [
    "# Link for connection invitation\n",
    "input_data = invitationUrl\n",
    "# Creating an instance of qrcode\n",
    "qr = qrcode.QRCode(\n",
    "        version=1,\n",
    "        box_size=10,\n",
    "        border=5)\n",
    "qr.add_data(input_data)\n",
    "qr.make(fit=True)\n",
    "img = qr.make_image(fill='black', back_color='white')\n",
    "img.save('issuer_agent_invite_QRcode.png')\n",
    "\n",
    "from IPython.display import Image\n",
    "Image(width=400, filename='./issuer_agent_invite_QRcode.png')"
   ]
  },
  {
   "cell_type": "markdown",
   "id": "b06d85e7-8d60-443c-ab1f-38ef2bb27461",
   "metadata": {
    "tags": []
   },
   "source": [
    "### Retrieving the list of connections\n",
    "```bash\n",
    "curl -X 'GET' 'http://localhost:8080/prism-agent/connections' | jq\n",
    "```"
   ]
  },
  {
   "cell_type": "code",
   "execution_count": 29,
   "id": "f52acf78-ee48-4ecd-b93d-92547aec59ea",
   "metadata": {},
   "outputs": [
    {
     "name": "stdout",
     "output_type": "stream",
     "text": [
      "{\n",
      "  \"connectionId\": \"d92a46e3-e34b-4f85-83e0-c90e9f5e6703\",\n",
      "  \"createdAt\": \"2022-12-14T18:43:17Z\",\n",
      "  \"invitation\": {\n",
      "    \"from\": \"did:peer:2.Ez6LSoWmtXjFXcaQEcjRzv7F1aLAdbQjjnXzxHnu72fchvCm5.Vz6MkvDhmbYiNUrWvbSt5qbUjdFZsLDKgBUbQKFSVYwqrzELW.SeyJ0IjoiZG0iLCJzIjoiaHR0cDovL2hvc3QuZG9ja2VyLmludGVybmFsOjkwMDAvZGlkY29tbSIsInIiOltdLCJhIjpbImRpZGNvbW0vdjIiXX0\",\n",
      "    \"id\": \"d92a46e3-e34b-4f85-83e0-c90e9f5e6703\",\n",
      "    \"invitationUrl\": \"https://domain.com/path?_oob=eyJpZCI6ImQ5MmE0NmUzLWUzNGItNGY4NS04M2UwLWM5MGU5ZjVlNjcwMyIsInR5cGUiOiJodHRwczovL2RpZGNvbW0ub3JnL291dC1vZi1iYW5kLzIuMC9pbnZpdGF0aW9uIiwiZnJvbSI6ImRpZDpwZWVyOjIuRXo2TFNvV210WGpGWGNhUUVjalJ6djdGMWFMQWRiUWpqblh6eEhudTcyZmNodkNtNS5WejZNa3ZEaG1iWWlOVXJXdmJTdDVxYlVqZEZac0xES2dCVWJRS0ZTVll3cXJ6RUxXLlNleUowSWpvaVpHMGlMQ0p6SWpvaWFIUjBjRG92TDJodmMzUXVaRzlqYTJWeUxtbHVkR1Z5Ym1Gc09qa3dNREF2Wkdsa1kyOXRiU0lzSW5JaU9sdGRMQ0poSWpwYkltUnBaR052YlcwdmRqSWlYWDAiLCJib2R5Ijp7ImdvYWxfY29kZSI6ImNvbm5lY3QiLCJnb2FsIjoiRXN0YWJsaXNoIGEgdHJ1c3QgY29ubmVjdGlvbiBiZXR3ZWVuIHR3byBwZWVycyIsImFjY2VwdCI6W119fQ==\",\n",
      "    \"type\": \"https://didcomm.org/out-of-band/2.0/invitation\"\n",
      "  },\n",
      "  \"kind\": \"/connections/d92a46e3-e34b-4f85-83e0-c90e9f5e6703\",\n",
      "  \"label\": \"Connect with Alice\",\n",
      "  \"self\": \"Connection\",\n",
      "  \"state\": \"InvitationGenerated\"\n",
      "}\n",
      "InvitationGenerated\n"
     ]
    },
    {
     "ename": "KeyError",
     "evalue": "'theirDid'",
     "output_type": "error",
     "traceback": [
      "\u001b[0;31m---------------------------------------------------------------------------\u001b[0m",
      "\u001b[0;31mKeyError\u001b[0m                                  Traceback (most recent call last)",
      "Cell \u001b[0;32mIn[29], line 13\u001b[0m\n\u001b[1;32m     11\u001b[0m     STATE \u001b[38;5;241m=\u001b[39m loaded_json[\u001b[38;5;124m'\u001b[39m\u001b[38;5;124mstate\u001b[39m\u001b[38;5;124m'\u001b[39m]\n\u001b[1;32m     12\u001b[0m     \u001b[38;5;28mprint\u001b[39m(STATE)\n\u001b[0;32m---> 13\u001b[0m     their_did \u001b[38;5;241m=\u001b[39m \u001b[43mloaded_json\u001b[49m\u001b[43m[\u001b[49m\u001b[38;5;124;43m'\u001b[39;49m\u001b[38;5;124;43mtheirDid\u001b[39;49m\u001b[38;5;124;43m'\u001b[39;49m\u001b[43m]\u001b[49m\n\u001b[1;32m     15\u001b[0m \u001b[38;5;28;01melse\u001b[39;00m:\n\u001b[1;32m     16\u001b[0m     \u001b[38;5;66;03m# Print an error message\u001b[39;00m\n\u001b[1;32m     17\u001b[0m     \u001b[38;5;28mprint\u001b[39m(\u001b[38;5;124m\"\u001b[39m\u001b[38;5;124mError: The API returned a non-200 status code\u001b[39m\u001b[38;5;124m\"\u001b[39m)\n",
      "\u001b[0;31mKeyError\u001b[0m: 'theirDid'"
     ]
    }
   ],
   "source": [
    "\n",
    "path = '/prism-agent//connections/' + connection_id\n",
    "\n",
    "# Make the request\n",
    "response = requests.get(base_url + path, headers=headers)\n",
    "\n",
    "# Check the response status code\n",
    "if response.status_code == 200:\n",
    "    # Print the response content\n",
    "    loaded_json = json.loads(response.content.decode())\n",
    "    print(json.dumps(loaded_json, indent=2))\n",
    "    STATE = loaded_json['state']\n",
    "    print(STATE)\n",
    "    \n",
    "\n",
    "else:\n",
    "    # Print an error message\n",
    "    print(\"Error: The API returned a non-200 status code\")"
   ]
  },
  {
   "cell_type": "code",
   "execution_count": 33,
   "id": "64cf837c-3c29-4ce7-96e3-bb4d8b8b94df",
   "metadata": {},
   "outputs": [
    {
     "name": "stdout",
     "output_type": "stream",
     "text": [
      "\u001b[1m\u001b[35mCurrent state for ConnectionId d92a46e3-e34b-4f85-83e0-c90e9f5e6703 is ConnectionResponseSent\u001b[0m\n",
      "\u001b[1m\u001b[32mConnectionId: d92a46e3-e34b-4f85-83e0-c90e9f5e6703 is now active. Continue with notebook\u001b[0m\n"
     ]
    }
   ],
   "source": [
    "import time\n",
    "from termcolor import colored,cprint\n",
    "\n",
    "path = '/prism-agent//connections/' + connection_id\n",
    "\n",
    "# print('Current state for ConnectionId {} is {}'.format(connection_id,STATE))\n",
    "print(colored(\"Current state for ConnectionId {} is {}\".format(connection_id,STATE), \"magenta\", attrs=[\"bold\"]))\n",
    "while STATE != 'ConnectionResponseSent':\n",
    "    # Make the request\n",
    "    response = requests.get(base_url + path, headers=headers)\n",
    "\n",
    "    # Check the response status code\n",
    "    if response.status_code == 200:\n",
    "        # Print the response content\n",
    "        loaded_json = json.loads(response.content.decode())\n",
    "        # print(json.dumps(loaded_json, indent=2))\n",
    "        STATE = loaded_json['state']\n",
    "        print(colored(\"ConnectionId {0} is not in active state yet. State: {1}\".format(connection_id,STATE), \"yellow\", attrs=[\"bold\"]))\n",
    "        their_did = loaded_json['theirDid']\n",
    "    else:\n",
    "        # Print an error message\n",
    "        print(\"Error: The API returned a non-200 status code\")\n",
    "        \n",
    "\n",
    "    time.sleep(1)\n",
    "    \n",
    "# print('ConnectionId: {0} is now active. Continue with notebook'.format(connection_id))\n",
    "print(colored(\"ConnectionId: {0} is now active. Continue with notebook\".format(connection_id), \"green\", attrs=[\"bold\"]))\n"
   ]
  },
  {
   "cell_type": "markdown",
   "id": "0e69fc0d-d9dc-40c4-8611-67d3635bc3a6",
   "metadata": {},
   "source": [
    "## Executing the `Verifier` flow\n",
    "---\n",
    "connectionId is the holder (connectionId or did)\n",
    "Replace `{CONNECTION_ID}` with the DID of the holder displayed at startup in the his Prism Agent console logs"
   ]
  },
  {
   "cell_type": "markdown",
   "id": "20d8aba7-1f89-4454-8aff-b8a1c987409e",
   "metadata": {},
   "source": [
    "### Initiates a Proof Request\n",
    "\n",
    "```shell\n",
    "curl -X 'POST' \\\n",
    "  'http://localhost:8070/prism-agent/present-proof/presentations' \\\n",
    "  -H 'accept: application/json' \\\n",
    "  -H 'Content-Type: application/json' \\\n",
    "  -d '{\n",
    "  \"connectionId\": \"{CONNECTION_ID}\", \"proofs\":[]\n",
    "}'\n",
    "```"
   ]
  },
  {
   "cell_type": "code",
   "execution_count": 34,
   "id": "146cc95b-1691-4b45-b3cf-643ccf85c06b",
   "metadata": {},
   "outputs": [
    {
     "name": "stdout",
     "output_type": "stream",
     "text": [
      "{\n",
      "  \"presentationId\": \"13d21a99-ffcd-40e9-b158-42ec2c26ccd2\"\n",
      "}\n"
     ]
    }
   ],
   "source": [
    "path = '/prism-agent/present-proof/presentations'\n",
    "data = {\n",
    "  \"connectionId\": connection_id, \"proofs\":[]\n",
    "}\n",
    "# Make the request\n",
    "response = requests.post(base_url + path, headers=headers, json=data)\n",
    "\n",
    "# Check the response status code\n",
    "if response.status_code == 201:\n",
    "    # Print the response content\n",
    "    loaded_json = json.loads(response.content.decode())\n",
    "    print(json.dumps(loaded_json, indent=2))\n",
    "    \n",
    "else:\n",
    "    # Print an error message\n",
    "    print(\"Error: The API returned a non-201 status code\")\n",
    "    print(response.content)"
   ]
  },
  {
   "cell_type": "markdown",
   "id": "fdeebffe-6500-44d9-9b23-5f16abb97ee1",
   "metadata": {},
   "source": [
    "### Send proof request to Holder"
   ]
  },
  {
   "cell_type": "code",
   "execution_count": 35,
   "id": "140179af-b290-4b94-88eb-c6a9df6f18d8",
   "metadata": {},
   "outputs": [
    {
     "name": "stdout",
     "output_type": "stream",
     "text": [
      "Stored 'presentation_id' (str)\n",
      "13d21a99-ffcd-40e9-b158-42ec2c26ccd2\n"
     ]
    }
   ],
   "source": [
    "presentation_id = loaded_json['presentationId']\n",
    "%store presentation_id\n",
    "print(presentation_id)"
   ]
  },
  {
   "cell_type": "markdown",
   "id": "7cf5026c-037e-4e95-bd76-e62aa216c944",
   "metadata": {},
   "source": [
    "### Check Presentation state  PresentationReceived \n",
    "> check PresentationReceived !\n",
    "```shell\n",
    "curl -X 'GET' 'http://localhost:8070/prism-agent/present-proof/presentations' -H 'accept: application/json' | jq\n",
    "```\n"
   ]
  },
  {
   "cell_type": "code",
   "execution_count": 37,
   "id": "b144df6e-79e0-416a-8705-aca49eea1712",
   "metadata": {},
   "outputs": [
    {
     "name": "stdout",
     "output_type": "stream",
     "text": [
      "[\n",
      " {\n",
      "  \"presentationId\": \"13d21a99-ffcd-40e9-b158-42ec2c26ccd2\",\n",
      "  \"proofs\": [],\n",
      "  \"status\": \"PresentationReceived\"\n",
      " }\n",
      "]\n"
     ]
    }
   ],
   "source": [
    "path = '/prism-agent/present-proof/presentations'\n",
    "\n",
    "# Make the request\n",
    "response = requests.get(base_url + path, headers=headers)\n",
    "\n",
    "# Check the response status code\n",
    "if response.status_code == 200:\n",
    "    # Print the response content\n",
    "    # print(response.content)\n",
    "    loaded_json = json.loads(response.content.decode())\n",
    "    print(json.dumps(loaded_json, indent=1))\n",
    "    # proof_requestId = loaded_json[0]['presentationId']\n",
    "else:\n",
    "    # Print an error message\n",
    "    print(\"Error: The API returned a non-200 status code\")"
   ]
  },
  {
   "cell_type": "markdown",
   "id": "948658f8-1d5b-4a62-8cc8-965b7fde2f17",
   "metadata": {},
   "source": [
    "### Accept PresentationReceived \n",
    "> Replace `{PRESENTATION_ID}` with the UUID of the record from the presentation records list with state PresentationReceived\n",
    "\n",
    "```shell\n",
    "curl -X 'PATCH' \\\n",
    "  'http://localhost:8070/prism-agent/present-proof/presentations/{PRESENTATION_ID}' \\\n",
    "  -H 'Content-Type: application/json' \\\n",
    "  -d '{\"action\": \"presentation-accept\"}' | jq\n",
    "```\n",
    "\n"
   ]
  },
  {
   "cell_type": "code",
   "execution_count": 41,
   "id": "22285cdd-8cd6-4557-916a-a57788fdd25d",
   "metadata": {},
   "outputs": [
    {
     "name": "stdout",
     "output_type": "stream",
     "text": [
      "Error: The API returned a non-200 status code\n",
      "b'{\"detail\":\"RepositoryError(java.rmi.UnexpectedException: Invalid row count result: 0)\",\"instance\":\"error-instance\",\"status\":500,\"title\":\"error-title\",\"type\":\"error-type\"}'\n"
     ]
    }
   ],
   "source": [
    "data = {\"action\": \"presentation-accept\"}\n",
    "\n",
    "path = '/prism-agent/present-proof/presentations/' + presentation_id\n",
    "\n",
    "# Make the request\n",
    "response = requests.patch(base_url + path, headers=headers, json=data)\n",
    "\n",
    "# Check the response status code\n",
    "if response.status_code == 200:\n",
    "    # Print the response content\n",
    "    print(response.content)\n",
    "    # loaded_json = json.loads(response.content.decode())\n",
    "    # print(json.dumps(loaded_json, indent=2))\n",
    "    # proof_requestId = loaded_json[0]['presentationId']\n",
    "else:\n",
    "    # Print an error message\n",
    "    print(\"Error: The API returned a non-200 status code\")\n",
    "    print(response.content)"
   ]
  },
  {
   "cell_type": "markdown",
   "id": "5bce5ab7-ac96-41d3-ae91-b192eb65b9a3",
   "metadata": {},
   "source": [
    "### Check Presentation state  PresentationVerified \n",
    "> check PresentationVerified !\n",
    "\n",
    "```shell\n",
    "curl -X 'GET' 'http://localhost:8070/prism-agent/present-proof/presentations' -H 'accept: application/json' | jq\n",
    "```"
   ]
  },
  {
   "cell_type": "code",
   "execution_count": 46,
   "id": "85d4ad74-a861-4bcf-8cfa-15b0ae2bb378",
   "metadata": {},
   "outputs": [
    {
     "name": "stdout",
     "output_type": "stream",
     "text": [
      "[\n",
      "  {\n",
      "    \"presentationId\": \"13d21a99-ffcd-40e9-b158-42ec2c26ccd2\",\n",
      "    \"proofs\": [],\n",
      "    \"status\": \"PresentationVerified\"\n",
      "  }\n",
      "]\n"
     ]
    }
   ],
   "source": [
    "path = '/prism-agent/present-proof/presentations'\n",
    "\n",
    "# Make the request\n",
    "response = requests.get(base_url + path, headers=headers)\n",
    "\n",
    "# Check the response status code\n",
    "if response.status_code == 200:\n",
    "    # Print the response content\n",
    "    loaded_json = json.loads(response.content.decode())\n",
    "    print(json.dumps(loaded_json, indent=2))\n",
    "    \n",
    "else:\n",
    "    # Print an error message\n",
    "    print(\"Error: The API returned a non-200 status code\")\n",
    "    print(response.content)"
   ]
  },
  {
   "cell_type": "markdown",
   "id": "6505bcee-c214-4650-b100-19e512ead89a",
   "metadata": {
    "jp-MarkdownHeadingCollapsed": true,
    "tags": []
   },
   "source": [
    "## DIDs"
   ]
  },
  {
   "cell_type": "markdown",
   "id": "153333b1-85cf-43e9-98d1-e6099b5a0f5f",
   "metadata": {},
   "source": [
    "### Create a new unpublised DID stored in Prism Agent\n",
    "```bash\n",
    "curl --location --request POST 'http://localhost:8080/prism-agent/did-registrar/dids' \\\n",
    "  --header 'Content-Type: application/json' \\\n",
    "  --header 'Accept: application/json' \\\n",
    "  --data-raw '{\n",
    "    \"documentTemplate\": {\n",
    "      \"publicKeys\": [\n",
    "        {\n",
    "          \"id\": \"auth0\",\n",
    "          \"purpose\": \"authentication\"\n",
    "        }\n",
    "      ],\n",
    "      \"services\": []\n",
    "    }\n",
    "  }'\n",
    "```"
   ]
  },
  {
   "cell_type": "code",
   "execution_count": null,
   "id": "c1784b6b-1348-4566-9c22-026ffd003421",
   "metadata": {},
   "outputs": [],
   "source": [
    "path = '/prism-agent/did-registrar/dids'\n",
    "data = {\n",
    "    \"documentTemplate\": {\n",
    "      \"publicKeys\": [\n",
    "        {\n",
    "          \"id\": \"auth0\",\n",
    "          \"purpose\": \"authentication\"\n",
    "        }\n",
    "      ],\n",
    "      \"services\": []\n",
    "    }\n",
    "  }\n",
    "\n",
    "# Make the request\n",
    "response = requests.post(base_url + path, headers=headers, json=data)\n",
    "\n",
    "# Check the response status code\n",
    "if response.status_code == 200:\n",
    "    # Print the response content\n",
    "    loaded_json = json.loads(response.content.decode())\n",
    "    print(json.dumps(loaded_json, indent=2))\n",
    "    \n",
    "else:\n",
    "    # Print an error message\n",
    "    print(\"Error: The API returned a non-200 status code\")\n",
    "    print(response.content)"
   ]
  },
  {
   "cell_type": "markdown",
   "id": "95009dc6-000d-4056-8500-d519ee0c0aa6",
   "metadata": {},
   "source": [
    "### Lists all the DIDs in Prism Agent\n",
    "```bash\n",
    "curl --location --request GET 'http://localhost:8080/prism-agent/did-registrar/dids' \\\n",
    "  --header 'Accept: application/json'\n",
    "```\n",
    "\n"
   ]
  },
  {
   "cell_type": "code",
   "execution_count": null,
   "id": "131ac7e5-6ee1-4952-a134-2987c385e371",
   "metadata": {},
   "outputs": [],
   "source": [
    "path = '/prism-agent/did-registrar/dids'\n",
    "\n",
    "# Make the request\n",
    "response = requests.get(base_url + path, headers=headers)\n",
    "\n",
    "# Check the response status code\n",
    "if response.status_code == 200:\n",
    "    # Print the response content\n",
    "    loaded_json = json.loads(response.content.decode())\n",
    "    print(json.dumps(loaded_json, indent=2))\n",
    "    DID_REF = loaded_json[0]['longFormDid']\n",
    "    DID_REF_SHORT = loaded_json[0]['did']\n",
    "else:\n",
    "    # Print an error message\n",
    "    print(\"Error: The API returned a non-200 status code\")\n",
    "    print(response.content)"
   ]
  },
  {
   "cell_type": "markdown",
   "id": "603b1063-d542-4f44-afa3-97909bd12c3a",
   "metadata": {},
   "source": [
    "### Publishes the DID in Prism Agent to the blockchain\n",
    "Replace `DID_REF` by the DID on Prism Agent that should be published\n",
    "```bash\n",
    "curl --location --request POST 'http://localhost:8080/prism-agent/did-registrar/dids/{DID_REF}/publications' \\\n",
    "--header 'Accept: application/json'\n",
    "```"
   ]
  },
  {
   "cell_type": "code",
   "execution_count": null,
   "id": "7ffcbe4d-e8a3-49e6-b6f1-d808a44572c2",
   "metadata": {},
   "outputs": [],
   "source": [
    "path = '/prism-agent/did-registrar/dids/' + DID_REF + '/publications'\n",
    "\n",
    "# Make the request\n",
    "response = requests.post(base_url + path, headers=headers)\n",
    "\n",
    "# Check the response status code\n",
    "if response.status_code == 202:\n",
    "    # Print the response content\n",
    "    loaded_json = json.loads(response.content.decode())\n",
    "    print(json.dumps(loaded_json, indent=2))\n",
    "    \n",
    "else:\n",
    "    # Print an error message\n",
    "    print(\"Error: The API returned a non-202 status code\")\n",
    "    print(response.content)"
   ]
  },
  {
   "cell_type": "markdown",
   "id": "3bec083c-b2a5-42ab-a750-7d68f0a1891b",
   "metadata": {},
   "source": [
    "### Resolves the DID document of Prism DID\n",
    "Replace `DID_REF` by the DID on Prism Agent that should be resolved\n",
    "```bash\n",
    "curl --location --request GET 'http://localhost:8080/prism-agent/dids/{DID_REF}' \\\n",
    "--header 'Accept: application/json'\n",
    "```"
   ]
  },
  {
   "cell_type": "code",
   "execution_count": null,
   "id": "897ab771-933c-4979-8512-7750d63d1274",
   "metadata": {},
   "outputs": [],
   "source": [
    "path = '/prism-agent/dids/' + DID_REF\n",
    "\n",
    "# Make the request\n",
    "response = requests.get(base_url + path, headers=headers)\n",
    "\n",
    "# Check the response status code\n",
    "if response.status_code == 200:\n",
    "    # Print the response content\n",
    "    loaded_json = json.loads(response.content.decode())\n",
    "    print(json.dumps(loaded_json, indent=2))\n",
    "    \n",
    "else:\n",
    "    # Print an error message\n",
    "    print(\"Error: The API returned a non-200 status code\")\n",
    "    print(response.content)"
   ]
  },
  {
   "cell_type": "code",
   "execution_count": null,
   "id": "24c50b32-a69f-41a8-b988-b0f7b125cfab",
   "metadata": {},
   "outputs": [],
   "source": []
  }
 ],
 "metadata": {
  "kernelspec": {
   "display_name": "Python 3 (ipykernel)",
   "language": "python",
   "name": "python3"
  },
  "language_info": {
   "codemirror_mode": {
    "name": "ipython",
    "version": 3
   },
   "file_extension": ".py",
   "mimetype": "text/x-python",
   "name": "python",
   "nbconvert_exporter": "python",
   "pygments_lexer": "ipython3",
   "version": "3.10.8"
  }
 },
 "nbformat": 4,
 "nbformat_minor": 5
}
