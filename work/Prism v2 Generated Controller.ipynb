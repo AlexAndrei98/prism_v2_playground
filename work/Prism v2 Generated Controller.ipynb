{
 "cells": [
  {
   "cell_type": "markdown",
   "id": "c582acfa-c2cf-4f7d-9284-5d92e13a3152",
   "metadata": {},
   "source": [
    "# Prism V2 Demo - Localhost"
   ]
  },
  {
   "cell_type": "code",
   "execution_count": null,
   "id": "3a330e4e-4b76-4848-9515-8cc23253eae4",
   "metadata": {},
   "outputs": [],
   "source": [
    "%autoawait\n",
    "import time\n",
    "import datetime\n",
    "import re\n",
    "import qrcode\n",
    "import uuid\n",
    "import base64\n",
    "import jwt\n",
    "# https://pypi.org/project/termcolor/\n",
    "from termcolor import colored,cprint\n",
    "import json"
   ]
  },
  {
   "cell_type": "markdown",
   "id": "a9705d2d-edb1-45ac-badf-82555be341e5",
   "metadata": {},
   "source": [
    "## Import Prism V2 Controller Library"
   ]
  },
  {
   "cell_type": "code",
   "execution_count": null,
   "id": "af46eabf-95b4-4be7-b17e-528a93786ab1",
   "metadata": {},
   "outputs": [],
   "source": [
    "from prism_agent_open_api_specification_client import Client"
   ]
  },
  {
   "cell_type": "markdown",
   "id": "0b525595-2109-40f7-ba69-c512612bba74",
   "metadata": {},
   "source": [
    "## Instantiate Localhost Agent Controllers"
   ]
  },
  {
   "cell_type": "code",
   "execution_count": null,
   "id": "7b80e670-75e6-428c-9cb5-a385cc887662",
   "metadata": {},
   "outputs": [],
   "source": [
    "issuer_client_controller = Client(base_url=\"http://host.docker.internal:8080/prism-agent\")\n",
    "holder_client_controller = Client(base_url=\"http://host.docker.internal:8090/prism-agent\")\n",
    "verifier_client_controller = Client(base_url=\"http://host.docker.internal:9000/prism-agent\")"
   ]
  },
  {
   "cell_type": "markdown",
   "id": "8be17400-46a2-44ba-8d5a-7f77f577621c",
   "metadata": {},
   "source": [
    "## Import Connection Management Models and API Client"
   ]
  },
  {
   "cell_type": "code",
   "execution_count": null,
   "id": "f2702446-0e53-40c0-ba35-de6f923cafe1",
   "metadata": {},
   "outputs": [],
   "source": [
    "from prism_agent_open_api_specification_client.models import ConnectionCollection,Connection,ConnectionInvitation,CreateConnectionRequest,AcceptConnectionInvitationRequest\n",
    "from prism_agent_open_api_specification_client.api.connections_management import get_connections,get_connection,create_connection,accept_connection_invitation\n",
    "from prism_agent_open_api_specification_client.types import Response"
   ]
  },
  {
   "cell_type": "markdown",
   "id": "72aaf72b-9d70-48d0-b109-5ba8eaef2f2d",
   "metadata": {},
   "source": [
    "## Check Agent Connections"
   ]
  },
  {
   "cell_type": "code",
   "execution_count": null,
   "id": "4397d3aa-34d2-4d96-8996-1f908d32bb5c",
   "metadata": {},
   "outputs": [],
   "source": [
    "issuer_conns: Response[ConnectionCollection] = get_connections.sync(client=issuer_client_controller)\n",
    "holder_conns: Response[ConnectionCollection] = get_connections.sync(client=holder_client_controller)\n",
    "verifier_conns: Response[ConnectionCollection] = get_connections.sync(client=verifier_client_controller)\n",
    "print(\"Issuer Connections:\\n{}\\nHolder Connections:\\n{}\\nVerifier Connections:\\n{}\".format(issuer_conns, holder_conns,verifier_conns))"
   ]
  },
  {
   "cell_type": "markdown",
   "id": "e51eb416-e59f-4241-993a-44a08c62e8b4",
   "metadata": {
    "tags": []
   },
   "source": [
    "## Issuer Connects with Holder"
   ]
  },
  {
   "cell_type": "code",
   "execution_count": null,
   "id": "e3a740cd-7b3a-459e-bd45-f45ced77832f",
   "metadata": {
    "tags": []
   },
   "outputs": [],
   "source": [
    "# Create Invitation\n",
    "conn_request = CreateConnectionRequest()\n",
    "conn_request.label = 'Connect with Holder'\n",
    "issuer_invitation: Response[Connection] =  create_connection.sync(client=issuer_client_controller,json_body=conn_request)\n",
    "\n",
    "print(\"Response:\\n\",issuer_invitation)\n",
    "print(\"Connection ID\\n\",issuer_invitation.connection_id)\n",
    "# print(\"Invitation URL\\n\",issuer_invitation.invitation.invitation_url)\n",
    "issuer_invitationUrlbase64 = re.sub(\"^.*_oob=\", \"\", issuer_invitation.invitation.invitation_url)\n",
    "print(\"Invitation Base64\\n\",issuer_invitationUrlbase64)"
   ]
  },
  {
   "cell_type": "markdown",
   "id": "780ca6de-ad7a-4e9a-9ed7-913f27d79c14",
   "metadata": {},
   "source": [
    "## Holder Accepts Invitation from Issuer"
   ]
  },
  {
   "cell_type": "code",
   "execution_count": null,
   "id": "0ef0073f-5064-4127-bf40-dbe261479986",
   "metadata": {
    "tags": []
   },
   "outputs": [],
   "source": [
    "# Accept Invitation\n",
    "accept_conn_request = AcceptConnectionInvitationRequest(issuer_invitationUrlbase64)\n",
    "holder_invitation: Response[ConnectionInvitation] =  accept_connection_invitation.sync(client=holder_client_controller,json_body=accept_conn_request)\n",
    "print(holder_invitation)"
   ]
  },
  {
   "cell_type": "markdown",
   "id": "de2a2543-8711-4899-9616-c12063ec208e",
   "metadata": {},
   "source": [
    "## Check Issuer and Holder Connection State"
   ]
  },
  {
   "cell_type": "code",
   "execution_count": null,
   "id": "31efd85a-cfdf-41fd-951b-2eb2aaa32365",
   "metadata": {},
   "outputs": [],
   "source": [
    "# Check Connection State\n",
    "issuer_conn: Response[Connection] =  get_connection.sync(client=issuer_client_controller,connection_id=issuer_invitation.connection_id)\n",
    "holder_conn: Response[Connection] =  get_connection.sync(client=holder_client_controller,connection_id=holder_invitation.connection_id)\n",
    "\n",
    "while (issuer_conn.state != 'ConnectionResponseSent' and holder_conn.state != 'ConnectionResponseReceived'):\n",
    "    issuer_conn: Response[Connection] =  get_connection.sync(client=issuer_client_controller,connection_id=issuer_invitation.connection_id)\n",
    "    holder_conn: Response[Connection] =  get_connection.sync(client=holder_client_controller,connection_id=holder_invitation.connection_id)\n",
    "    print(\"Issuer State: {} Holder State: {} \\n\".format(issuer_conn.state,holder_conn.state))\n",
    "    time.sleep(1)\n",
    "    \n",
    "print(\"Connection established between Issuer and Holder!\")"
   ]
  },
  {
   "cell_type": "markdown",
   "id": "220ee16e-a902-4aa8-8b27-1507a5588bdd",
   "metadata": {},
   "source": [
    "## Check Agent Connections"
   ]
  },
  {
   "cell_type": "code",
   "execution_count": null,
   "id": "d284397d-69cb-432f-8c71-5fd420b666da",
   "metadata": {},
   "outputs": [],
   "source": [
    "issuer_conns: Response[ConnectionCollection] = get_connections.sync(client=issuer_client_controller)\n",
    "holder_conns: Response[ConnectionCollection] = get_connections.sync(client=holder_client_controller)\n",
    "verifier_conns: Response[ConnectionCollection] = get_connections.sync(client=verifier_client_controller)\n",
    "print(\"Issuer Connections:\\n{}\\n\\nHolder Connections:\\n{}\\n\\nVerifier Connections:\\n{}\".format(issuer_conns, holder_conns,verifier_conns))"
   ]
  },
  {
   "cell_type": "markdown",
   "id": "da9acd43-e873-42e2-85da-a1bddf1909ed",
   "metadata": {},
   "source": [
    "## Import Credential Management Models and API Client"
   ]
  },
  {
   "cell_type": "code",
   "execution_count": null,
   "id": "12e52104-5c2b-4404-a3b1-be00d73003d3",
   "metadata": {},
   "outputs": [],
   "source": [
    "from prism_agent_open_api_specification_client.models import IssueCredentialRecord, CreateIssueCredentialRecordRequest, CreateIssueCredentialRecordRequestClaims, IssueCredentialRecordCollection\n",
    "from prism_agent_open_api_specification_client.api.issue_credentials_protocol import get_credential_record, get_credential_records, create_credential_offer,accept_credential_offer,issue_credential\n",
    "from prism_agent_open_api_specification_client.types import Response, Unset"
   ]
  },
  {
   "cell_type": "markdown",
   "id": "e0327bd3-b88b-4514-bbbd-844642cbdf72",
   "metadata": {},
   "source": [
    "## Check Credentials in Wallets"
   ]
  },
  {
   "cell_type": "code",
   "execution_count": null,
   "id": "ea6e95b4-a8ea-4a79-bb0d-fb8b00245766",
   "metadata": {},
   "outputs": [],
   "source": [
    "issuer_creds: Response[IssueCredentialRecordCollection] = get_credential_records.sync(client=issuer_client_controller)\n",
    "holder_creds: Response[IssueCredentialRecordCollection] = get_credential_records.sync(client=holder_client_controller)\n",
    "verifier_creds: Response[IssueCredentialRecordCollection] = get_credential_records.sync(client=verifier_client_controller)\n",
    "print(\"Issuer Credentials:\\n{}\\n\\nHolder Credentials:\\n{}\\n\\nVerifier Credentials:\\n{}\".format(issuer_creds, holder_creds,verifier_creds))"
   ]
  },
  {
   "cell_type": "markdown",
   "id": "b964dbd9-f4c3-4f2c-bb7b-522b3c008fb5",
   "metadata": {},
   "source": [
    "## Define Credential Schema and Content"
   ]
  },
  {
   "cell_type": "markdown",
   "id": "fa385d8f-06b2-467c-9251-bb9de641cc0e",
   "metadata": {},
   "source": [
    "# TODO!!!\n",
    "> Create Prism DID for Holder and then change the subject DID to a Prism DID|\n"
   ]
  },
  {
   "cell_type": "code",
   "execution_count": null,
   "id": "5234e899-478f-4fc6-9cf0-9ddead2030fc",
   "metadata": {},
   "outputs": [],
   "source": [
    "# firstname = input(\"Please enter firstname for credential: \")\n",
    "# lastname = input(\"Please enter lastname for credential: \")\n",
    "# birthdate = input(\"Please enter birthdate for credential: \")\n",
    "# data = {\n",
    "#         \"firstname\": firstname,\n",
    "#         \"lastname\": lastname,\n",
    "#         \"birthdate\": birthdate\n",
    "#       }\n",
    "\n",
    "data = {\n",
    "        \"firstname\": 'Joe',\n",
    "        \"lastname\": 'Soap',\n",
    "        \"birthdate\": '11/11/1999'\n",
    "      }\n",
    "cred_claims = CreateIssueCredentialRecordRequestClaims()\n",
    "cred_claims = cred_claims.from_dict(data)\n",
    "print(cred_claims)\n",
    "\n",
    "credential_offer = CreateIssueCredentialRecordRequest(subject_id=issuer_conn.their_did, claims=cred_claims, schema_id=\"1234\", validity_period=3600, automatic_issuance=False, await_confirmation=False)\n",
    "\n",
    "print(credential_offer.to_dict())"
   ]
  },
  {
   "cell_type": "markdown",
   "id": "b1cea471-f4ec-4fe3-b62f-6e9901b7cef2",
   "metadata": {},
   "source": [
    "## Send Credential Offer to Holder"
   ]
  },
  {
   "cell_type": "code",
   "execution_count": null,
   "id": "1a37924d-6d18-4b28-9241-9d30bf8ad12b",
   "metadata": {},
   "outputs": [],
   "source": [
    "# Create Credential Offer\n",
    "issuer_cred_offer: Response[IssueCredentialRecord] = create_credential_offer.sync(client=issuer_client_controller,json_body=credential_offer)\n",
    "print(issuer_cred_offer)"
   ]
  },
  {
   "cell_type": "markdown",
   "id": "1c2e046e-b529-49db-a960-d330d47af0f7",
   "metadata": {},
   "source": [
    "## Retrieve Credential Records from Issuer and Holder"
   ]
  },
  {
   "cell_type": "code",
   "execution_count": null,
   "id": "7fda642d-12cc-472f-8c2e-f0e393b9055e",
   "metadata": {},
   "outputs": [],
   "source": [
    "# Check Credential State\n",
    "while (issuer_creds.items == [] or holder_creds.items == []):\n",
    "    try:\n",
    "            issuer_creds: Response[IssueCredentialRecordCollection] = get_credential_records.sync(client=issuer_client_controller)\n",
    "            holder_creds: Response[IssueCredentialRecordCollection] = get_credential_records.sync(client=holder_client_controller)\n",
    "            verifier_creds: Response[IssueCredentialRecordCollection] = get_credential_records.sync(client=verifier_client_controller)\n",
    "            \n",
    "            time.sleep(1)\n",
    "    except IndexError as e:\n",
    "        pass\n",
    "\n",
    "print(colored(\"Current state for Issuer Credential Record {} is {} and Holder Credential Record {} is {}\".format(issuer_creds.items[0].record_id,issuer_creds.items[0].protocol_state,holder_creds.items[0].record_id,holder_creds.items[0].protocol_state), \"magenta\", attrs=[\"bold\"]))"
   ]
  },
  {
   "cell_type": "markdown",
   "id": "42235069-9812-4c6d-ae32-909da72550de",
   "metadata": {},
   "source": [
    "## Holder Accept Credential Offer from Issuer"
   ]
  },
  {
   "cell_type": "code",
   "execution_count": null,
   "id": "1ca223ea-f316-455e-b6eb-1be83fe8e0ce",
   "metadata": {},
   "outputs": [],
   "source": [
    "print(holder_creds.items[0].record_id)\n",
    "holder_cred_record: Response[IssueCredentialRecord] = accept_credential_offer.sync(client=holder_client_controller, record_id=holder_creds.items[0].record_id)\n",
    "print(holder_cred_record)"
   ]
  },
  {
   "cell_type": "markdown",
   "id": "6c90c28c-46c3-4c5e-be67-40d7b0c9aab6",
   "metadata": {},
   "source": [
    "## Issue Credential to Holder"
   ]
  },
  {
   "cell_type": "code",
   "execution_count": null,
   "id": "169dc82f-f0a7-4f9a-ba33-f61eb5e97b45",
   "metadata": {},
   "outputs": [],
   "source": [
    "# while holder_creds.items[0].protocol_state != 'RequestSent':\n",
    "#     holder_creds: Response[IssueCredentialRecordCollection] = get_credential_records.sync(client=holder_client_controller)\n",
    "\n",
    "issuer_cred_record: Response[IssueCredentialRecord] = issue_credential.sync(client=issuer_client_controller, record_id=issuer_creds.items[0].record_id)\n",
    "print(issuer_cred_record)"
   ]
  },
  {
   "cell_type": "markdown",
   "id": "cea667e7-5443-43f0-a507-dc96817c41ed",
   "metadata": {},
   "source": [
    "## Check if Credential is Successfully Issued to Holder"
   ]
  },
  {
   "cell_type": "code",
   "execution_count": null,
   "id": "640b3439-8afd-4378-9f3e-0b04f2f04f48",
   "metadata": {},
   "outputs": [],
   "source": [
    "# Check Credential State\n",
    "issuer_creds: Response[IssueCredentialRecordCollection] = get_credential_records.sync(client=issuer_client_controller)\n",
    "holder_creds: Response[IssueCredentialRecordCollection] = get_credential_records.sync(client=holder_client_controller)\n",
    "verifier_creds: Response[IssueCredentialRecordCollection] = get_credential_records.sync(client=verifier_client_controller)\n",
    "\n",
    "print(colored(\"Current state for Issuer Credential Record {} is {} and Holder Credential Record {} is {}\".format(issuer_creds.items[0].record_id,issuer_creds.items[0].protocol_state,holder_creds.items[0].record_id,holder_creds.items[0].protocol_state), \"magenta\", attrs=[\"bold\"]))\n",
    "\n",
    "while (issuer_creds.items[0].protocol_state != 'CredentialSent' and holder_creds.items[0].protocol_state != 'CredentialReceived'):\n",
    "    issuer_creds: Response[IssueCredentialRecordCollection] = get_credential_records.sync(client=issuer_client_controller)\n",
    "    holder_creds: Response[IssueCredentialRecordCollection] = get_credential_records.sync(client=holder_client_controller)\n",
    "    print(\"Issuer State: {} Holder State: {} \\n\".format(issuer_creds.items[0].protocol_state,holder_creds.items[0].protocol_state))\n",
    "    time.sleep(1)\n",
    "    \n",
    "print(colored(\"Credential Record {} Issued to Holder! Continue with notebook\".format(issuer_creds.items[0].record_id), \"green\", attrs=[\"bold\"]))\n"
   ]
  },
  {
   "cell_type": "markdown",
   "id": "8e3f1525-dab6-4ba4-9ff8-e662335386e2",
   "metadata": {
    "tags": []
   },
   "source": [
    "### Decode JWT in Credential"
   ]
  },
  {
   "cell_type": "code",
   "execution_count": null,
   "id": "0eea6852-91d9-42e5-8204-91118cbe8146",
   "metadata": {},
   "outputs": [],
   "source": [
    "token = holder_creds.items[0].jwt_credential\n",
    "jsondata = base64.urlsafe_b64decode(token)\n",
    "b64decoded_token = json.loads(jsondata.decode())\n",
    "print(b64decoded_token,'\\n')\n",
    "header = jwt.get_unverified_header(b64decoded_token)\n",
    "print (header,'\\n')\n",
    "\n",
    "try:\n",
    "    jwt_decoded_id_token = jwt.decode(b64decoded_token, options={\"verify_signature\": False})\n",
    "    # print(jwt_decoded_id_token)\n",
    "    print(json.dumps(jwt_decoded_id_token, indent=2))\n",
    "except (jwt.ExpiredSignatureError, jwt.InvalidAudienceError) as e:\n",
    "    print(\"[ERROR]\", e)"
   ]
  },
  {
   "cell_type": "code",
   "execution_count": null,
   "id": "80a35cdf-2444-4469-8f7e-ccb16d8bf1a2",
   "metadata": {},
   "outputs": [],
   "source": [
    "jwt_nbf = jwt_decoded_id_token['nbf']\n",
    "jwt_exp = jwt_decoded_id_token['exp']\n",
    "print('NBF epoch: {} EXP epoch: {}'.format(jwt_nbf,jwt_exp))\n",
    "\n",
    "human_jwt_nbf = datetime.datetime.fromtimestamp(jwt_nbf)\n",
    "human_jwt_exp = datetime.datetime.fromtimestamp(jwt_exp)\n",
    "print('NBF: {} EXP: {}'.format(human_jwt_nbf,human_jwt_exp))"
   ]
  },
  {
   "cell_type": "markdown",
   "id": "c3d95040-7a32-4704-b80b-31c781574db4",
   "metadata": {},
   "source": [
    "## Proof Presentation Flow"
   ]
  },
  {
   "cell_type": "markdown",
   "id": "cf62b34a-9b0b-43a3-b989-ce1c158926d8",
   "metadata": {},
   "source": [
    "## Make a Connection between Holder and Verifier"
   ]
  },
  {
   "cell_type": "markdown",
   "id": "c92e40dc-ffd7-4a53-a8c8-31fcf2aba513",
   "metadata": {},
   "source": [
    "## Check Agent Connections"
   ]
  },
  {
   "cell_type": "code",
   "execution_count": null,
   "id": "041f1ee3-b89d-4231-99e5-de97f25722fc",
   "metadata": {},
   "outputs": [],
   "source": [
    "issuer_conns: Response[ConnectionCollection] = get_connections.sync(client=issuer_client_controller)\n",
    "holder_conns: Response[ConnectionCollection] = get_connections.sync(client=holder_client_controller)\n",
    "verifier_conns: Response[ConnectionCollection] = get_connections.sync(client=verifier_client_controller)\n",
    "print(\"Issuer Connections:\\n{}\\nHolder Connections:\\n{}\\nVerifier Connections:\\n{}\".format(issuer_conns, holder_conns,verifier_conns))"
   ]
  },
  {
   "cell_type": "markdown",
   "id": "7b5a438f-27ec-45e4-be83-a9dd51fd68b8",
   "metadata": {
    "tags": []
   },
   "source": [
    "## Verifier Connects with Holder"
   ]
  },
  {
   "cell_type": "code",
   "execution_count": null,
   "id": "71fe2a24-c58b-4e35-944e-146a5b5dd089",
   "metadata": {
    "tags": []
   },
   "outputs": [],
   "source": [
    "# Create Invitation\n",
    "conn_request = CreateConnectionRequest()\n",
    "conn_request.label = 'Connect with Verifier'\n",
    "verifier_invitation: Response[Connection] =  create_connection.sync(client=verifier_client_controller,json_body=conn_request)\n",
    "\n",
    "print(\"Response:\\n\",verifier_invitation)\n",
    "print(\"Connection ID\\n\",verifier_invitation.connection_id)\n",
    "# print(\"Invitation URL\\n\",issuer_invitation.invitation.invitation_url)\n",
    "verifier_invitationUrlbase64 = re.sub(\"^.*_oob=\", \"\", verifier_invitation.invitation.invitation_url)\n",
    "print(\"Invitation Base64\\n\",verifier_invitationUrlbase64)"
   ]
  },
  {
   "cell_type": "markdown",
   "id": "fef29175-0df4-459a-a607-f6b7c3fb22e6",
   "metadata": {},
   "source": [
    "## Holder Accepts Invitation from Verifier"
   ]
  },
  {
   "cell_type": "code",
   "execution_count": null,
   "id": "639f1558-3431-4245-8499-7e7826088dc5",
   "metadata": {
    "tags": []
   },
   "outputs": [],
   "source": [
    "# Accept Invitation\n",
    "accept_conn_request = AcceptConnectionInvitationRequest(verifier_invitationUrlbase64)\n",
    "holder_invitation: Response[ConnectionInvitation] =  accept_connection_invitation.sync(client=holder_client_controller,json_body=accept_conn_request)\n",
    "print(holder_invitation)"
   ]
  },
  {
   "cell_type": "markdown",
   "id": "6b641763-3900-4f70-9b88-1c2422a768dc",
   "metadata": {},
   "source": [
    "## Check Verifier and Holder Connection State"
   ]
  },
  {
   "cell_type": "code",
   "execution_count": null,
   "id": "63f12511-2792-4fe9-ab50-56ad2b8bb0f4",
   "metadata": {},
   "outputs": [],
   "source": [
    "# Check Connection State\n",
    "verifier_conn: Response[Connection] =  get_connection.sync(client=verifier_client_controller,connection_id=verifier_invitation.connection_id)\n",
    "holder_conn: Response[Connection] =  get_connection.sync(client=holder_client_controller,connection_id=holder_invitation.connection_id)\n",
    "\n",
    "while (verifier_conn.state != 'ConnectionResponseSent' and holder_conn.state != 'ConnectionResponseReceived'):\n",
    "    verifier_conn: Response[Connection] =  get_connection.sync(client=verifier_client_controller,connection_id=verifier_invitation.connection_id)\n",
    "    holder_conn: Response[Connection] =  get_connection.sync(client=holder_client_controller,connection_id=holder_invitation.connection_id)\n",
    "    print(\"Verifier State: {} Holder State: {} \\n\".format(verifier_conn.state,holder_conn.state))\n",
    "    time.sleep(1)\n",
    "    \n",
    "print(\"Connection established between Verifier and Holder!\")"
   ]
  },
  {
   "cell_type": "markdown",
   "id": "3b9d6733-23f0-42a9-bb82-3071ad3e6dc1",
   "metadata": {},
   "source": [
    "## Import Presentation Management Models and API Client"
   ]
  },
  {
   "cell_type": "code",
   "execution_count": null,
   "id": "d1b9c721-a5fb-4d22-acc0-aaff8070b99e",
   "metadata": {},
   "outputs": [],
   "source": [
    "from prism_agent_open_api_specification_client.models import PresentationStatus, ErrorResponse, Proof, ProofRequestAux, PublicKeyJwk, RequestPresentationInput, RequestPresentationOutput, RequestPresentationAction\n",
    "from prism_agent_open_api_specification_client.api.present_proof import get_all_presentation, request_presentation, update_presentation\n",
    "from prism_agent_open_api_specification_client.types import Response"
   ]
  },
  {
   "cell_type": "markdown",
   "id": "c718d610-7ee4-4ec9-90f9-8d8d0fa1af81",
   "metadata": {},
   "source": [
    "## Check Presentation Requests in Wallets"
   ]
  },
  {
   "cell_type": "code",
   "execution_count": null,
   "id": "f765c2fb-caa4-4502-8bb5-2ecf5d3f3596",
   "metadata": {},
   "outputs": [],
   "source": [
    "issuer_proofs: Response[Proof] = get_all_presentation.sync(client=issuer_client_controller)\n",
    "holder_proofs: Response[Proof] = get_all_presentation.sync(client=holder_client_controller)\n",
    "verifier_proofs: Response[Proof] = get_all_presentation.sync(client=verifier_client_controller)\n",
    "print(\"Issuer Proofs:\\n{}\\n\\nHolder Proofs:\\n{}\\n\\nVerifier Proofs:\\n{}\".format(issuer_proofs, holder_proofs,verifier_proofs))"
   ]
  },
  {
   "cell_type": "markdown",
   "id": "3f7d1d75-ce77-40d4-b40b-e915dc87555b",
   "metadata": {},
   "source": [
    "## Initiate a Proof Request"
   ]
  },
  {
   "cell_type": "code",
   "execution_count": null,
   "id": "ed64563b-f6e9-4fb8-b240-4002879baa4e",
   "metadata": {},
   "outputs": [],
   "source": [
    "data = {\n",
    "  \"connectionId\": verifier_invitation.connection_id, \n",
    "    \"proofs\": [\n",
    "        {\n",
    "            \"schemaId\": \"1234\",\n",
    "            \"trustIssuers\": []\n",
    "        }\n",
    "    ]\n",
    "}\n",
    "\n",
    "# data = {\n",
    "#   \"connectionId\": verifier_invitation.connection_id, \n",
    "#     \"proofs\": []\n",
    "# }\n",
    "proof_request = RequestPresentationInput.from_dict(data)\n",
    "\n",
    "verifier_proof_request: Response[RequestPresentationInput] = request_presentation.sync(client=verifier_client_controller, json_body=proof_request)\n",
    "\n",
    "print(verifier_proof_request)"
   ]
  },
  {
   "cell_type": "markdown",
   "id": "77a9f1f4-7e77-497d-a2af-4193340a7650",
   "metadata": {},
   "source": [
    "## Check Presentation Requests in Wallets"
   ]
  },
  {
   "cell_type": "code",
   "execution_count": null,
   "id": "b6193993-2742-41ce-8053-30e58de52d84",
   "metadata": {},
   "outputs": [],
   "source": [
    "while holder_proofs == []:\n",
    "    issuer_proofs: Response[PresentationStatus] = get_all_presentation.sync(client=issuer_client_controller)\n",
    "    holder_proofs: Response[PresentationStatus] = get_all_presentation.sync(client=holder_client_controller)\n",
    "    verifier_proofs: Response[PresentationStatus] = get_all_presentation.sync(client=verifier_client_controller)\n",
    "print(\"Issuer Proofs:\\n{}\\n\\nHolder Proofs:\\n{}\\n\\nVerifier Proofs:\\n{}\".format(issuer_proofs, holder_proofs,verifier_proofs))"
   ]
  },
  {
   "cell_type": "markdown",
   "id": "e66e6712-4521-411b-9efd-24327603872c",
   "metadata": {
    "tags": []
   },
   "source": [
    "### Accepting the Presentation Request"
   ]
  },
  {
   "cell_type": "code",
   "execution_count": null,
   "id": "b969a9b1-478f-4d21-bf5a-8a61727130b7",
   "metadata": {},
   "outputs": [],
   "source": [
    "from typing import Any, Dict, Optional, Union, cast\n",
    "\n",
    "data = {\n",
    "  \"action\": \"request-accept\",\n",
    "  \"proofId\": [holder_creds.items[0].record_id]\n",
    "}\n",
    "\n",
    "proof_accept = RequestPresentationAction.from_dict(data)\n",
    "\n",
    "holder_proof_request: Response[Union[Any, ErrorResponse]] = update_presentation.sync(client=holder_client_controller, json_body=proof_accept, id=holder_proofs[0].presentation_id)\n",
    "\n",
    "print(holder_proof_request)"
   ]
  },
  {
   "cell_type": "markdown",
   "id": "fa36ed87-fad9-43df-bbfd-19c72023484c",
   "metadata": {},
   "source": [
    "## Check Proof Presentation State"
   ]
  },
  {
   "cell_type": "code",
   "execution_count": null,
   "id": "cda997d6-4dc4-40da-b696-9b2d62d58d38",
   "metadata": {},
   "outputs": [],
   "source": [
    "# Check Proof Presentation State\n",
    "while (holder_proofs[0].status != 'PresentationSent' and verifier_proofs[0].status != 'PresentationVerified'):\n",
    "    holder_proofs: Response[PresentationStatus] = get_all_presentation.sync(client=holder_client_controller)\n",
    "    verifier_proofs: Response[PresentationStatus] = get_all_presentation.sync(client=verifier_client_controller)\n",
    "    print(\"Verifier State: {} Holder State: {} \\n\".format(holder_proofs[0].status,verifier_proofs[0].status))\n",
    "    time.sleep(1)\n",
    "    \n",
    "print(\"Proof Presentation completed between Verifier and Holder!\")"
   ]
  },
  {
   "cell_type": "markdown",
   "id": "e91e9fd6-f877-4d20-a896-6f4c614b9052",
   "metadata": {},
   "source": [
    "## Check Presentation Requests in Wallets"
   ]
  },
  {
   "cell_type": "code",
   "execution_count": null,
   "id": "a5101b21-2480-41a9-b9e0-fc43bc80916b",
   "metadata": {},
   "outputs": [],
   "source": [
    "issuer_proofs: Response[PresentationStatus] = get_all_presentation.sync(client=issuer_client_controller)\n",
    "holder_proofs: Response[PresentationStatus] = get_all_presentation.sync(client=holder_client_controller)\n",
    "verifier_proofs: Response[PresentationStatus] = get_all_presentation.sync(client=verifier_client_controller)\n",
    "print(\"Issuer Proofs:\\n{}\\n\\nHolder Proofs:\\n{}\\n\\nVerifier Proofs:\\n{}\".format(issuer_proofs, holder_proofs,verifier_proofs))"
   ]
  },
  {
   "cell_type": "markdown",
   "id": "c591d341-fd03-4a9f-82ce-67c7a670f65e",
   "metadata": {},
   "source": [
    "### Decode JWT in Credential"
   ]
  },
  {
   "cell_type": "code",
   "execution_count": null,
   "id": "78b938ff-2a60-4db1-9c17-5266c55a80ce",
   "metadata": {},
   "outputs": [],
   "source": [
    "print(loaded_json)"
   ]
  },
  {
   "cell_type": "code",
   "execution_count": null,
   "id": "6792d7b9-76a0-468a-b0b8-6b54749cdfd2",
   "metadata": {},
   "outputs": [],
   "source": [
    "token = holder_creds.items[0].jwt_credential\n",
    "jsondata = base64.urlsafe_b64decode(token)\n",
    "b64decoded_token = json.loads(jsondata.decode())\n",
    "print(b64decoded_token,'\\n')\n",
    "header = jwt.get_unverified_header(b64decoded_token)\n",
    "print (header,'\\n')\n",
    "\n",
    "try:\n",
    "    jwt_decoded_id_token = jwt.decode(b64decoded_token, options={\"verify_signature\": False})\n",
    "    # print(jwt_decoded_id_token)\n",
    "    print(json.dumps(jwt_decoded_id_token, indent=2))\n",
    "except (jwt.ExpiredSignatureError, jwt.InvalidAudienceError) as e:\n",
    "    print(\"[ERROR]\", e)"
   ]
  },
  {
   "cell_type": "code",
   "execution_count": null,
   "id": "378067d3-7e2d-4335-a7d0-e0a8236037ab",
   "metadata": {},
   "outputs": [],
   "source": [
    "jwt_nbf = jwt_decoded_id_token['nbf']\n",
    "jwt_exp = jwt_decoded_id_token['exp']\n",
    "print('NBF epoch: {} EXP epoch: {}'.format(jwt_nbf,jwt_exp))\n",
    "\n",
    "human_jwt_nbf = datetime.datetime.fromtimestamp(jwt_nbf)\n",
    "human_jwt_exp = datetime.datetime.fromtimestamp(jwt_exp)\n",
    "print('NBF: {} EXP: {}'.format(human_jwt_nbf,human_jwt_exp))"
   ]
  }
 ],
 "metadata": {
  "kernelspec": {
   "display_name": "Python 3 (ipykernel)",
   "language": "python",
   "name": "python3"
  },
  "language_info": {
   "codemirror_mode": {
    "name": "ipython",
    "version": 3
   },
   "file_extension": ".py",
   "mimetype": "text/x-python",
   "name": "python",
   "nbconvert_exporter": "python",
   "pygments_lexer": "ipython3",
   "version": "3.10.8"
  }
 },
 "nbformat": 4,
 "nbformat_minor": 5
}
