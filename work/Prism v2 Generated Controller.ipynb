{
 "cells": [
  {
   "cell_type": "markdown",
   "id": "c582acfa-c2cf-4f7d-9284-5d92e13a3152",
   "metadata": {},
   "source": [
    "# Prism V2 Demo - Localhost"
   ]
  },
  {
   "cell_type": "code",
   "execution_count": 1,
   "id": "3a330e4e-4b76-4848-9515-8cc23253eae4",
   "metadata": {},
   "outputs": [
    {
     "name": "stdout",
     "output_type": "stream",
     "text": [
      "IPython autoawait is `on`, and set to use `asyncio`\n"
     ]
    }
   ],
   "source": [
    "%autoawait\n",
    "import time\n",
    "import re\n",
    "import qrcode\n",
    "import uuid\n",
    "import base64\n",
    "import jwt\n",
    "# https://pypi.org/project/termcolor/\n",
    "from termcolor import colored,cprint"
   ]
  },
  {
   "cell_type": "markdown",
   "id": "a9705d2d-edb1-45ac-badf-82555be341e5",
   "metadata": {},
   "source": [
    "## Import Prism V2 Controller Library"
   ]
  },
  {
   "cell_type": "code",
   "execution_count": 2,
   "id": "af46eabf-95b4-4be7-b17e-528a93786ab1",
   "metadata": {},
   "outputs": [],
   "source": [
    "from prism_agent_open_api_specification_client import Client"
   ]
  },
  {
   "cell_type": "markdown",
   "id": "0b525595-2109-40f7-ba69-c512612bba74",
   "metadata": {},
   "source": [
    "## Instantiate Localhost Agent Controllers"
   ]
  },
  {
   "cell_type": "code",
   "execution_count": 3,
   "id": "7b80e670-75e6-428c-9cb5-a385cc887662",
   "metadata": {},
   "outputs": [],
   "source": [
    "issuer_client_controller = Client(base_url=\"http://host.docker.internal:8080/prism-agent\")\n",
    "holder_client_controller = Client(base_url=\"http://host.docker.internal:8090/prism-agent\")\n",
    "verifier_client_controller = Client(base_url=\"http://host.docker.internal:9000/prism-agent\")"
   ]
  },
  {
   "cell_type": "markdown",
   "id": "8be17400-46a2-44ba-8d5a-7f77f577621c",
   "metadata": {},
   "source": [
    "## Import Connection Management Models and API Client"
   ]
  },
  {
   "cell_type": "code",
   "execution_count": 4,
   "id": "f2702446-0e53-40c0-ba35-de6f923cafe1",
   "metadata": {},
   "outputs": [],
   "source": [
    "from prism_agent_open_api_specification_client.models import ConnectionCollection,Connection,ConnectionInvitation,CreateConnectionRequest,AcceptConnectionInvitationRequest\n",
    "from prism_agent_open_api_specification_client.api.connections_management import get_connections,get_connection,create_connection,accept_connection_invitation\n",
    "from prism_agent_open_api_specification_client.types import Response"
   ]
  },
  {
   "cell_type": "markdown",
   "id": "72aaf72b-9d70-48d0-b109-5ba8eaef2f2d",
   "metadata": {},
   "source": [
    "## Check Agent Connections"
   ]
  },
  {
   "cell_type": "code",
   "execution_count": 5,
   "id": "4397d3aa-34d2-4d96-8996-1f908d32bb5c",
   "metadata": {},
   "outputs": [
    {
     "name": "stdout",
     "output_type": "stream",
     "text": [
      "Issuer Connections:\n",
      "ConnectionCollection(self_='/collections', kind='Collection', contents=[], additional_properties={})\n",
      "Holder Connections:\n",
      "ConnectionCollection(self_='/collections', kind='Collection', contents=[], additional_properties={})\n",
      "Verifier Connections:\n",
      "ConnectionCollection(self_='/collections', kind='Collection', contents=[], additional_properties={})\n"
     ]
    }
   ],
   "source": [
    "issuer_conns: Response[ConnectionCollection] = get_connections.sync(client=issuer_client_controller)\n",
    "holder_conns: Response[ConnectionCollection] = get_connections.sync(client=holder_client_controller)\n",
    "verifier_conns: Response[ConnectionCollection] = get_connections.sync(client=verifier_client_controller)\n",
    "print(\"Issuer Connections:\\n{}\\nHolder Connections:\\n{}\\nVerifier Connections:\\n{}\".format(issuer_conns, holder_conns,verifier_conns))"
   ]
  },
  {
   "cell_type": "markdown",
   "id": "e51eb416-e59f-4241-993a-44a08c62e8b4",
   "metadata": {},
   "source": [
    "## Issuer Connects with Holder"
   ]
  },
  {
   "cell_type": "code",
   "execution_count": 6,
   "id": "e3a740cd-7b3a-459e-bd45-f45ced77832f",
   "metadata": {
    "tags": []
   },
   "outputs": [
    {
     "name": "stdout",
     "output_type": "stream",
     "text": [
      "Response:\n",
      " Connection(self_='Connection', kind='/connections/0bfa3eed-b047-47c3-a225-3ecd31a74949', connection_id='0bfa3eed-b047-47c3-a225-3ecd31a74949', state=<ConnectionAllOfState.InvitationGenerated: 'InvitationGenerated'>, created_at=datetime.datetime(2022, 12, 19, 23, 30, 50, 283081, tzinfo=tzutc()), invitation=ConnectionInvitation(id='0bfa3eed-b047-47c3-a225-3ecd31a74949', type='https://didcomm.org/out-of-band/2.0/invitation', from_='did:peer:2.Ez6LSjWAC1LgZPEjDxb1yXBby6ZYyYLJRSo45Wbpe9MZVs4R4.Vz6Mkem1XwbTctTYsfKH6Afpm1qDWwJDAzFbAUd8t3jCBTQL1.SeyJ0IjoiZG0iLCJzIjoiaHR0cDovL2hvc3QuZG9ja2VyLmludGVybmFsOjgwODAvZGlkY29tbSIsInIiOltdLCJhIjpbImRpZGNvbW0vdjIiXX0', invitation_url='https://domain.com/path?_oob=eyJpZCI6IjBiZmEzZWVkLWIwNDctNDdjMy1hMjI1LTNlY2QzMWE3NDk0OSIsInR5cGUiOiJodHRwczovL2RpZGNvbW0ub3JnL291dC1vZi1iYW5kLzIuMC9pbnZpdGF0aW9uIiwiZnJvbSI6ImRpZDpwZWVyOjIuRXo2TFNqV0FDMUxnWlBFakR4YjF5WEJieTZaWXlZTEpSU280NVdicGU5TVpWczRSNC5WejZNa2VtMVh3YlRjdFRZc2ZLSDZBZnBtMXFEV3dKREF6RmJBVWQ4dDNqQ0JUUUwxLlNleUowSWpvaVpHMGlMQ0p6SWpvaWFIUjBjRG92TDJodmMzUXVaRzlqYTJWeUxtbHVkR1Z5Ym1Gc09qZ3dPREF2Wkdsa1kyOXRiU0lzSW5JaU9sdGRMQ0poSWpwYkltUnBaR052YlcwdmRqSWlYWDAiLCJib2R5Ijp7ImdvYWxfY29kZSI6ImNvbm5lY3QiLCJnb2FsIjoiRXN0YWJsaXNoIGEgdHJ1c3QgY29ubmVjdGlvbiBiZXR3ZWVuIHR3byBwZWVycyIsImFjY2VwdCI6W119fQ==', additional_properties={}), label='Connect with Holder', my_did=<prism_agent_open_api_specification_client.types.Unset object at 0x7f68d84d4a90>, their_did=<prism_agent_open_api_specification_client.types.Unset object at 0x7f68d84d4a90>, updated_at=<prism_agent_open_api_specification_client.types.Unset object at 0x7f68d84d4a90>, additional_properties={})\n",
      "Connection ID\n",
      " 0bfa3eed-b047-47c3-a225-3ecd31a74949\n",
      "Invitation Base64\n",
      " eyJpZCI6IjBiZmEzZWVkLWIwNDctNDdjMy1hMjI1LTNlY2QzMWE3NDk0OSIsInR5cGUiOiJodHRwczovL2RpZGNvbW0ub3JnL291dC1vZi1iYW5kLzIuMC9pbnZpdGF0aW9uIiwiZnJvbSI6ImRpZDpwZWVyOjIuRXo2TFNqV0FDMUxnWlBFakR4YjF5WEJieTZaWXlZTEpSU280NVdicGU5TVpWczRSNC5WejZNa2VtMVh3YlRjdFRZc2ZLSDZBZnBtMXFEV3dKREF6RmJBVWQ4dDNqQ0JUUUwxLlNleUowSWpvaVpHMGlMQ0p6SWpvaWFIUjBjRG92TDJodmMzUXVaRzlqYTJWeUxtbHVkR1Z5Ym1Gc09qZ3dPREF2Wkdsa1kyOXRiU0lzSW5JaU9sdGRMQ0poSWpwYkltUnBaR052YlcwdmRqSWlYWDAiLCJib2R5Ijp7ImdvYWxfY29kZSI6ImNvbm5lY3QiLCJnb2FsIjoiRXN0YWJsaXNoIGEgdHJ1c3QgY29ubmVjdGlvbiBiZXR3ZWVuIHR3byBwZWVycyIsImFjY2VwdCI6W119fQ==\n"
     ]
    }
   ],
   "source": [
    "# Create Invitation\n",
    "conn_request = CreateConnectionRequest()\n",
    "conn_request.label = 'Connect with Holder'\n",
    "issuer_invitation: Response[Connection] =  create_connection.sync(client=issuer_client_controller,json_body=conn_request)\n",
    "\n",
    "print(\"Response:\\n\",issuer_invitation)\n",
    "print(\"Connection ID\\n\",issuer_invitation.connection_id)\n",
    "# print(\"Invitation URL\\n\",issuer_invitation.invitation.invitation_url)\n",
    "issuer_invitationUrlbase64 = re.sub(\"^.*_oob=\", \"\", issuer_invitation.invitation.invitation_url)\n",
    "print(\"Invitation Base64\\n\",issuer_invitationUrlbase64)"
   ]
  },
  {
   "cell_type": "markdown",
   "id": "780ca6de-ad7a-4e9a-9ed7-913f27d79c14",
   "metadata": {},
   "source": [
    "## Holder Accepts Invitation from Issuer"
   ]
  },
  {
   "cell_type": "code",
   "execution_count": 7,
   "id": "0ef0073f-5064-4127-bf40-dbe261479986",
   "metadata": {
    "tags": []
   },
   "outputs": [
    {
     "name": "stdout",
     "output_type": "stream",
     "text": [
      "Connection(self_='Connection', kind='/connections/1c540231-4805-4a50-968f-34dc03691930', connection_id='1c540231-4805-4a50-968f-34dc03691930', state=<ConnectionAllOfState.ConnectionRequestPending: 'ConnectionRequestPending'>, created_at=datetime.datetime(2022, 12, 19, 23, 30, 51, tzinfo=tzutc()), invitation=ConnectionInvitation(id='0bfa3eed-b047-47c3-a225-3ecd31a74949', type='https://didcomm.org/out-of-band/2.0/invitation', from_='did:peer:2.Ez6LSjWAC1LgZPEjDxb1yXBby6ZYyYLJRSo45Wbpe9MZVs4R4.Vz6Mkem1XwbTctTYsfKH6Afpm1qDWwJDAzFbAUd8t3jCBTQL1.SeyJ0IjoiZG0iLCJzIjoiaHR0cDovL2hvc3QuZG9ja2VyLmludGVybmFsOjgwODAvZGlkY29tbSIsInIiOltdLCJhIjpbImRpZGNvbW0vdjIiXX0', invitation_url='https://domain.com/path?_oob=eyJpZCI6IjBiZmEzZWVkLWIwNDctNDdjMy1hMjI1LTNlY2QzMWE3NDk0OSIsInR5cGUiOiJodHRwczovL2RpZGNvbW0ub3JnL291dC1vZi1iYW5kLzIuMC9pbnZpdGF0aW9uIiwiZnJvbSI6ImRpZDpwZWVyOjIuRXo2TFNqV0FDMUxnWlBFakR4YjF5WEJieTZaWXlZTEpSU280NVdicGU5TVpWczRSNC5WejZNa2VtMVh3YlRjdFRZc2ZLSDZBZnBtMXFEV3dKREF6RmJBVWQ4dDNqQ0JUUUwxLlNleUowSWpvaVpHMGlMQ0p6SWpvaWFIUjBjRG92TDJodmMzUXVaRzlqYTJWeUxtbHVkR1Z5Ym1Gc09qZ3dPREF2Wkdsa1kyOXRiU0lzSW5JaU9sdGRMQ0poSWpwYkltUnBaR052YlcwdmRqSWlYWDAiLCJib2R5Ijp7ImdvYWxfY29kZSI6ImNvbm5lY3QiLCJnb2FsIjoiRXN0YWJsaXNoIGEgdHJ1c3QgY29ubmVjdGlvbiBiZXR3ZWVuIHR3byBwZWVycyIsImFjY2VwdCI6W119fQ==', additional_properties={}), label=<prism_agent_open_api_specification_client.types.Unset object at 0x7f68d84d4a90>, my_did='did:peer:2.Ez6LSnKreYuFfaiD4RGZN4SpKbjD7ox6JTghjXzFWVzAJQtHN.Vz6Mkg2G6iwUzDFSNrFNAbB1ygjDRZTcoPYYDoBhA1KvrHsdu.SeyJ0IjoiZG0iLCJzIjoiaHR0cDovL2hvc3QuZG9ja2VyLmludGVybmFsOjgwOTAvZGlkY29tbSIsInIiOltdLCJhIjpbImRpZGNvbW0vdjIiXX0', their_did='did:peer:2.Ez6LSjWAC1LgZPEjDxb1yXBby6ZYyYLJRSo45Wbpe9MZVs4R4.Vz6Mkem1XwbTctTYsfKH6Afpm1qDWwJDAzFbAUd8t3jCBTQL1.SeyJ0IjoiZG0iLCJzIjoiaHR0cDovL2hvc3QuZG9ja2VyLmludGVybmFsOjgwODAvZGlkY29tbSIsInIiOltdLCJhIjpbImRpZGNvbW0vdjIiXX0', updated_at=datetime.datetime(2022, 12, 19, 23, 30, 51, tzinfo=tzutc()), additional_properties={})\n"
     ]
    }
   ],
   "source": [
    "# Accept Invitation\n",
    "accept_conn_request = AcceptConnectionInvitationRequest(issuer_invitationUrlbase64)\n",
    "holder_invitation: Response[ConnectionInvitation] =  accept_connection_invitation.sync(client=holder_client_controller,json_body=accept_conn_request)\n",
    "print(holder_invitation)"
   ]
  },
  {
   "cell_type": "markdown",
   "id": "de2a2543-8711-4899-9616-c12063ec208e",
   "metadata": {},
   "source": [
    "## Check Issuer and Holder Connection State"
   ]
  },
  {
   "cell_type": "code",
   "execution_count": 8,
   "id": "31efd85a-cfdf-41fd-951b-2eb2aaa32365",
   "metadata": {},
   "outputs": [
    {
     "name": "stdout",
     "output_type": "stream",
     "text": [
      "Issuer State: ConnectionResponsePending Holder State: ConnectionRequestPending \n",
      "\n",
      "Issuer State: ConnectionResponsePending Holder State: ConnectionRequestPending \n",
      "\n",
      "Issuer State: ConnectionResponsePending Holder State: ConnectionRequestSent \n",
      "\n",
      "Issuer State: ConnectionResponsePending Holder State: ConnectionRequestSent \n",
      "\n",
      "Issuer State: ConnectionResponsePending Holder State: ConnectionRequestSent \n",
      "\n",
      "Issuer State: ConnectionResponsePending Holder State: ConnectionRequestSent \n",
      "\n",
      "Issuer State: ConnectionResponsePending Holder State: ConnectionRequestSent \n",
      "\n",
      "Issuer State: ConnectionResponsePending Holder State: ConnectionResponseReceived \n",
      "\n",
      "Connection established between Issuer and Holder!\n"
     ]
    }
   ],
   "source": [
    "# Check Connection State\n",
    "issuer_conn: Response[Connection] =  get_connection.sync(client=issuer_client_controller,connection_id=issuer_invitation.connection_id)\n",
    "holder_conn: Response[Connection] =  get_connection.sync(client=holder_client_controller,connection_id=holder_invitation.connection_id)\n",
    "\n",
    "while (issuer_conn.state != 'ConnectionResponseSent' and holder_conn.state != 'ConnectionResponseReceived'):\n",
    "    issuer_conn: Response[Connection] =  get_connection.sync(client=issuer_client_controller,connection_id=issuer_invitation.connection_id)\n",
    "    holder_conn: Response[Connection] =  get_connection.sync(client=holder_client_controller,connection_id=holder_invitation.connection_id)\n",
    "    print(\"Issuer State: {} Holder State: {} \\n\".format(issuer_conn.state,holder_conn.state))\n",
    "    time.sleep(1)\n",
    "    \n",
    "print(\"Connection established between Issuer and Holder!\")"
   ]
  },
  {
   "cell_type": "markdown",
   "id": "220ee16e-a902-4aa8-8b27-1507a5588bdd",
   "metadata": {},
   "source": [
    "## Check Agent Connections"
   ]
  },
  {
   "cell_type": "code",
   "execution_count": 9,
   "id": "d284397d-69cb-432f-8c71-5fd420b666da",
   "metadata": {},
   "outputs": [
    {
     "name": "stdout",
     "output_type": "stream",
     "text": [
      "Issuer Connections:\n",
      "ConnectionCollection(self_='/collections', kind='Collection', contents=[Connection(self_='Connection', kind='/connections/0bfa3eed-b047-47c3-a225-3ecd31a74949', connection_id='0bfa3eed-b047-47c3-a225-3ecd31a74949', state=<ConnectionAllOfState.ConnectionResponsePending: 'ConnectionResponsePending'>, created_at=datetime.datetime(2022, 12, 19, 23, 30, 50, tzinfo=tzutc()), invitation=ConnectionInvitation(id='0bfa3eed-b047-47c3-a225-3ecd31a74949', type='https://didcomm.org/out-of-band/2.0/invitation', from_='did:peer:2.Ez6LSjWAC1LgZPEjDxb1yXBby6ZYyYLJRSo45Wbpe9MZVs4R4.Vz6Mkem1XwbTctTYsfKH6Afpm1qDWwJDAzFbAUd8t3jCBTQL1.SeyJ0IjoiZG0iLCJzIjoiaHR0cDovL2hvc3QuZG9ja2VyLmludGVybmFsOjgwODAvZGlkY29tbSIsInIiOltdLCJhIjpbImRpZGNvbW0vdjIiXX0', invitation_url='https://domain.com/path?_oob=eyJpZCI6IjBiZmEzZWVkLWIwNDctNDdjMy1hMjI1LTNlY2QzMWE3NDk0OSIsInR5cGUiOiJodHRwczovL2RpZGNvbW0ub3JnL291dC1vZi1iYW5kLzIuMC9pbnZpdGF0aW9uIiwiZnJvbSI6ImRpZDpwZWVyOjIuRXo2TFNqV0FDMUxnWlBFakR4YjF5WEJieTZaWXlZTEpSU280NVdicGU5TVpWczRSNC5WejZNa2VtMVh3YlRjdFRZc2ZLSDZBZnBtMXFEV3dKREF6RmJBVWQ4dDNqQ0JUUUwxLlNleUowSWpvaVpHMGlMQ0p6SWpvaWFIUjBjRG92TDJodmMzUXVaRzlqYTJWeUxtbHVkR1Z5Ym1Gc09qZ3dPREF2Wkdsa1kyOXRiU0lzSW5JaU9sdGRMQ0poSWpwYkltUnBaR052YlcwdmRqSWlYWDAiLCJib2R5Ijp7ImdvYWxfY29kZSI6ImNvbm5lY3QiLCJnb2FsIjoiRXN0YWJsaXNoIGEgdHJ1c3QgY29ubmVjdGlvbiBiZXR3ZWVuIHR3byBwZWVycyIsImFjY2VwdCI6W119fQ==', additional_properties={}), label='Connect with Holder', my_did='did:peer:2.Ez6LSjWAC1LgZPEjDxb1yXBby6ZYyYLJRSo45Wbpe9MZVs4R4.Vz6Mkem1XwbTctTYsfKH6Afpm1qDWwJDAzFbAUd8t3jCBTQL1.SeyJ0IjoiZG0iLCJzIjoiaHR0cDovL2hvc3QuZG9ja2VyLmludGVybmFsOjgwODAvZGlkY29tbSIsInIiOltdLCJhIjpbImRpZGNvbW0vdjIiXX0', their_did='did:peer:2.Ez6LSnKreYuFfaiD4RGZN4SpKbjD7ox6JTghjXzFWVzAJQtHN.Vz6Mkg2G6iwUzDFSNrFNAbB1ygjDRZTcoPYYDoBhA1KvrHsdu.SeyJ0IjoiZG0iLCJzIjoiaHR0cDovL2hvc3QuZG9ja2VyLmludGVybmFsOjgwOTAvZGlkY29tbSIsInIiOltdLCJhIjpbImRpZGNvbW0vdjIiXX0', updated_at=datetime.datetime(2022, 12, 19, 23, 30, 52, tzinfo=tzutc()), additional_properties={})], additional_properties={})\n",
      "\n",
      "Holder Connections:\n",
      "ConnectionCollection(self_='/collections', kind='Collection', contents=[Connection(self_='Connection', kind='/connections/1c540231-4805-4a50-968f-34dc03691930', connection_id='1c540231-4805-4a50-968f-34dc03691930', state=<ConnectionAllOfState.ConnectionResponseReceived: 'ConnectionResponseReceived'>, created_at=datetime.datetime(2022, 12, 19, 23, 30, 51, tzinfo=tzutc()), invitation=ConnectionInvitation(id='0bfa3eed-b047-47c3-a225-3ecd31a74949', type='https://didcomm.org/out-of-band/2.0/invitation', from_='did:peer:2.Ez6LSjWAC1LgZPEjDxb1yXBby6ZYyYLJRSo45Wbpe9MZVs4R4.Vz6Mkem1XwbTctTYsfKH6Afpm1qDWwJDAzFbAUd8t3jCBTQL1.SeyJ0IjoiZG0iLCJzIjoiaHR0cDovL2hvc3QuZG9ja2VyLmludGVybmFsOjgwODAvZGlkY29tbSIsInIiOltdLCJhIjpbImRpZGNvbW0vdjIiXX0', invitation_url='https://domain.com/path?_oob=eyJpZCI6IjBiZmEzZWVkLWIwNDctNDdjMy1hMjI1LTNlY2QzMWE3NDk0OSIsInR5cGUiOiJodHRwczovL2RpZGNvbW0ub3JnL291dC1vZi1iYW5kLzIuMC9pbnZpdGF0aW9uIiwiZnJvbSI6ImRpZDpwZWVyOjIuRXo2TFNqV0FDMUxnWlBFakR4YjF5WEJieTZaWXlZTEpSU280NVdicGU5TVpWczRSNC5WejZNa2VtMVh3YlRjdFRZc2ZLSDZBZnBtMXFEV3dKREF6RmJBVWQ4dDNqQ0JUUUwxLlNleUowSWpvaVpHMGlMQ0p6SWpvaWFIUjBjRG92TDJodmMzUXVaRzlqYTJWeUxtbHVkR1Z5Ym1Gc09qZ3dPREF2Wkdsa1kyOXRiU0lzSW5JaU9sdGRMQ0poSWpwYkltUnBaR052YlcwdmRqSWlYWDAiLCJib2R5Ijp7ImdvYWxfY29kZSI6ImNvbm5lY3QiLCJnb2FsIjoiRXN0YWJsaXNoIGEgdHJ1c3QgY29ubmVjdGlvbiBiZXR3ZWVuIHR3byBwZWVycyIsImFjY2VwdCI6W119fQ==', additional_properties={}), label=<prism_agent_open_api_specification_client.types.Unset object at 0x7f68d84d4a90>, my_did='did:peer:2.Ez6LSnKreYuFfaiD4RGZN4SpKbjD7ox6JTghjXzFWVzAJQtHN.Vz6Mkg2G6iwUzDFSNrFNAbB1ygjDRZTcoPYYDoBhA1KvrHsdu.SeyJ0IjoiZG0iLCJzIjoiaHR0cDovL2hvc3QuZG9ja2VyLmludGVybmFsOjgwOTAvZGlkY29tbSIsInIiOltdLCJhIjpbImRpZGNvbW0vdjIiXX0', their_did='did:peer:2.Ez6LSjWAC1LgZPEjDxb1yXBby6ZYyYLJRSo45Wbpe9MZVs4R4.Vz6Mkem1XwbTctTYsfKH6Afpm1qDWwJDAzFbAUd8t3jCBTQL1.SeyJ0IjoiZG0iLCJzIjoiaHR0cDovL2hvc3QuZG9ja2VyLmludGVybmFsOjgwODAvZGlkY29tbSIsInIiOltdLCJhIjpbImRpZGNvbW0vdjIiXX0', updated_at=datetime.datetime(2022, 12, 19, 23, 31, tzinfo=tzutc()), additional_properties={})], additional_properties={})\n",
      "\n",
      "Verifier Connections:\n",
      "ConnectionCollection(self_='/collections', kind='Collection', contents=[], additional_properties={})\n"
     ]
    }
   ],
   "source": [
    "issuer_conns: Response[ConnectionCollection] = get_connections.sync(client=issuer_client_controller)\n",
    "holder_conns: Response[ConnectionCollection] = get_connections.sync(client=holder_client_controller)\n",
    "verifier_conns: Response[ConnectionCollection] = get_connections.sync(client=verifier_client_controller)\n",
    "print(\"Issuer Connections:\\n{}\\n\\nHolder Connections:\\n{}\\n\\nVerifier Connections:\\n{}\".format(issuer_conns, holder_conns,verifier_conns))"
   ]
  },
  {
   "cell_type": "markdown",
   "id": "da9acd43-e873-42e2-85da-a1bddf1909ed",
   "metadata": {},
   "source": [
    "## Import Credential Management Models and API Client"
   ]
  },
  {
   "cell_type": "code",
   "execution_count": 10,
   "id": "12e52104-5c2b-4404-a3b1-be00d73003d3",
   "metadata": {},
   "outputs": [],
   "source": [
    "from prism_agent_open_api_specification_client.models import IssueCredentialRecord, CreateIssueCredentialRecordRequest, CreateIssueCredentialRecordRequestClaims, IssueCredentialRecordCollection\n",
    "from prism_agent_open_api_specification_client.api.issue_credentials_protocol import get_credential_record, get_credential_records, create_credential_offer,accept_credential_offer,issue_credential\n",
    "from prism_agent_open_api_specification_client.types import Response, Unset"
   ]
  },
  {
   "cell_type": "markdown",
   "id": "e0327bd3-b88b-4514-bbbd-844642cbdf72",
   "metadata": {},
   "source": [
    "## Check Credentials in Wallets|"
   ]
  },
  {
   "cell_type": "code",
   "execution_count": 11,
   "id": "ea6e95b4-a8ea-4a79-bb0d-fb8b00245766",
   "metadata": {},
   "outputs": [
    {
     "name": "stdout",
     "output_type": "stream",
     "text": [
      "Issuer Credentials:\n",
      "IssueCredentialRecordCollection(items=[], offset=0, limit=0, count=0, additional_properties={})\n",
      "\n",
      "Holder Credentials:\n",
      "IssueCredentialRecordCollection(items=[], offset=0, limit=0, count=0, additional_properties={})\n",
      "\n",
      "Verifier Credentials:\n",
      "IssueCredentialRecordCollection(items=[], offset=0, limit=0, count=0, additional_properties={})\n"
     ]
    }
   ],
   "source": [
    "issuer_creds: Response[IssueCredentialRecordCollection] = get_credential_records.sync(client=issuer_client_controller)\n",
    "holder_creds: Response[IssueCredentialRecordCollection] = get_credential_records.sync(client=holder_client_controller)\n",
    "verifier_creds: Response[IssueCredentialRecordCollection] = get_credential_records.sync(client=verifier_client_controller)\n",
    "print(\"Issuer Credentials:\\n{}\\n\\nHolder Credentials:\\n{}\\n\\nVerifier Credentials:\\n{}\".format(issuer_creds, holder_creds,verifier_creds))"
   ]
  },
  {
   "cell_type": "markdown",
   "id": "b964dbd9-f4c3-4f2c-bb7b-522b3c008fb5",
   "metadata": {},
   "source": [
    "## Define Credential Schema and Content"
   ]
  },
  {
   "cell_type": "code",
   "execution_count": 13,
   "id": "5234e899-478f-4fc6-9cf0-9ddead2030fc",
   "metadata": {},
   "outputs": [
    {
     "name": "stdin",
     "output_type": "stream",
     "text": [
      "Please enter firstname for credential:  Peter\n",
      "Please enter lastname for credential:  Pan\n",
      "Please enter birthdate for credential:  11/11/1999\n"
     ]
    },
    {
     "name": "stdout",
     "output_type": "stream",
     "text": [
      "CreateIssueCredentialRecordRequestClaims(additional_properties={'firstname': 'Peter', 'lastname': 'Pan', 'birthdate': '11/11/1999'})\n",
      "{'subjectId': 'did:peer:2.Ez6LSnKreYuFfaiD4RGZN4SpKbjD7ox6JTghjXzFWVzAJQtHN.Vz6Mkg2G6iwUzDFSNrFNAbB1ygjDRZTcoPYYDoBhA1KvrHsdu.SeyJ0IjoiZG0iLCJzIjoiaHR0cDovL2hvc3QuZG9ja2VyLmludGVybmFsOjgwOTAvZGlkY29tbSIsInIiOltdLCJhIjpbImRpZGNvbW0vdjIiXX0', 'claims': {'firstname': 'Peter', 'lastname': 'Pan', 'birthdate': '11/11/1999'}, 'schemaId': '1234', 'validityPeriod': 3600, 'automaticIssuance': False, 'awaitConfirmation': False}\n"
     ]
    }
   ],
   "source": [
    "firstname = input(\"Please enter firstname for credential: \")\n",
    "lastname = input(\"Please enter lastname for credential: \")\n",
    "birthdate = input(\"Please enter birthdate for credential: \")\n",
    "data = {\n",
    "        \"firstname\": firstname,\n",
    "        \"lastname\": lastname,\n",
    "        \"birthdate\": birthdate\n",
    "      }\n",
    "cred_claims = CreateIssueCredentialRecordRequestClaims()\n",
    "cred_claims = cred_claims.from_dict(data)\n",
    "print(cred_claims)\n",
    "\n",
    "credential_offer = CreateIssueCredentialRecordRequest(subject_id=issuer_conn.their_did, claims=cred_claims, schema_id=\"1234\", validity_period=3600, automatic_issuance=False, await_confirmation=False)\n",
    "\n",
    "print(credential_offer.to_dict())"
   ]
  },
  {
   "cell_type": "markdown",
   "id": "b1cea471-f4ec-4fe3-b62f-6e9901b7cef2",
   "metadata": {},
   "source": [
    "## Send Credential Offer to Holder"
   ]
  },
  {
   "cell_type": "code",
   "execution_count": 14,
   "id": "1a37924d-6d18-4b28-9241-9d30bf8ad12b",
   "metadata": {},
   "outputs": [
    {
     "name": "stdout",
     "output_type": "stream",
     "text": [
      "IssueCredentialRecord(subject_id='did:peer:2.Ez6LSnKreYuFfaiD4RGZN4SpKbjD7ox6JTghjXzFWVzAJQtHN.Vz6Mkg2G6iwUzDFSNrFNAbB1ygjDRZTcoPYYDoBhA1KvrHsdu.SeyJ0IjoiZG0iLCJzIjoiaHR0cDovL2hvc3QuZG9ja2VyLmludGVybmFsOjgwOTAvZGlkY29tbSIsInIiOltdLCJhIjpbImRpZGNvbW0vdjIiXX0', claims=CreateIssueCredentialRecordRequestClaims(additional_properties={'birthdate': '11/11/1999', 'firstname': 'Peter', 'lastname': 'Pan'}), record_id='f4003f93-5dc0-49c1-83fb-174e1176af26', created_at=datetime.datetime(2022, 12, 19, 23, 34, 5, 83591, tzinfo=tzutc()), role=<IssueCredentialRecordAllOfRole.ISSUER: 'Issuer'>, protocol_state=<IssueCredentialRecordAllOfProtocolState.OFFERPENDING: 'OfferPending'>, schema_id='1234', validity_period=3600.0, automatic_issuance=False, await_confirmation=False, updated_at=<prism_agent_open_api_specification_client.types.Unset object at 0x7f68d84d4a90>, publication_state=<prism_agent_open_api_specification_client.types.Unset object at 0x7f68d84d4a90>, jwt_credential=<prism_agent_open_api_specification_client.types.Unset object at 0x7f68d84d4a90>, additional_properties={})\n"
     ]
    }
   ],
   "source": [
    "# Create Credential Offer\n",
    "issuer_cred_offer: Response[IssueCredentialRecord] = create_credential_offer.sync(client=issuer_client_controller,json_body=credential_offer)\n",
    "print(issuer_cred_offer)"
   ]
  },
  {
   "cell_type": "markdown",
   "id": "1c2e046e-b529-49db-a960-d330d47af0f7",
   "metadata": {},
   "source": [
    "## Retrieve Credential Records from Issuer and Holder"
   ]
  },
  {
   "cell_type": "code",
   "execution_count": 16,
   "id": "7fda642d-12cc-472f-8c2e-f0e393b9055e",
   "metadata": {},
   "outputs": [
    {
     "name": "stdout",
     "output_type": "stream",
     "text": [
      "\u001b[1m\u001b[35mCurrent state for Issuer Credential Record f4003f93-5dc0-49c1-83fb-174e1176af26 is OfferPending and Holder Credential Record 6fb846ee-7d03-47ef-b893-f3dec113a576 is OfferReceived\u001b[0m\n"
     ]
    }
   ],
   "source": [
    "# Check Credential State\n",
    "issuer_creds: Response[IssueCredentialRecordCollection] = get_credential_records.sync(client=issuer_client_controller)\n",
    "holder_creds: Response[IssueCredentialRecordCollection] = get_credential_records.sync(client=holder_client_controller)\n",
    "verifier_creds: Response[IssueCredentialRecordCollection] = get_credential_records.sync(client=verifier_client_controller)\n",
    "\n",
    "print(colored(\"Current state for Issuer Credential Record {} is {} and Holder Credential Record {} is {}\".format(issuer_creds.items[0].record_id,issuer_creds.items[0].protocol_state,holder_creds.items[0].record_id,holder_creds.items[0].protocol_state), \"magenta\", attrs=[\"bold\"]))\n"
   ]
  },
  {
   "cell_type": "markdown",
   "id": "42235069-9812-4c6d-ae32-909da72550de",
   "metadata": {},
   "source": [
    "## Holder Accept Credential Offer from Issuer"
   ]
  },
  {
   "cell_type": "code",
   "execution_count": 17,
   "id": "1ca223ea-f316-455e-b6eb-1be83fe8e0ce",
   "metadata": {},
   "outputs": [
    {
     "name": "stdout",
     "output_type": "stream",
     "text": [
      "6fb846ee-7d03-47ef-b893-f3dec113a576\n",
      "IssueCredentialRecord(subject_id='did:peer:2.Ez6LSnKreYuFfaiD4RGZN4SpKbjD7ox6JTghjXzFWVzAJQtHN.Vz6Mkg2G6iwUzDFSNrFNAbB1ygjDRZTcoPYYDoBhA1KvrHsdu.SeyJ0IjoiZG0iLCJzIjoiaHR0cDovL2hvc3QuZG9ja2VyLmludGVybmFsOjgwOTAvZGlkY29tbSIsInIiOltdLCJhIjpbImRpZGNvbW0vdjIiXX0', claims=CreateIssueCredentialRecordRequestClaims(additional_properties={'birthdate': '11/11/1999', 'firstname': 'Peter', 'lastname': 'Pan'}), record_id='6fb846ee-7d03-47ef-b893-f3dec113a576', created_at=datetime.datetime(2022, 12, 19, 23, 34, 10, tzinfo=tzutc()), role=<IssueCredentialRecordAllOfRole.HOLDER: 'Holder'>, protocol_state=<IssueCredentialRecordAllOfProtocolState.REQUESTPENDING: 'RequestPending'>, schema_id=<prism_agent_open_api_specification_client.types.Unset object at 0x7f68d84d4a90>, validity_period=<prism_agent_open_api_specification_client.types.Unset object at 0x7f68d84d4a90>, automatic_issuance=<prism_agent_open_api_specification_client.types.Unset object at 0x7f68d84d4a90>, await_confirmation=<prism_agent_open_api_specification_client.types.Unset object at 0x7f68d84d4a90>, updated_at=datetime.datetime(2022, 12, 19, 23, 34, 14, tzinfo=tzutc()), publication_state=<prism_agent_open_api_specification_client.types.Unset object at 0x7f68d84d4a90>, jwt_credential=<prism_agent_open_api_specification_client.types.Unset object at 0x7f68d84d4a90>, additional_properties={})\n"
     ]
    }
   ],
   "source": [
    "print(holder_creds.items[0].record_id)\n",
    "holder_cred_record: Response[IssueCredentialRecord] = accept_credential_offer.sync(client=holder_client_controller, record_id=holder_creds.items[0].record_id)\n",
    "print(holder_cred_record)"
   ]
  },
  {
   "cell_type": "markdown",
   "id": "6c90c28c-46c3-4c5e-be67-40d7b0c9aab6",
   "metadata": {},
   "source": [
    "## Issue Credential to Holder"
   ]
  },
  {
   "cell_type": "code",
   "execution_count": 21,
   "id": "169dc82f-f0a7-4f9a-ba33-f61eb5e97b45",
   "metadata": {},
   "outputs": [
    {
     "name": "stdout",
     "output_type": "stream",
     "text": [
      "f4003f93-5dc0-49c1-83fb-174e1176af26\n",
      "IssueCredentialRecord(subject_id='did:peer:2.Ez6LSnKreYuFfaiD4RGZN4SpKbjD7ox6JTghjXzFWVzAJQtHN.Vz6Mkg2G6iwUzDFSNrFNAbB1ygjDRZTcoPYYDoBhA1KvrHsdu.SeyJ0IjoiZG0iLCJzIjoiaHR0cDovL2hvc3QuZG9ja2VyLmludGVybmFsOjgwOTAvZGlkY29tbSIsInIiOltdLCJhIjpbImRpZGNvbW0vdjIiXX0', claims=CreateIssueCredentialRecordRequestClaims(additional_properties={'birthdate': '11/11/1999', 'firstname': 'Peter', 'lastname': 'Pan'}), record_id='f4003f93-5dc0-49c1-83fb-174e1176af26', created_at=datetime.datetime(2022, 12, 19, 23, 34, 5, tzinfo=tzutc()), role=<IssueCredentialRecordAllOfRole.ISSUER: 'Issuer'>, protocol_state=<IssueCredentialRecordAllOfProtocolState.CREDENTIALPENDING: 'CredentialPending'>, schema_id='1234', validity_period=3600.0, automatic_issuance=False, await_confirmation=False, updated_at=datetime.datetime(2022, 12, 19, 23, 34, 23, tzinfo=tzutc()), publication_state=<prism_agent_open_api_specification_client.types.Unset object at 0x7f68d84d4a90>, jwt_credential=<prism_agent_open_api_specification_client.types.Unset object at 0x7f68d84d4a90>, additional_properties={})\n"
     ]
    }
   ],
   "source": [
    "print(issuer_creds.items[0].record_id)\n",
    "issuer_cred_record: Response[IssueCredentialRecord] = issue_credential.sync(client=issuer_client_controller, record_id=issuer_creds.items[0].record_id)\n",
    "print(issuer_cred_record)"
   ]
  },
  {
   "cell_type": "markdown",
   "id": "cea667e7-5443-43f0-a507-dc96817c41ed",
   "metadata": {},
   "source": [
    "## Check if Credential is Successfully Issued to Holder"
   ]
  },
  {
   "cell_type": "code",
   "execution_count": 22,
   "id": "640b3439-8afd-4378-9f3e-0b04f2f04f48",
   "metadata": {},
   "outputs": [
    {
     "name": "stdout",
     "output_type": "stream",
     "text": [
      "\u001b[1m\u001b[35mCurrent state for Issuer Credential Record f4003f93-5dc0-49c1-83fb-174e1176af26 is CredentialPending and Holder Credential Record 6fb846ee-7d03-47ef-b893-f3dec113a576 is RequestSent\u001b[0m\n",
      "Issuer State: CredentialPending Holder State: RequestSent \n",
      "\n",
      "Issuer State: CredentialPending Holder State: RequestSent \n",
      "\n",
      "Issuer State: CredentialPending Holder State: RequestSent \n",
      "\n",
      "Issuer State: CredentialPending Holder State: RequestSent \n",
      "\n",
      "Issuer State: CredentialPending Holder State: RequestSent \n",
      "\n",
      "Issuer State: CredentialPending Holder State: RequestSent \n",
      "\n",
      "Issuer State: CredentialGenerated Holder State: RequestSent \n",
      "\n",
      "Issuer State: CredentialGenerated Holder State: RequestSent \n",
      "\n",
      "Issuer State: CredentialGenerated Holder State: RequestSent \n",
      "\n",
      "Issuer State: CredentialGenerated Holder State: RequestSent \n",
      "\n",
      "Issuer State: CredentialGenerated Holder State: RequestSent \n",
      "\n",
      "Issuer State: CredentialGenerated Holder State: RequestSent \n",
      "\n",
      "Issuer State: CredentialGenerated Holder State: RequestSent \n",
      "\n",
      "Issuer State: CredentialGenerated Holder State: RequestSent \n",
      "\n",
      "Issuer State: CredentialGenerated Holder State: RequestSent \n",
      "\n",
      "Issuer State: CredentialGenerated Holder State: RequestSent \n",
      "\n",
      "Issuer State: CredentialGenerated Holder State: CredentialReceived \n",
      "\n",
      "\u001b[1m\u001b[32mCredential Record f4003f93-5dc0-49c1-83fb-174e1176af26 Issued to Holder! Continue with notebook\u001b[0m\n"
     ]
    }
   ],
   "source": [
    "# Check Credential State\n",
    "issuer_creds: Response[IssueCredentialRecordCollection] = get_credential_records.sync(client=issuer_client_controller)\n",
    "holder_creds: Response[IssueCredentialRecordCollection] = get_credential_records.sync(client=holder_client_controller)\n",
    "verifier_creds: Response[IssueCredentialRecordCollection] = get_credential_records.sync(client=verifier_client_controller)\n",
    "\n",
    "print(colored(\"Current state for Issuer Credential Record {} is {} and Holder Credential Record {} is {}\".format(issuer_creds.items[0].record_id,issuer_creds.items[0].protocol_state,holder_creds.items[0].record_id,holder_creds.items[0].protocol_state), \"magenta\", attrs=[\"bold\"]))\n",
    "\n",
    "while (issuer_creds.items[0].protocol_state != 'CredentialSent' and holder_creds.items[0].protocol_state != 'CredentialReceived'):\n",
    "    issuer_creds: Response[IssueCredentialRecordCollection] = get_credential_records.sync(client=issuer_client_controller)\n",
    "    holder_creds: Response[IssueCredentialRecordCollection] = get_credential_records.sync(client=holder_client_controller)\n",
    "    print(\"Issuer State: {} Holder State: {} \\n\".format(issuer_creds.items[0].protocol_state,holder_creds.items[0].protocol_state))\n",
    "    time.sleep(1)\n",
    "    \n",
    "print(colored(\"Credential Record {} Issued to Holder! Continue with notebook\".format(issuer_creds.items[0].record_id), \"green\", attrs=[\"bold\"]))\n"
   ]
  },
  {
   "cell_type": "code",
   "execution_count": null,
   "id": "80a35cdf-2444-4469-8f7e-ccb16d8bf1a2",
   "metadata": {},
   "outputs": [],
   "source": []
  }
 ],
 "metadata": {
  "kernelspec": {
   "display_name": "Python 3 (ipykernel)",
   "language": "python",
   "name": "python3"
  },
  "language_info": {
   "codemirror_mode": {
    "name": "ipython",
    "version": 3
   },
   "file_extension": ".py",
   "mimetype": "text/x-python",
   "name": "python",
   "nbconvert_exporter": "python",
   "pygments_lexer": "ipython3",
   "version": "3.10.8"
  }
 },
 "nbformat": 4,
 "nbformat_minor": 5
}
